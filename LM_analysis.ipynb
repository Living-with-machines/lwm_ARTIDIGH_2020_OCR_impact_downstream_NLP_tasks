{
 "cells": [
  {
   "cell_type": "markdown",
   "metadata": {},
   "source": [
    "# Language Model analysis"
   ]
  },
  {
   "cell_type": "code",
   "execution_count": 1,
   "metadata": {},
   "outputs": [],
   "source": [
    "from argparse import Namespace\n",
    "\n",
    "import copy\n",
    "import glob\n",
    "import os\n",
    "import pandas as pd\n",
    "import pickle\n",
    "import re\n",
    "import spacy\n",
    "from time import time\n",
    "\n",
    "from gensim.models import Word2Vec\n",
    "from gensim import logging\n",
    "logging.basicConfig(format='%(asctime)s : %(levelname)s : %(message)s', level=logging.INFO)"
   ]
  },
  {
   "cell_type": "code",
   "execution_count": 4,
   "metadata": {},
   "outputs": [
    {
     "name": "stderr",
     "output_type": "stream",
     "text": [
      "2019-11-12 11:10:16,095 : INFO : loading Word2Vec object from /Users/khosseini/myJobs/ATI/Projects/2019/Living-with-Machines-code/language-lab-mro/lexicon_expansion/interactive_expansion/models/all_books/w2v_005/w2v_words.model\n",
      "2019-11-12 11:10:18,053 : INFO : loading wv recursively from /Users/khosseini/myJobs/ATI/Projects/2019/Living-with-Machines-code/language-lab-mro/lexicon_expansion/interactive_expansion/models/all_books/w2v_005/w2v_words.model.wv.* with mmap=None\n",
      "2019-11-12 11:10:18,059 : INFO : loading vectors from /Users/khosseini/myJobs/ATI/Projects/2019/Living-with-Machines-code/language-lab-mro/lexicon_expansion/interactive_expansion/models/all_books/w2v_005/w2v_words.model.wv.vectors.npy with mmap=None\n",
      "2019-11-12 11:10:18,496 : INFO : setting ignored attribute vectors_norm to None\n",
      "2019-11-12 11:10:18,500 : INFO : loading vocabulary recursively from /Users/khosseini/myJobs/ATI/Projects/2019/Living-with-Machines-code/language-lab-mro/lexicon_expansion/interactive_expansion/models/all_books/w2v_005/w2v_words.model.vocabulary.* with mmap=None\n",
      "2019-11-12 11:10:18,506 : INFO : loading trainables recursively from /Users/khosseini/myJobs/ATI/Projects/2019/Living-with-Machines-code/language-lab-mro/lexicon_expansion/interactive_expansion/models/all_books/w2v_005/w2v_words.model.trainables.* with mmap=None\n",
      "2019-11-12 11:10:18,512 : INFO : loading syn1neg from /Users/khosseini/myJobs/ATI/Projects/2019/Living-with-Machines-code/language-lab-mro/lexicon_expansion/interactive_expansion/models/all_books/w2v_005/w2v_words.model.trainables.syn1neg.npy with mmap=None\n",
      "2019-11-12 11:10:19,735 : INFO : setting ignored attribute cum_table to None\n",
      "2019-11-12 11:10:19,736 : INFO : loaded /Users/khosseini/myJobs/ATI/Projects/2019/Living-with-Machines-code/language-lab-mro/lexicon_expansion/interactive_expansion/models/all_books/w2v_005/w2v_words.model\n",
      "2019-11-12 11:10:21,958 : INFO : loading Word2Vec object from /Users/khosseini/myJobs/ATI/Projects/2019/lwm_ocr_assessment/LMs/w2v_005_embedding_model_ocr.model\n",
      "2019-11-12 11:10:24,430 : INFO : loading wv recursively from /Users/khosseini/myJobs/ATI/Projects/2019/lwm_ocr_assessment/LMs/w2v_005_embedding_model_ocr.model.wv.* with mmap=None\n",
      "2019-11-12 11:10:24,435 : INFO : loading vectors from /Users/khosseini/myJobs/ATI/Projects/2019/lwm_ocr_assessment/LMs/w2v_005_embedding_model_ocr.model.wv.vectors.npy with mmap=None\n",
      "2019-11-12 11:10:24,839 : INFO : setting ignored attribute vectors_norm to None\n",
      "2019-11-12 11:10:24,840 : INFO : loading vocabulary recursively from /Users/khosseini/myJobs/ATI/Projects/2019/lwm_ocr_assessment/LMs/w2v_005_embedding_model_ocr.model.vocabulary.* with mmap=None\n",
      "2019-11-12 11:10:24,841 : INFO : loading trainables recursively from /Users/khosseini/myJobs/ATI/Projects/2019/lwm_ocr_assessment/LMs/w2v_005_embedding_model_ocr.model.trainables.* with mmap=None\n",
      "2019-11-12 11:10:24,842 : INFO : loading syn1neg from /Users/khosseini/myJobs/ATI/Projects/2019/lwm_ocr_assessment/LMs/w2v_005_embedding_model_ocr.model.trainables.syn1neg.npy with mmap=None\n",
      "2019-11-12 11:10:25,318 : INFO : setting ignored attribute cum_table to None\n",
      "2019-11-12 11:10:25,320 : INFO : loaded /Users/khosseini/myJobs/ATI/Projects/2019/lwm_ocr_assessment/LMs/w2v_005_embedding_model_ocr.model\n",
      "2019-11-12 11:10:27,211 : INFO : loading Word2Vec object from /Users/khosseini/myJobs/ATI/Projects/2019/lwm_ocr_assessment/LMs/w2v_005_embedding_model_corrected.model\n",
      "2019-11-12 11:10:30,027 : INFO : loading wv recursively from /Users/khosseini/myJobs/ATI/Projects/2019/lwm_ocr_assessment/LMs/w2v_005_embedding_model_corrected.model.wv.* with mmap=None\n",
      "2019-11-12 11:10:30,033 : INFO : loading vectors from /Users/khosseini/myJobs/ATI/Projects/2019/lwm_ocr_assessment/LMs/w2v_005_embedding_model_corrected.model.wv.vectors.npy with mmap=None\n",
      "2019-11-12 11:10:30,927 : INFO : setting ignored attribute vectors_norm to None\n",
      "2019-11-12 11:10:30,931 : INFO : loading vocabulary recursively from /Users/khosseini/myJobs/ATI/Projects/2019/lwm_ocr_assessment/LMs/w2v_005_embedding_model_corrected.model.vocabulary.* with mmap=None\n",
      "2019-11-12 11:10:30,933 : INFO : loading trainables recursively from /Users/khosseini/myJobs/ATI/Projects/2019/lwm_ocr_assessment/LMs/w2v_005_embedding_model_corrected.model.trainables.* with mmap=None\n",
      "2019-11-12 11:10:30,934 : INFO : loading syn1neg from /Users/khosseini/myJobs/ATI/Projects/2019/lwm_ocr_assessment/LMs/w2v_005_embedding_model_corrected.model.trainables.syn1neg.npy with mmap=None\n",
      "2019-11-12 11:10:31,595 : INFO : setting ignored attribute cum_table to None\n",
      "2019-11-12 11:10:31,602 : INFO : loaded /Users/khosseini/myJobs/ATI/Projects/2019/lwm_ocr_assessment/LMs/w2v_005_embedding_model_corrected.model\n"
     ]
    }
   ],
   "source": [
    "# embedding models, base model\n",
    "model_path = \"/Users/khosseini/myJobs/ATI/Projects/2019/Living-with-Machines-code/language-lab-mro/lexicon_expansion/interactive_expansion/models/all_books/w2v_005/w2v_words.model\"\n",
    "embedding_model_base = Word2Vec.load(model_path)\n",
    "\n",
    "# OCR model\n",
    "model_path = \"/Users/khosseini/myJobs/ATI/Projects/2019/lwm_ocr_assessment/LMs/w2v_005_embedding_model_ocr.model\"\n",
    "embedding_model_ocr = Word2Vec.load(model_path)\n",
    "\n",
    "# corrected model\n",
    "model_path = \"/Users/khosseini/myJobs/ATI/Projects/2019/lwm_ocr_assessment/LMs/w2v_005_embedding_model_corrected.model\"\n",
    "embedding_model_corrected = Word2Vec.load(model_path)"
   ]
  },
  {
   "cell_type": "code",
   "execution_count": 7,
   "metadata": {},
   "outputs": [
    {
     "name": "stderr",
     "output_type": "stream",
     "text": [
      "2019-11-12 11:15:11,101 : INFO : precomputing L2-norms of word weight vectors\n"
     ]
    },
    {
     "data": {
      "text/plain": [
       "[('machines', 0.7826366424560547),\n",
       " ('machinery', 0.7597511410713196),\n",
       " ('engine', 0.7093170285224915),\n",
       " ('steam-engine', 0.6964154839515686),\n",
       " ('engines', 0.6344701051712036),\n",
       " ('steam-engines', 0.6343764662742615),\n",
       " ('apparatus', 0.6326813697814941),\n",
       " ('machineiy', 0.6290877461433411),\n",
       " ('steam-hammer', 0.6265267133712769),\n",
       " ('mechanism', 0.6226520538330078)]"
      ]
     },
     "execution_count": 7,
     "metadata": {},
     "output_type": "execute_result"
    }
   ],
   "source": [
    "embedding_model_base.wv.most_similar(\"machine\")"
   ]
  },
  {
   "cell_type": "code",
   "execution_count": 14,
   "metadata": {},
   "outputs": [
    {
     "data": {
      "text/plain": [
       "[('mau', 0.5333027839660645),\n",
       " ('mnn', 0.5124573111534119),\n",
       " ('niau', 0.5118005275726318),\n",
       " ('borderman', 0.5051775574684143),\n",
       " ('woman', 0.5016998052597046),\n",
       " ('death-notch', 0.4844520092010498),\n",
       " ('womai', 0.478897362947464),\n",
       " ('ninez', 0.4777943193912506),\n",
       " ('isadoro', 0.47770917415618896),\n",
       " ('sailor', 0.47335338592529297),\n",
       " ('soldiei', 0.4727216362953186),\n",
       " ('scalp-hunter', 0.47240787744522095),\n",
       " ('hiha', 0.47231513261795044),\n",
       " ('woaian', 0.4717403054237366),\n",
       " ('evho', 0.47002169489860535),\n",
       " ('maa', 0.46966034173965454),\n",
       " ('6oldier', 0.46855872869491577),\n",
       " ('nnel', 0.4668852984905243),\n",
       " ('oouple', 0.4655098617076874),\n",
       " ('ngatipoa', 0.4648381471633911)]"
      ]
     },
     "execution_count": 14,
     "metadata": {},
     "output_type": "execute_result"
    }
   ],
   "source": [
    "embedding_model_ocr.wv.most_similar(\"man\", topn=20)"
   ]
  },
  {
   "cell_type": "code",
   "execution_count": 15,
   "metadata": {},
   "outputs": [
    {
     "data": {
      "text/plain": [
       "[('mau', 0.5333027839660645),\n",
       " ('mnn', 0.5124573111534119),\n",
       " ('niau', 0.5118005275726318),\n",
       " ('borderman', 0.5051775574684143),\n",
       " ('woman', 0.5016998052597046),\n",
       " ('death-notch', 0.4844520092010498),\n",
       " ('womai', 0.478897362947464),\n",
       " ('ninez', 0.4777943193912506),\n",
       " ('isadoro', 0.47770917415618896),\n",
       " ('sailor', 0.47335338592529297),\n",
       " ('soldiei', 0.4727216362953186),\n",
       " ('scalp-hunter', 0.47240787744522095),\n",
       " ('hiha', 0.47231513261795044),\n",
       " ('woaian', 0.4717403054237366),\n",
       " ('evho', 0.47002169489860535),\n",
       " ('maa', 0.46966034173965454),\n",
       " ('6oldier', 0.46855872869491577),\n",
       " ('nnel', 0.4668852984905243),\n",
       " ('oouple', 0.4655098617076874),\n",
       " ('ngatipoa', 0.4648381471633911)]"
      ]
     },
     "execution_count": 15,
     "metadata": {},
     "output_type": "execute_result"
    }
   ],
   "source": [
    "embedding_model_corrected.wv.most_similar(\"man\", topn=20)"
   ]
  }
 ],
 "metadata": {
  "kernelspec": {
   "display_name": "Python 3",
   "language": "python",
   "name": "python3"
  },
  "language_info": {
   "codemirror_mode": {
    "name": "ipython",
    "version": 3
   },
   "file_extension": ".py",
   "mimetype": "text/x-python",
   "name": "python",
   "nbconvert_exporter": "python",
   "pygments_lexer": "ipython3",
   "version": "3.6.8"
  }
 },
 "nbformat": 4,
 "nbformat_minor": 2
}
