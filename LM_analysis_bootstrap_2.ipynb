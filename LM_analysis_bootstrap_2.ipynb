{
 "cells": [
  {
   "cell_type": "markdown",
   "metadata": {},
   "source": [
    "# Language Model analysis"
   ]
  },
  {
   "cell_type": "code",
   "execution_count": 1,
   "metadata": {},
   "outputs": [],
   "source": [
    "import pandas as pd\n",
    "import time\n",
    "import matplotlib.pyplot as plt\n",
    "import numpy as np\n",
    "\n",
    "from gensim.models import Word2Vec\n",
    "from gensim import logging\n",
    "logging.basicConfig(format='%(asctime)s : %(levelname)s : %(message)s', level=logging.INFO)"
   ]
  },
  {
   "cell_type": "code",
   "execution_count": 2,
   "metadata": {
    "scrolled": true
   },
   "outputs": [
    {
     "name": "stderr",
     "output_type": "stream",
     "text": [
      "2019-11-20 22:59:19,757 : INFO : loading Word2Vec object from ./LMs/embedding_model_scratch_corrected.model\n",
      "2019-11-20 22:59:20,221 : INFO : loading wv recursively from ./LMs/embedding_model_scratch_corrected.model.wv.* with mmap=None\n",
      "2019-11-20 22:59:20,222 : INFO : loading vectors from ./LMs/embedding_model_scratch_corrected.model.wv.vectors.npy with mmap=None\n",
      "2019-11-20 22:59:20,342 : INFO : setting ignored attribute vectors_norm to None\n",
      "2019-11-20 22:59:20,343 : INFO : loading vocabulary recursively from ./LMs/embedding_model_scratch_corrected.model.vocabulary.* with mmap=None\n",
      "2019-11-20 22:59:20,344 : INFO : loading trainables recursively from ./LMs/embedding_model_scratch_corrected.model.trainables.* with mmap=None\n",
      "2019-11-20 22:59:20,345 : INFO : loading syn1neg from ./LMs/embedding_model_scratch_corrected.model.trainables.syn1neg.npy with mmap=None\n",
      "2019-11-20 22:59:20,468 : INFO : setting ignored attribute cum_table to None\n",
      "2019-11-20 22:59:20,469 : INFO : loaded ./LMs/embedding_model_scratch_corrected.model\n"
     ]
    }
   ],
   "source": [
    "# embedding models, base model\n",
    "#model_path = \"/Users/khosseini/myJobs/ATI/Projects/2019/Living-with-Machines-code/language-lab-mro/lexicon_expansion/interactive_expansion/models/all_books/w2v_005/w2v_words.model\"\n",
    "model_path = \"./LMs/embedding_model_scratch_corrected.model\"\n",
    "w2v_corrected = Word2Vec.load(model_path)"
   ]
  },
  {
   "cell_type": "code",
   "execution_count": 3,
   "metadata": {},
   "outputs": [],
   "source": [
    "def found_neighbors(myrow, embedding, colname='vocab', topn=1):\n",
    "    try:\n",
    "        vocab_neigh = embedding.wv.most_similar([myrow['vocab']], topn=topn)\n",
    "        return list(np.array(vocab_neigh)[:, 0])\n",
    "    except KeyError:\n",
    "        return []"
   ]
  },
  {
   "cell_type": "code",
   "execution_count": 12,
   "metadata": {},
   "outputs": [],
   "source": [
    "def jaccard_similarity_df(myrow, colname_1, colname_2, num_items=False, make_lowercase=True):\n",
    "    \"\"\"\n",
    "    Jaccard similarity between two documents (e.g., OCR and Human) on flattened list of words\n",
    "    \"\"\"\n",
    "    if not num_items:\n",
    "        list1 = myrow[colname_1]\n",
    "        list2 = myrow[colname_2]\n",
    "    else:\n",
    "        list1 = myrow[colname_1][:num_items]\n",
    "        list2 = myrow[colname_2][:num_items]\n",
    "    if make_lowercase:\n",
    "        list1 = [x.lower() for x in list1]\n",
    "        list2 = [x.lower() for x in list2]\n",
    "    intersection = len(list(set(list1).intersection(list2)))\n",
    "    union = (len(list1) + len(list2)) - intersection\n",
    "    return float(intersection) / union"
   ]
  },
  {
   "cell_type": "code",
   "execution_count": 5,
   "metadata": {},
   "outputs": [],
   "source": [
    "words_corrected = []\n",
    "for item in w2v_corrected.wv.vocab:\n",
    "    words_corrected.append([item, int(w2v_corrected.wv.vocab[item].count)])"
   ]
  },
  {
   "cell_type": "code",
   "execution_count": 6,
   "metadata": {},
   "outputs": [],
   "source": [
    "pd_words = pd.DataFrame(words_corrected, columns=['vocab', 'count'])"
   ]
  },
  {
   "cell_type": "code",
   "execution_count": 7,
   "metadata": {},
   "outputs": [
    {
     "name": "stdout",
     "output_type": "stream",
     "text": [
      "size: 179735\n"
     ]
    },
    {
     "data": {
      "text/html": [
       "<div>\n",
       "<style scoped>\n",
       "    .dataframe tbody tr th:only-of-type {\n",
       "        vertical-align: middle;\n",
       "    }\n",
       "\n",
       "    .dataframe tbody tr th {\n",
       "        vertical-align: top;\n",
       "    }\n",
       "\n",
       "    .dataframe thead th {\n",
       "        text-align: right;\n",
       "    }\n",
       "</style>\n",
       "<table border=\"1\" class=\"dataframe\">\n",
       "  <thead>\n",
       "    <tr style=\"text-align: right;\">\n",
       "      <th></th>\n",
       "      <th>vocab</th>\n",
       "      <th>count</th>\n",
       "    </tr>\n",
       "  </thead>\n",
       "  <tbody>\n",
       "    <tr>\n",
       "      <td>57</td>\n",
       "      <td>,</td>\n",
       "      <td>860225</td>\n",
       "    </tr>\n",
       "    <tr>\n",
       "      <td>24</td>\n",
       "      <td>.</td>\n",
       "      <td>831221</td>\n",
       "    </tr>\n",
       "    <tr>\n",
       "      <td>21</td>\n",
       "      <td>the</td>\n",
       "      <td>736361</td>\n",
       "    </tr>\n",
       "    <tr>\n",
       "      <td>5</td>\n",
       "      <td>of</td>\n",
       "      <td>351214</td>\n",
       "    </tr>\n",
       "    <tr>\n",
       "      <td>110</td>\n",
       "      <td>and</td>\n",
       "      <td>291173</td>\n",
       "    </tr>\n",
       "  </tbody>\n",
       "</table>\n",
       "</div>"
      ],
      "text/plain": [
       "    vocab   count\n",
       "57      ,  860225\n",
       "24      .  831221\n",
       "21    the  736361\n",
       "5      of  351214\n",
       "110   and  291173"
      ]
     },
     "execution_count": 7,
     "metadata": {},
     "output_type": "execute_result"
    }
   ],
   "source": [
    "pd_words = pd_words.sort_values(by=['count'], ascending=False)\n",
    "print(\"size: {}\".format(len(pd_words)))\n",
    "pd_words.head()"
   ]
  },
  {
   "cell_type": "code",
   "execution_count": 8,
   "metadata": {},
   "outputs": [
    {
     "data": {
      "text/html": [
       "<div>\n",
       "<style scoped>\n",
       "    .dataframe tbody tr th:only-of-type {\n",
       "        vertical-align: middle;\n",
       "    }\n",
       "\n",
       "    .dataframe tbody tr th {\n",
       "        vertical-align: top;\n",
       "    }\n",
       "\n",
       "    .dataframe thead th {\n",
       "        text-align: right;\n",
       "    }\n",
       "</style>\n",
       "<table border=\"1\" class=\"dataframe\">\n",
       "  <thead>\n",
       "    <tr style=\"text-align: right;\">\n",
       "      <th></th>\n",
       "      <th>vocab</th>\n",
       "      <th>count</th>\n",
       "    </tr>\n",
       "  </thead>\n",
       "  <tbody>\n",
       "    <tr>\n",
       "      <td>57</td>\n",
       "      <td>,</td>\n",
       "      <td>860225</td>\n",
       "    </tr>\n",
       "    <tr>\n",
       "      <td>24</td>\n",
       "      <td>.</td>\n",
       "      <td>831221</td>\n",
       "    </tr>\n",
       "    <tr>\n",
       "      <td>21</td>\n",
       "      <td>the</td>\n",
       "      <td>736361</td>\n",
       "    </tr>\n",
       "    <tr>\n",
       "      <td>5</td>\n",
       "      <td>of</td>\n",
       "      <td>351214</td>\n",
       "    </tr>\n",
       "    <tr>\n",
       "      <td>110</td>\n",
       "      <td>and</td>\n",
       "      <td>291173</td>\n",
       "    </tr>\n",
       "    <tr>\n",
       "      <td>...</td>\n",
       "      <td>...</td>\n",
       "      <td>...</td>\n",
       "    </tr>\n",
       "    <tr>\n",
       "      <td>2483</td>\n",
       "      <td>matches</td>\n",
       "      <td>1142</td>\n",
       "    </tr>\n",
       "    <tr>\n",
       "      <td>8638</td>\n",
       "      <td>cape</td>\n",
       "      <td>1140</td>\n",
       "    </tr>\n",
       "    <tr>\n",
       "      <td>2883</td>\n",
       "      <td>matters</td>\n",
       "      <td>1139</td>\n",
       "    </tr>\n",
       "    <tr>\n",
       "      <td>265</td>\n",
       "      <td>prince</td>\n",
       "      <td>1139</td>\n",
       "    </tr>\n",
       "    <tr>\n",
       "      <td>3304</td>\n",
       "      <td>conditions</td>\n",
       "      <td>1139</td>\n",
       "    </tr>\n",
       "  </tbody>\n",
       "</table>\n",
       "<p>1000 rows × 2 columns</p>\n",
       "</div>"
      ],
      "text/plain": [
       "           vocab   count\n",
       "57             ,  860225\n",
       "24             .  831221\n",
       "21           the  736361\n",
       "5             of  351214\n",
       "110          and  291173\n",
       "...          ...     ...\n",
       "2483     matches    1142\n",
       "8638        cape    1140\n",
       "2883     matters    1139\n",
       "265       prince    1139\n",
       "3304  conditions    1139\n",
       "\n",
       "[1000 rows x 2 columns]"
      ]
     },
     "execution_count": 8,
     "metadata": {},
     "output_type": "execute_result"
    }
   ],
   "source": [
    "pd2search = pd_words[0:1000]\n",
    "pd2search"
   ]
  },
  {
   "cell_type": "markdown",
   "metadata": {},
   "source": [
    "# Quality bands 1, 2"
   ]
  },
  {
   "cell_type": "markdown",
   "metadata": {},
   "source": [
    "## Create list of words and their frequencies in the corrected set"
   ]
  },
  {
   "cell_type": "code",
   "execution_count": null,
   "metadata": {},
   "outputs": [],
   "source": []
  },
  {
   "cell_type": "code",
   "execution_count": 29,
   "metadata": {
    "scrolled": true
   },
   "outputs": [
    {
     "name": "stderr",
     "output_type": "stream",
     "text": [
      "2019-11-21 00:15:34,093 : INFO : loading Word2Vec object from ./LMs/w2v_005_EM_corr_qual_1_2_00000.model\n",
      "2019-11-21 00:15:35,030 : INFO : loading wv recursively from ./LMs/w2v_005_EM_corr_qual_1_2_00000.model.wv.* with mmap=None\n",
      "2019-11-21 00:15:35,031 : INFO : loading vectors from ./LMs/w2v_005_EM_corr_qual_1_2_00000.model.wv.vectors.npy with mmap=None\n",
      "2019-11-21 00:15:35,642 : INFO : setting ignored attribute vectors_norm to None\n",
      "2019-11-21 00:15:35,643 : INFO : loading vocabulary recursively from ./LMs/w2v_005_EM_corr_qual_1_2_00000.model.vocabulary.* with mmap=None\n",
      "2019-11-21 00:15:35,643 : INFO : loading trainables recursively from ./LMs/w2v_005_EM_corr_qual_1_2_00000.model.trainables.* with mmap=None\n",
      "2019-11-21 00:15:35,644 : INFO : loading syn1neg from ./LMs/w2v_005_EM_corr_qual_1_2_00000.model.trainables.syn1neg.npy with mmap=None\n",
      "2019-11-21 00:15:36,095 : INFO : setting ignored attribute cum_table to None\n",
      "2019-11-21 00:15:36,096 : INFO : loaded ./LMs/w2v_005_EM_corr_qual_1_2_00000.model\n",
      "2019-11-21 00:15:37,973 : INFO : loading Word2Vec object from ./LMs/w2v_005_EM_ocr_qual_1_2_00000.model\n",
      "2019-11-21 00:15:55,797 : INFO : loading wv recursively from ./LMs/w2v_005_EM_ocr_qual_1_2_00000.model.wv.* with mmap=None\n",
      "2019-11-21 00:15:55,801 : INFO : loading vectors from ./LMs/w2v_005_EM_ocr_qual_1_2_00000.model.wv.vectors.npy with mmap=None\n",
      "2019-11-21 00:15:56,136 : INFO : setting ignored attribute vectors_norm to None\n",
      "2019-11-21 00:15:56,137 : INFO : loading vocabulary recursively from ./LMs/w2v_005_EM_ocr_qual_1_2_00000.model.vocabulary.* with mmap=None\n",
      "2019-11-21 00:15:56,138 : INFO : loading trainables recursively from ./LMs/w2v_005_EM_ocr_qual_1_2_00000.model.trainables.* with mmap=None\n",
      "2019-11-21 00:15:56,139 : INFO : loading syn1neg from ./LMs/w2v_005_EM_ocr_qual_1_2_00000.model.trainables.syn1neg.npy with mmap=None\n",
      "2019-11-21 00:15:57,267 : INFO : setting ignored attribute cum_table to None\n",
      "2019-11-21 00:15:57,268 : INFO : loaded ./LMs/w2v_005_EM_ocr_qual_1_2_00000.model\n",
      "2019-11-21 00:15:59,178 : INFO : precomputing L2-norms of word weight vectors\n"
     ]
    },
    {
     "name": "stdout",
     "output_type": "stream",
     "text": [
      "topn: 50000\n"
     ]
    },
    {
     "name": "stderr",
     "output_type": "stream",
     "text": [
      "/Users/khosseini/anaconda3/envs/py37torch/lib/python3.6/site-packages/ipykernel_launcher.py:16: SettingWithCopyWarning: \n",
      "A value is trying to be set on a copy of a slice from a DataFrame.\n",
      "Try using .loc[row_indexer,col_indexer] = value instead\n",
      "\n",
      "See the caveats in the documentation: http://pandas.pydata.org/pandas-docs/stable/user_guide/indexing.html#returning-a-view-versus-a-copy\n",
      "  app.launch_new_instance()\n",
      "2019-11-21 00:19:44,673 : INFO : precomputing L2-norms of word weight vectors\n"
     ]
    },
    {
     "name": "stdout",
     "output_type": "stream",
     "text": [
      "corr: 225.4920597076416\n"
     ]
    },
    {
     "name": "stderr",
     "output_type": "stream",
     "text": [
      "/Users/khosseini/anaconda3/envs/py37torch/lib/python3.6/site-packages/ipykernel_launcher.py:20: SettingWithCopyWarning: \n",
      "A value is trying to be set on a copy of a slice from a DataFrame.\n",
      "Try using .loc[row_indexer,col_indexer] = value instead\n",
      "\n",
      "See the caveats in the documentation: http://pandas.pydata.org/pandas-docs/stable/user_guide/indexing.html#returning-a-view-versus-a-copy\n",
      "/Users/khosseini/anaconda3/envs/py37torch/lib/python3.6/site-packages/ipykernel_launcher.py:32: SettingWithCopyWarning: \n",
      "A value is trying to be set on a copy of a slice from a DataFrame.\n",
      "Try using .loc[row_indexer,col_indexer] = value instead\n",
      "\n",
      "See the caveats in the documentation: http://pandas.pydata.org/pandas-docs/stable/user_guide/indexing.html#returning-a-view-versus-a-copy\n"
     ]
    },
    {
     "name": "stdout",
     "output_type": "stream",
     "text": [
      "ocr: 449.3939018249512\n"
     ]
    },
    {
     "name": "stderr",
     "output_type": "stream",
     "text": [
      "2019-11-21 00:24:27,673 : INFO : loading Word2Vec object from ./LMs/w2v_005_EM_corr_qual_1_2_00001.model\n"
     ]
    },
    {
     "name": "stdout",
     "output_type": "stream",
     "text": [
      "total: 508.4501156806946\n"
     ]
    },
    {
     "name": "stderr",
     "output_type": "stream",
     "text": [
      "2019-11-21 00:25:18,316 : INFO : loading wv recursively from ./LMs/w2v_005_EM_corr_qual_1_2_00001.model.wv.* with mmap=None\n",
      "2019-11-21 00:25:18,327 : INFO : loading vectors from ./LMs/w2v_005_EM_corr_qual_1_2_00001.model.wv.vectors.npy with mmap=None\n",
      "2019-11-21 00:25:18,907 : INFO : setting ignored attribute vectors_norm to None\n",
      "2019-11-21 00:25:18,909 : INFO : loading vocabulary recursively from ./LMs/w2v_005_EM_corr_qual_1_2_00001.model.vocabulary.* with mmap=None\n",
      "2019-11-21 00:25:18,911 : INFO : loading trainables recursively from ./LMs/w2v_005_EM_corr_qual_1_2_00001.model.trainables.* with mmap=None\n",
      "2019-11-21 00:25:18,912 : INFO : loading syn1neg from ./LMs/w2v_005_EM_corr_qual_1_2_00001.model.trainables.syn1neg.npy with mmap=None\n",
      "2019-11-21 00:25:19,488 : INFO : setting ignored attribute cum_table to None\n",
      "2019-11-21 00:25:19,489 : INFO : loaded ./LMs/w2v_005_EM_corr_qual_1_2_00001.model\n",
      "2019-11-21 00:25:21,579 : INFO : loading Word2Vec object from ./LMs/w2v_005_EM_ocr_qual_1_2_00001.model\n",
      "2019-11-21 00:26:02,117 : INFO : loading wv recursively from ./LMs/w2v_005_EM_ocr_qual_1_2_00001.model.wv.* with mmap=None\n",
      "2019-11-21 00:26:02,122 : INFO : loading vectors from ./LMs/w2v_005_EM_ocr_qual_1_2_00001.model.wv.vectors.npy with mmap=None\n",
      "2019-11-21 00:26:02,740 : INFO : setting ignored attribute vectors_norm to None\n",
      "2019-11-21 00:26:02,742 : INFO : loading vocabulary recursively from ./LMs/w2v_005_EM_ocr_qual_1_2_00001.model.vocabulary.* with mmap=None\n",
      "2019-11-21 00:26:02,742 : INFO : loading trainables recursively from ./LMs/w2v_005_EM_ocr_qual_1_2_00001.model.trainables.* with mmap=None\n",
      "2019-11-21 00:26:02,743 : INFO : loading syn1neg from ./LMs/w2v_005_EM_ocr_qual_1_2_00001.model.trainables.syn1neg.npy with mmap=None\n",
      "2019-11-21 00:26:03,388 : INFO : setting ignored attribute cum_table to None\n",
      "2019-11-21 00:26:03,392 : INFO : loaded ./LMs/w2v_005_EM_ocr_qual_1_2_00001.model\n"
     ]
    },
    {
     "name": "stdout",
     "output_type": "stream",
     "text": [
      "topn: 50000\n"
     ]
    },
    {
     "name": "stderr",
     "output_type": "stream",
     "text": [
      "2019-11-21 00:26:20,254 : INFO : precomputing L2-norms of word weight vectors\n",
      "/Users/khosseini/anaconda3/envs/py37torch/lib/python3.6/site-packages/ipykernel_launcher.py:16: SettingWithCopyWarning: \n",
      "A value is trying to be set on a copy of a slice from a DataFrame.\n",
      "Try using .loc[row_indexer,col_indexer] = value instead\n",
      "\n",
      "See the caveats in the documentation: http://pandas.pydata.org/pandas-docs/stable/user_guide/indexing.html#returning-a-view-versus-a-copy\n",
      "  app.launch_new_instance()\n",
      "2019-11-21 00:30:01,793 : INFO : precomputing L2-norms of word weight vectors\n"
     ]
    },
    {
     "name": "stdout",
     "output_type": "stream",
     "text": [
      "corr: 236.33311295509338\n"
     ]
    },
    {
     "name": "stderr",
     "output_type": "stream",
     "text": [
      "/Users/khosseini/anaconda3/envs/py37torch/lib/python3.6/site-packages/ipykernel_launcher.py:20: SettingWithCopyWarning: \n",
      "A value is trying to be set on a copy of a slice from a DataFrame.\n",
      "Try using .loc[row_indexer,col_indexer] = value instead\n",
      "\n",
      "See the caveats in the documentation: http://pandas.pydata.org/pandas-docs/stable/user_guide/indexing.html#returning-a-view-versus-a-copy\n",
      "/Users/khosseini/anaconda3/envs/py37torch/lib/python3.6/site-packages/ipykernel_launcher.py:32: SettingWithCopyWarning: \n",
      "A value is trying to be set on a copy of a slice from a DataFrame.\n",
      "Try using .loc[row_indexer,col_indexer] = value instead\n",
      "\n",
      "See the caveats in the documentation: http://pandas.pydata.org/pandas-docs/stable/user_guide/indexing.html#returning-a-view-versus-a-copy\n"
     ]
    },
    {
     "name": "stdout",
     "output_type": "stream",
     "text": [
      "ocr: 454.0198860168457\n"
     ]
    },
    {
     "name": "stderr",
     "output_type": "stream",
     "text": [
      "2019-11-21 00:34:33,876 : INFO : loading Word2Vec object from ./LMs/w2v_005_EM_corr_qual_1_2_00002.model\n"
     ]
    },
    {
     "name": "stdout",
     "output_type": "stream",
     "text": [
      "total: 508.39568996429443\n"
     ]
    },
    {
     "name": "stderr",
     "output_type": "stream",
     "text": [
      "2019-11-21 00:35:27,668 : INFO : loading wv recursively from ./LMs/w2v_005_EM_corr_qual_1_2_00002.model.wv.* with mmap=None\n",
      "2019-11-21 00:35:27,671 : INFO : loading vectors from ./LMs/w2v_005_EM_corr_qual_1_2_00002.model.wv.vectors.npy with mmap=None\n",
      "2019-11-21 00:35:28,261 : INFO : setting ignored attribute vectors_norm to None\n",
      "2019-11-21 00:35:28,262 : INFO : loading vocabulary recursively from ./LMs/w2v_005_EM_corr_qual_1_2_00002.model.vocabulary.* with mmap=None\n",
      "2019-11-21 00:35:28,263 : INFO : loading trainables recursively from ./LMs/w2v_005_EM_corr_qual_1_2_00002.model.trainables.* with mmap=None\n",
      "2019-11-21 00:35:28,263 : INFO : loading syn1neg from ./LMs/w2v_005_EM_corr_qual_1_2_00002.model.trainables.syn1neg.npy with mmap=None\n",
      "2019-11-21 00:35:28,799 : INFO : setting ignored attribute cum_table to None\n",
      "2019-11-21 00:35:28,801 : INFO : loaded ./LMs/w2v_005_EM_corr_qual_1_2_00002.model\n",
      "2019-11-21 00:35:31,027 : INFO : loading Word2Vec object from ./LMs/w2v_005_EM_ocr_qual_1_2_00002.model\n",
      "2019-11-21 00:36:08,631 : INFO : loading wv recursively from ./LMs/w2v_005_EM_ocr_qual_1_2_00002.model.wv.* with mmap=None\n",
      "2019-11-21 00:36:08,636 : INFO : loading vectors from ./LMs/w2v_005_EM_ocr_qual_1_2_00002.model.wv.vectors.npy with mmap=None\n",
      "2019-11-21 00:36:09,312 : INFO : setting ignored attribute vectors_norm to None\n",
      "2019-11-21 00:36:09,313 : INFO : loading vocabulary recursively from ./LMs/w2v_005_EM_ocr_qual_1_2_00002.model.vocabulary.* with mmap=None\n",
      "2019-11-21 00:36:09,313 : INFO : loading trainables recursively from ./LMs/w2v_005_EM_ocr_qual_1_2_00002.model.trainables.* with mmap=None\n",
      "2019-11-21 00:36:09,314 : INFO : loading syn1neg from ./LMs/w2v_005_EM_ocr_qual_1_2_00002.model.trainables.syn1neg.npy with mmap=None\n",
      "2019-11-21 00:36:09,933 : INFO : setting ignored attribute cum_table to None\n",
      "2019-11-21 00:36:09,934 : INFO : loaded ./LMs/w2v_005_EM_ocr_qual_1_2_00002.model\n"
     ]
    },
    {
     "name": "stdout",
     "output_type": "stream",
     "text": [
      "topn: 50000\n"
     ]
    },
    {
     "name": "stderr",
     "output_type": "stream",
     "text": [
      "2019-11-21 00:36:29,164 : INFO : precomputing L2-norms of word weight vectors\n",
      "/Users/khosseini/anaconda3/envs/py37torch/lib/python3.6/site-packages/ipykernel_launcher.py:16: SettingWithCopyWarning: \n",
      "A value is trying to be set on a copy of a slice from a DataFrame.\n",
      "Try using .loc[row_indexer,col_indexer] = value instead\n",
      "\n",
      "See the caveats in the documentation: http://pandas.pydata.org/pandas-docs/stable/user_guide/indexing.html#returning-a-view-versus-a-copy\n",
      "  app.launch_new_instance()\n",
      "2019-11-21 00:40:02,740 : INFO : precomputing L2-norms of word weight vectors\n"
     ]
    },
    {
     "name": "stdout",
     "output_type": "stream",
     "text": [
      "corr: 230.911719083786\n"
     ]
    },
    {
     "name": "stderr",
     "output_type": "stream",
     "text": [
      "/Users/khosseini/anaconda3/envs/py37torch/lib/python3.6/site-packages/ipykernel_launcher.py:20: SettingWithCopyWarning: \n",
      "A value is trying to be set on a copy of a slice from a DataFrame.\n",
      "Try using .loc[row_indexer,col_indexer] = value instead\n",
      "\n",
      "See the caveats in the documentation: http://pandas.pydata.org/pandas-docs/stable/user_guide/indexing.html#returning-a-view-versus-a-copy\n",
      "/Users/khosseini/anaconda3/envs/py37torch/lib/python3.6/site-packages/ipykernel_launcher.py:32: SettingWithCopyWarning: \n",
      "A value is trying to be set on a copy of a slice from a DataFrame.\n",
      "Try using .loc[row_indexer,col_indexer] = value instead\n",
      "\n",
      "See the caveats in the documentation: http://pandas.pydata.org/pandas-docs/stable/user_guide/indexing.html#returning-a-view-versus-a-copy\n"
     ]
    },
    {
     "name": "stdout",
     "output_type": "stream",
     "text": [
      "ocr: 445.8209972381592\n"
     ]
    },
    {
     "name": "stderr",
     "output_type": "stream",
     "text": [
      "2019-11-21 00:44:31,610 : INFO : loading Word2Vec object from ./LMs/w2v_005_EM_corr_qual_1_2_00003.model\n"
     ]
    },
    {
     "name": "stdout",
     "output_type": "stream",
     "text": [
      "total: 499.7120041847229\n"
     ]
    },
    {
     "name": "stderr",
     "output_type": "stream",
     "text": [
      "2019-11-21 00:45:28,954 : INFO : loading wv recursively from ./LMs/w2v_005_EM_corr_qual_1_2_00003.model.wv.* with mmap=None\n",
      "2019-11-21 00:45:28,961 : INFO : loading vectors from ./LMs/w2v_005_EM_corr_qual_1_2_00003.model.wv.vectors.npy with mmap=None\n",
      "2019-11-21 00:45:29,550 : INFO : setting ignored attribute vectors_norm to None\n",
      "2019-11-21 00:45:29,551 : INFO : loading vocabulary recursively from ./LMs/w2v_005_EM_corr_qual_1_2_00003.model.vocabulary.* with mmap=None\n",
      "2019-11-21 00:45:29,552 : INFO : loading trainables recursively from ./LMs/w2v_005_EM_corr_qual_1_2_00003.model.trainables.* with mmap=None\n",
      "2019-11-21 00:45:29,553 : INFO : loading syn1neg from ./LMs/w2v_005_EM_corr_qual_1_2_00003.model.trainables.syn1neg.npy with mmap=None\n",
      "2019-11-21 00:45:30,107 : INFO : setting ignored attribute cum_table to None\n",
      "2019-11-21 00:45:30,108 : INFO : loaded ./LMs/w2v_005_EM_corr_qual_1_2_00003.model\n",
      "2019-11-21 00:45:32,569 : INFO : loading Word2Vec object from ./LMs/w2v_005_EM_ocr_qual_1_2_00003.model\n",
      "2019-11-21 00:46:09,295 : INFO : loading wv recursively from ./LMs/w2v_005_EM_ocr_qual_1_2_00003.model.wv.* with mmap=None\n",
      "2019-11-21 00:46:09,301 : INFO : loading vectors from ./LMs/w2v_005_EM_ocr_qual_1_2_00003.model.wv.vectors.npy with mmap=None\n",
      "2019-11-21 00:46:09,967 : INFO : setting ignored attribute vectors_norm to None\n",
      "2019-11-21 00:46:09,968 : INFO : loading vocabulary recursively from ./LMs/w2v_005_EM_ocr_qual_1_2_00003.model.vocabulary.* with mmap=None\n",
      "2019-11-21 00:46:09,969 : INFO : loading trainables recursively from ./LMs/w2v_005_EM_ocr_qual_1_2_00003.model.trainables.* with mmap=None\n",
      "2019-11-21 00:46:09,970 : INFO : loading syn1neg from ./LMs/w2v_005_EM_ocr_qual_1_2_00003.model.trainables.syn1neg.npy with mmap=None\n",
      "2019-11-21 00:46:10,589 : INFO : setting ignored attribute cum_table to None\n",
      "2019-11-21 00:46:10,590 : INFO : loaded ./LMs/w2v_005_EM_ocr_qual_1_2_00003.model\n",
      "2019-11-21 00:46:28,500 : INFO : precomputing L2-norms of word weight vectors\n"
     ]
    },
    {
     "name": "stdout",
     "output_type": "stream",
     "text": [
      "topn: 50000\n"
     ]
    },
    {
     "name": "stderr",
     "output_type": "stream",
     "text": [
      "/Users/khosseini/anaconda3/envs/py37torch/lib/python3.6/site-packages/ipykernel_launcher.py:16: SettingWithCopyWarning: \n",
      "A value is trying to be set on a copy of a slice from a DataFrame.\n",
      "Try using .loc[row_indexer,col_indexer] = value instead\n",
      "\n",
      "See the caveats in the documentation: http://pandas.pydata.org/pandas-docs/stable/user_guide/indexing.html#returning-a-view-versus-a-copy\n",
      "  app.launch_new_instance()\n",
      "2019-11-21 00:50:05,815 : INFO : precomputing L2-norms of word weight vectors\n"
     ]
    },
    {
     "name": "stdout",
     "output_type": "stream",
     "text": [
      "corr: 232.7473850250244\n"
     ]
    },
    {
     "name": "stderr",
     "output_type": "stream",
     "text": [
      "/Users/khosseini/anaconda3/envs/py37torch/lib/python3.6/site-packages/ipykernel_launcher.py:20: SettingWithCopyWarning: \n",
      "A value is trying to be set on a copy of a slice from a DataFrame.\n",
      "Try using .loc[row_indexer,col_indexer] = value instead\n",
      "\n",
      "See the caveats in the documentation: http://pandas.pydata.org/pandas-docs/stable/user_guide/indexing.html#returning-a-view-versus-a-copy\n",
      "/Users/khosseini/anaconda3/envs/py37torch/lib/python3.6/site-packages/ipykernel_launcher.py:32: SettingWithCopyWarning: \n",
      "A value is trying to be set on a copy of a slice from a DataFrame.\n",
      "Try using .loc[row_indexer,col_indexer] = value instead\n",
      "\n",
      "See the caveats in the documentation: http://pandas.pydata.org/pandas-docs/stable/user_guide/indexing.html#returning-a-view-versus-a-copy\n"
     ]
    },
    {
     "name": "stdout",
     "output_type": "stream",
     "text": [
      "ocr: 451.8002140522003\n"
     ]
    },
    {
     "name": "stderr",
     "output_type": "stream",
     "text": [
      "2019-11-21 00:54:41,695 : INFO : loading Word2Vec object from ./LMs/w2v_005_EM_corr_qual_1_2_00004.model\n"
     ]
    },
    {
     "name": "stdout",
     "output_type": "stream",
     "text": [
      "total: 508.5914931297302\n"
     ]
    },
    {
     "name": "stderr",
     "output_type": "stream",
     "text": [
      "2019-11-21 00:55:33,266 : INFO : loading wv recursively from ./LMs/w2v_005_EM_corr_qual_1_2_00004.model.wv.* with mmap=None\n",
      "2019-11-21 00:55:33,271 : INFO : loading vectors from ./LMs/w2v_005_EM_corr_qual_1_2_00004.model.wv.vectors.npy with mmap=None\n",
      "2019-11-21 00:55:33,909 : INFO : setting ignored attribute vectors_norm to None\n",
      "2019-11-21 00:55:33,909 : INFO : loading vocabulary recursively from ./LMs/w2v_005_EM_corr_qual_1_2_00004.model.vocabulary.* with mmap=None\n",
      "2019-11-21 00:55:33,910 : INFO : loading trainables recursively from ./LMs/w2v_005_EM_corr_qual_1_2_00004.model.trainables.* with mmap=None\n",
      "2019-11-21 00:55:33,911 : INFO : loading syn1neg from ./LMs/w2v_005_EM_corr_qual_1_2_00004.model.trainables.syn1neg.npy with mmap=None\n",
      "2019-11-21 00:55:34,468 : INFO : setting ignored attribute cum_table to None\n",
      "2019-11-21 00:55:34,469 : INFO : loaded ./LMs/w2v_005_EM_corr_qual_1_2_00004.model\n",
      "2019-11-21 00:55:36,741 : INFO : loading Word2Vec object from ./LMs/w2v_005_EM_ocr_qual_1_2_00004.model\n",
      "2019-11-21 00:56:13,913 : INFO : loading wv recursively from ./LMs/w2v_005_EM_ocr_qual_1_2_00004.model.wv.* with mmap=None\n",
      "2019-11-21 00:56:13,916 : INFO : loading vectors from ./LMs/w2v_005_EM_ocr_qual_1_2_00004.model.wv.vectors.npy with mmap=None\n",
      "2019-11-21 00:56:14,599 : INFO : setting ignored attribute vectors_norm to None\n",
      "2019-11-21 00:56:14,600 : INFO : loading vocabulary recursively from ./LMs/w2v_005_EM_ocr_qual_1_2_00004.model.vocabulary.* with mmap=None\n",
      "2019-11-21 00:56:14,600 : INFO : loading trainables recursively from ./LMs/w2v_005_EM_ocr_qual_1_2_00004.model.trainables.* with mmap=None\n",
      "2019-11-21 00:56:14,601 : INFO : loading syn1neg from ./LMs/w2v_005_EM_ocr_qual_1_2_00004.model.trainables.syn1neg.npy with mmap=None\n",
      "2019-11-21 00:56:15,217 : INFO : setting ignored attribute cum_table to None\n",
      "2019-11-21 00:56:15,218 : INFO : loaded ./LMs/w2v_005_EM_ocr_qual_1_2_00004.model\n",
      "2019-11-21 00:56:32,911 : INFO : precomputing L2-norms of word weight vectors\n"
     ]
    },
    {
     "name": "stdout",
     "output_type": "stream",
     "text": [
      "topn: 50000\n"
     ]
    },
    {
     "name": "stderr",
     "output_type": "stream",
     "text": [
      "/Users/khosseini/anaconda3/envs/py37torch/lib/python3.6/site-packages/ipykernel_launcher.py:16: SettingWithCopyWarning: \n",
      "A value is trying to be set on a copy of a slice from a DataFrame.\n",
      "Try using .loc[row_indexer,col_indexer] = value instead\n",
      "\n",
      "See the caveats in the documentation: http://pandas.pydata.org/pandas-docs/stable/user_guide/indexing.html#returning-a-view-versus-a-copy\n",
      "  app.launch_new_instance()\n",
      "2019-11-21 01:00:12,950 : INFO : precomputing L2-norms of word weight vectors\n"
     ]
    },
    {
     "name": "stdout",
     "output_type": "stream",
     "text": [
      "corr: 235.52997303009033\n"
     ]
    },
    {
     "name": "stderr",
     "output_type": "stream",
     "text": [
      "/Users/khosseini/anaconda3/envs/py37torch/lib/python3.6/site-packages/ipykernel_launcher.py:20: SettingWithCopyWarning: \n",
      "A value is trying to be set on a copy of a slice from a DataFrame.\n",
      "Try using .loc[row_indexer,col_indexer] = value instead\n",
      "\n",
      "See the caveats in the documentation: http://pandas.pydata.org/pandas-docs/stable/user_guide/indexing.html#returning-a-view-versus-a-copy\n",
      "/Users/khosseini/anaconda3/envs/py37torch/lib/python3.6/site-packages/ipykernel_launcher.py:32: SettingWithCopyWarning: \n",
      "A value is trying to be set on a copy of a slice from a DataFrame.\n",
      "Try using .loc[row_indexer,col_indexer] = value instead\n",
      "\n",
      "See the caveats in the documentation: http://pandas.pydata.org/pandas-docs/stable/user_guide/indexing.html#returning-a-view-versus-a-copy\n"
     ]
    },
    {
     "name": "stdout",
     "output_type": "stream",
     "text": [
      "ocr: 455.29249119758606\n"
     ]
    },
    {
     "name": "stderr",
     "output_type": "stream",
     "text": [
      "2019-11-21 01:04:49,284 : INFO : loading Word2Vec object from ./LMs/w2v_005_EM_corr_qual_1_2_00005.model\n"
     ]
    },
    {
     "name": "stdout",
     "output_type": "stream",
     "text": [
      "total: 511.83160400390625\n"
     ]
    },
    {
     "name": "stderr",
     "output_type": "stream",
     "text": [
      "2019-11-21 01:05:41,622 : INFO : loading wv recursively from ./LMs/w2v_005_EM_corr_qual_1_2_00005.model.wv.* with mmap=None\n",
      "2019-11-21 01:05:41,629 : INFO : loading vectors from ./LMs/w2v_005_EM_corr_qual_1_2_00005.model.wv.vectors.npy with mmap=None\n",
      "2019-11-21 01:05:42,359 : INFO : setting ignored attribute vectors_norm to None\n",
      "2019-11-21 01:05:42,360 : INFO : loading vocabulary recursively from ./LMs/w2v_005_EM_corr_qual_1_2_00005.model.vocabulary.* with mmap=None\n",
      "2019-11-21 01:05:42,361 : INFO : loading trainables recursively from ./LMs/w2v_005_EM_corr_qual_1_2_00005.model.trainables.* with mmap=None\n",
      "2019-11-21 01:05:42,361 : INFO : loading syn1neg from ./LMs/w2v_005_EM_corr_qual_1_2_00005.model.trainables.syn1neg.npy with mmap=None\n",
      "2019-11-21 01:05:43,029 : INFO : setting ignored attribute cum_table to None\n",
      "2019-11-21 01:05:43,030 : INFO : loaded ./LMs/w2v_005_EM_corr_qual_1_2_00005.model\n",
      "2019-11-21 01:05:45,295 : INFO : loading Word2Vec object from ./LMs/w2v_005_EM_ocr_qual_1_2_00005.model\n",
      "2019-11-21 01:06:22,740 : INFO : loading wv recursively from ./LMs/w2v_005_EM_ocr_qual_1_2_00005.model.wv.* with mmap=None\n",
      "2019-11-21 01:06:22,744 : INFO : loading vectors from ./LMs/w2v_005_EM_ocr_qual_1_2_00005.model.wv.vectors.npy with mmap=None\n",
      "2019-11-21 01:06:23,438 : INFO : setting ignored attribute vectors_norm to None\n",
      "2019-11-21 01:06:23,439 : INFO : loading vocabulary recursively from ./LMs/w2v_005_EM_ocr_qual_1_2_00005.model.vocabulary.* with mmap=None\n",
      "2019-11-21 01:06:23,442 : INFO : loading trainables recursively from ./LMs/w2v_005_EM_ocr_qual_1_2_00005.model.trainables.* with mmap=None\n",
      "2019-11-21 01:06:23,444 : INFO : loading syn1neg from ./LMs/w2v_005_EM_ocr_qual_1_2_00005.model.trainables.syn1neg.npy with mmap=None\n",
      "2019-11-21 01:06:24,090 : INFO : setting ignored attribute cum_table to None\n",
      "2019-11-21 01:06:24,091 : INFO : loaded ./LMs/w2v_005_EM_ocr_qual_1_2_00005.model\n",
      "2019-11-21 01:06:42,111 : INFO : precomputing L2-norms of word weight vectors\n"
     ]
    },
    {
     "name": "stdout",
     "output_type": "stream",
     "text": [
      "topn: 50000\n"
     ]
    },
    {
     "name": "stderr",
     "output_type": "stream",
     "text": [
      "/Users/khosseini/anaconda3/envs/py37torch/lib/python3.6/site-packages/ipykernel_launcher.py:16: SettingWithCopyWarning: \n",
      "A value is trying to be set on a copy of a slice from a DataFrame.\n",
      "Try using .loc[row_indexer,col_indexer] = value instead\n",
      "\n",
      "See the caveats in the documentation: http://pandas.pydata.org/pandas-docs/stable/user_guide/indexing.html#returning-a-view-versus-a-copy\n",
      "  app.launch_new_instance()\n",
      "2019-11-21 01:10:18,609 : INFO : precomputing L2-norms of word weight vectors\n"
     ]
    },
    {
     "name": "stdout",
     "output_type": "stream",
     "text": [
      "corr: 232.41169381141663\n"
     ]
    },
    {
     "name": "stderr",
     "output_type": "stream",
     "text": [
      "/Users/khosseini/anaconda3/envs/py37torch/lib/python3.6/site-packages/ipykernel_launcher.py:20: SettingWithCopyWarning: \n",
      "A value is trying to be set on a copy of a slice from a DataFrame.\n",
      "Try using .loc[row_indexer,col_indexer] = value instead\n",
      "\n",
      "See the caveats in the documentation: http://pandas.pydata.org/pandas-docs/stable/user_guide/indexing.html#returning-a-view-versus-a-copy\n",
      "/Users/khosseini/anaconda3/envs/py37torch/lib/python3.6/site-packages/ipykernel_launcher.py:32: SettingWithCopyWarning: \n",
      "A value is trying to be set on a copy of a slice from a DataFrame.\n",
      "Try using .loc[row_indexer,col_indexer] = value instead\n",
      "\n",
      "See the caveats in the documentation: http://pandas.pydata.org/pandas-docs/stable/user_guide/indexing.html#returning-a-view-versus-a-copy\n"
     ]
    },
    {
     "name": "stdout",
     "output_type": "stream",
     "text": [
      "ocr: 450.83373379707336\n"
     ]
    },
    {
     "name": "stderr",
     "output_type": "stream",
     "text": [
      "2019-11-21 01:14:51,650 : INFO : loading Word2Vec object from ./LMs/w2v_005_EM_corr_qual_1_2_00006.model\n"
     ]
    },
    {
     "name": "stdout",
     "output_type": "stream",
     "text": [
      "total: 505.41071701049805\n"
     ]
    },
    {
     "name": "stderr",
     "output_type": "stream",
     "text": [
      "2019-11-21 01:15:45,023 : INFO : loading wv recursively from ./LMs/w2v_005_EM_corr_qual_1_2_00006.model.wv.* with mmap=None\n",
      "2019-11-21 01:15:45,028 : INFO : loading vectors from ./LMs/w2v_005_EM_corr_qual_1_2_00006.model.wv.vectors.npy with mmap=None\n",
      "2019-11-21 01:15:45,848 : INFO : setting ignored attribute vectors_norm to None\n",
      "2019-11-21 01:15:45,849 : INFO : loading vocabulary recursively from ./LMs/w2v_005_EM_corr_qual_1_2_00006.model.vocabulary.* with mmap=None\n",
      "2019-11-21 01:15:45,849 : INFO : loading trainables recursively from ./LMs/w2v_005_EM_corr_qual_1_2_00006.model.trainables.* with mmap=None\n",
      "2019-11-21 01:15:45,850 : INFO : loading syn1neg from ./LMs/w2v_005_EM_corr_qual_1_2_00006.model.trainables.syn1neg.npy with mmap=None\n",
      "2019-11-21 01:15:46,432 : INFO : setting ignored attribute cum_table to None\n",
      "2019-11-21 01:15:46,433 : INFO : loaded ./LMs/w2v_005_EM_corr_qual_1_2_00006.model\n",
      "2019-11-21 01:15:48,782 : INFO : loading Word2Vec object from ./LMs/w2v_005_EM_ocr_qual_1_2_00006.model\n",
      "2019-11-21 01:16:25,727 : INFO : loading wv recursively from ./LMs/w2v_005_EM_ocr_qual_1_2_00006.model.wv.* with mmap=None\n",
      "2019-11-21 01:16:25,732 : INFO : loading vectors from ./LMs/w2v_005_EM_ocr_qual_1_2_00006.model.wv.vectors.npy with mmap=None\n",
      "2019-11-21 01:16:26,740 : INFO : setting ignored attribute vectors_norm to None\n",
      "2019-11-21 01:16:26,741 : INFO : loading vocabulary recursively from ./LMs/w2v_005_EM_ocr_qual_1_2_00006.model.vocabulary.* with mmap=None\n",
      "2019-11-21 01:16:26,741 : INFO : loading trainables recursively from ./LMs/w2v_005_EM_ocr_qual_1_2_00006.model.trainables.* with mmap=None\n",
      "2019-11-21 01:16:26,742 : INFO : loading syn1neg from ./LMs/w2v_005_EM_ocr_qual_1_2_00006.model.trainables.syn1neg.npy with mmap=None\n",
      "2019-11-21 01:16:27,323 : INFO : setting ignored attribute cum_table to None\n",
      "2019-11-21 01:16:27,324 : INFO : loaded ./LMs/w2v_005_EM_ocr_qual_1_2_00006.model\n",
      "2019-11-21 01:16:45,588 : INFO : precomputing L2-norms of word weight vectors\n"
     ]
    },
    {
     "name": "stdout",
     "output_type": "stream",
     "text": [
      "topn: 50000\n"
     ]
    },
    {
     "name": "stderr",
     "output_type": "stream",
     "text": [
      "/Users/khosseini/anaconda3/envs/py37torch/lib/python3.6/site-packages/ipykernel_launcher.py:16: SettingWithCopyWarning: \n",
      "A value is trying to be set on a copy of a slice from a DataFrame.\n",
      "Try using .loc[row_indexer,col_indexer] = value instead\n",
      "\n",
      "See the caveats in the documentation: http://pandas.pydata.org/pandas-docs/stable/user_guide/indexing.html#returning-a-view-versus-a-copy\n",
      "  app.launch_new_instance()\n",
      "2019-11-21 01:20:23,121 : INFO : precomputing L2-norms of word weight vectors\n"
     ]
    },
    {
     "name": "stdout",
     "output_type": "stream",
     "text": [
      "corr: 233.85435009002686\n"
     ]
    },
    {
     "name": "stderr",
     "output_type": "stream",
     "text": [
      "/Users/khosseini/anaconda3/envs/py37torch/lib/python3.6/site-packages/ipykernel_launcher.py:20: SettingWithCopyWarning: \n",
      "A value is trying to be set on a copy of a slice from a DataFrame.\n",
      "Try using .loc[row_indexer,col_indexer] = value instead\n",
      "\n",
      "See the caveats in the documentation: http://pandas.pydata.org/pandas-docs/stable/user_guide/indexing.html#returning-a-view-versus-a-copy\n",
      "/Users/khosseini/anaconda3/envs/py37torch/lib/python3.6/site-packages/ipykernel_launcher.py:32: SettingWithCopyWarning: \n",
      "A value is trying to be set on a copy of a slice from a DataFrame.\n",
      "Try using .loc[row_indexer,col_indexer] = value instead\n",
      "\n",
      "See the caveats in the documentation: http://pandas.pydata.org/pandas-docs/stable/user_guide/indexing.html#returning-a-view-versus-a-copy\n"
     ]
    },
    {
     "name": "stdout",
     "output_type": "stream",
     "text": [
      "ocr: 452.2768692970276\n"
     ]
    },
    {
     "name": "stderr",
     "output_type": "stream",
     "text": [
      "2019-11-21 01:24:57,897 : INFO : loading Word2Vec object from ./LMs/w2v_005_EM_corr_qual_1_2_00007.model\n"
     ]
    },
    {
     "name": "stdout",
     "output_type": "stream",
     "text": [
      "total: 508.56683015823364\n"
     ]
    },
    {
     "name": "stderr",
     "output_type": "stream",
     "text": [
      "2019-11-21 01:25:57,356 : INFO : loading wv recursively from ./LMs/w2v_005_EM_corr_qual_1_2_00007.model.wv.* with mmap=None\n",
      "2019-11-21 01:25:57,362 : INFO : loading vectors from ./LMs/w2v_005_EM_corr_qual_1_2_00007.model.wv.vectors.npy with mmap=None\n",
      "2019-11-21 01:25:58,074 : INFO : setting ignored attribute vectors_norm to None\n",
      "2019-11-21 01:25:58,076 : INFO : loading vocabulary recursively from ./LMs/w2v_005_EM_corr_qual_1_2_00007.model.vocabulary.* with mmap=None\n",
      "2019-11-21 01:25:58,079 : INFO : loading trainables recursively from ./LMs/w2v_005_EM_corr_qual_1_2_00007.model.trainables.* with mmap=None\n",
      "2019-11-21 01:25:58,079 : INFO : loading syn1neg from ./LMs/w2v_005_EM_corr_qual_1_2_00007.model.trainables.syn1neg.npy with mmap=None\n",
      "2019-11-21 01:25:58,697 : INFO : setting ignored attribute cum_table to None\n",
      "2019-11-21 01:25:58,698 : INFO : loaded ./LMs/w2v_005_EM_corr_qual_1_2_00007.model\n",
      "2019-11-21 01:26:00,961 : INFO : loading Word2Vec object from ./LMs/w2v_005_EM_ocr_qual_1_2_00007.model\n",
      "2019-11-21 01:26:38,926 : INFO : loading wv recursively from ./LMs/w2v_005_EM_ocr_qual_1_2_00007.model.wv.* with mmap=None\n",
      "2019-11-21 01:26:38,930 : INFO : loading vectors from ./LMs/w2v_005_EM_ocr_qual_1_2_00007.model.wv.vectors.npy with mmap=None\n",
      "2019-11-21 01:26:39,645 : INFO : setting ignored attribute vectors_norm to None\n",
      "2019-11-21 01:26:39,646 : INFO : loading vocabulary recursively from ./LMs/w2v_005_EM_ocr_qual_1_2_00007.model.vocabulary.* with mmap=None\n",
      "2019-11-21 01:26:39,647 : INFO : loading trainables recursively from ./LMs/w2v_005_EM_ocr_qual_1_2_00007.model.trainables.* with mmap=None\n",
      "2019-11-21 01:26:39,648 : INFO : loading syn1neg from ./LMs/w2v_005_EM_ocr_qual_1_2_00007.model.trainables.syn1neg.npy with mmap=None\n",
      "2019-11-21 01:26:40,284 : INFO : setting ignored attribute cum_table to None\n",
      "2019-11-21 01:26:40,285 : INFO : loaded ./LMs/w2v_005_EM_ocr_qual_1_2_00007.model\n",
      "2019-11-21 01:26:58,747 : INFO : precomputing L2-norms of word weight vectors\n"
     ]
    },
    {
     "name": "stdout",
     "output_type": "stream",
     "text": [
      "topn: 50000\n"
     ]
    },
    {
     "name": "stderr",
     "output_type": "stream",
     "text": [
      "/Users/khosseini/anaconda3/envs/py37torch/lib/python3.6/site-packages/ipykernel_launcher.py:16: SettingWithCopyWarning: \n",
      "A value is trying to be set on a copy of a slice from a DataFrame.\n",
      "Try using .loc[row_indexer,col_indexer] = value instead\n",
      "\n",
      "See the caveats in the documentation: http://pandas.pydata.org/pandas-docs/stable/user_guide/indexing.html#returning-a-view-versus-a-copy\n",
      "  app.launch_new_instance()\n",
      "2019-11-21 01:30:40,569 : INFO : precomputing L2-norms of word weight vectors\n"
     ]
    },
    {
     "name": "stdout",
     "output_type": "stream",
     "text": [
      "corr: 237.8191888332367\n"
     ]
    },
    {
     "name": "stderr",
     "output_type": "stream",
     "text": [
      "/Users/khosseini/anaconda3/envs/py37torch/lib/python3.6/site-packages/ipykernel_launcher.py:20: SettingWithCopyWarning: \n",
      "A value is trying to be set on a copy of a slice from a DataFrame.\n",
      "Try using .loc[row_indexer,col_indexer] = value instead\n",
      "\n",
      "See the caveats in the documentation: http://pandas.pydata.org/pandas-docs/stable/user_guide/indexing.html#returning-a-view-versus-a-copy\n",
      "/Users/khosseini/anaconda3/envs/py37torch/lib/python3.6/site-packages/ipykernel_launcher.py:32: SettingWithCopyWarning: \n",
      "A value is trying to be set on a copy of a slice from a DataFrame.\n",
      "Try using .loc[row_indexer,col_indexer] = value instead\n",
      "\n",
      "See the caveats in the documentation: http://pandas.pydata.org/pandas-docs/stable/user_guide/indexing.html#returning-a-view-versus-a-copy\n"
     ]
    },
    {
     "name": "stdout",
     "output_type": "stream",
     "text": [
      "ocr: 458.8212468624115\n"
     ]
    },
    {
     "name": "stderr",
     "output_type": "stream",
     "text": [
      "2019-11-21 01:35:20,670 : INFO : loading Word2Vec object from ./LMs/w2v_005_EM_corr_qual_1_2_00008.model\n"
     ]
    },
    {
     "name": "stdout",
     "output_type": "stream",
     "text": [
      "total: 517.8826990127563\n"
     ]
    },
    {
     "name": "stderr",
     "output_type": "stream",
     "text": [
      "2019-11-21 01:36:16,003 : INFO : loading wv recursively from ./LMs/w2v_005_EM_corr_qual_1_2_00008.model.wv.* with mmap=None\n",
      "2019-11-21 01:36:16,009 : INFO : loading vectors from ./LMs/w2v_005_EM_corr_qual_1_2_00008.model.wv.vectors.npy with mmap=None\n",
      "2019-11-21 01:36:16,739 : INFO : setting ignored attribute vectors_norm to None\n",
      "2019-11-21 01:36:16,739 : INFO : loading vocabulary recursively from ./LMs/w2v_005_EM_corr_qual_1_2_00008.model.vocabulary.* with mmap=None\n",
      "2019-11-21 01:36:16,741 : INFO : loading trainables recursively from ./LMs/w2v_005_EM_corr_qual_1_2_00008.model.trainables.* with mmap=None\n",
      "2019-11-21 01:36:16,742 : INFO : loading syn1neg from ./LMs/w2v_005_EM_corr_qual_1_2_00008.model.trainables.syn1neg.npy with mmap=None\n",
      "2019-11-21 01:36:17,352 : INFO : setting ignored attribute cum_table to None\n",
      "2019-11-21 01:36:17,353 : INFO : loaded ./LMs/w2v_005_EM_corr_qual_1_2_00008.model\n",
      "2019-11-21 01:36:19,733 : INFO : loading Word2Vec object from ./LMs/w2v_005_EM_ocr_qual_1_2_00008.model\n",
      "2019-11-21 01:36:20,580 : INFO : loading wv recursively from ./LMs/w2v_005_EM_ocr_qual_1_2_00008.model.wv.* with mmap=None\n",
      "2019-11-21 01:36:20,581 : INFO : loading vectors from ./LMs/w2v_005_EM_ocr_qual_1_2_00008.model.wv.vectors.npy with mmap=None\n",
      "2019-11-21 01:36:21,455 : INFO : setting ignored attribute vectors_norm to None\n",
      "2019-11-21 01:36:21,457 : INFO : loading vocabulary recursively from ./LMs/w2v_005_EM_ocr_qual_1_2_00008.model.vocabulary.* with mmap=None\n",
      "2019-11-21 01:36:21,458 : INFO : loading trainables recursively from ./LMs/w2v_005_EM_ocr_qual_1_2_00008.model.trainables.* with mmap=None\n",
      "2019-11-21 01:36:21,458 : INFO : loading syn1neg from ./LMs/w2v_005_EM_ocr_qual_1_2_00008.model.trainables.syn1neg.npy with mmap=None\n",
      "2019-11-21 01:36:22,288 : INFO : setting ignored attribute cum_table to None\n",
      "2019-11-21 01:36:22,288 : INFO : loaded ./LMs/w2v_005_EM_ocr_qual_1_2_00008.model\n"
     ]
    },
    {
     "name": "stdout",
     "output_type": "stream",
     "text": [
      "topn: 50000\n"
     ]
    },
    {
     "name": "stderr",
     "output_type": "stream",
     "text": [
      "2019-11-21 01:36:39,888 : INFO : precomputing L2-norms of word weight vectors\n",
      "/Users/khosseini/anaconda3/envs/py37torch/lib/python3.6/site-packages/ipykernel_launcher.py:16: SettingWithCopyWarning: \n",
      "A value is trying to be set on a copy of a slice from a DataFrame.\n",
      "Try using .loc[row_indexer,col_indexer] = value instead\n",
      "\n",
      "See the caveats in the documentation: http://pandas.pydata.org/pandas-docs/stable/user_guide/indexing.html#returning-a-view-versus-a-copy\n",
      "  app.launch_new_instance()\n",
      "2019-11-21 01:40:14,923 : INFO : precomputing L2-norms of word weight vectors\n"
     ]
    },
    {
     "name": "stdout",
     "output_type": "stream",
     "text": [
      "corr: 230.66552591323853\n"
     ]
    },
    {
     "name": "stderr",
     "output_type": "stream",
     "text": [
      "/Users/khosseini/anaconda3/envs/py37torch/lib/python3.6/site-packages/ipykernel_launcher.py:20: SettingWithCopyWarning: \n",
      "A value is trying to be set on a copy of a slice from a DataFrame.\n",
      "Try using .loc[row_indexer,col_indexer] = value instead\n",
      "\n",
      "See the caveats in the documentation: http://pandas.pydata.org/pandas-docs/stable/user_guide/indexing.html#returning-a-view-versus-a-copy\n"
     ]
    },
    {
     "name": "stdout",
     "output_type": "stream",
     "text": [
      "ocr: 486.21240305900574\n"
     ]
    },
    {
     "name": "stderr",
     "output_type": "stream",
     "text": [
      "/Users/khosseini/anaconda3/envs/py37torch/lib/python3.6/site-packages/ipykernel_launcher.py:32: SettingWithCopyWarning: \n",
      "A value is trying to be set on a copy of a slice from a DataFrame.\n",
      "Try using .loc[row_indexer,col_indexer] = value instead\n",
      "\n",
      "See the caveats in the documentation: http://pandas.pydata.org/pandas-docs/stable/user_guide/indexing.html#returning-a-view-versus-a-copy\n",
      "2019-11-21 01:45:25,827 : INFO : loading Word2Vec object from ./LMs/w2v_005_EM_corr_qual_1_2_00009.model\n"
     ]
    },
    {
     "name": "stdout",
     "output_type": "stream",
     "text": [
      "total: 541.5621249675751\n"
     ]
    },
    {
     "name": "stderr",
     "output_type": "stream",
     "text": [
      "2019-11-21 01:46:19,215 : INFO : loading wv recursively from ./LMs/w2v_005_EM_corr_qual_1_2_00009.model.wv.* with mmap=None\n",
      "2019-11-21 01:46:19,219 : INFO : loading vectors from ./LMs/w2v_005_EM_corr_qual_1_2_00009.model.wv.vectors.npy with mmap=None\n",
      "2019-11-21 01:46:19,904 : INFO : setting ignored attribute vectors_norm to None\n",
      "2019-11-21 01:46:19,904 : INFO : loading vocabulary recursively from ./LMs/w2v_005_EM_corr_qual_1_2_00009.model.vocabulary.* with mmap=None\n",
      "2019-11-21 01:46:19,905 : INFO : loading trainables recursively from ./LMs/w2v_005_EM_corr_qual_1_2_00009.model.trainables.* with mmap=None\n",
      "2019-11-21 01:46:19,906 : INFO : loading syn1neg from ./LMs/w2v_005_EM_corr_qual_1_2_00009.model.trainables.syn1neg.npy with mmap=None\n",
      "2019-11-21 01:46:20,508 : INFO : setting ignored attribute cum_table to None\n",
      "2019-11-21 01:46:20,510 : INFO : loaded ./LMs/w2v_005_EM_corr_qual_1_2_00009.model\n",
      "2019-11-21 01:46:22,507 : INFO : loading Word2Vec object from ./LMs/w2v_005_EM_ocr_qual_1_2_00009.model\n",
      "2019-11-21 01:46:59,828 : INFO : loading wv recursively from ./LMs/w2v_005_EM_ocr_qual_1_2_00009.model.wv.* with mmap=None\n",
      "2019-11-21 01:46:59,831 : INFO : loading vectors from ./LMs/w2v_005_EM_ocr_qual_1_2_00009.model.wv.vectors.npy with mmap=None\n",
      "2019-11-21 01:47:00,567 : INFO : setting ignored attribute vectors_norm to None\n",
      "2019-11-21 01:47:00,568 : INFO : loading vocabulary recursively from ./LMs/w2v_005_EM_ocr_qual_1_2_00009.model.vocabulary.* with mmap=None\n",
      "2019-11-21 01:47:00,573 : INFO : loading trainables recursively from ./LMs/w2v_005_EM_ocr_qual_1_2_00009.model.trainables.* with mmap=None\n",
      "2019-11-21 01:47:00,574 : INFO : loading syn1neg from ./LMs/w2v_005_EM_ocr_qual_1_2_00009.model.trainables.syn1neg.npy with mmap=None\n",
      "2019-11-21 01:47:01,232 : INFO : setting ignored attribute cum_table to None\n",
      "2019-11-21 01:47:01,233 : INFO : loaded ./LMs/w2v_005_EM_ocr_qual_1_2_00009.model\n",
      "2019-11-21 01:47:18,884 : INFO : precomputing L2-norms of word weight vectors\n"
     ]
    },
    {
     "name": "stdout",
     "output_type": "stream",
     "text": [
      "topn: 50000\n"
     ]
    },
    {
     "name": "stderr",
     "output_type": "stream",
     "text": [
      "/Users/khosseini/anaconda3/envs/py37torch/lib/python3.6/site-packages/ipykernel_launcher.py:16: SettingWithCopyWarning: \n",
      "A value is trying to be set on a copy of a slice from a DataFrame.\n",
      "Try using .loc[row_indexer,col_indexer] = value instead\n",
      "\n",
      "See the caveats in the documentation: http://pandas.pydata.org/pandas-docs/stable/user_guide/indexing.html#returning-a-view-versus-a-copy\n",
      "  app.launch_new_instance()\n",
      "2019-11-21 01:50:56,453 : INFO : precomputing L2-norms of word weight vectors\n"
     ]
    },
    {
     "name": "stdout",
     "output_type": "stream",
     "text": [
      "corr: 233.11754488945007\n"
     ]
    },
    {
     "name": "stderr",
     "output_type": "stream",
     "text": [
      "/Users/khosseini/anaconda3/envs/py37torch/lib/python3.6/site-packages/ipykernel_launcher.py:20: SettingWithCopyWarning: \n",
      "A value is trying to be set on a copy of a slice from a DataFrame.\n",
      "Try using .loc[row_indexer,col_indexer] = value instead\n",
      "\n",
      "See the caveats in the documentation: http://pandas.pydata.org/pandas-docs/stable/user_guide/indexing.html#returning-a-view-versus-a-copy\n",
      "/Users/khosseini/anaconda3/envs/py37torch/lib/python3.6/site-packages/ipykernel_launcher.py:32: SettingWithCopyWarning: \n",
      "A value is trying to be set on a copy of a slice from a DataFrame.\n",
      "Try using .loc[row_indexer,col_indexer] = value instead\n",
      "\n",
      "See the caveats in the documentation: http://pandas.pydata.org/pandas-docs/stable/user_guide/indexing.html#returning-a-view-versus-a-copy\n"
     ]
    },
    {
     "name": "stdout",
     "output_type": "stream",
     "text": [
      "ocr: 452.5065200328827\n"
     ]
    },
    {
     "name": "stderr",
     "output_type": "stream",
     "text": [
      "2019-11-21 01:55:30,934 : INFO : loading Word2Vec object from ./LMs/w2v_005_EM_corr_qual_1_2_00010.model\n"
     ]
    },
    {
     "name": "stdout",
     "output_type": "stream",
     "text": [
      "total: 507.5495181083679\n"
     ]
    },
    {
     "name": "stderr",
     "output_type": "stream",
     "text": [
      "2019-11-21 01:56:23,060 : INFO : loading wv recursively from ./LMs/w2v_005_EM_corr_qual_1_2_00010.model.wv.* with mmap=None\n",
      "2019-11-21 01:56:23,065 : INFO : loading vectors from ./LMs/w2v_005_EM_corr_qual_1_2_00010.model.wv.vectors.npy with mmap=None\n",
      "2019-11-21 01:56:23,815 : INFO : setting ignored attribute vectors_norm to None\n",
      "2019-11-21 01:56:23,816 : INFO : loading vocabulary recursively from ./LMs/w2v_005_EM_corr_qual_1_2_00010.model.vocabulary.* with mmap=None\n",
      "2019-11-21 01:56:23,817 : INFO : loading trainables recursively from ./LMs/w2v_005_EM_corr_qual_1_2_00010.model.trainables.* with mmap=None\n",
      "2019-11-21 01:56:23,818 : INFO : loading syn1neg from ./LMs/w2v_005_EM_corr_qual_1_2_00010.model.trainables.syn1neg.npy with mmap=None\n",
      "2019-11-21 01:56:24,477 : INFO : setting ignored attribute cum_table to None\n",
      "2019-11-21 01:56:24,479 : INFO : loaded ./LMs/w2v_005_EM_corr_qual_1_2_00010.model\n",
      "2019-11-21 01:56:26,734 : INFO : loading Word2Vec object from ./LMs/w2v_005_EM_ocr_qual_1_2_00010.model\n",
      "2019-11-21 01:57:03,779 : INFO : loading wv recursively from ./LMs/w2v_005_EM_ocr_qual_1_2_00010.model.wv.* with mmap=None\n",
      "2019-11-21 01:57:03,784 : INFO : loading vectors from ./LMs/w2v_005_EM_ocr_qual_1_2_00010.model.wv.vectors.npy with mmap=None\n",
      "2019-11-21 01:57:04,482 : INFO : setting ignored attribute vectors_norm to None\n",
      "2019-11-21 01:57:04,483 : INFO : loading vocabulary recursively from ./LMs/w2v_005_EM_ocr_qual_1_2_00010.model.vocabulary.* with mmap=None\n",
      "2019-11-21 01:57:04,485 : INFO : loading trainables recursively from ./LMs/w2v_005_EM_ocr_qual_1_2_00010.model.trainables.* with mmap=None\n",
      "2019-11-21 01:57:04,486 : INFO : loading syn1neg from ./LMs/w2v_005_EM_ocr_qual_1_2_00010.model.trainables.syn1neg.npy with mmap=None\n",
      "2019-11-21 01:57:05,113 : INFO : setting ignored attribute cum_table to None\n",
      "2019-11-21 01:57:05,115 : INFO : loaded ./LMs/w2v_005_EM_ocr_qual_1_2_00010.model\n",
      "2019-11-21 01:57:23,883 : INFO : precomputing L2-norms of word weight vectors\n"
     ]
    },
    {
     "name": "stdout",
     "output_type": "stream",
     "text": [
      "topn: 50000\n"
     ]
    },
    {
     "name": "stderr",
     "output_type": "stream",
     "text": [
      "/Users/khosseini/anaconda3/envs/py37torch/lib/python3.6/site-packages/ipykernel_launcher.py:16: SettingWithCopyWarning: \n",
      "A value is trying to be set on a copy of a slice from a DataFrame.\n",
      "Try using .loc[row_indexer,col_indexer] = value instead\n",
      "\n",
      "See the caveats in the documentation: http://pandas.pydata.org/pandas-docs/stable/user_guide/indexing.html#returning-a-view-versus-a-copy\n",
      "  app.launch_new_instance()\n",
      "2019-11-21 02:01:02,826 : INFO : precomputing L2-norms of word weight vectors\n"
     ]
    },
    {
     "name": "stdout",
     "output_type": "stream",
     "text": [
      "corr: 235.66244268417358\n"
     ]
    },
    {
     "name": "stderr",
     "output_type": "stream",
     "text": [
      "/Users/khosseini/anaconda3/envs/py37torch/lib/python3.6/site-packages/ipykernel_launcher.py:20: SettingWithCopyWarning: \n",
      "A value is trying to be set on a copy of a slice from a DataFrame.\n",
      "Try using .loc[row_indexer,col_indexer] = value instead\n",
      "\n",
      "See the caveats in the documentation: http://pandas.pydata.org/pandas-docs/stable/user_guide/indexing.html#returning-a-view-versus-a-copy\n",
      "/Users/khosseini/anaconda3/envs/py37torch/lib/python3.6/site-packages/ipykernel_launcher.py:32: SettingWithCopyWarning: \n",
      "A value is trying to be set on a copy of a slice from a DataFrame.\n",
      "Try using .loc[row_indexer,col_indexer] = value instead\n",
      "\n",
      "See the caveats in the documentation: http://pandas.pydata.org/pandas-docs/stable/user_guide/indexing.html#returning-a-view-versus-a-copy\n"
     ]
    },
    {
     "name": "stdout",
     "output_type": "stream",
     "text": [
      "ocr: 455.8551518917084\n"
     ]
    },
    {
     "name": "stderr",
     "output_type": "stream",
     "text": [
      "2019-11-21 02:05:39,106 : INFO : loading Word2Vec object from ./LMs/w2v_005_EM_corr_qual_1_2_00011.model\n"
     ]
    },
    {
     "name": "stdout",
     "output_type": "stream",
     "text": [
      "total: 511.8957839012146\n"
     ]
    },
    {
     "name": "stderr",
     "output_type": "stream",
     "text": [
      "2019-11-21 02:06:37,780 : INFO : loading wv recursively from ./LMs/w2v_005_EM_corr_qual_1_2_00011.model.wv.* with mmap=None\n",
      "2019-11-21 02:06:37,786 : INFO : loading vectors from ./LMs/w2v_005_EM_corr_qual_1_2_00011.model.wv.vectors.npy with mmap=None\n",
      "2019-11-21 02:06:38,537 : INFO : setting ignored attribute vectors_norm to None\n",
      "2019-11-21 02:06:38,538 : INFO : loading vocabulary recursively from ./LMs/w2v_005_EM_corr_qual_1_2_00011.model.vocabulary.* with mmap=None\n",
      "2019-11-21 02:06:38,540 : INFO : loading trainables recursively from ./LMs/w2v_005_EM_corr_qual_1_2_00011.model.trainables.* with mmap=None\n",
      "2019-11-21 02:06:38,542 : INFO : loading syn1neg from ./LMs/w2v_005_EM_corr_qual_1_2_00011.model.trainables.syn1neg.npy with mmap=None\n",
      "2019-11-21 02:06:39,155 : INFO : setting ignored attribute cum_table to None\n",
      "2019-11-21 02:06:39,155 : INFO : loaded ./LMs/w2v_005_EM_corr_qual_1_2_00011.model\n",
      "2019-11-21 02:06:41,421 : INFO : loading Word2Vec object from ./LMs/w2v_005_EM_ocr_qual_1_2_00011.model\n",
      "2019-11-21 02:07:18,111 : INFO : loading wv recursively from ./LMs/w2v_005_EM_ocr_qual_1_2_00011.model.wv.* with mmap=None\n",
      "2019-11-21 02:07:18,114 : INFO : loading vectors from ./LMs/w2v_005_EM_ocr_qual_1_2_00011.model.wv.vectors.npy with mmap=None\n",
      "2019-11-21 02:07:18,723 : INFO : setting ignored attribute vectors_norm to None\n",
      "2019-11-21 02:07:18,725 : INFO : loading vocabulary recursively from ./LMs/w2v_005_EM_ocr_qual_1_2_00011.model.vocabulary.* with mmap=None\n",
      "2019-11-21 02:07:18,726 : INFO : loading trainables recursively from ./LMs/w2v_005_EM_ocr_qual_1_2_00011.model.trainables.* with mmap=None\n",
      "2019-11-21 02:07:18,728 : INFO : loading syn1neg from ./LMs/w2v_005_EM_ocr_qual_1_2_00011.model.trainables.syn1neg.npy with mmap=None\n",
      "2019-11-21 02:07:19,362 : INFO : setting ignored attribute cum_table to None\n",
      "2019-11-21 02:07:19,363 : INFO : loaded ./LMs/w2v_005_EM_ocr_qual_1_2_00011.model\n",
      "2019-11-21 02:07:38,040 : INFO : precomputing L2-norms of word weight vectors\n"
     ]
    },
    {
     "name": "stdout",
     "output_type": "stream",
     "text": [
      "topn: 50000\n"
     ]
    },
    {
     "name": "stderr",
     "output_type": "stream",
     "text": [
      "/Users/khosseini/anaconda3/envs/py37torch/lib/python3.6/site-packages/ipykernel_launcher.py:16: SettingWithCopyWarning: \n",
      "A value is trying to be set on a copy of a slice from a DataFrame.\n",
      "Try using .loc[row_indexer,col_indexer] = value instead\n",
      "\n",
      "See the caveats in the documentation: http://pandas.pydata.org/pandas-docs/stable/user_guide/indexing.html#returning-a-view-versus-a-copy\n",
      "  app.launch_new_instance()\n",
      "2019-11-21 02:11:15,634 : INFO : precomputing L2-norms of word weight vectors\n"
     ]
    },
    {
     "name": "stdout",
     "output_type": "stream",
     "text": [
      "corr: 234.34610891342163\n"
     ]
    },
    {
     "name": "stderr",
     "output_type": "stream",
     "text": [
      "/Users/khosseini/anaconda3/envs/py37torch/lib/python3.6/site-packages/ipykernel_launcher.py:20: SettingWithCopyWarning: \n",
      "A value is trying to be set on a copy of a slice from a DataFrame.\n",
      "Try using .loc[row_indexer,col_indexer] = value instead\n",
      "\n",
      "See the caveats in the documentation: http://pandas.pydata.org/pandas-docs/stable/user_guide/indexing.html#returning-a-view-versus-a-copy\n",
      "/Users/khosseini/anaconda3/envs/py37torch/lib/python3.6/site-packages/ipykernel_launcher.py:32: SettingWithCopyWarning: \n",
      "A value is trying to be set on a copy of a slice from a DataFrame.\n",
      "Try using .loc[row_indexer,col_indexer] = value instead\n",
      "\n",
      "See the caveats in the documentation: http://pandas.pydata.org/pandas-docs/stable/user_guide/indexing.html#returning-a-view-versus-a-copy\n"
     ]
    },
    {
     "name": "stdout",
     "output_type": "stream",
     "text": [
      "ocr: 452.24487495422363\n"
     ]
    },
    {
     "name": "stderr",
     "output_type": "stream",
     "text": [
      "2019-11-21 02:15:44,293 : INFO : loading Word2Vec object from ./LMs/w2v_005_EM_corr_qual_1_2_00012.model\n"
     ]
    },
    {
     "name": "stdout",
     "output_type": "stream",
     "text": [
      "total: 502.9406280517578\n"
     ]
    },
    {
     "name": "stderr",
     "output_type": "stream",
     "text": [
      "2019-11-21 02:16:36,731 : INFO : loading wv recursively from ./LMs/w2v_005_EM_corr_qual_1_2_00012.model.wv.* with mmap=None\n",
      "2019-11-21 02:16:36,742 : INFO : loading vectors from ./LMs/w2v_005_EM_corr_qual_1_2_00012.model.wv.vectors.npy with mmap=None\n",
      "2019-11-21 02:16:37,513 : INFO : setting ignored attribute vectors_norm to None\n",
      "2019-11-21 02:16:37,514 : INFO : loading vocabulary recursively from ./LMs/w2v_005_EM_corr_qual_1_2_00012.model.vocabulary.* with mmap=None\n",
      "2019-11-21 02:16:37,515 : INFO : loading trainables recursively from ./LMs/w2v_005_EM_corr_qual_1_2_00012.model.trainables.* with mmap=None\n",
      "2019-11-21 02:16:37,518 : INFO : loading syn1neg from ./LMs/w2v_005_EM_corr_qual_1_2_00012.model.trainables.syn1neg.npy with mmap=None\n",
      "2019-11-21 02:16:38,146 : INFO : setting ignored attribute cum_table to None\n",
      "2019-11-21 02:16:38,148 : INFO : loaded ./LMs/w2v_005_EM_corr_qual_1_2_00012.model\n",
      "2019-11-21 02:16:40,214 : INFO : loading Word2Vec object from ./LMs/w2v_005_EM_ocr_qual_1_2_00012.model\n",
      "2019-11-21 02:17:16,614 : INFO : loading wv recursively from ./LMs/w2v_005_EM_ocr_qual_1_2_00012.model.wv.* with mmap=None\n",
      "2019-11-21 02:17:16,617 : INFO : loading vectors from ./LMs/w2v_005_EM_ocr_qual_1_2_00012.model.wv.vectors.npy with mmap=None\n",
      "2019-11-21 02:17:17,205 : INFO : setting ignored attribute vectors_norm to None\n",
      "2019-11-21 02:17:17,206 : INFO : loading vocabulary recursively from ./LMs/w2v_005_EM_ocr_qual_1_2_00012.model.vocabulary.* with mmap=None\n",
      "2019-11-21 02:17:17,207 : INFO : loading trainables recursively from ./LMs/w2v_005_EM_ocr_qual_1_2_00012.model.trainables.* with mmap=None\n",
      "2019-11-21 02:17:17,209 : INFO : loading syn1neg from ./LMs/w2v_005_EM_ocr_qual_1_2_00012.model.trainables.syn1neg.npy with mmap=None\n",
      "2019-11-21 02:17:17,831 : INFO : setting ignored attribute cum_table to None\n",
      "2019-11-21 02:17:17,832 : INFO : loaded ./LMs/w2v_005_EM_ocr_qual_1_2_00012.model\n",
      "2019-11-21 02:17:36,026 : INFO : precomputing L2-norms of word weight vectors\n"
     ]
    },
    {
     "name": "stdout",
     "output_type": "stream",
     "text": [
      "topn: 50000\n"
     ]
    },
    {
     "name": "stderr",
     "output_type": "stream",
     "text": [
      "/Users/khosseini/anaconda3/envs/py37torch/lib/python3.6/site-packages/ipykernel_launcher.py:16: SettingWithCopyWarning: \n",
      "A value is trying to be set on a copy of a slice from a DataFrame.\n",
      "Try using .loc[row_indexer,col_indexer] = value instead\n",
      "\n",
      "See the caveats in the documentation: http://pandas.pydata.org/pandas-docs/stable/user_guide/indexing.html#returning-a-view-versus-a-copy\n",
      "  app.launch_new_instance()\n",
      "2019-11-21 02:21:13,466 : INFO : precomputing L2-norms of word weight vectors\n"
     ]
    },
    {
     "name": "stdout",
     "output_type": "stream",
     "text": [
      "corr: 233.57773685455322\n"
     ]
    },
    {
     "name": "stderr",
     "output_type": "stream",
     "text": [
      "/Users/khosseini/anaconda3/envs/py37torch/lib/python3.6/site-packages/ipykernel_launcher.py:20: SettingWithCopyWarning: \n",
      "A value is trying to be set on a copy of a slice from a DataFrame.\n",
      "Try using .loc[row_indexer,col_indexer] = value instead\n",
      "\n",
      "See the caveats in the documentation: http://pandas.pydata.org/pandas-docs/stable/user_guide/indexing.html#returning-a-view-versus-a-copy\n",
      "/Users/khosseini/anaconda3/envs/py37torch/lib/python3.6/site-packages/ipykernel_launcher.py:32: SettingWithCopyWarning: \n",
      "A value is trying to be set on a copy of a slice from a DataFrame.\n",
      "Try using .loc[row_indexer,col_indexer] = value instead\n",
      "\n",
      "See the caveats in the documentation: http://pandas.pydata.org/pandas-docs/stable/user_guide/indexing.html#returning-a-view-versus-a-copy\n"
     ]
    },
    {
     "name": "stdout",
     "output_type": "stream",
     "text": [
      "ocr: 452.18661665916443\n"
     ]
    },
    {
     "name": "stderr",
     "output_type": "stream",
     "text": [
      "2019-11-21 02:25:45,564 : INFO : loading Word2Vec object from ./LMs/w2v_005_EM_corr_qual_1_2_00013.model\n"
     ]
    },
    {
     "name": "stdout",
     "output_type": "stream",
     "text": [
      "total: 505.6244328022003\n"
     ]
    },
    {
     "name": "stderr",
     "output_type": "stream",
     "text": [
      "2019-11-21 02:26:37,685 : INFO : loading wv recursively from ./LMs/w2v_005_EM_corr_qual_1_2_00013.model.wv.* with mmap=None\n",
      "2019-11-21 02:26:37,695 : INFO : loading vectors from ./LMs/w2v_005_EM_corr_qual_1_2_00013.model.wv.vectors.npy with mmap=None\n",
      "2019-11-21 02:26:38,471 : INFO : setting ignored attribute vectors_norm to None\n",
      "2019-11-21 02:26:38,472 : INFO : loading vocabulary recursively from ./LMs/w2v_005_EM_corr_qual_1_2_00013.model.vocabulary.* with mmap=None\n",
      "2019-11-21 02:26:38,473 : INFO : loading trainables recursively from ./LMs/w2v_005_EM_corr_qual_1_2_00013.model.trainables.* with mmap=None\n",
      "2019-11-21 02:26:38,474 : INFO : loading syn1neg from ./LMs/w2v_005_EM_corr_qual_1_2_00013.model.trainables.syn1neg.npy with mmap=None\n",
      "2019-11-21 02:26:39,052 : INFO : setting ignored attribute cum_table to None\n",
      "2019-11-21 02:26:39,052 : INFO : loaded ./LMs/w2v_005_EM_corr_qual_1_2_00013.model\n",
      "2019-11-21 02:26:41,420 : INFO : loading Word2Vec object from ./LMs/w2v_005_EM_ocr_qual_1_2_00013.model\n",
      "2019-11-21 02:27:17,443 : INFO : loading wv recursively from ./LMs/w2v_005_EM_ocr_qual_1_2_00013.model.wv.* with mmap=None\n",
      "2019-11-21 02:27:17,461 : INFO : loading vectors from ./LMs/w2v_005_EM_ocr_qual_1_2_00013.model.wv.vectors.npy with mmap=None\n",
      "2019-11-21 02:27:18,176 : INFO : setting ignored attribute vectors_norm to None\n",
      "2019-11-21 02:27:18,179 : INFO : loading vocabulary recursively from ./LMs/w2v_005_EM_ocr_qual_1_2_00013.model.vocabulary.* with mmap=None\n",
      "2019-11-21 02:27:18,179 : INFO : loading trainables recursively from ./LMs/w2v_005_EM_ocr_qual_1_2_00013.model.trainables.* with mmap=None\n",
      "2019-11-21 02:27:18,181 : INFO : loading syn1neg from ./LMs/w2v_005_EM_ocr_qual_1_2_00013.model.trainables.syn1neg.npy with mmap=None\n",
      "2019-11-21 02:27:18,842 : INFO : setting ignored attribute cum_table to None\n",
      "2019-11-21 02:27:18,842 : INFO : loaded ./LMs/w2v_005_EM_ocr_qual_1_2_00013.model\n",
      "2019-11-21 02:27:37,237 : INFO : precomputing L2-norms of word weight vectors\n"
     ]
    },
    {
     "name": "stdout",
     "output_type": "stream",
     "text": [
      "topn: 50000\n"
     ]
    },
    {
     "name": "stderr",
     "output_type": "stream",
     "text": [
      "/Users/khosseini/anaconda3/envs/py37torch/lib/python3.6/site-packages/ipykernel_launcher.py:16: SettingWithCopyWarning: \n",
      "A value is trying to be set on a copy of a slice from a DataFrame.\n",
      "Try using .loc[row_indexer,col_indexer] = value instead\n",
      "\n",
      "See the caveats in the documentation: http://pandas.pydata.org/pandas-docs/stable/user_guide/indexing.html#returning-a-view-versus-a-copy\n",
      "  app.launch_new_instance()\n",
      "2019-11-21 02:31:16,071 : INFO : precomputing L2-norms of word weight vectors\n"
     ]
    },
    {
     "name": "stdout",
     "output_type": "stream",
     "text": [
      "corr: 235.1776578426361\n"
     ]
    },
    {
     "name": "stderr",
     "output_type": "stream",
     "text": [
      "/Users/khosseini/anaconda3/envs/py37torch/lib/python3.6/site-packages/ipykernel_launcher.py:20: SettingWithCopyWarning: \n",
      "A value is trying to be set on a copy of a slice from a DataFrame.\n",
      "Try using .loc[row_indexer,col_indexer] = value instead\n",
      "\n",
      "See the caveats in the documentation: http://pandas.pydata.org/pandas-docs/stable/user_guide/indexing.html#returning-a-view-versus-a-copy\n",
      "/Users/khosseini/anaconda3/envs/py37torch/lib/python3.6/site-packages/ipykernel_launcher.py:32: SettingWithCopyWarning: \n",
      "A value is trying to be set on a copy of a slice from a DataFrame.\n",
      "Try using .loc[row_indexer,col_indexer] = value instead\n",
      "\n",
      "See the caveats in the documentation: http://pandas.pydata.org/pandas-docs/stable/user_guide/indexing.html#returning-a-view-versus-a-copy\n"
     ]
    },
    {
     "name": "stdout",
     "output_type": "stream",
     "text": [
      "ocr: 455.2048077583313\n"
     ]
    },
    {
     "name": "stderr",
     "output_type": "stream",
     "text": [
      "2019-11-21 02:35:50,385 : INFO : loading Word2Vec object from ./LMs/w2v_005_EM_corr_qual_1_2_00014.model\n"
     ]
    },
    {
     "name": "stdout",
     "output_type": "stream",
     "text": [
      "total: 509.4552619457245\n"
     ]
    },
    {
     "name": "stderr",
     "output_type": "stream",
     "text": [
      "2019-11-21 02:35:51,738 : INFO : loading wv recursively from ./LMs/w2v_005_EM_corr_qual_1_2_00014.model.wv.* with mmap=None\n",
      "2019-11-21 02:35:51,742 : INFO : loading vectors from ./LMs/w2v_005_EM_corr_qual_1_2_00014.model.wv.vectors.npy with mmap=None\n",
      "2019-11-21 02:35:52,827 : INFO : setting ignored attribute vectors_norm to None\n",
      "2019-11-21 02:35:52,829 : INFO : loading vocabulary recursively from ./LMs/w2v_005_EM_corr_qual_1_2_00014.model.vocabulary.* with mmap=None\n",
      "2019-11-21 02:35:52,832 : INFO : loading trainables recursively from ./LMs/w2v_005_EM_corr_qual_1_2_00014.model.trainables.* with mmap=None\n",
      "2019-11-21 02:35:52,832 : INFO : loading syn1neg from ./LMs/w2v_005_EM_corr_qual_1_2_00014.model.trainables.syn1neg.npy with mmap=None\n",
      "2019-11-21 02:35:53,508 : INFO : setting ignored attribute cum_table to None\n",
      "2019-11-21 02:35:53,510 : INFO : loaded ./LMs/w2v_005_EM_corr_qual_1_2_00014.model\n",
      "2019-11-21 02:35:55,499 : INFO : loading Word2Vec object from ./LMs/w2v_005_EM_ocr_qual_1_2_00014.model\n",
      "2019-11-21 02:37:18,700 : INFO : loading wv recursively from ./LMs/w2v_005_EM_ocr_qual_1_2_00014.model.wv.* with mmap=None\n",
      "2019-11-21 02:37:18,708 : INFO : loading vectors from ./LMs/w2v_005_EM_ocr_qual_1_2_00014.model.wv.vectors.npy with mmap=None\n",
      "2019-11-21 02:37:19,468 : INFO : setting ignored attribute vectors_norm to None\n",
      "2019-11-21 02:37:19,469 : INFO : loading vocabulary recursively from ./LMs/w2v_005_EM_ocr_qual_1_2_00014.model.vocabulary.* with mmap=None\n",
      "2019-11-21 02:37:19,469 : INFO : loading trainables recursively from ./LMs/w2v_005_EM_ocr_qual_1_2_00014.model.trainables.* with mmap=None\n",
      "2019-11-21 02:37:19,472 : INFO : loading syn1neg from ./LMs/w2v_005_EM_ocr_qual_1_2_00014.model.trainables.syn1neg.npy with mmap=None\n",
      "2019-11-21 02:37:20,127 : INFO : setting ignored attribute cum_table to None\n",
      "2019-11-21 02:37:20,128 : INFO : loaded ./LMs/w2v_005_EM_ocr_qual_1_2_00014.model\n",
      "2019-11-21 02:37:39,517 : INFO : precomputing L2-norms of word weight vectors\n"
     ]
    },
    {
     "name": "stdout",
     "output_type": "stream",
     "text": [
      "topn: 50000\n"
     ]
    },
    {
     "name": "stderr",
     "output_type": "stream",
     "text": [
      "/Users/khosseini/anaconda3/envs/py37torch/lib/python3.6/site-packages/ipykernel_launcher.py:16: SettingWithCopyWarning: \n",
      "A value is trying to be set on a copy of a slice from a DataFrame.\n",
      "Try using .loc[row_indexer,col_indexer] = value instead\n",
      "\n",
      "See the caveats in the documentation: http://pandas.pydata.org/pandas-docs/stable/user_guide/indexing.html#returning-a-view-versus-a-copy\n",
      "  app.launch_new_instance()\n",
      "2019-11-21 02:41:15,778 : INFO : precomputing L2-norms of word weight vectors\n"
     ]
    },
    {
     "name": "stdout",
     "output_type": "stream",
     "text": [
      "corr: 233.7732651233673\n"
     ]
    },
    {
     "name": "stderr",
     "output_type": "stream",
     "text": [
      "/Users/khosseini/anaconda3/envs/py37torch/lib/python3.6/site-packages/ipykernel_launcher.py:20: SettingWithCopyWarning: \n",
      "A value is trying to be set on a copy of a slice from a DataFrame.\n",
      "Try using .loc[row_indexer,col_indexer] = value instead\n",
      "\n",
      "See the caveats in the documentation: http://pandas.pydata.org/pandas-docs/stable/user_guide/indexing.html#returning-a-view-versus-a-copy\n",
      "/Users/khosseini/anaconda3/envs/py37torch/lib/python3.6/site-packages/ipykernel_launcher.py:32: SettingWithCopyWarning: \n",
      "A value is trying to be set on a copy of a slice from a DataFrame.\n",
      "Try using .loc[row_indexer,col_indexer] = value instead\n",
      "\n",
      "See the caveats in the documentation: http://pandas.pydata.org/pandas-docs/stable/user_guide/indexing.html#returning-a-view-versus-a-copy\n"
     ]
    },
    {
     "name": "stdout",
     "output_type": "stream",
     "text": [
      "ocr: 451.7629520893097\n"
     ]
    },
    {
     "name": "stderr",
     "output_type": "stream",
     "text": [
      "2019-11-21 02:45:46,671 : INFO : loading Word2Vec object from ./LMs/w2v_005_EM_corr_qual_1_2_00015.model\n"
     ]
    },
    {
     "name": "stdout",
     "output_type": "stream",
     "text": [
      "total: 504.6136631965637\n"
     ]
    },
    {
     "name": "stderr",
     "output_type": "stream",
     "text": [
      "2019-11-21 02:46:39,123 : INFO : loading wv recursively from ./LMs/w2v_005_EM_corr_qual_1_2_00015.model.wv.* with mmap=None\n",
      "2019-11-21 02:46:39,130 : INFO : loading vectors from ./LMs/w2v_005_EM_corr_qual_1_2_00015.model.wv.vectors.npy with mmap=None\n",
      "2019-11-21 02:46:39,846 : INFO : setting ignored attribute vectors_norm to None\n",
      "2019-11-21 02:46:39,848 : INFO : loading vocabulary recursively from ./LMs/w2v_005_EM_corr_qual_1_2_00015.model.vocabulary.* with mmap=None\n",
      "2019-11-21 02:46:39,848 : INFO : loading trainables recursively from ./LMs/w2v_005_EM_corr_qual_1_2_00015.model.trainables.* with mmap=None\n",
      "2019-11-21 02:46:39,849 : INFO : loading syn1neg from ./LMs/w2v_005_EM_corr_qual_1_2_00015.model.trainables.syn1neg.npy with mmap=None\n",
      "2019-11-21 02:46:40,491 : INFO : setting ignored attribute cum_table to None\n",
      "2019-11-21 02:46:40,492 : INFO : loaded ./LMs/w2v_005_EM_corr_qual_1_2_00015.model\n",
      "2019-11-21 02:46:42,959 : INFO : loading Word2Vec object from ./LMs/w2v_005_EM_ocr_qual_1_2_00015.model\n",
      "2019-11-21 02:47:21,142 : INFO : loading wv recursively from ./LMs/w2v_005_EM_ocr_qual_1_2_00015.model.wv.* with mmap=None\n",
      "2019-11-21 02:47:21,144 : INFO : loading vectors from ./LMs/w2v_005_EM_ocr_qual_1_2_00015.model.wv.vectors.npy with mmap=None\n",
      "2019-11-21 02:47:21,761 : INFO : setting ignored attribute vectors_norm to None\n",
      "2019-11-21 02:47:21,762 : INFO : loading vocabulary recursively from ./LMs/w2v_005_EM_ocr_qual_1_2_00015.model.vocabulary.* with mmap=None\n",
      "2019-11-21 02:47:21,763 : INFO : loading trainables recursively from ./LMs/w2v_005_EM_ocr_qual_1_2_00015.model.trainables.* with mmap=None\n",
      "2019-11-21 02:47:21,764 : INFO : loading syn1neg from ./LMs/w2v_005_EM_ocr_qual_1_2_00015.model.trainables.syn1neg.npy with mmap=None\n",
      "2019-11-21 02:47:22,419 : INFO : setting ignored attribute cum_table to None\n",
      "2019-11-21 02:47:22,420 : INFO : loaded ./LMs/w2v_005_EM_ocr_qual_1_2_00015.model\n",
      "2019-11-21 02:47:43,287 : INFO : precomputing L2-norms of word weight vectors\n"
     ]
    },
    {
     "name": "stdout",
     "output_type": "stream",
     "text": [
      "topn: 50000\n"
     ]
    },
    {
     "name": "stderr",
     "output_type": "stream",
     "text": [
      "/Users/khosseini/anaconda3/envs/py37torch/lib/python3.6/site-packages/ipykernel_launcher.py:16: SettingWithCopyWarning: \n",
      "A value is trying to be set on a copy of a slice from a DataFrame.\n",
      "Try using .loc[row_indexer,col_indexer] = value instead\n",
      "\n",
      "See the caveats in the documentation: http://pandas.pydata.org/pandas-docs/stable/user_guide/indexing.html#returning-a-view-versus-a-copy\n",
      "  app.launch_new_instance()\n",
      "2019-11-21 02:51:21,347 : INFO : precomputing L2-norms of word weight vectors\n"
     ]
    },
    {
     "name": "stdout",
     "output_type": "stream",
     "text": [
      "corr: 236.9676330089569\n"
     ]
    },
    {
     "name": "stderr",
     "output_type": "stream",
     "text": [
      "/Users/khosseini/anaconda3/envs/py37torch/lib/python3.6/site-packages/ipykernel_launcher.py:20: SettingWithCopyWarning: \n",
      "A value is trying to be set on a copy of a slice from a DataFrame.\n",
      "Try using .loc[row_indexer,col_indexer] = value instead\n",
      "\n",
      "See the caveats in the documentation: http://pandas.pydata.org/pandas-docs/stable/user_guide/indexing.html#returning-a-view-versus-a-copy\n",
      "/Users/khosseini/anaconda3/envs/py37torch/lib/python3.6/site-packages/ipykernel_launcher.py:32: SettingWithCopyWarning: \n",
      "A value is trying to be set on a copy of a slice from a DataFrame.\n",
      "Try using .loc[row_indexer,col_indexer] = value instead\n",
      "\n",
      "See the caveats in the documentation: http://pandas.pydata.org/pandas-docs/stable/user_guide/indexing.html#returning-a-view-versus-a-copy\n"
     ]
    },
    {
     "name": "stdout",
     "output_type": "stream",
     "text": [
      "ocr: 454.69381284713745\n"
     ]
    },
    {
     "name": "stderr",
     "output_type": "stream",
     "text": [
      "2019-11-21 02:55:51,387 : INFO : loading Word2Vec object from ./LMs/w2v_005_EM_corr_qual_1_2_00016.model\n"
     ]
    },
    {
     "name": "stdout",
     "output_type": "stream",
     "text": [
      "total: 506.93261885643005\n"
     ]
    },
    {
     "name": "stderr",
     "output_type": "stream",
     "text": [
      "2019-11-21 02:56:43,844 : INFO : loading wv recursively from ./LMs/w2v_005_EM_corr_qual_1_2_00016.model.wv.* with mmap=None\n",
      "2019-11-21 02:56:43,848 : INFO : loading vectors from ./LMs/w2v_005_EM_corr_qual_1_2_00016.model.wv.vectors.npy with mmap=None\n",
      "2019-11-21 02:56:44,567 : INFO : setting ignored attribute vectors_norm to None\n",
      "2019-11-21 02:56:44,568 : INFO : loading vocabulary recursively from ./LMs/w2v_005_EM_corr_qual_1_2_00016.model.vocabulary.* with mmap=None\n",
      "2019-11-21 02:56:44,569 : INFO : loading trainables recursively from ./LMs/w2v_005_EM_corr_qual_1_2_00016.model.trainables.* with mmap=None\n",
      "2019-11-21 02:56:44,569 : INFO : loading syn1neg from ./LMs/w2v_005_EM_corr_qual_1_2_00016.model.trainables.syn1neg.npy with mmap=None\n",
      "2019-11-21 02:56:45,255 : INFO : setting ignored attribute cum_table to None\n",
      "2019-11-21 02:56:45,256 : INFO : loaded ./LMs/w2v_005_EM_corr_qual_1_2_00016.model\n",
      "2019-11-21 02:56:47,518 : INFO : loading Word2Vec object from ./LMs/w2v_005_EM_ocr_qual_1_2_00016.model\n",
      "2019-11-21 02:57:25,602 : INFO : loading wv recursively from ./LMs/w2v_005_EM_ocr_qual_1_2_00016.model.wv.* with mmap=None\n",
      "2019-11-21 02:57:25,605 : INFO : loading vectors from ./LMs/w2v_005_EM_ocr_qual_1_2_00016.model.wv.vectors.npy with mmap=None\n",
      "2019-11-21 02:57:26,269 : INFO : setting ignored attribute vectors_norm to None\n",
      "2019-11-21 02:57:26,270 : INFO : loading vocabulary recursively from ./LMs/w2v_005_EM_ocr_qual_1_2_00016.model.vocabulary.* with mmap=None\n",
      "2019-11-21 02:57:26,270 : INFO : loading trainables recursively from ./LMs/w2v_005_EM_ocr_qual_1_2_00016.model.trainables.* with mmap=None\n",
      "2019-11-21 02:57:26,271 : INFO : loading syn1neg from ./LMs/w2v_005_EM_ocr_qual_1_2_00016.model.trainables.syn1neg.npy with mmap=None\n",
      "2019-11-21 02:57:26,899 : INFO : setting ignored attribute cum_table to None\n",
      "2019-11-21 02:57:26,900 : INFO : loaded ./LMs/w2v_005_EM_ocr_qual_1_2_00016.model\n"
     ]
    },
    {
     "name": "stdout",
     "output_type": "stream",
     "text": [
      "topn: 50000\n"
     ]
    },
    {
     "name": "stderr",
     "output_type": "stream",
     "text": [
      "2019-11-21 02:57:43,315 : INFO : precomputing L2-norms of word weight vectors\n",
      "/Users/khosseini/anaconda3/envs/py37torch/lib/python3.6/site-packages/ipykernel_launcher.py:16: SettingWithCopyWarning: \n",
      "A value is trying to be set on a copy of a slice from a DataFrame.\n",
      "Try using .loc[row_indexer,col_indexer] = value instead\n",
      "\n",
      "See the caveats in the documentation: http://pandas.pydata.org/pandas-docs/stable/user_guide/indexing.html#returning-a-view-versus-a-copy\n",
      "  app.launch_new_instance()\n",
      "2019-11-21 03:01:25,003 : INFO : precomputing L2-norms of word weight vectors\n"
     ]
    },
    {
     "name": "stdout",
     "output_type": "stream",
     "text": [
      "corr: 236.01181197166443\n"
     ]
    },
    {
     "name": "stderr",
     "output_type": "stream",
     "text": [
      "/Users/khosseini/anaconda3/envs/py37torch/lib/python3.6/site-packages/ipykernel_launcher.py:20: SettingWithCopyWarning: \n",
      "A value is trying to be set on a copy of a slice from a DataFrame.\n",
      "Try using .loc[row_indexer,col_indexer] = value instead\n",
      "\n",
      "See the caveats in the documentation: http://pandas.pydata.org/pandas-docs/stable/user_guide/indexing.html#returning-a-view-versus-a-copy\n",
      "/Users/khosseini/anaconda3/envs/py37torch/lib/python3.6/site-packages/ipykernel_launcher.py:32: SettingWithCopyWarning: \n",
      "A value is trying to be set on a copy of a slice from a DataFrame.\n",
      "Try using .loc[row_indexer,col_indexer] = value instead\n",
      "\n",
      "See the caveats in the documentation: http://pandas.pydata.org/pandas-docs/stable/user_guide/indexing.html#returning-a-view-versus-a-copy\n"
     ]
    },
    {
     "name": "stdout",
     "output_type": "stream",
     "text": [
      "ocr: 456.16574597358704\n"
     ]
    },
    {
     "name": "stderr",
     "output_type": "stream",
     "text": [
      "2019-11-21 03:06:04,860 : INFO : loading Word2Vec object from ./LMs/w2v_005_EM_corr_qual_1_2_00017.model\n"
     ]
    },
    {
     "name": "stdout",
     "output_type": "stream",
     "text": [
      "total: 515.8182728290558\n"
     ]
    },
    {
     "name": "stderr",
     "output_type": "stream",
     "text": [
      "2019-11-21 03:06:57,504 : INFO : loading wv recursively from ./LMs/w2v_005_EM_corr_qual_1_2_00017.model.wv.* with mmap=None\n",
      "2019-11-21 03:06:57,509 : INFO : loading vectors from ./LMs/w2v_005_EM_corr_qual_1_2_00017.model.wv.vectors.npy with mmap=None\n",
      "2019-11-21 03:06:58,333 : INFO : setting ignored attribute vectors_norm to None\n",
      "2019-11-21 03:06:58,335 : INFO : loading vocabulary recursively from ./LMs/w2v_005_EM_corr_qual_1_2_00017.model.vocabulary.* with mmap=None\n",
      "2019-11-21 03:06:58,337 : INFO : loading trainables recursively from ./LMs/w2v_005_EM_corr_qual_1_2_00017.model.trainables.* with mmap=None\n",
      "2019-11-21 03:06:58,338 : INFO : loading syn1neg from ./LMs/w2v_005_EM_corr_qual_1_2_00017.model.trainables.syn1neg.npy with mmap=None\n",
      "2019-11-21 03:06:58,924 : INFO : setting ignored attribute cum_table to None\n",
      "2019-11-21 03:06:58,925 : INFO : loaded ./LMs/w2v_005_EM_corr_qual_1_2_00017.model\n",
      "2019-11-21 03:07:01,202 : INFO : loading Word2Vec object from ./LMs/w2v_005_EM_ocr_qual_1_2_00017.model\n",
      "2019-11-21 03:07:38,805 : INFO : loading wv recursively from ./LMs/w2v_005_EM_ocr_qual_1_2_00017.model.wv.* with mmap=None\n",
      "2019-11-21 03:07:38,812 : INFO : loading vectors from ./LMs/w2v_005_EM_ocr_qual_1_2_00017.model.wv.vectors.npy with mmap=None\n",
      "2019-11-21 03:07:39,577 : INFO : setting ignored attribute vectors_norm to None\n",
      "2019-11-21 03:07:39,578 : INFO : loading vocabulary recursively from ./LMs/w2v_005_EM_ocr_qual_1_2_00017.model.vocabulary.* with mmap=None\n",
      "2019-11-21 03:07:39,579 : INFO : loading trainables recursively from ./LMs/w2v_005_EM_ocr_qual_1_2_00017.model.trainables.* with mmap=None\n",
      "2019-11-21 03:07:39,581 : INFO : loading syn1neg from ./LMs/w2v_005_EM_ocr_qual_1_2_00017.model.trainables.syn1neg.npy with mmap=None\n",
      "2019-11-21 03:07:40,199 : INFO : setting ignored attribute cum_table to None\n",
      "2019-11-21 03:07:40,200 : INFO : loaded ./LMs/w2v_005_EM_ocr_qual_1_2_00017.model\n",
      "2019-11-21 03:07:58,716 : INFO : precomputing L2-norms of word weight vectors\n"
     ]
    },
    {
     "name": "stdout",
     "output_type": "stream",
     "text": [
      "topn: 50000\n"
     ]
    },
    {
     "name": "stderr",
     "output_type": "stream",
     "text": [
      "/Users/khosseini/anaconda3/envs/py37torch/lib/python3.6/site-packages/ipykernel_launcher.py:16: SettingWithCopyWarning: \n",
      "A value is trying to be set on a copy of a slice from a DataFrame.\n",
      "Try using .loc[row_indexer,col_indexer] = value instead\n",
      "\n",
      "See the caveats in the documentation: http://pandas.pydata.org/pandas-docs/stable/user_guide/indexing.html#returning-a-view-versus-a-copy\n",
      "  app.launch_new_instance()\n",
      "2019-11-21 03:11:37,647 : INFO : precomputing L2-norms of word weight vectors\n"
     ]
    },
    {
     "name": "stdout",
     "output_type": "stream",
     "text": [
      "corr: 235.44400596618652\n"
     ]
    },
    {
     "name": "stderr",
     "output_type": "stream",
     "text": [
      "/Users/khosseini/anaconda3/envs/py37torch/lib/python3.6/site-packages/ipykernel_launcher.py:20: SettingWithCopyWarning: \n",
      "A value is trying to be set on a copy of a slice from a DataFrame.\n",
      "Try using .loc[row_indexer,col_indexer] = value instead\n",
      "\n",
      "See the caveats in the documentation: http://pandas.pydata.org/pandas-docs/stable/user_guide/indexing.html#returning-a-view-versus-a-copy\n",
      "/Users/khosseini/anaconda3/envs/py37torch/lib/python3.6/site-packages/ipykernel_launcher.py:32: SettingWithCopyWarning: \n",
      "A value is trying to be set on a copy of a slice from a DataFrame.\n",
      "Try using .loc[row_indexer,col_indexer] = value instead\n",
      "\n",
      "See the caveats in the documentation: http://pandas.pydata.org/pandas-docs/stable/user_guide/indexing.html#returning-a-view-versus-a-copy\n"
     ]
    },
    {
     "name": "stdout",
     "output_type": "stream",
     "text": [
      "ocr: 454.3758280277252\n"
     ]
    },
    {
     "name": "stderr",
     "output_type": "stream",
     "text": [
      "2019-11-21 03:16:12,364 : INFO : loading Word2Vec object from ./LMs/w2v_005_EM_corr_qual_1_2_00018.model\n"
     ]
    },
    {
     "name": "stdout",
     "output_type": "stream",
     "text": [
      "total: 510.1179130077362\n"
     ]
    },
    {
     "name": "stderr",
     "output_type": "stream",
     "text": [
      "2019-11-21 03:17:05,327 : INFO : loading wv recursively from ./LMs/w2v_005_EM_corr_qual_1_2_00018.model.wv.* with mmap=None\n",
      "2019-11-21 03:17:05,330 : INFO : loading vectors from ./LMs/w2v_005_EM_corr_qual_1_2_00018.model.wv.vectors.npy with mmap=None\n",
      "2019-11-21 03:17:06,152 : INFO : setting ignored attribute vectors_norm to None\n",
      "2019-11-21 03:17:06,153 : INFO : loading vocabulary recursively from ./LMs/w2v_005_EM_corr_qual_1_2_00018.model.vocabulary.* with mmap=None\n",
      "2019-11-21 03:17:06,155 : INFO : loading trainables recursively from ./LMs/w2v_005_EM_corr_qual_1_2_00018.model.trainables.* with mmap=None\n",
      "2019-11-21 03:17:06,156 : INFO : loading syn1neg from ./LMs/w2v_005_EM_corr_qual_1_2_00018.model.trainables.syn1neg.npy with mmap=None\n",
      "2019-11-21 03:17:06,713 : INFO : setting ignored attribute cum_table to None\n",
      "2019-11-21 03:17:06,714 : INFO : loaded ./LMs/w2v_005_EM_corr_qual_1_2_00018.model\n",
      "2019-11-21 03:17:09,050 : INFO : loading Word2Vec object from ./LMs/w2v_005_EM_ocr_qual_1_2_00018.model\n",
      "2019-11-21 03:17:45,675 : INFO : loading wv recursively from ./LMs/w2v_005_EM_ocr_qual_1_2_00018.model.wv.* with mmap=None\n",
      "2019-11-21 03:17:45,683 : INFO : loading vectors from ./LMs/w2v_005_EM_ocr_qual_1_2_00018.model.wv.vectors.npy with mmap=None\n",
      "2019-11-21 03:17:46,391 : INFO : setting ignored attribute vectors_norm to None\n",
      "2019-11-21 03:17:46,392 : INFO : loading vocabulary recursively from ./LMs/w2v_005_EM_ocr_qual_1_2_00018.model.vocabulary.* with mmap=None\n",
      "2019-11-21 03:17:46,392 : INFO : loading trainables recursively from ./LMs/w2v_005_EM_ocr_qual_1_2_00018.model.trainables.* with mmap=None\n",
      "2019-11-21 03:17:46,394 : INFO : loading syn1neg from ./LMs/w2v_005_EM_ocr_qual_1_2_00018.model.trainables.syn1neg.npy with mmap=None\n",
      "2019-11-21 03:17:47,026 : INFO : setting ignored attribute cum_table to None\n",
      "2019-11-21 03:17:47,027 : INFO : loaded ./LMs/w2v_005_EM_ocr_qual_1_2_00018.model\n",
      "2019-11-21 03:18:05,675 : INFO : precomputing L2-norms of word weight vectors\n"
     ]
    },
    {
     "name": "stdout",
     "output_type": "stream",
     "text": [
      "topn: 50000\n"
     ]
    },
    {
     "name": "stderr",
     "output_type": "stream",
     "text": [
      "/Users/khosseini/anaconda3/envs/py37torch/lib/python3.6/site-packages/ipykernel_launcher.py:16: SettingWithCopyWarning: \n",
      "A value is trying to be set on a copy of a slice from a DataFrame.\n",
      "Try using .loc[row_indexer,col_indexer] = value instead\n",
      "\n",
      "See the caveats in the documentation: http://pandas.pydata.org/pandas-docs/stable/user_guide/indexing.html#returning-a-view-versus-a-copy\n",
      "  app.launch_new_instance()\n",
      "2019-11-21 03:21:43,784 : INFO : precomputing L2-norms of word weight vectors\n"
     ]
    },
    {
     "name": "stdout",
     "output_type": "stream",
     "text": [
      "corr: 234.68637418746948\n"
     ]
    },
    {
     "name": "stderr",
     "output_type": "stream",
     "text": [
      "/Users/khosseini/anaconda3/envs/py37torch/lib/python3.6/site-packages/ipykernel_launcher.py:20: SettingWithCopyWarning: \n",
      "A value is trying to be set on a copy of a slice from a DataFrame.\n",
      "Try using .loc[row_indexer,col_indexer] = value instead\n",
      "\n",
      "See the caveats in the documentation: http://pandas.pydata.org/pandas-docs/stable/user_guide/indexing.html#returning-a-view-versus-a-copy\n",
      "/Users/khosseini/anaconda3/envs/py37torch/lib/python3.6/site-packages/ipykernel_launcher.py:32: SettingWithCopyWarning: \n",
      "A value is trying to be set on a copy of a slice from a DataFrame.\n",
      "Try using .loc[row_indexer,col_indexer] = value instead\n",
      "\n",
      "See the caveats in the documentation: http://pandas.pydata.org/pandas-docs/stable/user_guide/indexing.html#returning-a-view-versus-a-copy\n"
     ]
    },
    {
     "name": "stdout",
     "output_type": "stream",
     "text": [
      "ocr: 453.9734399318695\n"
     ]
    },
    {
     "name": "stderr",
     "output_type": "stream",
     "text": [
      "2019-11-21 03:26:20,224 : INFO : loading Word2Vec object from ./LMs/w2v_005_EM_corr_qual_1_2_00019.model\n"
     ]
    },
    {
     "name": "stdout",
     "output_type": "stream",
     "text": [
      "total: 511.0754601955414\n"
     ]
    },
    {
     "name": "stderr",
     "output_type": "stream",
     "text": [
      "2019-11-21 03:27:12,749 : INFO : loading wv recursively from ./LMs/w2v_005_EM_corr_qual_1_2_00019.model.wv.* with mmap=None\n",
      "2019-11-21 03:27:12,755 : INFO : loading vectors from ./LMs/w2v_005_EM_corr_qual_1_2_00019.model.wv.vectors.npy with mmap=None\n",
      "2019-11-21 03:27:13,541 : INFO : setting ignored attribute vectors_norm to None\n",
      "2019-11-21 03:27:13,542 : INFO : loading vocabulary recursively from ./LMs/w2v_005_EM_corr_qual_1_2_00019.model.vocabulary.* with mmap=None\n",
      "2019-11-21 03:27:13,542 : INFO : loading trainables recursively from ./LMs/w2v_005_EM_corr_qual_1_2_00019.model.trainables.* with mmap=None\n",
      "2019-11-21 03:27:13,543 : INFO : loading syn1neg from ./LMs/w2v_005_EM_corr_qual_1_2_00019.model.trainables.syn1neg.npy with mmap=None\n",
      "2019-11-21 03:27:14,242 : INFO : setting ignored attribute cum_table to None\n",
      "2019-11-21 03:27:14,244 : INFO : loaded ./LMs/w2v_005_EM_corr_qual_1_2_00019.model\n",
      "2019-11-21 03:27:16,386 : INFO : loading Word2Vec object from ./LMs/w2v_005_EM_ocr_qual_1_2_00019.model\n",
      "2019-11-21 03:27:52,839 : INFO : loading wv recursively from ./LMs/w2v_005_EM_ocr_qual_1_2_00019.model.wv.* with mmap=None\n",
      "2019-11-21 03:27:52,843 : INFO : loading vectors from ./LMs/w2v_005_EM_ocr_qual_1_2_00019.model.wv.vectors.npy with mmap=None\n",
      "2019-11-21 03:27:53,457 : INFO : setting ignored attribute vectors_norm to None\n",
      "2019-11-21 03:27:53,457 : INFO : loading vocabulary recursively from ./LMs/w2v_005_EM_ocr_qual_1_2_00019.model.vocabulary.* with mmap=None\n",
      "2019-11-21 03:27:53,459 : INFO : loading trainables recursively from ./LMs/w2v_005_EM_ocr_qual_1_2_00019.model.trainables.* with mmap=None\n",
      "2019-11-21 03:27:53,460 : INFO : loading syn1neg from ./LMs/w2v_005_EM_ocr_qual_1_2_00019.model.trainables.syn1neg.npy with mmap=None\n",
      "2019-11-21 03:27:54,052 : INFO : setting ignored attribute cum_table to None\n",
      "2019-11-21 03:27:54,053 : INFO : loaded ./LMs/w2v_005_EM_ocr_qual_1_2_00019.model\n",
      "2019-11-21 03:28:13,015 : INFO : precomputing L2-norms of word weight vectors\n"
     ]
    },
    {
     "name": "stdout",
     "output_type": "stream",
     "text": [
      "topn: 50000\n"
     ]
    },
    {
     "name": "stderr",
     "output_type": "stream",
     "text": [
      "/Users/khosseini/anaconda3/envs/py37torch/lib/python3.6/site-packages/ipykernel_launcher.py:16: SettingWithCopyWarning: \n",
      "A value is trying to be set on a copy of a slice from a DataFrame.\n",
      "Try using .loc[row_indexer,col_indexer] = value instead\n",
      "\n",
      "See the caveats in the documentation: http://pandas.pydata.org/pandas-docs/stable/user_guide/indexing.html#returning-a-view-versus-a-copy\n",
      "  app.launch_new_instance()\n",
      "2019-11-21 03:31:52,285 : INFO : precomputing L2-norms of word weight vectors\n"
     ]
    },
    {
     "name": "stdout",
     "output_type": "stream",
     "text": [
      "corr: 236.1179392337799\n"
     ]
    },
    {
     "name": "stderr",
     "output_type": "stream",
     "text": [
      "/Users/khosseini/anaconda3/envs/py37torch/lib/python3.6/site-packages/ipykernel_launcher.py:20: SettingWithCopyWarning: \n",
      "A value is trying to be set on a copy of a slice from a DataFrame.\n",
      "Try using .loc[row_indexer,col_indexer] = value instead\n",
      "\n",
      "See the caveats in the documentation: http://pandas.pydata.org/pandas-docs/stable/user_guide/indexing.html#returning-a-view-versus-a-copy\n",
      "/Users/khosseini/anaconda3/envs/py37torch/lib/python3.6/site-packages/ipykernel_launcher.py:32: SettingWithCopyWarning: \n",
      "A value is trying to be set on a copy of a slice from a DataFrame.\n",
      "Try using .loc[row_indexer,col_indexer] = value instead\n",
      "\n",
      "See the caveats in the documentation: http://pandas.pydata.org/pandas-docs/stable/user_guide/indexing.html#returning-a-view-versus-a-copy\n"
     ]
    },
    {
     "name": "stdout",
     "output_type": "stream",
     "text": [
      "ocr: 456.8496000766754\n"
     ]
    },
    {
     "name": "stderr",
     "output_type": "stream",
     "text": [
      "2019-11-21 03:36:30,221 : INFO : loading Word2Vec object from ./LMs/w2v_005_EM_corr_qual_1_2_00020.model\n"
     ]
    },
    {
     "name": "stdout",
     "output_type": "stream",
     "text": [
      "total: 513.9689021110535\n"
     ]
    },
    {
     "name": "stderr",
     "output_type": "stream",
     "text": [
      "2019-11-21 03:37:23,627 : INFO : loading wv recursively from ./LMs/w2v_005_EM_corr_qual_1_2_00020.model.wv.* with mmap=None\n",
      "2019-11-21 03:37:23,635 : INFO : loading vectors from ./LMs/w2v_005_EM_corr_qual_1_2_00020.model.wv.vectors.npy with mmap=None\n",
      "2019-11-21 03:37:24,495 : INFO : setting ignored attribute vectors_norm to None\n",
      "2019-11-21 03:37:24,496 : INFO : loading vocabulary recursively from ./LMs/w2v_005_EM_corr_qual_1_2_00020.model.vocabulary.* with mmap=None\n",
      "2019-11-21 03:37:24,497 : INFO : loading trainables recursively from ./LMs/w2v_005_EM_corr_qual_1_2_00020.model.trainables.* with mmap=None\n",
      "2019-11-21 03:37:24,497 : INFO : loading syn1neg from ./LMs/w2v_005_EM_corr_qual_1_2_00020.model.trainables.syn1neg.npy with mmap=None\n",
      "2019-11-21 03:37:25,143 : INFO : setting ignored attribute cum_table to None\n",
      "2019-11-21 03:37:25,144 : INFO : loaded ./LMs/w2v_005_EM_corr_qual_1_2_00020.model\n",
      "2019-11-21 03:37:27,511 : INFO : loading Word2Vec object from ./LMs/w2v_005_EM_ocr_qual_1_2_00020.model\n",
      "2019-11-21 03:38:05,983 : INFO : loading wv recursively from ./LMs/w2v_005_EM_ocr_qual_1_2_00020.model.wv.* with mmap=None\n",
      "2019-11-21 03:38:05,986 : INFO : loading vectors from ./LMs/w2v_005_EM_ocr_qual_1_2_00020.model.wv.vectors.npy with mmap=None\n",
      "2019-11-21 03:38:06,617 : INFO : setting ignored attribute vectors_norm to None\n",
      "2019-11-21 03:38:06,618 : INFO : loading vocabulary recursively from ./LMs/w2v_005_EM_ocr_qual_1_2_00020.model.vocabulary.* with mmap=None\n",
      "2019-11-21 03:38:06,619 : INFO : loading trainables recursively from ./LMs/w2v_005_EM_ocr_qual_1_2_00020.model.trainables.* with mmap=None\n",
      "2019-11-21 03:38:06,619 : INFO : loading syn1neg from ./LMs/w2v_005_EM_ocr_qual_1_2_00020.model.trainables.syn1neg.npy with mmap=None\n",
      "2019-11-21 03:38:07,243 : INFO : setting ignored attribute cum_table to None\n",
      "2019-11-21 03:38:07,244 : INFO : loaded ./LMs/w2v_005_EM_ocr_qual_1_2_00020.model\n",
      "2019-11-21 03:38:28,041 : INFO : precomputing L2-norms of word weight vectors\n"
     ]
    },
    {
     "name": "stdout",
     "output_type": "stream",
     "text": [
      "topn: 50000\n"
     ]
    },
    {
     "name": "stderr",
     "output_type": "stream",
     "text": [
      "/Users/khosseini/anaconda3/envs/py37torch/lib/python3.6/site-packages/ipykernel_launcher.py:16: SettingWithCopyWarning: \n",
      "A value is trying to be set on a copy of a slice from a DataFrame.\n",
      "Try using .loc[row_indexer,col_indexer] = value instead\n",
      "\n",
      "See the caveats in the documentation: http://pandas.pydata.org/pandas-docs/stable/user_guide/indexing.html#returning-a-view-versus-a-copy\n",
      "  app.launch_new_instance()\n",
      "2019-11-21 03:42:05,295 : INFO : precomputing L2-norms of word weight vectors\n"
     ]
    },
    {
     "name": "stdout",
     "output_type": "stream",
     "text": [
      "corr: 235.65741205215454\n"
     ]
    },
    {
     "name": "stderr",
     "output_type": "stream",
     "text": [
      "/Users/khosseini/anaconda3/envs/py37torch/lib/python3.6/site-packages/ipykernel_launcher.py:20: SettingWithCopyWarning: \n",
      "A value is trying to be set on a copy of a slice from a DataFrame.\n",
      "Try using .loc[row_indexer,col_indexer] = value instead\n",
      "\n",
      "See the caveats in the documentation: http://pandas.pydata.org/pandas-docs/stable/user_guide/indexing.html#returning-a-view-versus-a-copy\n",
      "/Users/khosseini/anaconda3/envs/py37torch/lib/python3.6/site-packages/ipykernel_launcher.py:32: SettingWithCopyWarning: \n",
      "A value is trying to be set on a copy of a slice from a DataFrame.\n",
      "Try using .loc[row_indexer,col_indexer] = value instead\n",
      "\n",
      "See the caveats in the documentation: http://pandas.pydata.org/pandas-docs/stable/user_guide/indexing.html#returning-a-view-versus-a-copy\n"
     ]
    },
    {
     "name": "stdout",
     "output_type": "stream",
     "text": [
      "ocr: 453.7037510871887\n"
     ]
    },
    {
     "name": "stderr",
     "output_type": "stream",
     "text": [
      "2019-11-21 03:46:39,821 : INFO : loading Word2Vec object from ./LMs/w2v_005_EM_corr_qual_1_2_00021.model\n"
     ]
    },
    {
     "name": "stdout",
     "output_type": "stream",
     "text": [
      "total: 510.0455400943756\n"
     ]
    },
    {
     "name": "stderr",
     "output_type": "stream",
     "text": [
      "2019-11-21 03:47:32,740 : INFO : loading wv recursively from ./LMs/w2v_005_EM_corr_qual_1_2_00021.model.wv.* with mmap=None\n",
      "2019-11-21 03:47:32,746 : INFO : loading vectors from ./LMs/w2v_005_EM_corr_qual_1_2_00021.model.wv.vectors.npy with mmap=None\n",
      "2019-11-21 03:47:33,477 : INFO : setting ignored attribute vectors_norm to None\n",
      "2019-11-21 03:47:33,478 : INFO : loading vocabulary recursively from ./LMs/w2v_005_EM_corr_qual_1_2_00021.model.vocabulary.* with mmap=None\n",
      "2019-11-21 03:47:33,479 : INFO : loading trainables recursively from ./LMs/w2v_005_EM_corr_qual_1_2_00021.model.trainables.* with mmap=None\n",
      "2019-11-21 03:47:33,480 : INFO : loading syn1neg from ./LMs/w2v_005_EM_corr_qual_1_2_00021.model.trainables.syn1neg.npy with mmap=None\n",
      "2019-11-21 03:47:34,084 : INFO : setting ignored attribute cum_table to None\n",
      "2019-11-21 03:47:34,085 : INFO : loaded ./LMs/w2v_005_EM_corr_qual_1_2_00021.model\n",
      "2019-11-21 03:47:36,460 : INFO : loading Word2Vec object from ./LMs/w2v_005_EM_ocr_qual_1_2_00021.model\n",
      "2019-11-21 03:48:13,323 : INFO : loading wv recursively from ./LMs/w2v_005_EM_ocr_qual_1_2_00021.model.wv.* with mmap=None\n",
      "2019-11-21 03:48:13,326 : INFO : loading vectors from ./LMs/w2v_005_EM_ocr_qual_1_2_00021.model.wv.vectors.npy with mmap=None\n",
      "2019-11-21 03:48:14,061 : INFO : setting ignored attribute vectors_norm to None\n",
      "2019-11-21 03:48:14,062 : INFO : loading vocabulary recursively from ./LMs/w2v_005_EM_ocr_qual_1_2_00021.model.vocabulary.* with mmap=None\n",
      "2019-11-21 03:48:14,062 : INFO : loading trainables recursively from ./LMs/w2v_005_EM_ocr_qual_1_2_00021.model.trainables.* with mmap=None\n",
      "2019-11-21 03:48:14,063 : INFO : loading syn1neg from ./LMs/w2v_005_EM_ocr_qual_1_2_00021.model.trainables.syn1neg.npy with mmap=None\n",
      "2019-11-21 03:48:14,675 : INFO : setting ignored attribute cum_table to None\n",
      "2019-11-21 03:48:14,676 : INFO : loaded ./LMs/w2v_005_EM_ocr_qual_1_2_00021.model\n",
      "2019-11-21 03:48:33,736 : INFO : precomputing L2-norms of word weight vectors\n"
     ]
    },
    {
     "name": "stdout",
     "output_type": "stream",
     "text": [
      "topn: 50000\n"
     ]
    },
    {
     "name": "stderr",
     "output_type": "stream",
     "text": [
      "/Users/khosseini/anaconda3/envs/py37torch/lib/python3.6/site-packages/ipykernel_launcher.py:16: SettingWithCopyWarning: \n",
      "A value is trying to be set on a copy of a slice from a DataFrame.\n",
      "Try using .loc[row_indexer,col_indexer] = value instead\n",
      "\n",
      "See the caveats in the documentation: http://pandas.pydata.org/pandas-docs/stable/user_guide/indexing.html#returning-a-view-versus-a-copy\n",
      "  app.launch_new_instance()\n",
      "2019-11-21 03:52:11,456 : INFO : precomputing L2-norms of word weight vectors\n"
     ]
    },
    {
     "name": "stdout",
     "output_type": "stream",
     "text": [
      "corr: 234.5012879371643\n"
     ]
    },
    {
     "name": "stderr",
     "output_type": "stream",
     "text": [
      "/Users/khosseini/anaconda3/envs/py37torch/lib/python3.6/site-packages/ipykernel_launcher.py:20: SettingWithCopyWarning: \n",
      "A value is trying to be set on a copy of a slice from a DataFrame.\n",
      "Try using .loc[row_indexer,col_indexer] = value instead\n",
      "\n",
      "See the caveats in the documentation: http://pandas.pydata.org/pandas-docs/stable/user_guide/indexing.html#returning-a-view-versus-a-copy\n",
      "/Users/khosseini/anaconda3/envs/py37torch/lib/python3.6/site-packages/ipykernel_launcher.py:32: SettingWithCopyWarning: \n",
      "A value is trying to be set on a copy of a slice from a DataFrame.\n",
      "Try using .loc[row_indexer,col_indexer] = value instead\n",
      "\n",
      "See the caveats in the documentation: http://pandas.pydata.org/pandas-docs/stable/user_guide/indexing.html#returning-a-view-versus-a-copy\n"
     ]
    },
    {
     "name": "stdout",
     "output_type": "stream",
     "text": [
      "ocr: 453.8259310722351\n"
     ]
    },
    {
     "name": "stderr",
     "output_type": "stream",
     "text": [
      "2019-11-21 03:56:48,956 : INFO : loading Word2Vec object from ./LMs/w2v_005_EM_corr_qual_1_2_00022.model\n"
     ]
    },
    {
     "name": "stdout",
     "output_type": "stream",
     "text": [
      "total: 511.9550030231476\n"
     ]
    },
    {
     "name": "stderr",
     "output_type": "stream",
     "text": [
      "2019-11-21 03:56:50,193 : INFO : loading wv recursively from ./LMs/w2v_005_EM_corr_qual_1_2_00022.model.wv.* with mmap=None\n",
      "2019-11-21 03:56:50,197 : INFO : loading vectors from ./LMs/w2v_005_EM_corr_qual_1_2_00022.model.wv.vectors.npy with mmap=None\n",
      "2019-11-21 03:56:50,903 : INFO : setting ignored attribute vectors_norm to None\n",
      "2019-11-21 03:56:50,904 : INFO : loading vocabulary recursively from ./LMs/w2v_005_EM_corr_qual_1_2_00022.model.vocabulary.* with mmap=None\n",
      "2019-11-21 03:56:50,906 : INFO : loading trainables recursively from ./LMs/w2v_005_EM_corr_qual_1_2_00022.model.trainables.* with mmap=None\n",
      "2019-11-21 03:56:50,908 : INFO : loading syn1neg from ./LMs/w2v_005_EM_corr_qual_1_2_00022.model.trainables.syn1neg.npy with mmap=None\n",
      "2019-11-21 03:56:51,573 : INFO : setting ignored attribute cum_table to None\n",
      "2019-11-21 03:56:51,577 : INFO : loaded ./LMs/w2v_005_EM_corr_qual_1_2_00022.model\n",
      "2019-11-21 03:56:53,638 : INFO : loading Word2Vec object from ./LMs/w2v_005_EM_ocr_qual_1_2_00022.model\n",
      "2019-11-21 03:58:22,979 : INFO : loading wv recursively from ./LMs/w2v_005_EM_ocr_qual_1_2_00022.model.wv.* with mmap=None\n",
      "2019-11-21 03:58:22,995 : INFO : loading vectors from ./LMs/w2v_005_EM_ocr_qual_1_2_00022.model.wv.vectors.npy with mmap=None\n",
      "2019-11-21 03:58:23,743 : INFO : setting ignored attribute vectors_norm to None\n",
      "2019-11-21 03:58:23,744 : INFO : loading vocabulary recursively from ./LMs/w2v_005_EM_ocr_qual_1_2_00022.model.vocabulary.* with mmap=None\n",
      "2019-11-21 03:58:23,744 : INFO : loading trainables recursively from ./LMs/w2v_005_EM_ocr_qual_1_2_00022.model.trainables.* with mmap=None\n",
      "2019-11-21 03:58:23,745 : INFO : loading syn1neg from ./LMs/w2v_005_EM_ocr_qual_1_2_00022.model.trainables.syn1neg.npy with mmap=None\n",
      "2019-11-21 03:58:24,401 : INFO : setting ignored attribute cum_table to None\n",
      "2019-11-21 03:58:24,402 : INFO : loaded ./LMs/w2v_005_EM_ocr_qual_1_2_00022.model\n",
      "2019-11-21 03:58:44,026 : INFO : precomputing L2-norms of word weight vectors\n"
     ]
    },
    {
     "name": "stdout",
     "output_type": "stream",
     "text": [
      "topn: 50000\n"
     ]
    },
    {
     "name": "stderr",
     "output_type": "stream",
     "text": [
      "/Users/khosseini/anaconda3/envs/py37torch/lib/python3.6/site-packages/ipykernel_launcher.py:16: SettingWithCopyWarning: \n",
      "A value is trying to be set on a copy of a slice from a DataFrame.\n",
      "Try using .loc[row_indexer,col_indexer] = value instead\n",
      "\n",
      "See the caveats in the documentation: http://pandas.pydata.org/pandas-docs/stable/user_guide/indexing.html#returning-a-view-versus-a-copy\n",
      "  app.launch_new_instance()\n",
      "2019-11-21 04:02:22,749 : INFO : precomputing L2-norms of word weight vectors\n"
     ]
    },
    {
     "name": "stdout",
     "output_type": "stream",
     "text": [
      "corr: 236.07689213752747\n"
     ]
    },
    {
     "name": "stderr",
     "output_type": "stream",
     "text": [
      "/Users/khosseini/anaconda3/envs/py37torch/lib/python3.6/site-packages/ipykernel_launcher.py:20: SettingWithCopyWarning: \n",
      "A value is trying to be set on a copy of a slice from a DataFrame.\n",
      "Try using .loc[row_indexer,col_indexer] = value instead\n",
      "\n",
      "See the caveats in the documentation: http://pandas.pydata.org/pandas-docs/stable/user_guide/indexing.html#returning-a-view-versus-a-copy\n",
      "/Users/khosseini/anaconda3/envs/py37torch/lib/python3.6/site-packages/ipykernel_launcher.py:32: SettingWithCopyWarning: \n",
      "A value is trying to be set on a copy of a slice from a DataFrame.\n",
      "Try using .loc[row_indexer,col_indexer] = value instead\n",
      "\n",
      "See the caveats in the documentation: http://pandas.pydata.org/pandas-docs/stable/user_guide/indexing.html#returning-a-view-versus-a-copy\n"
     ]
    },
    {
     "name": "stdout",
     "output_type": "stream",
     "text": [
      "ocr: 456.4225962162018\n"
     ]
    },
    {
     "name": "stderr",
     "output_type": "stream",
     "text": [
      "2019-11-21 04:06:59,707 : INFO : loading Word2Vec object from ./LMs/w2v_005_EM_corr_qual_1_2_00023.model\n"
     ]
    },
    {
     "name": "stdout",
     "output_type": "stream",
     "text": [
      "total: 512.9779419898987\n"
     ]
    },
    {
     "name": "stderr",
     "output_type": "stream",
     "text": [
      "2019-11-21 04:07:52,066 : INFO : loading wv recursively from ./LMs/w2v_005_EM_corr_qual_1_2_00023.model.wv.* with mmap=None\n",
      "2019-11-21 04:07:52,072 : INFO : loading vectors from ./LMs/w2v_005_EM_corr_qual_1_2_00023.model.wv.vectors.npy with mmap=None\n",
      "2019-11-21 04:07:52,687 : INFO : setting ignored attribute vectors_norm to None\n",
      "2019-11-21 04:07:52,688 : INFO : loading vocabulary recursively from ./LMs/w2v_005_EM_corr_qual_1_2_00023.model.vocabulary.* with mmap=None\n",
      "2019-11-21 04:07:52,688 : INFO : loading trainables recursively from ./LMs/w2v_005_EM_corr_qual_1_2_00023.model.trainables.* with mmap=None\n",
      "2019-11-21 04:07:52,689 : INFO : loading syn1neg from ./LMs/w2v_005_EM_corr_qual_1_2_00023.model.trainables.syn1neg.npy with mmap=None\n",
      "2019-11-21 04:07:53,289 : INFO : setting ignored attribute cum_table to None\n",
      "2019-11-21 04:07:53,290 : INFO : loaded ./LMs/w2v_005_EM_corr_qual_1_2_00023.model\n",
      "2019-11-21 04:07:55,648 : INFO : loading Word2Vec object from ./LMs/w2v_005_EM_ocr_qual_1_2_00023.model\n",
      "2019-11-21 04:08:32,245 : INFO : loading wv recursively from ./LMs/w2v_005_EM_ocr_qual_1_2_00023.model.wv.* with mmap=None\n",
      "2019-11-21 04:08:32,251 : INFO : loading vectors from ./LMs/w2v_005_EM_ocr_qual_1_2_00023.model.wv.vectors.npy with mmap=None\n",
      "2019-11-21 04:08:32,954 : INFO : setting ignored attribute vectors_norm to None\n",
      "2019-11-21 04:08:32,956 : INFO : loading vocabulary recursively from ./LMs/w2v_005_EM_ocr_qual_1_2_00023.model.vocabulary.* with mmap=None\n",
      "2019-11-21 04:08:32,957 : INFO : loading trainables recursively from ./LMs/w2v_005_EM_ocr_qual_1_2_00023.model.trainables.* with mmap=None\n",
      "2019-11-21 04:08:32,958 : INFO : loading syn1neg from ./LMs/w2v_005_EM_ocr_qual_1_2_00023.model.trainables.syn1neg.npy with mmap=None\n",
      "2019-11-21 04:08:33,578 : INFO : setting ignored attribute cum_table to None\n",
      "2019-11-21 04:08:33,579 : INFO : loaded ./LMs/w2v_005_EM_ocr_qual_1_2_00023.model\n",
      "2019-11-21 04:08:52,424 : INFO : precomputing L2-norms of word weight vectors\n"
     ]
    },
    {
     "name": "stdout",
     "output_type": "stream",
     "text": [
      "topn: 50000\n"
     ]
    },
    {
     "name": "stderr",
     "output_type": "stream",
     "text": [
      "/Users/khosseini/anaconda3/envs/py37torch/lib/python3.6/site-packages/ipykernel_launcher.py:16: SettingWithCopyWarning: \n",
      "A value is trying to be set on a copy of a slice from a DataFrame.\n",
      "Try using .loc[row_indexer,col_indexer] = value instead\n",
      "\n",
      "See the caveats in the documentation: http://pandas.pydata.org/pandas-docs/stable/user_guide/indexing.html#returning-a-view-versus-a-copy\n",
      "  app.launch_new_instance()\n",
      "2019-11-21 04:12:30,089 : INFO : precomputing L2-norms of word weight vectors\n"
     ]
    },
    {
     "name": "stdout",
     "output_type": "stream",
     "text": [
      "corr: 234.64697217941284\n"
     ]
    },
    {
     "name": "stderr",
     "output_type": "stream",
     "text": [
      "/Users/khosseini/anaconda3/envs/py37torch/lib/python3.6/site-packages/ipykernel_launcher.py:20: SettingWithCopyWarning: \n",
      "A value is trying to be set on a copy of a slice from a DataFrame.\n",
      "Try using .loc[row_indexer,col_indexer] = value instead\n",
      "\n",
      "See the caveats in the documentation: http://pandas.pydata.org/pandas-docs/stable/user_guide/indexing.html#returning-a-view-versus-a-copy\n",
      "/Users/khosseini/anaconda3/envs/py37torch/lib/python3.6/site-packages/ipykernel_launcher.py:32: SettingWithCopyWarning: \n",
      "A value is trying to be set on a copy of a slice from a DataFrame.\n",
      "Try using .loc[row_indexer,col_indexer] = value instead\n",
      "\n",
      "See the caveats in the documentation: http://pandas.pydata.org/pandas-docs/stable/user_guide/indexing.html#returning-a-view-versus-a-copy\n"
     ]
    },
    {
     "name": "stdout",
     "output_type": "stream",
     "text": [
      "ocr: 452.53639221191406\n"
     ]
    },
    {
     "name": "stderr",
     "output_type": "stream",
     "text": [
      "2019-11-21 04:17:05,077 : INFO : loading Word2Vec object from ./LMs/w2v_005_EM_corr_qual_1_2_00024.model\n"
     ]
    },
    {
     "name": "stdout",
     "output_type": "stream",
     "text": [
      "total: 509.5251581668854\n"
     ]
    },
    {
     "name": "stderr",
     "output_type": "stream",
     "text": [
      "2019-11-21 04:17:58,259 : INFO : loading wv recursively from ./LMs/w2v_005_EM_corr_qual_1_2_00024.model.wv.* with mmap=None\n",
      "2019-11-21 04:17:58,266 : INFO : loading vectors from ./LMs/w2v_005_EM_corr_qual_1_2_00024.model.wv.vectors.npy with mmap=None\n",
      "2019-11-21 04:17:58,953 : INFO : setting ignored attribute vectors_norm to None\n",
      "2019-11-21 04:17:58,954 : INFO : loading vocabulary recursively from ./LMs/w2v_005_EM_corr_qual_1_2_00024.model.vocabulary.* with mmap=None\n",
      "2019-11-21 04:17:58,956 : INFO : loading trainables recursively from ./LMs/w2v_005_EM_corr_qual_1_2_00024.model.trainables.* with mmap=None\n",
      "2019-11-21 04:17:58,957 : INFO : loading syn1neg from ./LMs/w2v_005_EM_corr_qual_1_2_00024.model.trainables.syn1neg.npy with mmap=None\n",
      "2019-11-21 04:17:59,560 : INFO : setting ignored attribute cum_table to None\n",
      "2019-11-21 04:17:59,562 : INFO : loaded ./LMs/w2v_005_EM_corr_qual_1_2_00024.model\n",
      "2019-11-21 04:18:02,092 : INFO : loading Word2Vec object from ./LMs/w2v_005_EM_ocr_qual_1_2_00024.model\n",
      "2019-11-21 04:18:38,286 : INFO : loading wv recursively from ./LMs/w2v_005_EM_ocr_qual_1_2_00024.model.wv.* with mmap=None\n",
      "2019-11-21 04:18:38,289 : INFO : loading vectors from ./LMs/w2v_005_EM_ocr_qual_1_2_00024.model.wv.vectors.npy with mmap=None\n",
      "2019-11-21 04:18:38,953 : INFO : setting ignored attribute vectors_norm to None\n",
      "2019-11-21 04:18:38,954 : INFO : loading vocabulary recursively from ./LMs/w2v_005_EM_ocr_qual_1_2_00024.model.vocabulary.* with mmap=None\n",
      "2019-11-21 04:18:38,955 : INFO : loading trainables recursively from ./LMs/w2v_005_EM_ocr_qual_1_2_00024.model.trainables.* with mmap=None\n",
      "2019-11-21 04:18:38,956 : INFO : loading syn1neg from ./LMs/w2v_005_EM_ocr_qual_1_2_00024.model.trainables.syn1neg.npy with mmap=None\n",
      "2019-11-21 04:18:39,575 : INFO : setting ignored attribute cum_table to None\n",
      "2019-11-21 04:18:39,575 : INFO : loaded ./LMs/w2v_005_EM_ocr_qual_1_2_00024.model\n",
      "2019-11-21 04:18:58,303 : INFO : precomputing L2-norms of word weight vectors\n"
     ]
    },
    {
     "name": "stdout",
     "output_type": "stream",
     "text": [
      "topn: 50000\n"
     ]
    },
    {
     "name": "stderr",
     "output_type": "stream",
     "text": [
      "/Users/khosseini/anaconda3/envs/py37torch/lib/python3.6/site-packages/ipykernel_launcher.py:16: SettingWithCopyWarning: \n",
      "A value is trying to be set on a copy of a slice from a DataFrame.\n",
      "Try using .loc[row_indexer,col_indexer] = value instead\n",
      "\n",
      "See the caveats in the documentation: http://pandas.pydata.org/pandas-docs/stable/user_guide/indexing.html#returning-a-view-versus-a-copy\n",
      "  app.launch_new_instance()\n",
      "2019-11-21 04:22:36,706 : INFO : precomputing L2-norms of word weight vectors\n"
     ]
    },
    {
     "name": "stdout",
     "output_type": "stream",
     "text": [
      "corr: 234.90609192848206\n"
     ]
    },
    {
     "name": "stderr",
     "output_type": "stream",
     "text": [
      "/Users/khosseini/anaconda3/envs/py37torch/lib/python3.6/site-packages/ipykernel_launcher.py:20: SettingWithCopyWarning: \n",
      "A value is trying to be set on a copy of a slice from a DataFrame.\n",
      "Try using .loc[row_indexer,col_indexer] = value instead\n",
      "\n",
      "See the caveats in the documentation: http://pandas.pydata.org/pandas-docs/stable/user_guide/indexing.html#returning-a-view-versus-a-copy\n",
      "/Users/khosseini/anaconda3/envs/py37torch/lib/python3.6/site-packages/ipykernel_launcher.py:32: SettingWithCopyWarning: \n",
      "A value is trying to be set on a copy of a slice from a DataFrame.\n",
      "Try using .loc[row_indexer,col_indexer] = value instead\n",
      "\n",
      "See the caveats in the documentation: http://pandas.pydata.org/pandas-docs/stable/user_guide/indexing.html#returning-a-view-versus-a-copy\n"
     ]
    },
    {
     "name": "stdout",
     "output_type": "stream",
     "text": [
      "ocr: 456.56184697151184\n"
     ]
    },
    {
     "name": "stderr",
     "output_type": "stream",
     "text": [
      "2019-11-21 04:27:18,142 : INFO : loading Word2Vec object from ./LMs/w2v_005_EM_corr_qual_1_2_00025.model\n"
     ]
    },
    {
     "name": "stdout",
     "output_type": "stream",
     "text": [
      "total: 516.3000180721283\n"
     ]
    },
    {
     "name": "stderr",
     "output_type": "stream",
     "text": [
      "2019-11-21 04:28:10,703 : INFO : loading wv recursively from ./LMs/w2v_005_EM_corr_qual_1_2_00025.model.wv.* with mmap=None\n",
      "2019-11-21 04:28:10,713 : INFO : loading vectors from ./LMs/w2v_005_EM_corr_qual_1_2_00025.model.wv.vectors.npy with mmap=None\n",
      "2019-11-21 04:28:11,401 : INFO : setting ignored attribute vectors_norm to None\n",
      "2019-11-21 04:28:11,402 : INFO : loading vocabulary recursively from ./LMs/w2v_005_EM_corr_qual_1_2_00025.model.vocabulary.* with mmap=None\n",
      "2019-11-21 04:28:11,403 : INFO : loading trainables recursively from ./LMs/w2v_005_EM_corr_qual_1_2_00025.model.trainables.* with mmap=None\n",
      "2019-11-21 04:28:11,404 : INFO : loading syn1neg from ./LMs/w2v_005_EM_corr_qual_1_2_00025.model.trainables.syn1neg.npy with mmap=None\n",
      "2019-11-21 04:28:11,993 : INFO : setting ignored attribute cum_table to None\n",
      "2019-11-21 04:28:11,995 : INFO : loaded ./LMs/w2v_005_EM_corr_qual_1_2_00025.model\n",
      "2019-11-21 04:28:14,361 : INFO : loading Word2Vec object from ./LMs/w2v_005_EM_ocr_qual_1_2_00025.model\n",
      "2019-11-21 04:28:50,473 : INFO : loading wv recursively from ./LMs/w2v_005_EM_ocr_qual_1_2_00025.model.wv.* with mmap=None\n",
      "2019-11-21 04:28:50,477 : INFO : loading vectors from ./LMs/w2v_005_EM_ocr_qual_1_2_00025.model.wv.vectors.npy with mmap=None\n",
      "2019-11-21 04:28:51,069 : INFO : setting ignored attribute vectors_norm to None\n",
      "2019-11-21 04:28:51,071 : INFO : loading vocabulary recursively from ./LMs/w2v_005_EM_ocr_qual_1_2_00025.model.vocabulary.* with mmap=None\n",
      "2019-11-21 04:28:51,073 : INFO : loading trainables recursively from ./LMs/w2v_005_EM_ocr_qual_1_2_00025.model.trainables.* with mmap=None\n",
      "2019-11-21 04:28:51,076 : INFO : loading syn1neg from ./LMs/w2v_005_EM_ocr_qual_1_2_00025.model.trainables.syn1neg.npy with mmap=None\n",
      "2019-11-21 04:28:51,712 : INFO : setting ignored attribute cum_table to None\n",
      "2019-11-21 04:28:51,713 : INFO : loaded ./LMs/w2v_005_EM_ocr_qual_1_2_00025.model\n",
      "2019-11-21 04:29:09,902 : INFO : precomputing L2-norms of word weight vectors\n"
     ]
    },
    {
     "name": "stdout",
     "output_type": "stream",
     "text": [
      "topn: 50000\n"
     ]
    },
    {
     "name": "stderr",
     "output_type": "stream",
     "text": [
      "/Users/khosseini/anaconda3/envs/py37torch/lib/python3.6/site-packages/ipykernel_launcher.py:16: SettingWithCopyWarning: \n",
      "A value is trying to be set on a copy of a slice from a DataFrame.\n",
      "Try using .loc[row_indexer,col_indexer] = value instead\n",
      "\n",
      "See the caveats in the documentation: http://pandas.pydata.org/pandas-docs/stable/user_guide/indexing.html#returning-a-view-versus-a-copy\n",
      "  app.launch_new_instance()\n",
      "2019-11-21 04:32:48,799 : INFO : precomputing L2-norms of word weight vectors\n"
     ]
    },
    {
     "name": "stdout",
     "output_type": "stream",
     "text": [
      "corr: 234.79946994781494\n"
     ]
    },
    {
     "name": "stderr",
     "output_type": "stream",
     "text": [
      "/Users/khosseini/anaconda3/envs/py37torch/lib/python3.6/site-packages/ipykernel_launcher.py:20: SettingWithCopyWarning: \n",
      "A value is trying to be set on a copy of a slice from a DataFrame.\n",
      "Try using .loc[row_indexer,col_indexer] = value instead\n",
      "\n",
      "See the caveats in the documentation: http://pandas.pydata.org/pandas-docs/stable/user_guide/indexing.html#returning-a-view-versus-a-copy\n",
      "/Users/khosseini/anaconda3/envs/py37torch/lib/python3.6/site-packages/ipykernel_launcher.py:32: SettingWithCopyWarning: \n",
      "A value is trying to be set on a copy of a slice from a DataFrame.\n",
      "Try using .loc[row_indexer,col_indexer] = value instead\n",
      "\n",
      "See the caveats in the documentation: http://pandas.pydata.org/pandas-docs/stable/user_guide/indexing.html#returning-a-view-versus-a-copy\n"
     ]
    },
    {
     "name": "stdout",
     "output_type": "stream",
     "text": [
      "ocr: 455.28318190574646\n"
     ]
    },
    {
     "name": "stderr",
     "output_type": "stream",
     "text": [
      "2019-11-21 04:37:24,835 : INFO : loading Word2Vec object from ./LMs/w2v_005_EM_corr_qual_1_2_00026.model\n"
     ]
    },
    {
     "name": "stdout",
     "output_type": "stream",
     "text": [
      "total: 510.7483329772949\n"
     ]
    },
    {
     "name": "stderr",
     "output_type": "stream",
     "text": [
      "2019-11-21 04:38:16,993 : INFO : loading wv recursively from ./LMs/w2v_005_EM_corr_qual_1_2_00026.model.wv.* with mmap=None\n",
      "2019-11-21 04:38:17,000 : INFO : loading vectors from ./LMs/w2v_005_EM_corr_qual_1_2_00026.model.wv.vectors.npy with mmap=None\n",
      "2019-11-21 04:38:17,688 : INFO : setting ignored attribute vectors_norm to None\n",
      "2019-11-21 04:38:17,689 : INFO : loading vocabulary recursively from ./LMs/w2v_005_EM_corr_qual_1_2_00026.model.vocabulary.* with mmap=None\n",
      "2019-11-21 04:38:17,691 : INFO : loading trainables recursively from ./LMs/w2v_005_EM_corr_qual_1_2_00026.model.trainables.* with mmap=None\n",
      "2019-11-21 04:38:17,692 : INFO : loading syn1neg from ./LMs/w2v_005_EM_corr_qual_1_2_00026.model.trainables.syn1neg.npy with mmap=None\n",
      "2019-11-21 04:38:18,279 : INFO : setting ignored attribute cum_table to None\n",
      "2019-11-21 04:38:18,279 : INFO : loaded ./LMs/w2v_005_EM_corr_qual_1_2_00026.model\n",
      "2019-11-21 04:38:20,473 : INFO : loading Word2Vec object from ./LMs/w2v_005_EM_ocr_qual_1_2_00026.model\n",
      "2019-11-21 04:38:56,694 : INFO : loading wv recursively from ./LMs/w2v_005_EM_ocr_qual_1_2_00026.model.wv.* with mmap=None\n",
      "2019-11-21 04:38:56,700 : INFO : loading vectors from ./LMs/w2v_005_EM_ocr_qual_1_2_00026.model.wv.vectors.npy with mmap=None\n",
      "2019-11-21 04:38:57,390 : INFO : setting ignored attribute vectors_norm to None\n",
      "2019-11-21 04:38:57,393 : INFO : loading vocabulary recursively from ./LMs/w2v_005_EM_ocr_qual_1_2_00026.model.vocabulary.* with mmap=None\n",
      "2019-11-21 04:38:57,394 : INFO : loading trainables recursively from ./LMs/w2v_005_EM_ocr_qual_1_2_00026.model.trainables.* with mmap=None\n",
      "2019-11-21 04:38:57,395 : INFO : loading syn1neg from ./LMs/w2v_005_EM_ocr_qual_1_2_00026.model.trainables.syn1neg.npy with mmap=None\n",
      "2019-11-21 04:38:58,018 : INFO : setting ignored attribute cum_table to None\n",
      "2019-11-21 04:38:58,019 : INFO : loaded ./LMs/w2v_005_EM_ocr_qual_1_2_00026.model\n",
      "2019-11-21 04:39:15,704 : INFO : precomputing L2-norms of word weight vectors\n"
     ]
    },
    {
     "name": "stdout",
     "output_type": "stream",
     "text": [
      "topn: 50000\n"
     ]
    },
    {
     "name": "stderr",
     "output_type": "stream",
     "text": [
      "/Users/khosseini/anaconda3/envs/py37torch/lib/python3.6/site-packages/ipykernel_launcher.py:16: SettingWithCopyWarning: \n",
      "A value is trying to be set on a copy of a slice from a DataFrame.\n",
      "Try using .loc[row_indexer,col_indexer] = value instead\n",
      "\n",
      "See the caveats in the documentation: http://pandas.pydata.org/pandas-docs/stable/user_guide/indexing.html#returning-a-view-versus-a-copy\n",
      "  app.launch_new_instance()\n",
      "2019-11-21 04:42:51,656 : INFO : precomputing L2-norms of word weight vectors\n"
     ]
    },
    {
     "name": "stdout",
     "output_type": "stream",
     "text": [
      "corr: 231.4665651321411\n"
     ]
    },
    {
     "name": "stderr",
     "output_type": "stream",
     "text": [
      "/Users/khosseini/anaconda3/envs/py37torch/lib/python3.6/site-packages/ipykernel_launcher.py:20: SettingWithCopyWarning: \n",
      "A value is trying to be set on a copy of a slice from a DataFrame.\n",
      "Try using .loc[row_indexer,col_indexer] = value instead\n",
      "\n",
      "See the caveats in the documentation: http://pandas.pydata.org/pandas-docs/stable/user_guide/indexing.html#returning-a-view-versus-a-copy\n",
      "/Users/khosseini/anaconda3/envs/py37torch/lib/python3.6/site-packages/ipykernel_launcher.py:32: SettingWithCopyWarning: \n",
      "A value is trying to be set on a copy of a slice from a DataFrame.\n",
      "Try using .loc[row_indexer,col_indexer] = value instead\n",
      "\n",
      "See the caveats in the documentation: http://pandas.pydata.org/pandas-docs/stable/user_guide/indexing.html#returning-a-view-versus-a-copy\n"
     ]
    },
    {
     "name": "stdout",
     "output_type": "stream",
     "text": [
      "ocr: 451.9386131763458\n"
     ]
    },
    {
     "name": "stderr",
     "output_type": "stream",
     "text": [
      "2019-11-21 04:47:25,817 : INFO : loading Word2Vec object from ./LMs/w2v_005_EM_corr_qual_1_2_00027.model\n"
     ]
    },
    {
     "name": "stdout",
     "output_type": "stream",
     "text": [
      "total: 505.5345332622528\n"
     ]
    },
    {
     "name": "stderr",
     "output_type": "stream",
     "text": [
      "2019-11-21 04:48:18,021 : INFO : loading wv recursively from ./LMs/w2v_005_EM_corr_qual_1_2_00027.model.wv.* with mmap=None\n",
      "2019-11-21 04:48:18,028 : INFO : loading vectors from ./LMs/w2v_005_EM_corr_qual_1_2_00027.model.wv.vectors.npy with mmap=None\n",
      "2019-11-21 04:48:18,754 : INFO : setting ignored attribute vectors_norm to None\n",
      "2019-11-21 04:48:18,755 : INFO : loading vocabulary recursively from ./LMs/w2v_005_EM_corr_qual_1_2_00027.model.vocabulary.* with mmap=None\n",
      "2019-11-21 04:48:18,756 : INFO : loading trainables recursively from ./LMs/w2v_005_EM_corr_qual_1_2_00027.model.trainables.* with mmap=None\n",
      "2019-11-21 04:48:18,757 : INFO : loading syn1neg from ./LMs/w2v_005_EM_corr_qual_1_2_00027.model.trainables.syn1neg.npy with mmap=None\n",
      "2019-11-21 04:48:19,356 : INFO : setting ignored attribute cum_table to None\n",
      "2019-11-21 04:48:19,357 : INFO : loaded ./LMs/w2v_005_EM_corr_qual_1_2_00027.model\n",
      "2019-11-21 04:48:21,581 : INFO : loading Word2Vec object from ./LMs/w2v_005_EM_ocr_qual_1_2_00027.model\n",
      "2019-11-21 04:48:57,713 : INFO : loading wv recursively from ./LMs/w2v_005_EM_ocr_qual_1_2_00027.model.wv.* with mmap=None\n",
      "2019-11-21 04:48:57,717 : INFO : loading vectors from ./LMs/w2v_005_EM_ocr_qual_1_2_00027.model.wv.vectors.npy with mmap=None\n",
      "2019-11-21 04:48:58,351 : INFO : setting ignored attribute vectors_norm to None\n",
      "2019-11-21 04:48:58,352 : INFO : loading vocabulary recursively from ./LMs/w2v_005_EM_ocr_qual_1_2_00027.model.vocabulary.* with mmap=None\n",
      "2019-11-21 04:48:58,352 : INFO : loading trainables recursively from ./LMs/w2v_005_EM_ocr_qual_1_2_00027.model.trainables.* with mmap=None\n",
      "2019-11-21 04:48:58,353 : INFO : loading syn1neg from ./LMs/w2v_005_EM_ocr_qual_1_2_00027.model.trainables.syn1neg.npy with mmap=None\n",
      "2019-11-21 04:48:58,989 : INFO : setting ignored attribute cum_table to None\n",
      "2019-11-21 04:48:58,992 : INFO : loaded ./LMs/w2v_005_EM_ocr_qual_1_2_00027.model\n",
      "2019-11-21 04:49:17,504 : INFO : precomputing L2-norms of word weight vectors\n"
     ]
    },
    {
     "name": "stdout",
     "output_type": "stream",
     "text": [
      "topn: 50000\n"
     ]
    },
    {
     "name": "stderr",
     "output_type": "stream",
     "text": [
      "/Users/khosseini/anaconda3/envs/py37torch/lib/python3.6/site-packages/ipykernel_launcher.py:16: SettingWithCopyWarning: \n",
      "A value is trying to be set on a copy of a slice from a DataFrame.\n",
      "Try using .loc[row_indexer,col_indexer] = value instead\n",
      "\n",
      "See the caveats in the documentation: http://pandas.pydata.org/pandas-docs/stable/user_guide/indexing.html#returning-a-view-versus-a-copy\n",
      "  app.launch_new_instance()\n",
      "2019-11-21 04:52:56,377 : INFO : precomputing L2-norms of word weight vectors\n"
     ]
    },
    {
     "name": "stdout",
     "output_type": "stream",
     "text": [
      "corr: 235.1037790775299\n"
     ]
    },
    {
     "name": "stderr",
     "output_type": "stream",
     "text": [
      "/Users/khosseini/anaconda3/envs/py37torch/lib/python3.6/site-packages/ipykernel_launcher.py:20: SettingWithCopyWarning: \n",
      "A value is trying to be set on a copy of a slice from a DataFrame.\n",
      "Try using .loc[row_indexer,col_indexer] = value instead\n",
      "\n",
      "See the caveats in the documentation: http://pandas.pydata.org/pandas-docs/stable/user_guide/indexing.html#returning-a-view-versus-a-copy\n",
      "/Users/khosseini/anaconda3/envs/py37torch/lib/python3.6/site-packages/ipykernel_launcher.py:32: SettingWithCopyWarning: \n",
      "A value is trying to be set on a copy of a slice from a DataFrame.\n",
      "Try using .loc[row_indexer,col_indexer] = value instead\n",
      "\n",
      "See the caveats in the documentation: http://pandas.pydata.org/pandas-docs/stable/user_guide/indexing.html#returning-a-view-versus-a-copy\n"
     ]
    },
    {
     "name": "stdout",
     "output_type": "stream",
     "text": [
      "ocr: 456.3319969177246\n"
     ]
    },
    {
     "name": "stderr",
     "output_type": "stream",
     "text": [
      "2019-11-21 04:57:38,893 : INFO : loading Word2Vec object from ./LMs/w2v_005_EM_corr_qual_1_2_00028.model\n"
     ]
    },
    {
     "name": "stdout",
     "output_type": "stream",
     "text": [
      "total: 517.5466349124908\n"
     ]
    },
    {
     "name": "stderr",
     "output_type": "stream",
     "text": [
      "2019-11-21 04:58:30,473 : INFO : loading wv recursively from ./LMs/w2v_005_EM_corr_qual_1_2_00028.model.wv.* with mmap=None\n",
      "2019-11-21 04:58:30,480 : INFO : loading vectors from ./LMs/w2v_005_EM_corr_qual_1_2_00028.model.wv.vectors.npy with mmap=None\n",
      "2019-11-21 04:58:31,341 : INFO : setting ignored attribute vectors_norm to None\n",
      "2019-11-21 04:58:31,342 : INFO : loading vocabulary recursively from ./LMs/w2v_005_EM_corr_qual_1_2_00028.model.vocabulary.* with mmap=None\n",
      "2019-11-21 04:58:31,343 : INFO : loading trainables recursively from ./LMs/w2v_005_EM_corr_qual_1_2_00028.model.trainables.* with mmap=None\n",
      "2019-11-21 04:58:31,343 : INFO : loading syn1neg from ./LMs/w2v_005_EM_corr_qual_1_2_00028.model.trainables.syn1neg.npy with mmap=None\n",
      "2019-11-21 04:58:31,947 : INFO : setting ignored attribute cum_table to None\n",
      "2019-11-21 04:58:31,948 : INFO : loaded ./LMs/w2v_005_EM_corr_qual_1_2_00028.model\n",
      "2019-11-21 04:58:34,379 : INFO : loading Word2Vec object from ./LMs/w2v_005_EM_ocr_qual_1_2_00028.model\n",
      "2019-11-21 04:59:10,602 : INFO : loading wv recursively from ./LMs/w2v_005_EM_ocr_qual_1_2_00028.model.wv.* with mmap=None\n",
      "2019-11-21 04:59:10,605 : INFO : loading vectors from ./LMs/w2v_005_EM_ocr_qual_1_2_00028.model.wv.vectors.npy with mmap=None\n",
      "2019-11-21 04:59:11,295 : INFO : setting ignored attribute vectors_norm to None\n",
      "2019-11-21 04:59:11,296 : INFO : loading vocabulary recursively from ./LMs/w2v_005_EM_ocr_qual_1_2_00028.model.vocabulary.* with mmap=None\n",
      "2019-11-21 04:59:11,297 : INFO : loading trainables recursively from ./LMs/w2v_005_EM_ocr_qual_1_2_00028.model.trainables.* with mmap=None\n",
      "2019-11-21 04:59:11,298 : INFO : loading syn1neg from ./LMs/w2v_005_EM_ocr_qual_1_2_00028.model.trainables.syn1neg.npy with mmap=None\n",
      "2019-11-21 04:59:11,924 : INFO : setting ignored attribute cum_table to None\n",
      "2019-11-21 04:59:11,926 : INFO : loaded ./LMs/w2v_005_EM_ocr_qual_1_2_00028.model\n",
      "2019-11-21 04:59:30,802 : INFO : precomputing L2-norms of word weight vectors\n"
     ]
    },
    {
     "name": "stdout",
     "output_type": "stream",
     "text": [
      "topn: 50000\n"
     ]
    },
    {
     "name": "stderr",
     "output_type": "stream",
     "text": [
      "/Users/khosseini/anaconda3/envs/py37torch/lib/python3.6/site-packages/ipykernel_launcher.py:16: SettingWithCopyWarning: \n",
      "A value is trying to be set on a copy of a slice from a DataFrame.\n",
      "Try using .loc[row_indexer,col_indexer] = value instead\n",
      "\n",
      "See the caveats in the documentation: http://pandas.pydata.org/pandas-docs/stable/user_guide/indexing.html#returning-a-view-versus-a-copy\n",
      "  app.launch_new_instance()\n",
      "2019-11-21 05:03:10,345 : INFO : precomputing L2-norms of word weight vectors\n"
     ]
    },
    {
     "name": "stdout",
     "output_type": "stream",
     "text": [
      "corr: 236.20426487922668\n"
     ]
    },
    {
     "name": "stderr",
     "output_type": "stream",
     "text": [
      "/Users/khosseini/anaconda3/envs/py37torch/lib/python3.6/site-packages/ipykernel_launcher.py:20: SettingWithCopyWarning: \n",
      "A value is trying to be set on a copy of a slice from a DataFrame.\n",
      "Try using .loc[row_indexer,col_indexer] = value instead\n",
      "\n",
      "See the caveats in the documentation: http://pandas.pydata.org/pandas-docs/stable/user_guide/indexing.html#returning-a-view-versus-a-copy\n",
      "/Users/khosseini/anaconda3/envs/py37torch/lib/python3.6/site-packages/ipykernel_launcher.py:32: SettingWithCopyWarning: \n",
      "A value is trying to be set on a copy of a slice from a DataFrame.\n",
      "Try using .loc[row_indexer,col_indexer] = value instead\n",
      "\n",
      "See the caveats in the documentation: http://pandas.pydata.org/pandas-docs/stable/user_guide/indexing.html#returning-a-view-versus-a-copy\n"
     ]
    },
    {
     "name": "stdout",
     "output_type": "stream",
     "text": [
      "ocr: 458.1950719356537\n"
     ]
    },
    {
     "name": "stderr",
     "output_type": "stream",
     "text": [
      "2019-11-21 05:07:53,559 : INFO : loading Word2Vec object from ./LMs/w2v_005_EM_corr_qual_1_2_00029.model\n"
     ]
    },
    {
     "name": "stdout",
     "output_type": "stream",
     "text": [
      "total: 519.3632130622864\n"
     ]
    },
    {
     "name": "stderr",
     "output_type": "stream",
     "text": [
      "2019-11-21 05:08:50,379 : INFO : loading wv recursively from ./LMs/w2v_005_EM_corr_qual_1_2_00029.model.wv.* with mmap=None\n",
      "2019-11-21 05:08:50,384 : INFO : loading vectors from ./LMs/w2v_005_EM_corr_qual_1_2_00029.model.wv.vectors.npy with mmap=None\n",
      "2019-11-21 05:08:51,127 : INFO : setting ignored attribute vectors_norm to None\n",
      "2019-11-21 05:08:51,127 : INFO : loading vocabulary recursively from ./LMs/w2v_005_EM_corr_qual_1_2_00029.model.vocabulary.* with mmap=None\n",
      "2019-11-21 05:08:51,128 : INFO : loading trainables recursively from ./LMs/w2v_005_EM_corr_qual_1_2_00029.model.trainables.* with mmap=None\n",
      "2019-11-21 05:08:51,129 : INFO : loading syn1neg from ./LMs/w2v_005_EM_corr_qual_1_2_00029.model.trainables.syn1neg.npy with mmap=None\n",
      "2019-11-21 05:08:51,696 : INFO : setting ignored attribute cum_table to None\n",
      "2019-11-21 05:08:51,698 : INFO : loaded ./LMs/w2v_005_EM_corr_qual_1_2_00029.model\n",
      "2019-11-21 05:08:54,178 : INFO : loading Word2Vec object from ./LMs/w2v_005_EM_ocr_qual_1_2_00029.model\n",
      "2019-11-21 05:09:29,829 : INFO : loading wv recursively from ./LMs/w2v_005_EM_ocr_qual_1_2_00029.model.wv.* with mmap=None\n",
      "2019-11-21 05:09:29,835 : INFO : loading vectors from ./LMs/w2v_005_EM_ocr_qual_1_2_00029.model.wv.vectors.npy with mmap=None\n",
      "2019-11-21 05:09:30,445 : INFO : setting ignored attribute vectors_norm to None\n",
      "2019-11-21 05:09:30,447 : INFO : loading vocabulary recursively from ./LMs/w2v_005_EM_ocr_qual_1_2_00029.model.vocabulary.* with mmap=None\n",
      "2019-11-21 05:09:30,448 : INFO : loading trainables recursively from ./LMs/w2v_005_EM_ocr_qual_1_2_00029.model.trainables.* with mmap=None\n",
      "2019-11-21 05:09:30,449 : INFO : loading syn1neg from ./LMs/w2v_005_EM_ocr_qual_1_2_00029.model.trainables.syn1neg.npy with mmap=None\n",
      "2019-11-21 05:09:31,196 : INFO : setting ignored attribute cum_table to None\n",
      "2019-11-21 05:09:31,197 : INFO : loaded ./LMs/w2v_005_EM_ocr_qual_1_2_00029.model\n",
      "2019-11-21 05:09:49,848 : INFO : precomputing L2-norms of word weight vectors\n"
     ]
    },
    {
     "name": "stdout",
     "output_type": "stream",
     "text": [
      "topn: 50000\n"
     ]
    },
    {
     "name": "stderr",
     "output_type": "stream",
     "text": [
      "/Users/khosseini/anaconda3/envs/py37torch/lib/python3.6/site-packages/ipykernel_launcher.py:16: SettingWithCopyWarning: \n",
      "A value is trying to be set on a copy of a slice from a DataFrame.\n",
      "Try using .loc[row_indexer,col_indexer] = value instead\n",
      "\n",
      "See the caveats in the documentation: http://pandas.pydata.org/pandas-docs/stable/user_guide/indexing.html#returning-a-view-versus-a-copy\n",
      "  app.launch_new_instance()\n",
      "2019-11-21 05:13:28,968 : INFO : precomputing L2-norms of word weight vectors\n"
     ]
    },
    {
     "name": "stdout",
     "output_type": "stream",
     "text": [
      "corr: 235.36145210266113\n"
     ]
    },
    {
     "name": "stderr",
     "output_type": "stream",
     "text": [
      "/Users/khosseini/anaconda3/envs/py37torch/lib/python3.6/site-packages/ipykernel_launcher.py:20: SettingWithCopyWarning: \n",
      "A value is trying to be set on a copy of a slice from a DataFrame.\n",
      "Try using .loc[row_indexer,col_indexer] = value instead\n",
      "\n",
      "See the caveats in the documentation: http://pandas.pydata.org/pandas-docs/stable/user_guide/indexing.html#returning-a-view-versus-a-copy\n",
      "/Users/khosseini/anaconda3/envs/py37torch/lib/python3.6/site-packages/ipykernel_launcher.py:32: SettingWithCopyWarning: \n",
      "A value is trying to be set on a copy of a slice from a DataFrame.\n",
      "Try using .loc[row_indexer,col_indexer] = value instead\n",
      "\n",
      "See the caveats in the documentation: http://pandas.pydata.org/pandas-docs/stable/user_guide/indexing.html#returning-a-view-versus-a-copy\n"
     ]
    },
    {
     "name": "stdout",
     "output_type": "stream",
     "text": [
      "ocr: 455.5781800746918\n"
     ]
    },
    {
     "name": "stderr",
     "output_type": "stream",
     "text": [
      "2019-11-21 05:18:06,889 : INFO : loading Word2Vec object from ./LMs/w2v_005_EM_corr_qual_1_2_00030.model\n"
     ]
    },
    {
     "name": "stdout",
     "output_type": "stream",
     "text": [
      "total: 513.1931140422821\n"
     ]
    },
    {
     "name": "stderr",
     "output_type": "stream",
     "text": [
      "2019-11-21 05:19:00,078 : INFO : loading wv recursively from ./LMs/w2v_005_EM_corr_qual_1_2_00030.model.wv.* with mmap=None\n",
      "2019-11-21 05:19:00,083 : INFO : loading vectors from ./LMs/w2v_005_EM_corr_qual_1_2_00030.model.wv.vectors.npy with mmap=None\n",
      "2019-11-21 05:19:00,722 : INFO : setting ignored attribute vectors_norm to None\n",
      "2019-11-21 05:19:00,723 : INFO : loading vocabulary recursively from ./LMs/w2v_005_EM_corr_qual_1_2_00030.model.vocabulary.* with mmap=None\n",
      "2019-11-21 05:19:00,723 : INFO : loading trainables recursively from ./LMs/w2v_005_EM_corr_qual_1_2_00030.model.trainables.* with mmap=None\n",
      "2019-11-21 05:19:00,724 : INFO : loading syn1neg from ./LMs/w2v_005_EM_corr_qual_1_2_00030.model.trainables.syn1neg.npy with mmap=None\n",
      "2019-11-21 05:19:01,399 : INFO : setting ignored attribute cum_table to None\n",
      "2019-11-21 05:19:01,400 : INFO : loaded ./LMs/w2v_005_EM_corr_qual_1_2_00030.model\n",
      "2019-11-21 05:19:03,585 : INFO : loading Word2Vec object from ./LMs/w2v_005_EM_ocr_qual_1_2_00030.model\n",
      "2019-11-21 05:19:40,325 : INFO : loading wv recursively from ./LMs/w2v_005_EM_ocr_qual_1_2_00030.model.wv.* with mmap=None\n",
      "2019-11-21 05:19:40,328 : INFO : loading vectors from ./LMs/w2v_005_EM_ocr_qual_1_2_00030.model.wv.vectors.npy with mmap=None\n",
      "2019-11-21 05:19:41,084 : INFO : setting ignored attribute vectors_norm to None\n",
      "2019-11-21 05:19:41,086 : INFO : loading vocabulary recursively from ./LMs/w2v_005_EM_ocr_qual_1_2_00030.model.vocabulary.* with mmap=None\n",
      "2019-11-21 05:19:41,088 : INFO : loading trainables recursively from ./LMs/w2v_005_EM_ocr_qual_1_2_00030.model.trainables.* with mmap=None\n",
      "2019-11-21 05:19:41,089 : INFO : loading syn1neg from ./LMs/w2v_005_EM_ocr_qual_1_2_00030.model.trainables.syn1neg.npy with mmap=None\n",
      "2019-11-21 05:19:41,719 : INFO : setting ignored attribute cum_table to None\n",
      "2019-11-21 05:19:41,720 : INFO : loaded ./LMs/w2v_005_EM_ocr_qual_1_2_00030.model\n",
      "2019-11-21 05:19:59,209 : INFO : precomputing L2-norms of word weight vectors\n"
     ]
    },
    {
     "name": "stdout",
     "output_type": "stream",
     "text": [
      "topn: 50000\n"
     ]
    },
    {
     "name": "stderr",
     "output_type": "stream",
     "text": [
      "/Users/khosseini/anaconda3/envs/py37torch/lib/python3.6/site-packages/ipykernel_launcher.py:16: SettingWithCopyWarning: \n",
      "A value is trying to be set on a copy of a slice from a DataFrame.\n",
      "Try using .loc[row_indexer,col_indexer] = value instead\n",
      "\n",
      "See the caveats in the documentation: http://pandas.pydata.org/pandas-docs/stable/user_guide/indexing.html#returning-a-view-versus-a-copy\n",
      "  app.launch_new_instance()\n",
      "2019-11-21 05:23:38,843 : INFO : precomputing L2-norms of word weight vectors\n"
     ]
    },
    {
     "name": "stdout",
     "output_type": "stream",
     "text": [
      "corr: 234.90167880058289\n"
     ]
    },
    {
     "name": "stderr",
     "output_type": "stream",
     "text": [
      "/Users/khosseini/anaconda3/envs/py37torch/lib/python3.6/site-packages/ipykernel_launcher.py:20: SettingWithCopyWarning: \n",
      "A value is trying to be set on a copy of a slice from a DataFrame.\n",
      "Try using .loc[row_indexer,col_indexer] = value instead\n",
      "\n",
      "See the caveats in the documentation: http://pandas.pydata.org/pandas-docs/stable/user_guide/indexing.html#returning-a-view-versus-a-copy\n",
      "/Users/khosseini/anaconda3/envs/py37torch/lib/python3.6/site-packages/ipykernel_launcher.py:32: SettingWithCopyWarning: \n",
      "A value is trying to be set on a copy of a slice from a DataFrame.\n",
      "Try using .loc[row_indexer,col_indexer] = value instead\n",
      "\n",
      "See the caveats in the documentation: http://pandas.pydata.org/pandas-docs/stable/user_guide/indexing.html#returning-a-view-versus-a-copy\n"
     ]
    },
    {
     "name": "stdout",
     "output_type": "stream",
     "text": [
      "ocr: 456.6814239025116\n"
     ]
    },
    {
     "name": "stderr",
     "output_type": "stream",
     "text": [
      "2019-11-21 05:28:21,267 : INFO : loading Word2Vec object from ./LMs/w2v_005_EM_corr_qual_1_2_00031.model\n"
     ]
    },
    {
     "name": "stdout",
     "output_type": "stream",
     "text": [
      "total: 517.2960498332977\n"
     ]
    },
    {
     "name": "stderr",
     "output_type": "stream",
     "text": [
      "2019-11-21 05:29:13,871 : INFO : loading wv recursively from ./LMs/w2v_005_EM_corr_qual_1_2_00031.model.wv.* with mmap=None\n",
      "2019-11-21 05:29:13,882 : INFO : loading vectors from ./LMs/w2v_005_EM_corr_qual_1_2_00031.model.wv.vectors.npy with mmap=None\n",
      "2019-11-21 05:29:14,626 : INFO : setting ignored attribute vectors_norm to None\n",
      "2019-11-21 05:29:14,628 : INFO : loading vocabulary recursively from ./LMs/w2v_005_EM_corr_qual_1_2_00031.model.vocabulary.* with mmap=None\n",
      "2019-11-21 05:29:14,629 : INFO : loading trainables recursively from ./LMs/w2v_005_EM_corr_qual_1_2_00031.model.trainables.* with mmap=None\n",
      "2019-11-21 05:29:14,629 : INFO : loading syn1neg from ./LMs/w2v_005_EM_corr_qual_1_2_00031.model.trainables.syn1neg.npy with mmap=None\n",
      "2019-11-21 05:29:15,243 : INFO : setting ignored attribute cum_table to None\n",
      "2019-11-21 05:29:15,243 : INFO : loaded ./LMs/w2v_005_EM_corr_qual_1_2_00031.model\n",
      "2019-11-21 05:29:17,525 : INFO : loading Word2Vec object from ./LMs/w2v_005_EM_ocr_qual_1_2_00031.model\n",
      "2019-11-21 05:29:54,454 : INFO : loading wv recursively from ./LMs/w2v_005_EM_ocr_qual_1_2_00031.model.wv.* with mmap=None\n",
      "2019-11-21 05:29:54,457 : INFO : loading vectors from ./LMs/w2v_005_EM_ocr_qual_1_2_00031.model.wv.vectors.npy with mmap=None\n",
      "2019-11-21 05:29:55,058 : INFO : setting ignored attribute vectors_norm to None\n",
      "2019-11-21 05:29:55,059 : INFO : loading vocabulary recursively from ./LMs/w2v_005_EM_ocr_qual_1_2_00031.model.vocabulary.* with mmap=None\n",
      "2019-11-21 05:29:55,059 : INFO : loading trainables recursively from ./LMs/w2v_005_EM_ocr_qual_1_2_00031.model.trainables.* with mmap=None\n",
      "2019-11-21 05:29:55,060 : INFO : loading syn1neg from ./LMs/w2v_005_EM_ocr_qual_1_2_00031.model.trainables.syn1neg.npy with mmap=None\n",
      "2019-11-21 05:29:55,656 : INFO : setting ignored attribute cum_table to None\n",
      "2019-11-21 05:29:55,657 : INFO : loaded ./LMs/w2v_005_EM_ocr_qual_1_2_00031.model\n",
      "2019-11-21 05:30:15,037 : INFO : precomputing L2-norms of word weight vectors\n"
     ]
    },
    {
     "name": "stdout",
     "output_type": "stream",
     "text": [
      "topn: 50000\n"
     ]
    },
    {
     "name": "stderr",
     "output_type": "stream",
     "text": [
      "/Users/khosseini/anaconda3/envs/py37torch/lib/python3.6/site-packages/ipykernel_launcher.py:16: SettingWithCopyWarning: \n",
      "A value is trying to be set on a copy of a slice from a DataFrame.\n",
      "Try using .loc[row_indexer,col_indexer] = value instead\n",
      "\n",
      "See the caveats in the documentation: http://pandas.pydata.org/pandas-docs/stable/user_guide/indexing.html#returning-a-view-versus-a-copy\n",
      "  app.launch_new_instance()\n",
      "2019-11-21 05:33:53,666 : INFO : precomputing L2-norms of word weight vectors\n"
     ]
    },
    {
     "name": "stdout",
     "output_type": "stream",
     "text": [
      "corr: 235.83935618400574\n"
     ]
    },
    {
     "name": "stderr",
     "output_type": "stream",
     "text": [
      "/Users/khosseini/anaconda3/envs/py37torch/lib/python3.6/site-packages/ipykernel_launcher.py:20: SettingWithCopyWarning: \n",
      "A value is trying to be set on a copy of a slice from a DataFrame.\n",
      "Try using .loc[row_indexer,col_indexer] = value instead\n",
      "\n",
      "See the caveats in the documentation: http://pandas.pydata.org/pandas-docs/stable/user_guide/indexing.html#returning-a-view-versus-a-copy\n",
      "/Users/khosseini/anaconda3/envs/py37torch/lib/python3.6/site-packages/ipykernel_launcher.py:32: SettingWithCopyWarning: \n",
      "A value is trying to be set on a copy of a slice from a DataFrame.\n",
      "Try using .loc[row_indexer,col_indexer] = value instead\n",
      "\n",
      "See the caveats in the documentation: http://pandas.pydata.org/pandas-docs/stable/user_guide/indexing.html#returning-a-view-versus-a-copy\n"
     ]
    },
    {
     "name": "stdout",
     "output_type": "stream",
     "text": [
      "ocr: 456.00990414619446\n"
     ]
    },
    {
     "name": "stderr",
     "output_type": "stream",
     "text": [
      "2019-11-21 05:38:30,838 : INFO : loading Word2Vec object from ./LMs/w2v_005_EM_corr_qual_1_2_00032.model\n"
     ]
    },
    {
     "name": "stdout",
     "output_type": "stream",
     "text": [
      "total: 512.9463431835175\n"
     ]
    },
    {
     "name": "stderr",
     "output_type": "stream",
     "text": [
      "2019-11-21 05:39:22,242 : INFO : loading wv recursively from ./LMs/w2v_005_EM_corr_qual_1_2_00032.model.wv.* with mmap=None\n",
      "2019-11-21 05:39:22,249 : INFO : loading vectors from ./LMs/w2v_005_EM_corr_qual_1_2_00032.model.wv.vectors.npy with mmap=None\n",
      "2019-11-21 05:39:23,009 : INFO : setting ignored attribute vectors_norm to None\n",
      "2019-11-21 05:39:23,010 : INFO : loading vocabulary recursively from ./LMs/w2v_005_EM_corr_qual_1_2_00032.model.vocabulary.* with mmap=None\n",
      "2019-11-21 05:39:23,010 : INFO : loading trainables recursively from ./LMs/w2v_005_EM_corr_qual_1_2_00032.model.trainables.* with mmap=None\n",
      "2019-11-21 05:39:23,012 : INFO : loading syn1neg from ./LMs/w2v_005_EM_corr_qual_1_2_00032.model.trainables.syn1neg.npy with mmap=None\n",
      "2019-11-21 05:39:23,634 : INFO : setting ignored attribute cum_table to None\n",
      "2019-11-21 05:39:23,635 : INFO : loaded ./LMs/w2v_005_EM_corr_qual_1_2_00032.model\n",
      "2019-11-21 05:39:25,936 : INFO : loading Word2Vec object from ./LMs/w2v_005_EM_ocr_qual_1_2_00032.model\n",
      "2019-11-21 05:40:03,105 : INFO : loading wv recursively from ./LMs/w2v_005_EM_ocr_qual_1_2_00032.model.wv.* with mmap=None\n",
      "2019-11-21 05:40:03,108 : INFO : loading vectors from ./LMs/w2v_005_EM_ocr_qual_1_2_00032.model.wv.vectors.npy with mmap=None\n",
      "2019-11-21 05:40:03,783 : INFO : setting ignored attribute vectors_norm to None\n",
      "2019-11-21 05:40:03,784 : INFO : loading vocabulary recursively from ./LMs/w2v_005_EM_ocr_qual_1_2_00032.model.vocabulary.* with mmap=None\n",
      "2019-11-21 05:40:03,786 : INFO : loading trainables recursively from ./LMs/w2v_005_EM_ocr_qual_1_2_00032.model.trainables.* with mmap=None\n",
      "2019-11-21 05:40:03,787 : INFO : loading syn1neg from ./LMs/w2v_005_EM_ocr_qual_1_2_00032.model.trainables.syn1neg.npy with mmap=None\n",
      "2019-11-21 05:40:04,402 : INFO : setting ignored attribute cum_table to None\n",
      "2019-11-21 05:40:04,403 : INFO : loaded ./LMs/w2v_005_EM_ocr_qual_1_2_00032.model\n",
      "2019-11-21 05:40:24,236 : INFO : precomputing L2-norms of word weight vectors\n"
     ]
    },
    {
     "name": "stdout",
     "output_type": "stream",
     "text": [
      "topn: 50000\n"
     ]
    },
    {
     "name": "stderr",
     "output_type": "stream",
     "text": [
      "/Users/khosseini/anaconda3/envs/py37torch/lib/python3.6/site-packages/ipykernel_launcher.py:16: SettingWithCopyWarning: \n",
      "A value is trying to be set on a copy of a slice from a DataFrame.\n",
      "Try using .loc[row_indexer,col_indexer] = value instead\n",
      "\n",
      "See the caveats in the documentation: http://pandas.pydata.org/pandas-docs/stable/user_guide/indexing.html#returning-a-view-versus-a-copy\n",
      "  app.launch_new_instance()\n",
      "2019-11-21 05:44:03,768 : INFO : precomputing L2-norms of word weight vectors\n"
     ]
    },
    {
     "name": "stdout",
     "output_type": "stream",
     "text": [
      "corr: 237.45331287384033\n"
     ]
    },
    {
     "name": "stderr",
     "output_type": "stream",
     "text": [
      "/Users/khosseini/anaconda3/envs/py37torch/lib/python3.6/site-packages/ipykernel_launcher.py:20: SettingWithCopyWarning: \n",
      "A value is trying to be set on a copy of a slice from a DataFrame.\n",
      "Try using .loc[row_indexer,col_indexer] = value instead\n",
      "\n",
      "See the caveats in the documentation: http://pandas.pydata.org/pandas-docs/stable/user_guide/indexing.html#returning-a-view-versus-a-copy\n",
      "/Users/khosseini/anaconda3/envs/py37torch/lib/python3.6/site-packages/ipykernel_launcher.py:32: SettingWithCopyWarning: \n",
      "A value is trying to be set on a copy of a slice from a DataFrame.\n",
      "Try using .loc[row_indexer,col_indexer] = value instead\n",
      "\n",
      "See the caveats in the documentation: http://pandas.pydata.org/pandas-docs/stable/user_guide/indexing.html#returning-a-view-versus-a-copy\n"
     ]
    },
    {
     "name": "stdout",
     "output_type": "stream",
     "text": [
      "ocr: 458.0651869773865\n"
     ]
    },
    {
     "name": "stderr",
     "output_type": "stream",
     "text": [
      "2019-11-21 05:48:40,655 : INFO : loading Word2Vec object from ./LMs/w2v_005_EM_corr_qual_1_2_00033.model\n"
     ]
    },
    {
     "name": "stdout",
     "output_type": "stream",
     "text": [
      "total: 514.2370338439941\n"
     ]
    },
    {
     "name": "stderr",
     "output_type": "stream",
     "text": [
      "2019-11-21 05:49:37,237 : INFO : loading wv recursively from ./LMs/w2v_005_EM_corr_qual_1_2_00033.model.wv.* with mmap=None\n",
      "2019-11-21 05:49:37,246 : INFO : loading vectors from ./LMs/w2v_005_EM_corr_qual_1_2_00033.model.wv.vectors.npy with mmap=None\n",
      "2019-11-21 05:49:37,986 : INFO : setting ignored attribute vectors_norm to None\n",
      "2019-11-21 05:49:37,990 : INFO : loading vocabulary recursively from ./LMs/w2v_005_EM_corr_qual_1_2_00033.model.vocabulary.* with mmap=None\n",
      "2019-11-21 05:49:37,991 : INFO : loading trainables recursively from ./LMs/w2v_005_EM_corr_qual_1_2_00033.model.trainables.* with mmap=None\n",
      "2019-11-21 05:49:37,991 : INFO : loading syn1neg from ./LMs/w2v_005_EM_corr_qual_1_2_00033.model.trainables.syn1neg.npy with mmap=None\n",
      "2019-11-21 05:49:38,653 : INFO : setting ignored attribute cum_table to None\n",
      "2019-11-21 05:49:38,654 : INFO : loaded ./LMs/w2v_005_EM_corr_qual_1_2_00033.model\n",
      "2019-11-21 05:49:40,963 : INFO : loading Word2Vec object from ./LMs/w2v_005_EM_ocr_qual_1_2_00033.model\n",
      "2019-11-21 05:49:41,744 : INFO : loading wv recursively from ./LMs/w2v_005_EM_ocr_qual_1_2_00033.model.wv.* with mmap=None\n",
      "2019-11-21 05:49:41,745 : INFO : loading vectors from ./LMs/w2v_005_EM_ocr_qual_1_2_00033.model.wv.vectors.npy with mmap=None\n",
      "2019-11-21 05:49:42,622 : INFO : setting ignored attribute vectors_norm to None\n",
      "2019-11-21 05:49:42,623 : INFO : loading vocabulary recursively from ./LMs/w2v_005_EM_ocr_qual_1_2_00033.model.vocabulary.* with mmap=None\n",
      "2019-11-21 05:49:42,624 : INFO : loading trainables recursively from ./LMs/w2v_005_EM_ocr_qual_1_2_00033.model.trainables.* with mmap=None\n",
      "2019-11-21 05:49:42,625 : INFO : loading syn1neg from ./LMs/w2v_005_EM_ocr_qual_1_2_00033.model.trainables.syn1neg.npy with mmap=None\n",
      "2019-11-21 05:49:43,403 : INFO : setting ignored attribute cum_table to None\n",
      "2019-11-21 05:49:43,404 : INFO : loaded ./LMs/w2v_005_EM_ocr_qual_1_2_00033.model\n",
      "2019-11-21 05:49:59,780 : INFO : precomputing L2-norms of word weight vectors\n"
     ]
    },
    {
     "name": "stdout",
     "output_type": "stream",
     "text": [
      "topn: 50000\n"
     ]
    },
    {
     "name": "stderr",
     "output_type": "stream",
     "text": [
      "/Users/khosseini/anaconda3/envs/py37torch/lib/python3.6/site-packages/ipykernel_launcher.py:16: SettingWithCopyWarning: \n",
      "A value is trying to be set on a copy of a slice from a DataFrame.\n",
      "Try using .loc[row_indexer,col_indexer] = value instead\n",
      "\n",
      "See the caveats in the documentation: http://pandas.pydata.org/pandas-docs/stable/user_guide/indexing.html#returning-a-view-versus-a-copy\n",
      "  app.launch_new_instance()\n",
      "2019-11-21 05:53:54,635 : INFO : precomputing L2-norms of word weight vectors\n"
     ]
    },
    {
     "name": "stdout",
     "output_type": "stream",
     "text": [
      "corr: 249.3536159992218\n"
     ]
    },
    {
     "name": "stderr",
     "output_type": "stream",
     "text": [
      "/Users/khosseini/anaconda3/envs/py37torch/lib/python3.6/site-packages/ipykernel_launcher.py:20: SettingWithCopyWarning: \n",
      "A value is trying to be set on a copy of a slice from a DataFrame.\n",
      "Try using .loc[row_indexer,col_indexer] = value instead\n",
      "\n",
      "See the caveats in the documentation: http://pandas.pydata.org/pandas-docs/stable/user_guide/indexing.html#returning-a-view-versus-a-copy\n",
      "/Users/khosseini/anaconda3/envs/py37torch/lib/python3.6/site-packages/ipykernel_launcher.py:32: SettingWithCopyWarning: \n",
      "A value is trying to be set on a copy of a slice from a DataFrame.\n",
      "Try using .loc[row_indexer,col_indexer] = value instead\n",
      "\n",
      "See the caveats in the documentation: http://pandas.pydata.org/pandas-docs/stable/user_guide/indexing.html#returning-a-view-versus-a-copy\n"
     ]
    },
    {
     "name": "stdout",
     "output_type": "stream",
     "text": [
      "ocr: 473.270968914032\n"
     ]
    },
    {
     "name": "stderr",
     "output_type": "stream",
     "text": [
      "2019-11-21 05:58:39,867 : INFO : loading Word2Vec object from ./LMs/w2v_005_EM_corr_qual_1_2_00034.model\n"
     ]
    },
    {
     "name": "stdout",
     "output_type": "stream",
     "text": [
      "total: 534.5174689292908\n"
     ]
    },
    {
     "name": "stderr",
     "output_type": "stream",
     "text": [
      "2019-11-21 05:59:32,554 : INFO : loading wv recursively from ./LMs/w2v_005_EM_corr_qual_1_2_00034.model.wv.* with mmap=None\n",
      "2019-11-21 05:59:32,563 : INFO : loading vectors from ./LMs/w2v_005_EM_corr_qual_1_2_00034.model.wv.vectors.npy with mmap=None\n",
      "2019-11-21 05:59:33,311 : INFO : setting ignored attribute vectors_norm to None\n",
      "2019-11-21 05:59:33,313 : INFO : loading vocabulary recursively from ./LMs/w2v_005_EM_corr_qual_1_2_00034.model.vocabulary.* with mmap=None\n",
      "2019-11-21 05:59:33,314 : INFO : loading trainables recursively from ./LMs/w2v_005_EM_corr_qual_1_2_00034.model.trainables.* with mmap=None\n",
      "2019-11-21 05:59:33,315 : INFO : loading syn1neg from ./LMs/w2v_005_EM_corr_qual_1_2_00034.model.trainables.syn1neg.npy with mmap=None\n",
      "2019-11-21 05:59:33,939 : INFO : setting ignored attribute cum_table to None\n",
      "2019-11-21 05:59:33,941 : INFO : loaded ./LMs/w2v_005_EM_corr_qual_1_2_00034.model\n",
      "2019-11-21 05:59:36,214 : INFO : loading Word2Vec object from ./LMs/w2v_005_EM_ocr_qual_1_2_00034.model\n",
      "2019-11-21 06:00:13,996 : INFO : loading wv recursively from ./LMs/w2v_005_EM_ocr_qual_1_2_00034.model.wv.* with mmap=None\n",
      "2019-11-21 06:00:14,000 : INFO : loading vectors from ./LMs/w2v_005_EM_ocr_qual_1_2_00034.model.wv.vectors.npy with mmap=None\n",
      "2019-11-21 06:00:14,759 : INFO : setting ignored attribute vectors_norm to None\n",
      "2019-11-21 06:00:14,760 : INFO : loading vocabulary recursively from ./LMs/w2v_005_EM_ocr_qual_1_2_00034.model.vocabulary.* with mmap=None\n",
      "2019-11-21 06:00:14,762 : INFO : loading trainables recursively from ./LMs/w2v_005_EM_ocr_qual_1_2_00034.model.trainables.* with mmap=None\n",
      "2019-11-21 06:00:14,763 : INFO : loading syn1neg from ./LMs/w2v_005_EM_ocr_qual_1_2_00034.model.trainables.syn1neg.npy with mmap=None\n",
      "2019-11-21 06:00:15,402 : INFO : setting ignored attribute cum_table to None\n",
      "2019-11-21 06:00:15,403 : INFO : loaded ./LMs/w2v_005_EM_ocr_qual_1_2_00034.model\n",
      "2019-11-21 06:00:34,642 : INFO : precomputing L2-norms of word weight vectors\n"
     ]
    },
    {
     "name": "stdout",
     "output_type": "stream",
     "text": [
      "topn: 50000\n"
     ]
    },
    {
     "name": "stderr",
     "output_type": "stream",
     "text": [
      "/Users/khosseini/anaconda3/envs/py37torch/lib/python3.6/site-packages/ipykernel_launcher.py:16: SettingWithCopyWarning: \n",
      "A value is trying to be set on a copy of a slice from a DataFrame.\n",
      "Try using .loc[row_indexer,col_indexer] = value instead\n",
      "\n",
      "See the caveats in the documentation: http://pandas.pydata.org/pandas-docs/stable/user_guide/indexing.html#returning-a-view-versus-a-copy\n",
      "  app.launch_new_instance()\n",
      "2019-11-21 06:04:14,906 : INFO : precomputing L2-norms of word weight vectors\n"
     ]
    },
    {
     "name": "stdout",
     "output_type": "stream",
     "text": [
      "corr: 237.41446590423584\n"
     ]
    },
    {
     "name": "stderr",
     "output_type": "stream",
     "text": [
      "/Users/khosseini/anaconda3/envs/py37torch/lib/python3.6/site-packages/ipykernel_launcher.py:20: SettingWithCopyWarning: \n",
      "A value is trying to be set on a copy of a slice from a DataFrame.\n",
      "Try using .loc[row_indexer,col_indexer] = value instead\n",
      "\n",
      "See the caveats in the documentation: http://pandas.pydata.org/pandas-docs/stable/user_guide/indexing.html#returning-a-view-versus-a-copy\n",
      "/Users/khosseini/anaconda3/envs/py37torch/lib/python3.6/site-packages/ipykernel_launcher.py:32: SettingWithCopyWarning: \n",
      "A value is trying to be set on a copy of a slice from a DataFrame.\n",
      "Try using .loc[row_indexer,col_indexer] = value instead\n",
      "\n",
      "See the caveats in the documentation: http://pandas.pydata.org/pandas-docs/stable/user_guide/indexing.html#returning-a-view-versus-a-copy\n"
     ]
    },
    {
     "name": "stdout",
     "output_type": "stream",
     "text": [
      "ocr: 457.8999979496002\n"
     ]
    },
    {
     "name": "stderr",
     "output_type": "stream",
     "text": [
      "2019-11-21 06:08:51,413 : INFO : loading Word2Vec object from ./LMs/w2v_005_EM_corr_qual_1_2_00035.model\n"
     ]
    },
    {
     "name": "stdout",
     "output_type": "stream",
     "text": [
      "total: 513.8694469928741\n"
     ]
    },
    {
     "name": "stderr",
     "output_type": "stream",
     "text": [
      "2019-11-21 06:09:43,415 : INFO : loading wv recursively from ./LMs/w2v_005_EM_corr_qual_1_2_00035.model.wv.* with mmap=None\n",
      "2019-11-21 06:09:43,422 : INFO : loading vectors from ./LMs/w2v_005_EM_corr_qual_1_2_00035.model.wv.vectors.npy with mmap=None\n",
      "2019-11-21 06:09:44,143 : INFO : setting ignored attribute vectors_norm to None\n",
      "2019-11-21 06:09:44,144 : INFO : loading vocabulary recursively from ./LMs/w2v_005_EM_corr_qual_1_2_00035.model.vocabulary.* with mmap=None\n",
      "2019-11-21 06:09:44,145 : INFO : loading trainables recursively from ./LMs/w2v_005_EM_corr_qual_1_2_00035.model.trainables.* with mmap=None\n",
      "2019-11-21 06:09:44,145 : INFO : loading syn1neg from ./LMs/w2v_005_EM_corr_qual_1_2_00035.model.trainables.syn1neg.npy with mmap=None\n",
      "2019-11-21 06:09:44,751 : INFO : setting ignored attribute cum_table to None\n",
      "2019-11-21 06:09:44,752 : INFO : loaded ./LMs/w2v_005_EM_corr_qual_1_2_00035.model\n",
      "2019-11-21 06:09:46,822 : INFO : loading Word2Vec object from ./LMs/w2v_005_EM_ocr_qual_1_2_00035.model\n",
      "2019-11-21 06:10:24,097 : INFO : loading wv recursively from ./LMs/w2v_005_EM_ocr_qual_1_2_00035.model.wv.* with mmap=None\n",
      "2019-11-21 06:10:24,101 : INFO : loading vectors from ./LMs/w2v_005_EM_ocr_qual_1_2_00035.model.wv.vectors.npy with mmap=None\n",
      "2019-11-21 06:10:24,868 : INFO : setting ignored attribute vectors_norm to None\n",
      "2019-11-21 06:10:24,870 : INFO : loading vocabulary recursively from ./LMs/w2v_005_EM_ocr_qual_1_2_00035.model.vocabulary.* with mmap=None\n",
      "2019-11-21 06:10:24,870 : INFO : loading trainables recursively from ./LMs/w2v_005_EM_ocr_qual_1_2_00035.model.trainables.* with mmap=None\n",
      "2019-11-21 06:10:24,871 : INFO : loading syn1neg from ./LMs/w2v_005_EM_ocr_qual_1_2_00035.model.trainables.syn1neg.npy with mmap=None\n",
      "2019-11-21 06:10:25,518 : INFO : setting ignored attribute cum_table to None\n",
      "2019-11-21 06:10:25,519 : INFO : loaded ./LMs/w2v_005_EM_ocr_qual_1_2_00035.model\n",
      "2019-11-21 06:10:45,021 : INFO : precomputing L2-norms of word weight vectors\n"
     ]
    },
    {
     "name": "stdout",
     "output_type": "stream",
     "text": [
      "topn: 50000\n"
     ]
    },
    {
     "name": "stderr",
     "output_type": "stream",
     "text": [
      "/Users/khosseini/anaconda3/envs/py37torch/lib/python3.6/site-packages/ipykernel_launcher.py:16: SettingWithCopyWarning: \n",
      "A value is trying to be set on a copy of a slice from a DataFrame.\n",
      "Try using .loc[row_indexer,col_indexer] = value instead\n",
      "\n",
      "See the caveats in the documentation: http://pandas.pydata.org/pandas-docs/stable/user_guide/indexing.html#returning-a-view-versus-a-copy\n",
      "  app.launch_new_instance()\n",
      "2019-11-21 06:14:22,788 : INFO : precomputing L2-norms of word weight vectors\n"
     ]
    },
    {
     "name": "stdout",
     "output_type": "stream",
     "text": [
      "corr: 235.27786493301392\n"
     ]
    },
    {
     "name": "stderr",
     "output_type": "stream",
     "text": [
      "/Users/khosseini/anaconda3/envs/py37torch/lib/python3.6/site-packages/ipykernel_launcher.py:20: SettingWithCopyWarning: \n",
      "A value is trying to be set on a copy of a slice from a DataFrame.\n",
      "Try using .loc[row_indexer,col_indexer] = value instead\n",
      "\n",
      "See the caveats in the documentation: http://pandas.pydata.org/pandas-docs/stable/user_guide/indexing.html#returning-a-view-versus-a-copy\n",
      "/Users/khosseini/anaconda3/envs/py37torch/lib/python3.6/site-packages/ipykernel_launcher.py:32: SettingWithCopyWarning: \n",
      "A value is trying to be set on a copy of a slice from a DataFrame.\n",
      "Try using .loc[row_indexer,col_indexer] = value instead\n",
      "\n",
      "See the caveats in the documentation: http://pandas.pydata.org/pandas-docs/stable/user_guide/indexing.html#returning-a-view-versus-a-copy\n"
     ]
    },
    {
     "name": "stdout",
     "output_type": "stream",
     "text": [
      "ocr: 455.83338689804077\n"
     ]
    },
    {
     "name": "stderr",
     "output_type": "stream",
     "text": [
      "2019-11-21 06:18:58,006 : INFO : loading Word2Vec object from ./LMs/w2v_005_EM_corr_qual_1_2_00036.model\n"
     ]
    },
    {
     "name": "stdout",
     "output_type": "stream",
     "text": [
      "total: 510.43287801742554\n"
     ]
    },
    {
     "name": "stderr",
     "output_type": "stream",
     "text": [
      "2019-11-21 06:19:49,515 : INFO : loading wv recursively from ./LMs/w2v_005_EM_corr_qual_1_2_00036.model.wv.* with mmap=None\n",
      "2019-11-21 06:19:49,519 : INFO : loading vectors from ./LMs/w2v_005_EM_corr_qual_1_2_00036.model.wv.vectors.npy with mmap=None\n",
      "2019-11-21 06:19:50,162 : INFO : setting ignored attribute vectors_norm to None\n",
      "2019-11-21 06:19:50,163 : INFO : loading vocabulary recursively from ./LMs/w2v_005_EM_corr_qual_1_2_00036.model.vocabulary.* with mmap=None\n",
      "2019-11-21 06:19:50,163 : INFO : loading trainables recursively from ./LMs/w2v_005_EM_corr_qual_1_2_00036.model.trainables.* with mmap=None\n",
      "2019-11-21 06:19:50,164 : INFO : loading syn1neg from ./LMs/w2v_005_EM_corr_qual_1_2_00036.model.trainables.syn1neg.npy with mmap=None\n",
      "2019-11-21 06:19:50,745 : INFO : setting ignored attribute cum_table to None\n",
      "2019-11-21 06:19:50,746 : INFO : loaded ./LMs/w2v_005_EM_corr_qual_1_2_00036.model\n",
      "2019-11-21 06:19:52,854 : INFO : loading Word2Vec object from ./LMs/w2v_005_EM_ocr_qual_1_2_00036.model\n",
      "2019-11-21 06:20:29,510 : INFO : loading wv recursively from ./LMs/w2v_005_EM_ocr_qual_1_2_00036.model.wv.* with mmap=None\n",
      "2019-11-21 06:20:29,514 : INFO : loading vectors from ./LMs/w2v_005_EM_ocr_qual_1_2_00036.model.wv.vectors.npy with mmap=None\n",
      "2019-11-21 06:20:30,281 : INFO : setting ignored attribute vectors_norm to None\n",
      "2019-11-21 06:20:30,282 : INFO : loading vocabulary recursively from ./LMs/w2v_005_EM_ocr_qual_1_2_00036.model.vocabulary.* with mmap=None\n",
      "2019-11-21 06:20:30,283 : INFO : loading trainables recursively from ./LMs/w2v_005_EM_ocr_qual_1_2_00036.model.trainables.* with mmap=None\n",
      "2019-11-21 06:20:30,283 : INFO : loading syn1neg from ./LMs/w2v_005_EM_ocr_qual_1_2_00036.model.trainables.syn1neg.npy with mmap=None\n",
      "2019-11-21 06:20:30,928 : INFO : setting ignored attribute cum_table to None\n",
      "2019-11-21 06:20:30,929 : INFO : loaded ./LMs/w2v_005_EM_ocr_qual_1_2_00036.model\n",
      "2019-11-21 06:20:50,329 : INFO : precomputing L2-norms of word weight vectors\n"
     ]
    },
    {
     "name": "stdout",
     "output_type": "stream",
     "text": [
      "topn: 50000\n"
     ]
    },
    {
     "name": "stderr",
     "output_type": "stream",
     "text": [
      "/Users/khosseini/anaconda3/envs/py37torch/lib/python3.6/site-packages/ipykernel_launcher.py:16: SettingWithCopyWarning: \n",
      "A value is trying to be set on a copy of a slice from a DataFrame.\n",
      "Try using .loc[row_indexer,col_indexer] = value instead\n",
      "\n",
      "See the caveats in the documentation: http://pandas.pydata.org/pandas-docs/stable/user_guide/indexing.html#returning-a-view-versus-a-copy\n",
      "  app.launch_new_instance()\n",
      "2019-11-21 06:24:27,054 : INFO : precomputing L2-norms of word weight vectors\n"
     ]
    },
    {
     "name": "stdout",
     "output_type": "stream",
     "text": [
      "corr: 234.01766300201416\n"
     ]
    },
    {
     "name": "stderr",
     "output_type": "stream",
     "text": [
      "/Users/khosseini/anaconda3/envs/py37torch/lib/python3.6/site-packages/ipykernel_launcher.py:20: SettingWithCopyWarning: \n",
      "A value is trying to be set on a copy of a slice from a DataFrame.\n",
      "Try using .loc[row_indexer,col_indexer] = value instead\n",
      "\n",
      "See the caveats in the documentation: http://pandas.pydata.org/pandas-docs/stable/user_guide/indexing.html#returning-a-view-versus-a-copy\n",
      "/Users/khosseini/anaconda3/envs/py37torch/lib/python3.6/site-packages/ipykernel_launcher.py:32: SettingWithCopyWarning: \n",
      "A value is trying to be set on a copy of a slice from a DataFrame.\n",
      "Try using .loc[row_indexer,col_indexer] = value instead\n",
      "\n",
      "See the caveats in the documentation: http://pandas.pydata.org/pandas-docs/stable/user_guide/indexing.html#returning-a-view-versus-a-copy\n"
     ]
    },
    {
     "name": "stdout",
     "output_type": "stream",
     "text": [
      "ocr: 454.96023297309875\n"
     ]
    },
    {
     "name": "stderr",
     "output_type": "stream",
     "text": [
      "2019-11-21 06:29:05,609 : INFO : loading Word2Vec object from ./LMs/w2v_005_EM_corr_qual_1_2_00037.model\n"
     ]
    },
    {
     "name": "stdout",
     "output_type": "stream",
     "text": [
      "total: 512.5101897716522\n"
     ]
    },
    {
     "name": "stderr",
     "output_type": "stream",
     "text": [
      "2019-11-21 06:29:59,709 : INFO : loading wv recursively from ./LMs/w2v_005_EM_corr_qual_1_2_00037.model.wv.* with mmap=None\n",
      "2019-11-21 06:29:59,715 : INFO : loading vectors from ./LMs/w2v_005_EM_corr_qual_1_2_00037.model.wv.vectors.npy with mmap=None\n",
      "2019-11-21 06:30:00,408 : INFO : setting ignored attribute vectors_norm to None\n",
      "2019-11-21 06:30:00,409 : INFO : loading vocabulary recursively from ./LMs/w2v_005_EM_corr_qual_1_2_00037.model.vocabulary.* with mmap=None\n",
      "2019-11-21 06:30:00,410 : INFO : loading trainables recursively from ./LMs/w2v_005_EM_corr_qual_1_2_00037.model.trainables.* with mmap=None\n",
      "2019-11-21 06:30:00,411 : INFO : loading syn1neg from ./LMs/w2v_005_EM_corr_qual_1_2_00037.model.trainables.syn1neg.npy with mmap=None\n",
      "2019-11-21 06:30:01,042 : INFO : setting ignored attribute cum_table to None\n",
      "2019-11-21 06:30:01,044 : INFO : loaded ./LMs/w2v_005_EM_corr_qual_1_2_00037.model\n",
      "2019-11-21 06:30:03,329 : INFO : loading Word2Vec object from ./LMs/w2v_005_EM_ocr_qual_1_2_00037.model\n",
      "2019-11-21 06:30:39,986 : INFO : loading wv recursively from ./LMs/w2v_005_EM_ocr_qual_1_2_00037.model.wv.* with mmap=None\n",
      "2019-11-21 06:30:39,989 : INFO : loading vectors from ./LMs/w2v_005_EM_ocr_qual_1_2_00037.model.wv.vectors.npy with mmap=None\n",
      "2019-11-21 06:30:40,575 : INFO : setting ignored attribute vectors_norm to None\n",
      "2019-11-21 06:30:40,577 : INFO : loading vocabulary recursively from ./LMs/w2v_005_EM_ocr_qual_1_2_00037.model.vocabulary.* with mmap=None\n",
      "2019-11-21 06:30:40,577 : INFO : loading trainables recursively from ./LMs/w2v_005_EM_ocr_qual_1_2_00037.model.trainables.* with mmap=None\n",
      "2019-11-21 06:30:40,579 : INFO : loading syn1neg from ./LMs/w2v_005_EM_ocr_qual_1_2_00037.model.trainables.syn1neg.npy with mmap=None\n",
      "2019-11-21 06:30:41,228 : INFO : setting ignored attribute cum_table to None\n",
      "2019-11-21 06:30:41,229 : INFO : loaded ./LMs/w2v_005_EM_ocr_qual_1_2_00037.model\n",
      "2019-11-21 06:31:00,362 : INFO : precomputing L2-norms of word weight vectors\n"
     ]
    },
    {
     "name": "stdout",
     "output_type": "stream",
     "text": [
      "topn: 50000\n"
     ]
    },
    {
     "name": "stderr",
     "output_type": "stream",
     "text": [
      "/Users/khosseini/anaconda3/envs/py37torch/lib/python3.6/site-packages/ipykernel_launcher.py:16: SettingWithCopyWarning: \n",
      "A value is trying to be set on a copy of a slice from a DataFrame.\n",
      "Try using .loc[row_indexer,col_indexer] = value instead\n",
      "\n",
      "See the caveats in the documentation: http://pandas.pydata.org/pandas-docs/stable/user_guide/indexing.html#returning-a-view-versus-a-copy\n",
      "  app.launch_new_instance()\n",
      "2019-11-21 06:34:39,227 : INFO : precomputing L2-norms of word weight vectors\n"
     ]
    },
    {
     "name": "stdout",
     "output_type": "stream",
     "text": [
      "corr: 235.8188660144806\n"
     ]
    },
    {
     "name": "stderr",
     "output_type": "stream",
     "text": [
      "/Users/khosseini/anaconda3/envs/py37torch/lib/python3.6/site-packages/ipykernel_launcher.py:20: SettingWithCopyWarning: \n",
      "A value is trying to be set on a copy of a slice from a DataFrame.\n",
      "Try using .loc[row_indexer,col_indexer] = value instead\n",
      "\n",
      "See the caveats in the documentation: http://pandas.pydata.org/pandas-docs/stable/user_guide/indexing.html#returning-a-view-versus-a-copy\n",
      "/Users/khosseini/anaconda3/envs/py37torch/lib/python3.6/site-packages/ipykernel_launcher.py:32: SettingWithCopyWarning: \n",
      "A value is trying to be set on a copy of a slice from a DataFrame.\n",
      "Try using .loc[row_indexer,col_indexer] = value instead\n",
      "\n",
      "See the caveats in the documentation: http://pandas.pydata.org/pandas-docs/stable/user_guide/indexing.html#returning-a-view-versus-a-copy\n"
     ]
    },
    {
     "name": "stdout",
     "output_type": "stream",
     "text": [
      "ocr: 456.3750579357147\n"
     ]
    },
    {
     "name": "stderr",
     "output_type": "stream",
     "text": [
      "2019-11-21 06:39:13,962 : INFO : loading Word2Vec object from ./LMs/w2v_005_EM_corr_qual_1_2_00038.model\n"
     ]
    },
    {
     "name": "stdout",
     "output_type": "stream",
     "text": [
      "total: 510.4489948749542\n"
     ]
    },
    {
     "name": "stderr",
     "output_type": "stream",
     "text": [
      "2019-11-21 06:40:08,112 : INFO : loading wv recursively from ./LMs/w2v_005_EM_corr_qual_1_2_00038.model.wv.* with mmap=None\n",
      "2019-11-21 06:40:08,118 : INFO : loading vectors from ./LMs/w2v_005_EM_corr_qual_1_2_00038.model.wv.vectors.npy with mmap=None\n",
      "2019-11-21 06:40:08,828 : INFO : setting ignored attribute vectors_norm to None\n",
      "2019-11-21 06:40:08,830 : INFO : loading vocabulary recursively from ./LMs/w2v_005_EM_corr_qual_1_2_00038.model.vocabulary.* with mmap=None\n",
      "2019-11-21 06:40:08,831 : INFO : loading trainables recursively from ./LMs/w2v_005_EM_corr_qual_1_2_00038.model.trainables.* with mmap=None\n",
      "2019-11-21 06:40:08,832 : INFO : loading syn1neg from ./LMs/w2v_005_EM_corr_qual_1_2_00038.model.trainables.syn1neg.npy with mmap=None\n",
      "2019-11-21 06:40:09,455 : INFO : setting ignored attribute cum_table to None\n",
      "2019-11-21 06:40:09,456 : INFO : loaded ./LMs/w2v_005_EM_corr_qual_1_2_00038.model\n",
      "2019-11-21 06:40:11,780 : INFO : loading Word2Vec object from ./LMs/w2v_005_EM_ocr_qual_1_2_00038.model\n",
      "2019-11-21 06:40:48,068 : INFO : loading wv recursively from ./LMs/w2v_005_EM_ocr_qual_1_2_00038.model.wv.* with mmap=None\n",
      "2019-11-21 06:40:48,071 : INFO : loading vectors from ./LMs/w2v_005_EM_ocr_qual_1_2_00038.model.wv.vectors.npy with mmap=None\n",
      "2019-11-21 06:40:48,632 : INFO : setting ignored attribute vectors_norm to None\n",
      "2019-11-21 06:40:48,633 : INFO : loading vocabulary recursively from ./LMs/w2v_005_EM_ocr_qual_1_2_00038.model.vocabulary.* with mmap=None\n",
      "2019-11-21 06:40:48,633 : INFO : loading trainables recursively from ./LMs/w2v_005_EM_ocr_qual_1_2_00038.model.trainables.* with mmap=None\n",
      "2019-11-21 06:40:48,635 : INFO : loading syn1neg from ./LMs/w2v_005_EM_ocr_qual_1_2_00038.model.trainables.syn1neg.npy with mmap=None\n",
      "2019-11-21 06:40:49,287 : INFO : setting ignored attribute cum_table to None\n",
      "2019-11-21 06:40:49,288 : INFO : loaded ./LMs/w2v_005_EM_ocr_qual_1_2_00038.model\n",
      "2019-11-21 06:41:09,104 : INFO : precomputing L2-norms of word weight vectors\n"
     ]
    },
    {
     "name": "stdout",
     "output_type": "stream",
     "text": [
      "topn: 50000\n"
     ]
    },
    {
     "name": "stderr",
     "output_type": "stream",
     "text": [
      "/Users/khosseini/anaconda3/envs/py37torch/lib/python3.6/site-packages/ipykernel_launcher.py:16: SettingWithCopyWarning: \n",
      "A value is trying to be set on a copy of a slice from a DataFrame.\n",
      "Try using .loc[row_indexer,col_indexer] = value instead\n",
      "\n",
      "See the caveats in the documentation: http://pandas.pydata.org/pandas-docs/stable/user_guide/indexing.html#returning-a-view-versus-a-copy\n",
      "  app.launch_new_instance()\n",
      "2019-11-21 06:44:48,120 : INFO : precomputing L2-norms of word weight vectors\n"
     ]
    },
    {
     "name": "stdout",
     "output_type": "stream",
     "text": [
      "corr: 236.50344896316528\n"
     ]
    },
    {
     "name": "stderr",
     "output_type": "stream",
     "text": [
      "/Users/khosseini/anaconda3/envs/py37torch/lib/python3.6/site-packages/ipykernel_launcher.py:20: SettingWithCopyWarning: \n",
      "A value is trying to be set on a copy of a slice from a DataFrame.\n",
      "Try using .loc[row_indexer,col_indexer] = value instead\n",
      "\n",
      "See the caveats in the documentation: http://pandas.pydata.org/pandas-docs/stable/user_guide/indexing.html#returning-a-view-versus-a-copy\n",
      "/Users/khosseini/anaconda3/envs/py37torch/lib/python3.6/site-packages/ipykernel_launcher.py:32: SettingWithCopyWarning: \n",
      "A value is trying to be set on a copy of a slice from a DataFrame.\n",
      "Try using .loc[row_indexer,col_indexer] = value instead\n",
      "\n",
      "See the caveats in the documentation: http://pandas.pydata.org/pandas-docs/stable/user_guide/indexing.html#returning-a-view-versus-a-copy\n"
     ]
    },
    {
     "name": "stdout",
     "output_type": "stream",
     "text": [
      "ocr: 457.1841058731079\n"
     ]
    },
    {
     "name": "stderr",
     "output_type": "stream",
     "text": [
      "2019-11-21 06:49:25,832 : INFO : loading Word2Vec object from ./LMs/w2v_005_EM_corr_qual_1_2_00039.model\n"
     ]
    },
    {
     "name": "stdout",
     "output_type": "stream",
     "text": [
      "total: 514.1127140522003\n"
     ]
    },
    {
     "name": "stderr",
     "output_type": "stream",
     "text": [
      "2019-11-21 06:50:17,502 : INFO : loading wv recursively from ./LMs/w2v_005_EM_corr_qual_1_2_00039.model.wv.* with mmap=None\n",
      "2019-11-21 06:50:17,513 : INFO : loading vectors from ./LMs/w2v_005_EM_corr_qual_1_2_00039.model.wv.vectors.npy with mmap=None\n",
      "2019-11-21 06:50:18,247 : INFO : setting ignored attribute vectors_norm to None\n",
      "2019-11-21 06:50:18,248 : INFO : loading vocabulary recursively from ./LMs/w2v_005_EM_corr_qual_1_2_00039.model.vocabulary.* with mmap=None\n",
      "2019-11-21 06:50:18,249 : INFO : loading trainables recursively from ./LMs/w2v_005_EM_corr_qual_1_2_00039.model.trainables.* with mmap=None\n",
      "2019-11-21 06:50:18,250 : INFO : loading syn1neg from ./LMs/w2v_005_EM_corr_qual_1_2_00039.model.trainables.syn1neg.npy with mmap=None\n",
      "2019-11-21 06:50:18,863 : INFO : setting ignored attribute cum_table to None\n",
      "2019-11-21 06:50:18,864 : INFO : loaded ./LMs/w2v_005_EM_corr_qual_1_2_00039.model\n",
      "2019-11-21 06:50:21,324 : INFO : loading Word2Vec object from ./LMs/w2v_005_EM_ocr_qual_1_2_00039.model\n",
      "2019-11-21 06:50:58,431 : INFO : loading wv recursively from ./LMs/w2v_005_EM_ocr_qual_1_2_00039.model.wv.* with mmap=None\n",
      "2019-11-21 06:50:58,435 : INFO : loading vectors from ./LMs/w2v_005_EM_ocr_qual_1_2_00039.model.wv.vectors.npy with mmap=None\n",
      "2019-11-21 06:50:59,192 : INFO : setting ignored attribute vectors_norm to None\n",
      "2019-11-21 06:50:59,193 : INFO : loading vocabulary recursively from ./LMs/w2v_005_EM_ocr_qual_1_2_00039.model.vocabulary.* with mmap=None\n",
      "2019-11-21 06:50:59,196 : INFO : loading trainables recursively from ./LMs/w2v_005_EM_ocr_qual_1_2_00039.model.trainables.* with mmap=None\n",
      "2019-11-21 06:50:59,197 : INFO : loading syn1neg from ./LMs/w2v_005_EM_ocr_qual_1_2_00039.model.trainables.syn1neg.npy with mmap=None\n",
      "2019-11-21 06:50:59,868 : INFO : setting ignored attribute cum_table to None\n",
      "2019-11-21 06:50:59,869 : INFO : loaded ./LMs/w2v_005_EM_ocr_qual_1_2_00039.model\n",
      "2019-11-21 06:51:19,132 : INFO : precomputing L2-norms of word weight vectors\n"
     ]
    },
    {
     "name": "stdout",
     "output_type": "stream",
     "text": [
      "topn: 50000\n"
     ]
    },
    {
     "name": "stderr",
     "output_type": "stream",
     "text": [
      "/Users/khosseini/anaconda3/envs/py37torch/lib/python3.6/site-packages/ipykernel_launcher.py:16: SettingWithCopyWarning: \n",
      "A value is trying to be set on a copy of a slice from a DataFrame.\n",
      "Try using .loc[row_indexer,col_indexer] = value instead\n",
      "\n",
      "See the caveats in the documentation: http://pandas.pydata.org/pandas-docs/stable/user_guide/indexing.html#returning-a-view-versus-a-copy\n",
      "  app.launch_new_instance()\n",
      "2019-11-21 06:54:57,845 : INFO : precomputing L2-norms of word weight vectors\n"
     ]
    },
    {
     "name": "stdout",
     "output_type": "stream",
     "text": [
      "corr: 235.8793330192566\n"
     ]
    },
    {
     "name": "stderr",
     "output_type": "stream",
     "text": [
      "/Users/khosseini/anaconda3/envs/py37torch/lib/python3.6/site-packages/ipykernel_launcher.py:20: SettingWithCopyWarning: \n",
      "A value is trying to be set on a copy of a slice from a DataFrame.\n",
      "Try using .loc[row_indexer,col_indexer] = value instead\n",
      "\n",
      "See the caveats in the documentation: http://pandas.pydata.org/pandas-docs/stable/user_guide/indexing.html#returning-a-view-versus-a-copy\n",
      "/Users/khosseini/anaconda3/envs/py37torch/lib/python3.6/site-packages/ipykernel_launcher.py:32: SettingWithCopyWarning: \n",
      "A value is trying to be set on a copy of a slice from a DataFrame.\n",
      "Try using .loc[row_indexer,col_indexer] = value instead\n",
      "\n",
      "See the caveats in the documentation: http://pandas.pydata.org/pandas-docs/stable/user_guide/indexing.html#returning-a-view-versus-a-copy\n"
     ]
    },
    {
     "name": "stdout",
     "output_type": "stream",
     "text": [
      "ocr: 457.6071312427521\n"
     ]
    },
    {
     "name": "stderr",
     "output_type": "stream",
     "text": [
      "2019-11-21 06:59:39,230 : INFO : loading Word2Vec object from ./LMs/w2v_005_EM_corr_qual_1_2_00040.model\n"
     ]
    },
    {
     "name": "stdout",
     "output_type": "stream",
     "text": [
      "total: 517.2385840415955\n"
     ]
    },
    {
     "name": "stderr",
     "output_type": "stream",
     "text": [
      "2019-11-21 07:00:31,151 : INFO : loading wv recursively from ./LMs/w2v_005_EM_corr_qual_1_2_00040.model.wv.* with mmap=None\n",
      "2019-11-21 07:00:31,162 : INFO : loading vectors from ./LMs/w2v_005_EM_corr_qual_1_2_00040.model.wv.vectors.npy with mmap=None\n",
      "2019-11-21 07:00:31,894 : INFO : setting ignored attribute vectors_norm to None\n",
      "2019-11-21 07:00:31,895 : INFO : loading vocabulary recursively from ./LMs/w2v_005_EM_corr_qual_1_2_00040.model.vocabulary.* with mmap=None\n",
      "2019-11-21 07:00:31,895 : INFO : loading trainables recursively from ./LMs/w2v_005_EM_corr_qual_1_2_00040.model.trainables.* with mmap=None\n",
      "2019-11-21 07:00:31,896 : INFO : loading syn1neg from ./LMs/w2v_005_EM_corr_qual_1_2_00040.model.trainables.syn1neg.npy with mmap=None\n",
      "2019-11-21 07:00:32,486 : INFO : setting ignored attribute cum_table to None\n",
      "2019-11-21 07:00:32,487 : INFO : loaded ./LMs/w2v_005_EM_corr_qual_1_2_00040.model\n",
      "2019-11-21 07:00:34,852 : INFO : loading Word2Vec object from ./LMs/w2v_005_EM_ocr_qual_1_2_00040.model\n",
      "2019-11-21 07:01:11,401 : INFO : loading wv recursively from ./LMs/w2v_005_EM_ocr_qual_1_2_00040.model.wv.* with mmap=None\n",
      "2019-11-21 07:01:11,403 : INFO : loading vectors from ./LMs/w2v_005_EM_ocr_qual_1_2_00040.model.wv.vectors.npy with mmap=None\n",
      "2019-11-21 07:01:11,991 : INFO : setting ignored attribute vectors_norm to None\n",
      "2019-11-21 07:01:11,993 : INFO : loading vocabulary recursively from ./LMs/w2v_005_EM_ocr_qual_1_2_00040.model.vocabulary.* with mmap=None\n",
      "2019-11-21 07:01:11,994 : INFO : loading trainables recursively from ./LMs/w2v_005_EM_ocr_qual_1_2_00040.model.trainables.* with mmap=None\n",
      "2019-11-21 07:01:11,995 : INFO : loading syn1neg from ./LMs/w2v_005_EM_ocr_qual_1_2_00040.model.trainables.syn1neg.npy with mmap=None\n",
      "2019-11-21 07:01:12,625 : INFO : setting ignored attribute cum_table to None\n",
      "2019-11-21 07:01:12,626 : INFO : loaded ./LMs/w2v_005_EM_ocr_qual_1_2_00040.model\n",
      "2019-11-21 07:01:31,243 : INFO : precomputing L2-norms of word weight vectors\n"
     ]
    },
    {
     "name": "stdout",
     "output_type": "stream",
     "text": [
      "topn: 50000\n"
     ]
    },
    {
     "name": "stderr",
     "output_type": "stream",
     "text": [
      "/Users/khosseini/anaconda3/envs/py37torch/lib/python3.6/site-packages/ipykernel_launcher.py:16: SettingWithCopyWarning: \n",
      "A value is trying to be set on a copy of a slice from a DataFrame.\n",
      "Try using .loc[row_indexer,col_indexer] = value instead\n",
      "\n",
      "See the caveats in the documentation: http://pandas.pydata.org/pandas-docs/stable/user_guide/indexing.html#returning-a-view-versus-a-copy\n",
      "  app.launch_new_instance()\n",
      "2019-11-21 07:05:10,940 : INFO : precomputing L2-norms of word weight vectors\n"
     ]
    },
    {
     "name": "stdout",
     "output_type": "stream",
     "text": [
      "corr: 236.11722803115845\n"
     ]
    },
    {
     "name": "stderr",
     "output_type": "stream",
     "text": [
      "/Users/khosseini/anaconda3/envs/py37torch/lib/python3.6/site-packages/ipykernel_launcher.py:20: SettingWithCopyWarning: \n",
      "A value is trying to be set on a copy of a slice from a DataFrame.\n",
      "Try using .loc[row_indexer,col_indexer] = value instead\n",
      "\n",
      "See the caveats in the documentation: http://pandas.pydata.org/pandas-docs/stable/user_guide/indexing.html#returning-a-view-versus-a-copy\n",
      "/Users/khosseini/anaconda3/envs/py37torch/lib/python3.6/site-packages/ipykernel_launcher.py:32: SettingWithCopyWarning: \n",
      "A value is trying to be set on a copy of a slice from a DataFrame.\n",
      "Try using .loc[row_indexer,col_indexer] = value instead\n",
      "\n",
      "See the caveats in the documentation: http://pandas.pydata.org/pandas-docs/stable/user_guide/indexing.html#returning-a-view-versus-a-copy\n"
     ]
    },
    {
     "name": "stdout",
     "output_type": "stream",
     "text": [
      "ocr: 456.6801950931549\n"
     ]
    },
    {
     "name": "stderr",
     "output_type": "stream",
     "text": [
      "2019-11-21 07:09:46,622 : INFO : loading Word2Vec object from ./LMs/w2v_005_EM_corr_qual_1_2_00041.model\n"
     ]
    },
    {
     "name": "stdout",
     "output_type": "stream",
     "text": [
      "total: 511.75532507896423\n"
     ]
    },
    {
     "name": "stderr",
     "output_type": "stream",
     "text": [
      "2019-11-21 07:10:37,540 : INFO : loading wv recursively from ./LMs/w2v_005_EM_corr_qual_1_2_00041.model.wv.* with mmap=None\n",
      "2019-11-21 07:10:37,546 : INFO : loading vectors from ./LMs/w2v_005_EM_corr_qual_1_2_00041.model.wv.vectors.npy with mmap=None\n",
      "2019-11-21 07:10:38,351 : INFO : setting ignored attribute vectors_norm to None\n",
      "2019-11-21 07:10:38,352 : INFO : loading vocabulary recursively from ./LMs/w2v_005_EM_corr_qual_1_2_00041.model.vocabulary.* with mmap=None\n",
      "2019-11-21 07:10:38,353 : INFO : loading trainables recursively from ./LMs/w2v_005_EM_corr_qual_1_2_00041.model.trainables.* with mmap=None\n",
      "2019-11-21 07:10:38,354 : INFO : loading syn1neg from ./LMs/w2v_005_EM_corr_qual_1_2_00041.model.trainables.syn1neg.npy with mmap=None\n",
      "2019-11-21 07:10:38,961 : INFO : setting ignored attribute cum_table to None\n",
      "2019-11-21 07:10:38,963 : INFO : loaded ./LMs/w2v_005_EM_corr_qual_1_2_00041.model\n",
      "2019-11-21 07:10:41,118 : INFO : loading Word2Vec object from ./LMs/w2v_005_EM_ocr_qual_1_2_00041.model\n",
      "2019-11-21 07:11:54,312 : INFO : loading wv recursively from ./LMs/w2v_005_EM_ocr_qual_1_2_00041.model.wv.* with mmap=None\n",
      "2019-11-21 07:11:54,316 : INFO : loading vectors from ./LMs/w2v_005_EM_ocr_qual_1_2_00041.model.wv.vectors.npy with mmap=None\n",
      "2019-11-21 07:11:54,933 : INFO : setting ignored attribute vectors_norm to None\n",
      "2019-11-21 07:11:54,935 : INFO : loading vocabulary recursively from ./LMs/w2v_005_EM_ocr_qual_1_2_00041.model.vocabulary.* with mmap=None\n",
      "2019-11-21 07:11:54,935 : INFO : loading trainables recursively from ./LMs/w2v_005_EM_ocr_qual_1_2_00041.model.trainables.* with mmap=None\n",
      "2019-11-21 07:11:54,937 : INFO : loading syn1neg from ./LMs/w2v_005_EM_ocr_qual_1_2_00041.model.trainables.syn1neg.npy with mmap=None\n",
      "2019-11-21 07:11:55,561 : INFO : setting ignored attribute cum_table to None\n",
      "2019-11-21 07:11:55,562 : INFO : loaded ./LMs/w2v_005_EM_ocr_qual_1_2_00041.model\n",
      "2019-11-21 07:12:15,195 : INFO : precomputing L2-norms of word weight vectors\n"
     ]
    },
    {
     "name": "stdout",
     "output_type": "stream",
     "text": [
      "topn: 50000\n"
     ]
    },
    {
     "name": "stderr",
     "output_type": "stream",
     "text": [
      "/Users/khosseini/anaconda3/envs/py37torch/lib/python3.6/site-packages/ipykernel_launcher.py:16: SettingWithCopyWarning: \n",
      "A value is trying to be set on a copy of a slice from a DataFrame.\n",
      "Try using .loc[row_indexer,col_indexer] = value instead\n",
      "\n",
      "See the caveats in the documentation: http://pandas.pydata.org/pandas-docs/stable/user_guide/indexing.html#returning-a-view-versus-a-copy\n",
      "  app.launch_new_instance()\n",
      "2019-11-21 07:15:52,285 : INFO : precomputing L2-norms of word weight vectors\n"
     ]
    },
    {
     "name": "stdout",
     "output_type": "stream",
     "text": [
      "corr: 234.67981576919556\n"
     ]
    },
    {
     "name": "stderr",
     "output_type": "stream",
     "text": [
      "/Users/khosseini/anaconda3/envs/py37torch/lib/python3.6/site-packages/ipykernel_launcher.py:20: SettingWithCopyWarning: \n",
      "A value is trying to be set on a copy of a slice from a DataFrame.\n",
      "Try using .loc[row_indexer,col_indexer] = value instead\n",
      "\n",
      "See the caveats in the documentation: http://pandas.pydata.org/pandas-docs/stable/user_guide/indexing.html#returning-a-view-versus-a-copy\n",
      "/Users/khosseini/anaconda3/envs/py37torch/lib/python3.6/site-packages/ipykernel_launcher.py:32: SettingWithCopyWarning: \n",
      "A value is trying to be set on a copy of a slice from a DataFrame.\n",
      "Try using .loc[row_indexer,col_indexer] = value instead\n",
      "\n",
      "See the caveats in the documentation: http://pandas.pydata.org/pandas-docs/stable/user_guide/indexing.html#returning-a-view-versus-a-copy\n"
     ]
    },
    {
     "name": "stdout",
     "output_type": "stream",
     "text": [
      "ocr: 454.95414876937866\n"
     ]
    },
    {
     "name": "stderr",
     "output_type": "stream",
     "text": [
      "2019-11-21 07:20:29,757 : INFO : loading Word2Vec object from ./LMs/w2v_005_EM_corr_qual_1_2_00042.model\n"
     ]
    },
    {
     "name": "stdout",
     "output_type": "stream",
     "text": [
      "total: 512.0607056617737\n"
     ]
    },
    {
     "name": "stderr",
     "output_type": "stream",
     "text": [
      "2019-11-21 07:21:22,322 : INFO : loading wv recursively from ./LMs/w2v_005_EM_corr_qual_1_2_00042.model.wv.* with mmap=None\n",
      "2019-11-21 07:21:22,327 : INFO : loading vectors from ./LMs/w2v_005_EM_corr_qual_1_2_00042.model.wv.vectors.npy with mmap=None\n",
      "2019-11-21 07:21:23,131 : INFO : setting ignored attribute vectors_norm to None\n",
      "2019-11-21 07:21:23,134 : INFO : loading vocabulary recursively from ./LMs/w2v_005_EM_corr_qual_1_2_00042.model.vocabulary.* with mmap=None\n",
      "2019-11-21 07:21:23,135 : INFO : loading trainables recursively from ./LMs/w2v_005_EM_corr_qual_1_2_00042.model.trainables.* with mmap=None\n",
      "2019-11-21 07:21:23,135 : INFO : loading syn1neg from ./LMs/w2v_005_EM_corr_qual_1_2_00042.model.trainables.syn1neg.npy with mmap=None\n",
      "2019-11-21 07:21:23,795 : INFO : setting ignored attribute cum_table to None\n",
      "2019-11-21 07:21:23,796 : INFO : loaded ./LMs/w2v_005_EM_corr_qual_1_2_00042.model\n",
      "2019-11-21 07:21:26,054 : INFO : loading Word2Vec object from ./LMs/w2v_005_EM_ocr_qual_1_2_00042.model\n",
      "2019-11-21 07:21:26,841 : INFO : loading wv recursively from ./LMs/w2v_005_EM_ocr_qual_1_2_00042.model.wv.* with mmap=None\n",
      "2019-11-21 07:21:26,842 : INFO : loading vectors from ./LMs/w2v_005_EM_ocr_qual_1_2_00042.model.wv.vectors.npy with mmap=None\n",
      "2019-11-21 07:21:27,700 : INFO : setting ignored attribute vectors_norm to None\n",
      "2019-11-21 07:21:27,701 : INFO : loading vocabulary recursively from ./LMs/w2v_005_EM_ocr_qual_1_2_00042.model.vocabulary.* with mmap=None\n",
      "2019-11-21 07:21:27,701 : INFO : loading trainables recursively from ./LMs/w2v_005_EM_ocr_qual_1_2_00042.model.trainables.* with mmap=None\n",
      "2019-11-21 07:21:27,702 : INFO : loading syn1neg from ./LMs/w2v_005_EM_ocr_qual_1_2_00042.model.trainables.syn1neg.npy with mmap=None\n",
      "2019-11-21 07:21:28,475 : INFO : setting ignored attribute cum_table to None\n",
      "2019-11-21 07:21:28,476 : INFO : loaded ./LMs/w2v_005_EM_ocr_qual_1_2_00042.model\n",
      "2019-11-21 07:21:46,594 : INFO : precomputing L2-norms of word weight vectors\n"
     ]
    },
    {
     "name": "stdout",
     "output_type": "stream",
     "text": [
      "topn: 50000\n"
     ]
    },
    {
     "name": "stderr",
     "output_type": "stream",
     "text": [
      "/Users/khosseini/anaconda3/envs/py37torch/lib/python3.6/site-packages/ipykernel_launcher.py:16: SettingWithCopyWarning: \n",
      "A value is trying to be set on a copy of a slice from a DataFrame.\n",
      "Try using .loc[row_indexer,col_indexer] = value instead\n",
      "\n",
      "See the caveats in the documentation: http://pandas.pydata.org/pandas-docs/stable/user_guide/indexing.html#returning-a-view-versus-a-copy\n",
      "  app.launch_new_instance()\n",
      "2019-11-21 07:25:44,927 : INFO : precomputing L2-norms of word weight vectors\n"
     ]
    },
    {
     "name": "stdout",
     "output_type": "stream",
     "text": [
      "corr: 254.64408707618713\n"
     ]
    },
    {
     "name": "stderr",
     "output_type": "stream",
     "text": [
      "/Users/khosseini/anaconda3/envs/py37torch/lib/python3.6/site-packages/ipykernel_launcher.py:20: SettingWithCopyWarning: \n",
      "A value is trying to be set on a copy of a slice from a DataFrame.\n",
      "Try using .loc[row_indexer,col_indexer] = value instead\n",
      "\n",
      "See the caveats in the documentation: http://pandas.pydata.org/pandas-docs/stable/user_guide/indexing.html#returning-a-view-versus-a-copy\n",
      "/Users/khosseini/anaconda3/envs/py37torch/lib/python3.6/site-packages/ipykernel_launcher.py:32: SettingWithCopyWarning: \n",
      "A value is trying to be set on a copy of a slice from a DataFrame.\n",
      "Try using .loc[row_indexer,col_indexer] = value instead\n",
      "\n",
      "See the caveats in the documentation: http://pandas.pydata.org/pandas-docs/stable/user_guide/indexing.html#returning-a-view-versus-a-copy\n"
     ]
    },
    {
     "name": "stdout",
     "output_type": "stream",
     "text": [
      "ocr: 477.40264987945557\n"
     ]
    },
    {
     "name": "stderr",
     "output_type": "stream",
     "text": [
      "2019-11-21 07:30:24,397 : INFO : loading Word2Vec object from ./LMs/w2v_005_EM_corr_qual_1_2_00043.model\n"
     ]
    },
    {
     "name": "stdout",
     "output_type": "stream",
     "text": [
      "total: 534.0670611858368\n"
     ]
    },
    {
     "name": "stderr",
     "output_type": "stream",
     "text": [
      "2019-11-21 07:31:20,757 : INFO : loading wv recursively from ./LMs/w2v_005_EM_corr_qual_1_2_00043.model.wv.* with mmap=None\n",
      "2019-11-21 07:31:20,762 : INFO : loading vectors from ./LMs/w2v_005_EM_corr_qual_1_2_00043.model.wv.vectors.npy with mmap=None\n",
      "2019-11-21 07:31:21,500 : INFO : setting ignored attribute vectors_norm to None\n",
      "2019-11-21 07:31:21,501 : INFO : loading vocabulary recursively from ./LMs/w2v_005_EM_corr_qual_1_2_00043.model.vocabulary.* with mmap=None\n",
      "2019-11-21 07:31:21,502 : INFO : loading trainables recursively from ./LMs/w2v_005_EM_corr_qual_1_2_00043.model.trainables.* with mmap=None\n",
      "2019-11-21 07:31:21,503 : INFO : loading syn1neg from ./LMs/w2v_005_EM_corr_qual_1_2_00043.model.trainables.syn1neg.npy with mmap=None\n",
      "2019-11-21 07:31:22,235 : INFO : setting ignored attribute cum_table to None\n",
      "2019-11-21 07:31:22,235 : INFO : loaded ./LMs/w2v_005_EM_corr_qual_1_2_00043.model\n",
      "2019-11-21 07:31:24,316 : INFO : loading Word2Vec object from ./LMs/w2v_005_EM_ocr_qual_1_2_00043.model\n",
      "2019-11-21 07:32:01,909 : INFO : loading wv recursively from ./LMs/w2v_005_EM_ocr_qual_1_2_00043.model.wv.* with mmap=None\n",
      "2019-11-21 07:32:01,912 : INFO : loading vectors from ./LMs/w2v_005_EM_ocr_qual_1_2_00043.model.wv.vectors.npy with mmap=None\n",
      "2019-11-21 07:32:02,710 : INFO : setting ignored attribute vectors_norm to None\n",
      "2019-11-21 07:32:02,711 : INFO : loading vocabulary recursively from ./LMs/w2v_005_EM_ocr_qual_1_2_00043.model.vocabulary.* with mmap=None\n",
      "2019-11-21 07:32:02,713 : INFO : loading trainables recursively from ./LMs/w2v_005_EM_ocr_qual_1_2_00043.model.trainables.* with mmap=None\n",
      "2019-11-21 07:32:02,714 : INFO : loading syn1neg from ./LMs/w2v_005_EM_ocr_qual_1_2_00043.model.trainables.syn1neg.npy with mmap=None\n",
      "2019-11-21 07:32:03,361 : INFO : setting ignored attribute cum_table to None\n",
      "2019-11-21 07:32:03,362 : INFO : loaded ./LMs/w2v_005_EM_ocr_qual_1_2_00043.model\n",
      "2019-11-21 07:32:23,251 : INFO : precomputing L2-norms of word weight vectors\n"
     ]
    },
    {
     "name": "stdout",
     "output_type": "stream",
     "text": [
      "topn: 50000\n"
     ]
    },
    {
     "name": "stderr",
     "output_type": "stream",
     "text": [
      "/Users/khosseini/anaconda3/envs/py37torch/lib/python3.6/site-packages/ipykernel_launcher.py:16: SettingWithCopyWarning: \n",
      "A value is trying to be set on a copy of a slice from a DataFrame.\n",
      "Try using .loc[row_indexer,col_indexer] = value instead\n",
      "\n",
      "See the caveats in the documentation: http://pandas.pydata.org/pandas-docs/stable/user_guide/indexing.html#returning-a-view-versus-a-copy\n",
      "  app.launch_new_instance()\n",
      "2019-11-21 07:36:02,050 : INFO : precomputing L2-norms of word weight vectors\n"
     ]
    },
    {
     "name": "stdout",
     "output_type": "stream",
     "text": [
      "corr: 236.418869972229\n"
     ]
    },
    {
     "name": "stderr",
     "output_type": "stream",
     "text": [
      "/Users/khosseini/anaconda3/envs/py37torch/lib/python3.6/site-packages/ipykernel_launcher.py:20: SettingWithCopyWarning: \n",
      "A value is trying to be set on a copy of a slice from a DataFrame.\n",
      "Try using .loc[row_indexer,col_indexer] = value instead\n",
      "\n",
      "See the caveats in the documentation: http://pandas.pydata.org/pandas-docs/stable/user_guide/indexing.html#returning-a-view-versus-a-copy\n",
      "/Users/khosseini/anaconda3/envs/py37torch/lib/python3.6/site-packages/ipykernel_launcher.py:32: SettingWithCopyWarning: \n",
      "A value is trying to be set on a copy of a slice from a DataFrame.\n",
      "Try using .loc[row_indexer,col_indexer] = value instead\n",
      "\n",
      "See the caveats in the documentation: http://pandas.pydata.org/pandas-docs/stable/user_guide/indexing.html#returning-a-view-versus-a-copy\n"
     ]
    },
    {
     "name": "stdout",
     "output_type": "stream",
     "text": [
      "ocr: 456.86408400535583\n"
     ]
    },
    {
     "name": "stderr",
     "output_type": "stream",
     "text": [
      "2019-11-21 07:40:39,300 : INFO : loading Word2Vec object from ./LMs/w2v_005_EM_corr_qual_1_2_00044.model\n"
     ]
    },
    {
     "name": "stdout",
     "output_type": "stream",
     "text": [
      "total: 513.5834109783173\n"
     ]
    },
    {
     "name": "stderr",
     "output_type": "stream",
     "text": [
      "2019-11-21 07:41:32,719 : INFO : loading wv recursively from ./LMs/w2v_005_EM_corr_qual_1_2_00044.model.wv.* with mmap=None\n",
      "2019-11-21 07:41:32,724 : INFO : loading vectors from ./LMs/w2v_005_EM_corr_qual_1_2_00044.model.wv.vectors.npy with mmap=None\n",
      "2019-11-21 07:41:33,504 : INFO : setting ignored attribute vectors_norm to None\n",
      "2019-11-21 07:41:33,505 : INFO : loading vocabulary recursively from ./LMs/w2v_005_EM_corr_qual_1_2_00044.model.vocabulary.* with mmap=None\n",
      "2019-11-21 07:41:33,506 : INFO : loading trainables recursively from ./LMs/w2v_005_EM_corr_qual_1_2_00044.model.trainables.* with mmap=None\n",
      "2019-11-21 07:41:33,506 : INFO : loading syn1neg from ./LMs/w2v_005_EM_corr_qual_1_2_00044.model.trainables.syn1neg.npy with mmap=None\n",
      "2019-11-21 07:41:34,134 : INFO : setting ignored attribute cum_table to None\n",
      "2019-11-21 07:41:34,135 : INFO : loaded ./LMs/w2v_005_EM_corr_qual_1_2_00044.model\n",
      "2019-11-21 07:41:36,466 : INFO : loading Word2Vec object from ./LMs/w2v_005_EM_ocr_qual_1_2_00044.model\n",
      "2019-11-21 07:42:13,348 : INFO : loading wv recursively from ./LMs/w2v_005_EM_ocr_qual_1_2_00044.model.wv.* with mmap=None\n",
      "2019-11-21 07:42:13,351 : INFO : loading vectors from ./LMs/w2v_005_EM_ocr_qual_1_2_00044.model.wv.vectors.npy with mmap=None\n",
      "2019-11-21 07:42:14,102 : INFO : setting ignored attribute vectors_norm to None\n",
      "2019-11-21 07:42:14,103 : INFO : loading vocabulary recursively from ./LMs/w2v_005_EM_ocr_qual_1_2_00044.model.vocabulary.* with mmap=None\n",
      "2019-11-21 07:42:14,104 : INFO : loading trainables recursively from ./LMs/w2v_005_EM_ocr_qual_1_2_00044.model.trainables.* with mmap=None\n",
      "2019-11-21 07:42:14,104 : INFO : loading syn1neg from ./LMs/w2v_005_EM_ocr_qual_1_2_00044.model.trainables.syn1neg.npy with mmap=None\n",
      "2019-11-21 07:42:14,757 : INFO : setting ignored attribute cum_table to None\n",
      "2019-11-21 07:42:14,758 : INFO : loaded ./LMs/w2v_005_EM_ocr_qual_1_2_00044.model\n",
      "2019-11-21 07:42:33,421 : INFO : precomputing L2-norms of word weight vectors\n"
     ]
    },
    {
     "name": "stdout",
     "output_type": "stream",
     "text": [
      "topn: 50000\n"
     ]
    },
    {
     "name": "stderr",
     "output_type": "stream",
     "text": [
      "/Users/khosseini/anaconda3/envs/py37torch/lib/python3.6/site-packages/ipykernel_launcher.py:16: SettingWithCopyWarning: \n",
      "A value is trying to be set on a copy of a slice from a DataFrame.\n",
      "Try using .loc[row_indexer,col_indexer] = value instead\n",
      "\n",
      "See the caveats in the documentation: http://pandas.pydata.org/pandas-docs/stable/user_guide/indexing.html#returning-a-view-versus-a-copy\n",
      "  app.launch_new_instance()\n",
      "2019-11-21 07:46:12,364 : INFO : precomputing L2-norms of word weight vectors\n"
     ]
    },
    {
     "name": "stdout",
     "output_type": "stream",
     "text": [
      "corr: 235.54268598556519\n"
     ]
    },
    {
     "name": "stderr",
     "output_type": "stream",
     "text": [
      "/Users/khosseini/anaconda3/envs/py37torch/lib/python3.6/site-packages/ipykernel_launcher.py:20: SettingWithCopyWarning: \n",
      "A value is trying to be set on a copy of a slice from a DataFrame.\n",
      "Try using .loc[row_indexer,col_indexer] = value instead\n",
      "\n",
      "See the caveats in the documentation: http://pandas.pydata.org/pandas-docs/stable/user_guide/indexing.html#returning-a-view-versus-a-copy\n",
      "/Users/khosseini/anaconda3/envs/py37torch/lib/python3.6/site-packages/ipykernel_launcher.py:32: SettingWithCopyWarning: \n",
      "A value is trying to be set on a copy of a slice from a DataFrame.\n",
      "Try using .loc[row_indexer,col_indexer] = value instead\n",
      "\n",
      "See the caveats in the documentation: http://pandas.pydata.org/pandas-docs/stable/user_guide/indexing.html#returning-a-view-versus-a-copy\n"
     ]
    },
    {
     "name": "stdout",
     "output_type": "stream",
     "text": [
      "ocr: 454.99826169013977\n"
     ]
    },
    {
     "name": "stderr",
     "output_type": "stream",
     "text": [
      "2019-11-21 07:50:46,903 : INFO : loading Word2Vec object from ./LMs/w2v_005_EM_corr_qual_1_2_00045.model\n"
     ]
    },
    {
     "name": "stdout",
     "output_type": "stream",
     "text": [
      "total: 509.9917607307434\n"
     ]
    },
    {
     "name": "stderr",
     "output_type": "stream",
     "text": [
      "2019-11-21 07:51:39,858 : INFO : loading wv recursively from ./LMs/w2v_005_EM_corr_qual_1_2_00045.model.wv.* with mmap=None\n",
      "2019-11-21 07:51:39,869 : INFO : loading vectors from ./LMs/w2v_005_EM_corr_qual_1_2_00045.model.wv.vectors.npy with mmap=None\n",
      "2019-11-21 07:51:40,620 : INFO : setting ignored attribute vectors_norm to None\n",
      "2019-11-21 07:51:40,621 : INFO : loading vocabulary recursively from ./LMs/w2v_005_EM_corr_qual_1_2_00045.model.vocabulary.* with mmap=None\n",
      "2019-11-21 07:51:40,622 : INFO : loading trainables recursively from ./LMs/w2v_005_EM_corr_qual_1_2_00045.model.trainables.* with mmap=None\n",
      "2019-11-21 07:51:40,623 : INFO : loading syn1neg from ./LMs/w2v_005_EM_corr_qual_1_2_00045.model.trainables.syn1neg.npy with mmap=None\n",
      "2019-11-21 07:51:41,258 : INFO : setting ignored attribute cum_table to None\n",
      "2019-11-21 07:51:41,259 : INFO : loaded ./LMs/w2v_005_EM_corr_qual_1_2_00045.model\n",
      "2019-11-21 07:51:43,719 : INFO : loading Word2Vec object from ./LMs/w2v_005_EM_ocr_qual_1_2_00045.model\n",
      "2019-11-21 07:52:20,855 : INFO : loading wv recursively from ./LMs/w2v_005_EM_ocr_qual_1_2_00045.model.wv.* with mmap=None\n",
      "2019-11-21 07:52:20,858 : INFO : loading vectors from ./LMs/w2v_005_EM_ocr_qual_1_2_00045.model.wv.vectors.npy with mmap=None\n",
      "2019-11-21 07:52:21,540 : INFO : setting ignored attribute vectors_norm to None\n",
      "2019-11-21 07:52:21,541 : INFO : loading vocabulary recursively from ./LMs/w2v_005_EM_ocr_qual_1_2_00045.model.vocabulary.* with mmap=None\n",
      "2019-11-21 07:52:21,542 : INFO : loading trainables recursively from ./LMs/w2v_005_EM_ocr_qual_1_2_00045.model.trainables.* with mmap=None\n",
      "2019-11-21 07:52:21,542 : INFO : loading syn1neg from ./LMs/w2v_005_EM_ocr_qual_1_2_00045.model.trainables.syn1neg.npy with mmap=None\n",
      "2019-11-21 07:52:22,258 : INFO : setting ignored attribute cum_table to None\n",
      "2019-11-21 07:52:22,259 : INFO : loaded ./LMs/w2v_005_EM_ocr_qual_1_2_00045.model\n",
      "2019-11-21 07:52:40,742 : INFO : precomputing L2-norms of word weight vectors\n"
     ]
    },
    {
     "name": "stdout",
     "output_type": "stream",
     "text": [
      "topn: 50000\n"
     ]
    },
    {
     "name": "stderr",
     "output_type": "stream",
     "text": [
      "/Users/khosseini/anaconda3/envs/py37torch/lib/python3.6/site-packages/ipykernel_launcher.py:16: SettingWithCopyWarning: \n",
      "A value is trying to be set on a copy of a slice from a DataFrame.\n",
      "Try using .loc[row_indexer,col_indexer] = value instead\n",
      "\n",
      "See the caveats in the documentation: http://pandas.pydata.org/pandas-docs/stable/user_guide/indexing.html#returning-a-view-versus-a-copy\n",
      "  app.launch_new_instance()\n",
      "2019-11-21 07:56:20,223 : INFO : precomputing L2-norms of word weight vectors\n"
     ]
    },
    {
     "name": "stdout",
     "output_type": "stream",
     "text": [
      "corr: 236.15243196487427\n"
     ]
    },
    {
     "name": "stderr",
     "output_type": "stream",
     "text": [
      "/Users/khosseini/anaconda3/envs/py37torch/lib/python3.6/site-packages/ipykernel_launcher.py:20: SettingWithCopyWarning: \n",
      "A value is trying to be set on a copy of a slice from a DataFrame.\n",
      "Try using .loc[row_indexer,col_indexer] = value instead\n",
      "\n",
      "See the caveats in the documentation: http://pandas.pydata.org/pandas-docs/stable/user_guide/indexing.html#returning-a-view-versus-a-copy\n",
      "/Users/khosseini/anaconda3/envs/py37torch/lib/python3.6/site-packages/ipykernel_launcher.py:32: SettingWithCopyWarning: \n",
      "A value is trying to be set on a copy of a slice from a DataFrame.\n",
      "Try using .loc[row_indexer,col_indexer] = value instead\n",
      "\n",
      "See the caveats in the documentation: http://pandas.pydata.org/pandas-docs/stable/user_guide/indexing.html#returning-a-view-versus-a-copy\n"
     ]
    },
    {
     "name": "stdout",
     "output_type": "stream",
     "text": [
      "ocr: 457.7325441837311\n"
     ]
    },
    {
     "name": "stderr",
     "output_type": "stream",
     "text": [
      "2019-11-21 08:01:00,424 : INFO : loading Word2Vec object from ./LMs/w2v_005_EM_corr_qual_1_2_00046.model\n"
     ]
    },
    {
     "name": "stdout",
     "output_type": "stream",
     "text": [
      "total: 516.1791708469391\n"
     ]
    },
    {
     "name": "stderr",
     "output_type": "stream",
     "text": [
      "2019-11-21 08:01:52,668 : INFO : loading wv recursively from ./LMs/w2v_005_EM_corr_qual_1_2_00046.model.wv.* with mmap=None\n",
      "2019-11-21 08:01:52,674 : INFO : loading vectors from ./LMs/w2v_005_EM_corr_qual_1_2_00046.model.wv.vectors.npy with mmap=None\n",
      "2019-11-21 08:01:53,301 : INFO : setting ignored attribute vectors_norm to None\n",
      "2019-11-21 08:01:53,302 : INFO : loading vocabulary recursively from ./LMs/w2v_005_EM_corr_qual_1_2_00046.model.vocabulary.* with mmap=None\n",
      "2019-11-21 08:01:53,303 : INFO : loading trainables recursively from ./LMs/w2v_005_EM_corr_qual_1_2_00046.model.trainables.* with mmap=None\n",
      "2019-11-21 08:01:53,304 : INFO : loading syn1neg from ./LMs/w2v_005_EM_corr_qual_1_2_00046.model.trainables.syn1neg.npy with mmap=None\n",
      "2019-11-21 08:01:53,897 : INFO : setting ignored attribute cum_table to None\n",
      "2019-11-21 08:01:53,899 : INFO : loaded ./LMs/w2v_005_EM_corr_qual_1_2_00046.model\n",
      "2019-11-21 08:01:56,172 : INFO : loading Word2Vec object from ./LMs/w2v_005_EM_ocr_qual_1_2_00046.model\n",
      "2019-11-21 08:02:36,155 : INFO : loading wv recursively from ./LMs/w2v_005_EM_ocr_qual_1_2_00046.model.wv.* with mmap=None\n",
      "2019-11-21 08:02:36,161 : INFO : loading vectors from ./LMs/w2v_005_EM_ocr_qual_1_2_00046.model.wv.vectors.npy with mmap=None\n",
      "2019-11-21 08:02:37,724 : INFO : setting ignored attribute vectors_norm to None\n",
      "2019-11-21 08:02:37,725 : INFO : loading vocabulary recursively from ./LMs/w2v_005_EM_ocr_qual_1_2_00046.model.vocabulary.* with mmap=None\n",
      "2019-11-21 08:02:37,726 : INFO : loading trainables recursively from ./LMs/w2v_005_EM_ocr_qual_1_2_00046.model.trainables.* with mmap=None\n",
      "2019-11-21 08:02:37,727 : INFO : loading syn1neg from ./LMs/w2v_005_EM_ocr_qual_1_2_00046.model.trainables.syn1neg.npy with mmap=None\n",
      "2019-11-21 08:02:39,102 : INFO : setting ignored attribute cum_table to None\n",
      "2019-11-21 08:02:39,103 : INFO : loaded ./LMs/w2v_005_EM_ocr_qual_1_2_00046.model\n",
      "2019-11-21 08:02:58,870 : INFO : precomputing L2-norms of word weight vectors\n"
     ]
    },
    {
     "name": "stdout",
     "output_type": "stream",
     "text": [
      "topn: 50000\n"
     ]
    },
    {
     "name": "stderr",
     "output_type": "stream",
     "text": [
      "/Users/khosseini/anaconda3/envs/py37torch/lib/python3.6/site-packages/ipykernel_launcher.py:16: SettingWithCopyWarning: \n",
      "A value is trying to be set on a copy of a slice from a DataFrame.\n",
      "Try using .loc[row_indexer,col_indexer] = value instead\n",
      "\n",
      "See the caveats in the documentation: http://pandas.pydata.org/pandas-docs/stable/user_guide/indexing.html#returning-a-view-versus-a-copy\n",
      "  app.launch_new_instance()\n",
      "2019-11-21 08:06:38,506 : INFO : precomputing L2-norms of word weight vectors\n"
     ]
    },
    {
     "name": "stdout",
     "output_type": "stream",
     "text": [
      "corr: 237.3286988735199\n"
     ]
    },
    {
     "name": "stderr",
     "output_type": "stream",
     "text": [
      "/Users/khosseini/anaconda3/envs/py37torch/lib/python3.6/site-packages/ipykernel_launcher.py:20: SettingWithCopyWarning: \n",
      "A value is trying to be set on a copy of a slice from a DataFrame.\n",
      "Try using .loc[row_indexer,col_indexer] = value instead\n",
      "\n",
      "See the caveats in the documentation: http://pandas.pydata.org/pandas-docs/stable/user_guide/indexing.html#returning-a-view-versus-a-copy\n",
      "/Users/khosseini/anaconda3/envs/py37torch/lib/python3.6/site-packages/ipykernel_launcher.py:32: SettingWithCopyWarning: \n",
      "A value is trying to be set on a copy of a slice from a DataFrame.\n",
      "Try using .loc[row_indexer,col_indexer] = value instead\n",
      "\n",
      "See the caveats in the documentation: http://pandas.pydata.org/pandas-docs/stable/user_guide/indexing.html#returning-a-view-versus-a-copy\n"
     ]
    },
    {
     "name": "stdout",
     "output_type": "stream",
     "text": [
      "ocr: 458.80982208251953\n"
     ]
    },
    {
     "name": "stderr",
     "output_type": "stream",
     "text": [
      "2019-11-21 08:11:19,688 : INFO : loading Word2Vec object from ./LMs/w2v_005_EM_corr_qual_1_2_00047.model\n"
     ]
    },
    {
     "name": "stdout",
     "output_type": "stream",
     "text": [
      "total: 518.3974258899689\n"
     ]
    },
    {
     "name": "stderr",
     "output_type": "stream",
     "text": [
      "2019-11-21 08:12:13,744 : INFO : loading wv recursively from ./LMs/w2v_005_EM_corr_qual_1_2_00047.model.wv.* with mmap=None\n",
      "2019-11-21 08:12:13,752 : INFO : loading vectors from ./LMs/w2v_005_EM_corr_qual_1_2_00047.model.wv.vectors.npy with mmap=None\n",
      "2019-11-21 08:12:14,453 : INFO : setting ignored attribute vectors_norm to None\n",
      "2019-11-21 08:12:14,454 : INFO : loading vocabulary recursively from ./LMs/w2v_005_EM_corr_qual_1_2_00047.model.vocabulary.* with mmap=None\n",
      "2019-11-21 08:12:14,455 : INFO : loading trainables recursively from ./LMs/w2v_005_EM_corr_qual_1_2_00047.model.trainables.* with mmap=None\n",
      "2019-11-21 08:12:14,457 : INFO : loading syn1neg from ./LMs/w2v_005_EM_corr_qual_1_2_00047.model.trainables.syn1neg.npy with mmap=None\n",
      "2019-11-21 08:12:15,089 : INFO : setting ignored attribute cum_table to None\n",
      "2019-11-21 08:12:15,090 : INFO : loaded ./LMs/w2v_005_EM_corr_qual_1_2_00047.model\n",
      "2019-11-21 08:12:17,452 : INFO : loading Word2Vec object from ./LMs/w2v_005_EM_ocr_qual_1_2_00047.model\n",
      "2019-11-21 08:12:53,907 : INFO : loading wv recursively from ./LMs/w2v_005_EM_ocr_qual_1_2_00047.model.wv.* with mmap=None\n",
      "2019-11-21 08:12:53,912 : INFO : loading vectors from ./LMs/w2v_005_EM_ocr_qual_1_2_00047.model.wv.vectors.npy with mmap=None\n",
      "2019-11-21 08:12:54,651 : INFO : setting ignored attribute vectors_norm to None\n",
      "2019-11-21 08:12:54,653 : INFO : loading vocabulary recursively from ./LMs/w2v_005_EM_ocr_qual_1_2_00047.model.vocabulary.* with mmap=None\n",
      "2019-11-21 08:12:54,653 : INFO : loading trainables recursively from ./LMs/w2v_005_EM_ocr_qual_1_2_00047.model.trainables.* with mmap=None\n",
      "2019-11-21 08:12:54,654 : INFO : loading syn1neg from ./LMs/w2v_005_EM_ocr_qual_1_2_00047.model.trainables.syn1neg.npy with mmap=None\n",
      "2019-11-21 08:12:55,285 : INFO : setting ignored attribute cum_table to None\n",
      "2019-11-21 08:12:55,286 : INFO : loaded ./LMs/w2v_005_EM_ocr_qual_1_2_00047.model\n",
      "2019-11-21 08:13:14,942 : INFO : precomputing L2-norms of word weight vectors\n"
     ]
    },
    {
     "name": "stdout",
     "output_type": "stream",
     "text": [
      "topn: 50000\n"
     ]
    },
    {
     "name": "stderr",
     "output_type": "stream",
     "text": [
      "/Users/khosseini/anaconda3/envs/py37torch/lib/python3.6/site-packages/ipykernel_launcher.py:16: SettingWithCopyWarning: \n",
      "A value is trying to be set on a copy of a slice from a DataFrame.\n",
      "Try using .loc[row_indexer,col_indexer] = value instead\n",
      "\n",
      "See the caveats in the documentation: http://pandas.pydata.org/pandas-docs/stable/user_guide/indexing.html#returning-a-view-versus-a-copy\n",
      "  app.launch_new_instance()\n",
      "2019-11-21 08:16:53,301 : INFO : precomputing L2-norms of word weight vectors\n"
     ]
    },
    {
     "name": "stdout",
     "output_type": "stream",
     "text": [
      "corr: 235.7291350364685\n"
     ]
    },
    {
     "name": "stderr",
     "output_type": "stream",
     "text": [
      "/Users/khosseini/anaconda3/envs/py37torch/lib/python3.6/site-packages/ipykernel_launcher.py:20: SettingWithCopyWarning: \n",
      "A value is trying to be set on a copy of a slice from a DataFrame.\n",
      "Try using .loc[row_indexer,col_indexer] = value instead\n",
      "\n",
      "See the caveats in the documentation: http://pandas.pydata.org/pandas-docs/stable/user_guide/indexing.html#returning-a-view-versus-a-copy\n",
      "/Users/khosseini/anaconda3/envs/py37torch/lib/python3.6/site-packages/ipykernel_launcher.py:32: SettingWithCopyWarning: \n",
      "A value is trying to be set on a copy of a slice from a DataFrame.\n",
      "Try using .loc[row_indexer,col_indexer] = value instead\n",
      "\n",
      "See the caveats in the documentation: http://pandas.pydata.org/pandas-docs/stable/user_guide/indexing.html#returning-a-view-versus-a-copy\n"
     ]
    },
    {
     "name": "stdout",
     "output_type": "stream",
     "text": [
      "ocr: 456.2129168510437\n"
     ]
    },
    {
     "name": "stderr",
     "output_type": "stream",
     "text": [
      "2019-11-21 08:21:28,686 : INFO : loading Word2Vec object from ./LMs/w2v_005_EM_corr_qual_1_2_00048.model\n"
     ]
    },
    {
     "name": "stdout",
     "output_type": "stream",
     "text": [
      "total: 511.07346200942993\n"
     ]
    },
    {
     "name": "stderr",
     "output_type": "stream",
     "text": [
      "2019-11-21 08:22:22,958 : INFO : loading wv recursively from ./LMs/w2v_005_EM_corr_qual_1_2_00048.model.wv.* with mmap=None\n",
      "2019-11-21 08:22:22,964 : INFO : loading vectors from ./LMs/w2v_005_EM_corr_qual_1_2_00048.model.wv.vectors.npy with mmap=None\n",
      "2019-11-21 08:22:23,724 : INFO : setting ignored attribute vectors_norm to None\n",
      "2019-11-21 08:22:23,725 : INFO : loading vocabulary recursively from ./LMs/w2v_005_EM_corr_qual_1_2_00048.model.vocabulary.* with mmap=None\n",
      "2019-11-21 08:22:23,726 : INFO : loading trainables recursively from ./LMs/w2v_005_EM_corr_qual_1_2_00048.model.trainables.* with mmap=None\n",
      "2019-11-21 08:22:23,729 : INFO : loading syn1neg from ./LMs/w2v_005_EM_corr_qual_1_2_00048.model.trainables.syn1neg.npy with mmap=None\n",
      "2019-11-21 08:22:24,349 : INFO : setting ignored attribute cum_table to None\n",
      "2019-11-21 08:22:24,352 : INFO : loaded ./LMs/w2v_005_EM_corr_qual_1_2_00048.model\n",
      "2019-11-21 08:22:26,502 : INFO : loading Word2Vec object from ./LMs/w2v_005_EM_ocr_qual_1_2_00048.model\n",
      "2019-11-21 08:23:03,558 : INFO : loading wv recursively from ./LMs/w2v_005_EM_ocr_qual_1_2_00048.model.wv.* with mmap=None\n",
      "2019-11-21 08:23:03,562 : INFO : loading vectors from ./LMs/w2v_005_EM_ocr_qual_1_2_00048.model.wv.vectors.npy with mmap=None\n",
      "2019-11-21 08:23:04,326 : INFO : setting ignored attribute vectors_norm to None\n",
      "2019-11-21 08:23:04,327 : INFO : loading vocabulary recursively from ./LMs/w2v_005_EM_ocr_qual_1_2_00048.model.vocabulary.* with mmap=None\n",
      "2019-11-21 08:23:04,328 : INFO : loading trainables recursively from ./LMs/w2v_005_EM_ocr_qual_1_2_00048.model.trainables.* with mmap=None\n",
      "2019-11-21 08:23:04,329 : INFO : loading syn1neg from ./LMs/w2v_005_EM_ocr_qual_1_2_00048.model.trainables.syn1neg.npy with mmap=None\n",
      "2019-11-21 08:23:04,980 : INFO : setting ignored attribute cum_table to None\n",
      "2019-11-21 08:23:04,981 : INFO : loaded ./LMs/w2v_005_EM_ocr_qual_1_2_00048.model\n"
     ]
    },
    {
     "name": "stdout",
     "output_type": "stream",
     "text": [
      "topn: 50000\n"
     ]
    },
    {
     "name": "stderr",
     "output_type": "stream",
     "text": [
      "2019-11-21 08:23:24,026 : INFO : precomputing L2-norms of word weight vectors\n",
      "/Users/khosseini/anaconda3/envs/py37torch/lib/python3.6/site-packages/ipykernel_launcher.py:16: SettingWithCopyWarning: \n",
      "A value is trying to be set on a copy of a slice from a DataFrame.\n",
      "Try using .loc[row_indexer,col_indexer] = value instead\n",
      "\n",
      "See the caveats in the documentation: http://pandas.pydata.org/pandas-docs/stable/user_guide/indexing.html#returning-a-view-versus-a-copy\n",
      "  app.launch_new_instance()\n",
      "2019-11-21 08:27:04,050 : INFO : precomputing L2-norms of word weight vectors\n"
     ]
    },
    {
     "name": "stdout",
     "output_type": "stream",
     "text": [
      "corr: 237.05782914161682\n"
     ]
    },
    {
     "name": "stderr",
     "output_type": "stream",
     "text": [
      "/Users/khosseini/anaconda3/envs/py37torch/lib/python3.6/site-packages/ipykernel_launcher.py:20: SettingWithCopyWarning: \n",
      "A value is trying to be set on a copy of a slice from a DataFrame.\n",
      "Try using .loc[row_indexer,col_indexer] = value instead\n",
      "\n",
      "See the caveats in the documentation: http://pandas.pydata.org/pandas-docs/stable/user_guide/indexing.html#returning-a-view-versus-a-copy\n",
      "/Users/khosseini/anaconda3/envs/py37torch/lib/python3.6/site-packages/ipykernel_launcher.py:32: SettingWithCopyWarning: \n",
      "A value is trying to be set on a copy of a slice from a DataFrame.\n",
      "Try using .loc[row_indexer,col_indexer] = value instead\n",
      "\n",
      "See the caveats in the documentation: http://pandas.pydata.org/pandas-docs/stable/user_guide/indexing.html#returning-a-view-versus-a-copy\n"
     ]
    },
    {
     "name": "stdout",
     "output_type": "stream",
     "text": [
      "ocr: 457.49165201187134\n"
     ]
    },
    {
     "name": "stderr",
     "output_type": "stream",
     "text": [
      "2019-11-21 08:31:40,871 : INFO : loading Word2Vec object from ./LMs/w2v_005_EM_corr_qual_1_2_00049.model\n"
     ]
    },
    {
     "name": "stdout",
     "output_type": "stream",
     "text": [
      "total: 513.807911157608\n"
     ]
    },
    {
     "name": "stderr",
     "output_type": "stream",
     "text": [
      "2019-11-21 08:32:33,533 : INFO : loading wv recursively from ./LMs/w2v_005_EM_corr_qual_1_2_00049.model.wv.* with mmap=None\n",
      "2019-11-21 08:32:33,540 : INFO : loading vectors from ./LMs/w2v_005_EM_corr_qual_1_2_00049.model.wv.vectors.npy with mmap=None\n",
      "2019-11-21 08:32:34,288 : INFO : setting ignored attribute vectors_norm to None\n",
      "2019-11-21 08:32:34,289 : INFO : loading vocabulary recursively from ./LMs/w2v_005_EM_corr_qual_1_2_00049.model.vocabulary.* with mmap=None\n",
      "2019-11-21 08:32:34,292 : INFO : loading trainables recursively from ./LMs/w2v_005_EM_corr_qual_1_2_00049.model.trainables.* with mmap=None\n",
      "2019-11-21 08:32:34,292 : INFO : loading syn1neg from ./LMs/w2v_005_EM_corr_qual_1_2_00049.model.trainables.syn1neg.npy with mmap=None\n",
      "2019-11-21 08:32:34,906 : INFO : setting ignored attribute cum_table to None\n",
      "2019-11-21 08:32:34,907 : INFO : loaded ./LMs/w2v_005_EM_corr_qual_1_2_00049.model\n",
      "2019-11-21 08:32:37,142 : INFO : loading Word2Vec object from ./LMs/w2v_005_EM_ocr_qual_1_2_00049.model\n",
      "2019-11-21 08:33:13,420 : INFO : loading wv recursively from ./LMs/w2v_005_EM_ocr_qual_1_2_00049.model.wv.* with mmap=None\n",
      "2019-11-21 08:33:13,424 : INFO : loading vectors from ./LMs/w2v_005_EM_ocr_qual_1_2_00049.model.wv.vectors.npy with mmap=None\n",
      "2019-11-21 08:33:14,227 : INFO : setting ignored attribute vectors_norm to None\n",
      "2019-11-21 08:33:14,228 : INFO : loading vocabulary recursively from ./LMs/w2v_005_EM_ocr_qual_1_2_00049.model.vocabulary.* with mmap=None\n",
      "2019-11-21 08:33:14,228 : INFO : loading trainables recursively from ./LMs/w2v_005_EM_ocr_qual_1_2_00049.model.trainables.* with mmap=None\n",
      "2019-11-21 08:33:14,229 : INFO : loading syn1neg from ./LMs/w2v_005_EM_ocr_qual_1_2_00049.model.trainables.syn1neg.npy with mmap=None\n",
      "2019-11-21 08:33:14,859 : INFO : setting ignored attribute cum_table to None\n",
      "2019-11-21 08:33:14,860 : INFO : loaded ./LMs/w2v_005_EM_ocr_qual_1_2_00049.model\n",
      "2019-11-21 08:33:33,494 : INFO : precomputing L2-norms of word weight vectors\n"
     ]
    },
    {
     "name": "stdout",
     "output_type": "stream",
     "text": [
      "topn: 50000\n"
     ]
    },
    {
     "name": "stderr",
     "output_type": "stream",
     "text": [
      "/Users/khosseini/anaconda3/envs/py37torch/lib/python3.6/site-packages/ipykernel_launcher.py:16: SettingWithCopyWarning: \n",
      "A value is trying to be set on a copy of a slice from a DataFrame.\n",
      "Try using .loc[row_indexer,col_indexer] = value instead\n",
      "\n",
      "See the caveats in the documentation: http://pandas.pydata.org/pandas-docs/stable/user_guide/indexing.html#returning-a-view-versus-a-copy\n",
      "  app.launch_new_instance()\n",
      "2019-11-21 08:37:13,115 : INFO : precomputing L2-norms of word weight vectors\n"
     ]
    },
    {
     "name": "stdout",
     "output_type": "stream",
     "text": [
      "corr: 236.18827295303345\n"
     ]
    },
    {
     "name": "stderr",
     "output_type": "stream",
     "text": [
      "/Users/khosseini/anaconda3/envs/py37torch/lib/python3.6/site-packages/ipykernel_launcher.py:20: SettingWithCopyWarning: \n",
      "A value is trying to be set on a copy of a slice from a DataFrame.\n",
      "Try using .loc[row_indexer,col_indexer] = value instead\n",
      "\n",
      "See the caveats in the documentation: http://pandas.pydata.org/pandas-docs/stable/user_guide/indexing.html#returning-a-view-versus-a-copy\n",
      "/Users/khosseini/anaconda3/envs/py37torch/lib/python3.6/site-packages/ipykernel_launcher.py:32: SettingWithCopyWarning: \n",
      "A value is trying to be set on a copy of a slice from a DataFrame.\n",
      "Try using .loc[row_indexer,col_indexer] = value instead\n",
      "\n",
      "See the caveats in the documentation: http://pandas.pydata.org/pandas-docs/stable/user_guide/indexing.html#returning-a-view-versus-a-copy\n"
     ]
    },
    {
     "name": "stdout",
     "output_type": "stream",
     "text": [
      "ocr: 456.85425782203674\n",
      "total: 513.8310101032257\n"
     ]
    }
   ],
   "source": [
    "neigh_jaccard_bands_1_2 = []\n",
    "\n",
    "for i_model in range(0, 50):\n",
    "\n",
    "    w2v_em_corr_qual_1_2 = Word2Vec.load('./LMs/w2v_005_EM_corr_qual_1_2_%05i.model' % i_model)\n",
    "    w2v_em_ocr_qual_1_2 = Word2Vec.load('./LMs/w2v_005_EM_ocr_qual_1_2_%05i.model' % i_model)\n",
    "\n",
    "    #for topn in [1, 2, 5, 10, 50, 100, 500, 1000, 5000, 10000, 50000]:\n",
    "    for topn in [50000]:\n",
    "        print(\"topn: {}\".format(topn))\n",
    "        t1 = time.time()\n",
    "\n",
    "        pd2search = pd_words[0:1000]\n",
    "        pd2search['w2v_em_corr_qual_1_2'] = pd2search.apply(found_neighbors, args=[w2v_em_corr_qual_1_2, \n",
    "                                                                                   'vocab', \n",
    "                                                                                   topn], axis=1)\n",
    "        print(\"corr: {}\".format(time.time() - t1))\n",
    "        pd2search['w2v_em_ocr_qual_1_2'] = pd2search.apply(found_neighbors, args=[w2v_em_ocr_qual_1_2,\n",
    "                                                                                  'vocab', \n",
    "                                                                                  topn], axis=1)\n",
    "        print(\"ocr: {}\".format(time.time() - t1))\n",
    "\n",
    "    mytopn_range = [1, 2, 5, \n",
    "                    10, 20, 50, \n",
    "                    100, 200, 500, \n",
    "                    1000, 2000, 5000, \n",
    "                    10000, 20000, 50000]\n",
    "    for mytopn in mytopn_range:\n",
    "        pd2search['jaccard_qual_1_2'] = \\\n",
    "            pd2search.apply(jaccard_similarity_df, \n",
    "                            args=['w2v_em_corr_qual_1_2', \"w2v_em_ocr_qual_1_2\", mytopn], \n",
    "                            axis=1)\n",
    "\n",
    "        neigh_jaccard_bands_1_2.append(\n",
    "            [mytopn, \n",
    "             pd2search['jaccard_qual_1_2'].mean(), \n",
    "             pd2search['jaccard_qual_1_2'].std(),\n",
    "             i_model\n",
    "            ])\n",
    "    print(\"total: {}\".format(time.time() - t1))\n",
    "    np.save(\"neigh_jaccard_bands_1_2.npy\", np.array(neigh_jaccard_bands_1_2))\n",
    "\n",
    "neigh_jaccard_bands_1_2 = np.array(neigh_jaccard_bands_1_2)"
   ]
  },
  {
   "cell_type": "code",
   "execution_count": 15,
   "metadata": {},
   "outputs": [],
   "source": [
    "# neigh_jaccard_bands_1_2 = []\n",
    "\n",
    "# for i_model in range(0, 50):\n",
    "\n",
    "#     w2v_em_corr_qual_1_2 = Word2Vec.load('./LMs/w2v_005_EM_corr_qual_1_2_%05i.model' % i_model)\n",
    "#     w2v_em_ocr_qual_1_2 = Word2Vec.load('./LMs/w2v_005_EM_ocr_qual_1_2_%05i.model' % i_model)\n",
    "\n",
    "#     for topn in [1, 2, 5, 10, 50, 100, 500, 1000, 5000, 10000, 50000]:\n",
    "#         print(\"topn: {}\".format(topn))\n",
    "#         t1 = time.time()\n",
    "\n",
    "#         pd2search = pd_words[0:1000]\n",
    "#         pd2search['w2v_em_corr_qual_1_2'] = pd2search.apply(found_neighbors, args=[w2v_em_corr_qual_1_2, \n",
    "#                                                                                    'vocab', \n",
    "#                                                                                    topn], axis=1)\n",
    "#         print(\"corr: {}\".format(time.time() - t1))\n",
    "#         pd2search['w2v_em_ocr_qual_1_2'] = pd2search.apply(found_neighbors, args=[w2v_em_ocr_qual_1_2, \n",
    "#                                                                                  'vocab', \n",
    "#                                                                                   topn], axis=1)\n",
    "#         pd2search['jaccard_qual_1_2'] = \\\n",
    "#             pd2search.apply(jaccard_similarity_df, args=['w2v_em_corr_qual_1_2', \n",
    "#                                                          \"w2v_em_ocr_qual_1_2\", \n",
    "#                                                          True], \n",
    "#                             axis=1)\n",
    "\n",
    "#         neigh_jaccard_bands_1_2.append(\n",
    "#             [topn, \n",
    "#              pd2search['jaccard_qual_1_2'].mean(), \n",
    "#              pd2search['jaccard_qual_1_2'].std(),\n",
    "#              i_model\n",
    "#             ])\n",
    "\n",
    "#         print(\"total: {}\".format(time.time() - t1))\n",
    "\n",
    "# neigh_jaccard_bands_1_2 = np.array(neigh_jaccard_bands_1_2)"
   ]
  },
  {
   "cell_type": "code",
   "execution_count": 30,
   "metadata": {},
   "outputs": [],
   "source": [
    "np.save(\"neigh_jaccard_bands_1_2.npy\", neigh_jaccard_bands_1_2)"
   ]
  },
  {
   "cell_type": "code",
   "execution_count": 31,
   "metadata": {},
   "outputs": [],
   "source": [
    "neigh_jaccard_bands_1_2_all = np.load(\"neigh_jaccard_bands_1_2.npy\")\n",
    "neigh_jaccard_bands_3_4 = np.load(\"neigh_jaccard_bands_3_4.npy\")"
   ]
  },
  {
   "cell_type": "code",
   "execution_count": 33,
   "metadata": {},
   "outputs": [
    {
     "data": {
      "text/plain": [
       "(750, 4)"
      ]
     },
     "execution_count": 33,
     "metadata": {},
     "output_type": "execute_result"
    }
   ],
   "source": [
    "np.shape(neigh_jaccard_bands_1_2_all)"
   ]
  },
  {
   "cell_type": "code",
   "execution_count": 34,
   "metadata": {},
   "outputs": [],
   "source": [
    "neigh_jaccard_bands_1_2 = np.split(neigh_jaccard_bands_1_2_all, 50)"
   ]
  },
  {
   "cell_type": "code",
   "execution_count": 35,
   "metadata": {},
   "outputs": [
    {
     "data": {
      "text/plain": [
       "[array([[1.00000000e+00, 4.86000000e-01, 5.00054051e-01, 0.00000000e+00],\n",
       "        [2.00000000e+00, 4.59333333e-01, 3.63670533e-01, 0.00000000e+00],\n",
       "        [5.00000000e+00, 4.43817460e-01, 2.41919604e-01, 0.00000000e+00],\n",
       "        [1.00000000e+01, 4.19756591e-01, 2.06726245e-01, 0.00000000e+00],\n",
       "        [2.00000000e+01, 3.66780864e-01, 1.75401660e-01, 0.00000000e+00],\n",
       "        [5.00000000e+01, 2.86554905e-01, 1.55139195e-01, 0.00000000e+00],\n",
       "        [1.00000000e+02, 2.37542497e-01, 1.38433058e-01, 0.00000000e+00],\n",
       "        [2.00000000e+02, 2.01868300e-01, 1.26080118e-01, 0.00000000e+00],\n",
       "        [5.00000000e+02, 1.72826031e-01, 1.17532775e-01, 0.00000000e+00],\n",
       "        [1.00000000e+03, 1.62547314e-01, 1.16773602e-01, 0.00000000e+00],\n",
       "        [2.00000000e+03, 1.63111171e-01, 1.19189762e-01, 0.00000000e+00],\n",
       "        [5.00000000e+03, 1.83714797e-01, 1.24928659e-01, 0.00000000e+00],\n",
       "        [1.00000000e+04, 2.14615432e-01, 1.30216162e-01, 0.00000000e+00],\n",
       "        [2.00000000e+04, 2.61354039e-01, 1.26927252e-01, 0.00000000e+00],\n",
       "        [5.00000000e+04, 3.57272439e-01, 1.17422563e-01, 0.00000000e+00]]),\n",
       " array([[1.00000000e+00, 4.92000000e-01, 5.00186152e-01, 1.00000000e+00],\n",
       "        [2.00000000e+00, 4.68333333e-01, 3.67300844e-01, 1.00000000e+00],\n",
       "        [5.00000000e+00, 4.48194444e-01, 2.46561211e-01, 1.00000000e+00],\n",
       "        [1.00000000e+01, 4.19950222e-01, 2.08806014e-01, 1.00000000e+00],\n",
       "        [2.00000000e+01, 3.66618666e-01, 1.73268054e-01, 1.00000000e+00],\n",
       "        [5.00000000e+01, 2.87731452e-01, 1.52231767e-01, 1.00000000e+00],\n",
       "        [1.00000000e+02, 2.39373563e-01, 1.38278123e-01, 1.00000000e+00],\n",
       "        [2.00000000e+02, 2.03148975e-01, 1.27054677e-01, 1.00000000e+00],\n",
       "        [5.00000000e+02, 1.73920729e-01, 1.17672349e-01, 1.00000000e+00],\n",
       "        [1.00000000e+03, 1.64029815e-01, 1.16049336e-01, 1.00000000e+00],\n",
       "        [2.00000000e+03, 1.65450497e-01, 1.19294531e-01, 1.00000000e+00],\n",
       "        [5.00000000e+03, 1.85290661e-01, 1.23781787e-01, 1.00000000e+00],\n",
       "        [1.00000000e+04, 2.15080514e-01, 1.27805076e-01, 1.00000000e+00],\n",
       "        [2.00000000e+04, 2.61343359e-01, 1.23672883e-01, 1.00000000e+00],\n",
       "        [5.00000000e+04, 3.56953815e-01, 1.14442765e-01, 1.00000000e+00]]),\n",
       " array([[1.00000000e+00, 4.98000000e-01, 5.00246186e-01, 2.00000000e+00],\n",
       "        [2.00000000e+00, 4.63666667e-01, 3.67474010e-01, 2.00000000e+00],\n",
       "        [5.00000000e+00, 4.43797619e-01, 2.40061069e-01, 2.00000000e+00],\n",
       "        [1.00000000e+01, 4.18234059e-01, 2.03134157e-01, 2.00000000e+00],\n",
       "        [2.00000000e+01, 3.63172251e-01, 1.68447382e-01, 2.00000000e+00],\n",
       "        [5.00000000e+01, 2.84038091e-01, 1.50119393e-01, 2.00000000e+00],\n",
       "        [1.00000000e+02, 2.37257132e-01, 1.38002595e-01, 2.00000000e+00],\n",
       "        [2.00000000e+02, 2.00705133e-01, 1.27590523e-01, 2.00000000e+00],\n",
       "        [5.00000000e+02, 1.68753377e-01, 1.16156637e-01, 2.00000000e+00],\n",
       "        [1.00000000e+03, 1.58836495e-01, 1.14482800e-01, 2.00000000e+00],\n",
       "        [2.00000000e+03, 1.60348344e-01, 1.17113465e-01, 2.00000000e+00],\n",
       "        [5.00000000e+03, 1.81591599e-01, 1.21710995e-01, 2.00000000e+00],\n",
       "        [1.00000000e+04, 2.13098142e-01, 1.26556848e-01, 2.00000000e+00],\n",
       "        [2.00000000e+04, 2.60074696e-01, 1.23196109e-01, 2.00000000e+00],\n",
       "        [5.00000000e+04, 3.55406451e-01, 1.14215237e-01, 2.00000000e+00]]),\n",
       " array([[1.00000000e+00, 4.83000000e-01, 4.99960959e-01, 3.00000000e+00],\n",
       "        [2.00000000e+00, 4.55666667e-01, 3.64769106e-01, 3.00000000e+00],\n",
       "        [5.00000000e+00, 4.50222222e-01, 2.54031555e-01, 3.00000000e+00],\n",
       "        [1.00000000e+01, 4.26369202e-01, 2.09373513e-01, 3.00000000e+00],\n",
       "        [2.00000000e+01, 3.66213535e-01, 1.72530320e-01, 3.00000000e+00],\n",
       "        [5.00000000e+01, 2.86927263e-01, 1.52086047e-01, 3.00000000e+00],\n",
       "        [1.00000000e+02, 2.39349083e-01, 1.39353506e-01, 3.00000000e+00],\n",
       "        [2.00000000e+02, 2.04176808e-01, 1.29350479e-01, 3.00000000e+00],\n",
       "        [5.00000000e+02, 1.74481521e-01, 1.20244436e-01, 3.00000000e+00],\n",
       "        [1.00000000e+03, 1.64899687e-01, 1.19278790e-01, 3.00000000e+00],\n",
       "        [2.00000000e+03, 1.66031460e-01, 1.21312430e-01, 3.00000000e+00],\n",
       "        [5.00000000e+03, 1.86627191e-01, 1.26019520e-01, 3.00000000e+00],\n",
       "        [1.00000000e+04, 2.16884855e-01, 1.31087681e-01, 3.00000000e+00],\n",
       "        [2.00000000e+04, 2.62754030e-01, 1.27550901e-01, 3.00000000e+00],\n",
       "        [5.00000000e+04, 3.58180807e-01, 1.18268128e-01, 3.00000000e+00]]),\n",
       " array([[1.00000000e+00, 4.73000000e-01, 4.99520290e-01, 4.00000000e+00],\n",
       "        [2.00000000e+00, 4.51666667e-01, 3.65175023e-01, 4.00000000e+00],\n",
       "        [5.00000000e+00, 4.49765873e-01, 2.49421331e-01, 4.00000000e+00],\n",
       "        [1.00000000e+01, 4.28388142e-01, 2.12125613e-01, 4.00000000e+00],\n",
       "        [2.00000000e+01, 3.66595900e-01, 1.73721165e-01, 4.00000000e+00],\n",
       "        [5.00000000e+01, 2.86364006e-01, 1.49280822e-01, 4.00000000e+00],\n",
       "        [1.00000000e+02, 2.38537231e-01, 1.36612283e-01, 4.00000000e+00],\n",
       "        [2.00000000e+02, 2.02691917e-01, 1.26119849e-01, 4.00000000e+00],\n",
       "        [5.00000000e+02, 1.71307064e-01, 1.16716719e-01, 4.00000000e+00],\n",
       "        [1.00000000e+03, 1.61390741e-01, 1.15646178e-01, 4.00000000e+00],\n",
       "        [2.00000000e+03, 1.62001656e-01, 1.18107501e-01, 4.00000000e+00],\n",
       "        [5.00000000e+03, 1.82680744e-01, 1.23161646e-01, 4.00000000e+00],\n",
       "        [1.00000000e+04, 2.13454648e-01, 1.28106133e-01, 4.00000000e+00],\n",
       "        [2.00000000e+04, 2.59697123e-01, 1.24641710e-01, 4.00000000e+00],\n",
       "        [5.00000000e+04, 3.54161188e-01, 1.15845048e-01, 4.00000000e+00]]),\n",
       " array([[1.00000000e+00, 5.11000000e-01, 5.00129112e-01, 5.00000000e+00],\n",
       "        [2.00000000e+00, 4.60000000e-01, 3.62212458e-01, 5.00000000e+00],\n",
       "        [5.00000000e+00, 4.51837302e-01, 2.44257652e-01, 5.00000000e+00],\n",
       "        [1.00000000e+01, 4.26360523e-01, 2.05813075e-01, 5.00000000e+00],\n",
       "        [2.00000000e+01, 3.64779512e-01, 1.74604030e-01, 5.00000000e+00],\n",
       "        [5.00000000e+01, 2.84714660e-01, 1.51845829e-01, 5.00000000e+00],\n",
       "        [1.00000000e+02, 2.38674958e-01, 1.39818051e-01, 5.00000000e+00],\n",
       "        [2.00000000e+02, 2.03690726e-01, 1.30749228e-01, 5.00000000e+00],\n",
       "        [5.00000000e+02, 1.74607176e-01, 1.22385716e-01, 5.00000000e+00],\n",
       "        [1.00000000e+03, 1.65219131e-01, 1.21886109e-01, 5.00000000e+00],\n",
       "        [2.00000000e+03, 1.65430694e-01, 1.23223152e-01, 5.00000000e+00],\n",
       "        [5.00000000e+03, 1.85877199e-01, 1.27671135e-01, 5.00000000e+00],\n",
       "        [1.00000000e+04, 2.17094858e-01, 1.31986602e-01, 5.00000000e+00],\n",
       "        [2.00000000e+04, 2.64466030e-01, 1.27927955e-01, 5.00000000e+00],\n",
       "        [5.00000000e+04, 3.60733977e-01, 1.17328192e-01, 5.00000000e+00]]),\n",
       " array([[1.00000000e+00, 4.97000000e-01, 5.00241183e-01, 6.00000000e+00],\n",
       "        [2.00000000e+00, 4.55666667e-01, 3.62935026e-01, 6.00000000e+00],\n",
       "        [5.00000000e+00, 4.48313492e-01, 2.48018626e-01, 6.00000000e+00],\n",
       "        [1.00000000e+01, 4.25416249e-01, 2.07696138e-01, 6.00000000e+00],\n",
       "        [2.00000000e+01, 3.65961592e-01, 1.73567892e-01, 6.00000000e+00],\n",
       "        [5.00000000e+01, 2.84555154e-01, 1.51154601e-01, 6.00000000e+00],\n",
       "        [1.00000000e+02, 2.35866291e-01, 1.36585153e-01, 6.00000000e+00],\n",
       "        [2.00000000e+02, 2.00306951e-01, 1.26325325e-01, 6.00000000e+00],\n",
       "        [5.00000000e+02, 1.69247979e-01, 1.16435545e-01, 6.00000000e+00],\n",
       "        [1.00000000e+03, 1.59674144e-01, 1.16480174e-01, 6.00000000e+00],\n",
       "        [2.00000000e+03, 1.61102470e-01, 1.18483975e-01, 6.00000000e+00],\n",
       "        [5.00000000e+03, 1.82527283e-01, 1.23542392e-01, 6.00000000e+00],\n",
       "        [1.00000000e+04, 2.13974687e-01, 1.29817753e-01, 6.00000000e+00],\n",
       "        [2.00000000e+04, 2.60829090e-01, 1.27130437e-01, 6.00000000e+00],\n",
       "        [5.00000000e+04, 3.55957303e-01, 1.17582558e-01, 6.00000000e+00]]),\n",
       " array([[1.00000000e+00, 4.85000000e-01, 5.00025024e-01, 7.00000000e+00],\n",
       "        [2.00000000e+00, 4.54666667e-01, 3.63729859e-01, 7.00000000e+00],\n",
       "        [5.00000000e+00, 4.48805556e-01, 2.49171844e-01, 7.00000000e+00],\n",
       "        [1.00000000e+01, 4.28194787e-01, 2.11095749e-01, 7.00000000e+00],\n",
       "        [2.00000000e+01, 3.66230863e-01, 1.80093733e-01, 7.00000000e+00],\n",
       "        [5.00000000e+01, 2.82622334e-01, 1.53008403e-01, 7.00000000e+00],\n",
       "        [1.00000000e+02, 2.34334883e-01, 1.39674872e-01, 7.00000000e+00],\n",
       "        [2.00000000e+02, 1.98836155e-01, 1.30499688e-01, 7.00000000e+00],\n",
       "        [5.00000000e+02, 1.68422626e-01, 1.19045052e-01, 7.00000000e+00],\n",
       "        [1.00000000e+03, 1.58652213e-01, 1.16962855e-01, 7.00000000e+00],\n",
       "        [2.00000000e+03, 1.60197981e-01, 1.18932481e-01, 7.00000000e+00],\n",
       "        [5.00000000e+03, 1.82627722e-01, 1.24112190e-01, 7.00000000e+00],\n",
       "        [1.00000000e+04, 2.14336532e-01, 1.29214793e-01, 7.00000000e+00],\n",
       "        [2.00000000e+04, 2.61107131e-01, 1.25710134e-01, 7.00000000e+00],\n",
       "        [5.00000000e+04, 3.56551870e-01, 1.16285729e-01, 7.00000000e+00]]),\n",
       " array([[1.00000000e+00, 4.86000000e-01, 5.00054051e-01, 8.00000000e+00],\n",
       "        [2.00000000e+00, 4.49333333e-01, 3.57778337e-01, 8.00000000e+00],\n",
       "        [5.00000000e+00, 4.44317460e-01, 2.44707963e-01, 8.00000000e+00],\n",
       "        [1.00000000e+01, 4.20452634e-01, 2.12918965e-01, 8.00000000e+00],\n",
       "        [2.00000000e+01, 3.66856605e-01, 1.75420831e-01, 8.00000000e+00],\n",
       "        [5.00000000e+01, 2.83568377e-01, 1.50515376e-01, 8.00000000e+00],\n",
       "        [1.00000000e+02, 2.35869984e-01, 1.37721873e-01, 8.00000000e+00],\n",
       "        [2.00000000e+02, 1.99010617e-01, 1.26954918e-01, 8.00000000e+00],\n",
       "        [5.00000000e+02, 1.67179448e-01, 1.15797307e-01, 8.00000000e+00],\n",
       "        [1.00000000e+03, 1.56941269e-01, 1.14485775e-01, 8.00000000e+00],\n",
       "        [2.00000000e+03, 1.58293596e-01, 1.17723770e-01, 8.00000000e+00],\n",
       "        [5.00000000e+03, 1.79621531e-01, 1.23781872e-01, 8.00000000e+00],\n",
       "        [1.00000000e+04, 2.10848844e-01, 1.29696321e-01, 8.00000000e+00],\n",
       "        [2.00000000e+04, 2.57700021e-01, 1.26259788e-01, 8.00000000e+00],\n",
       "        [5.00000000e+04, 3.53421979e-01, 1.17104637e-01, 8.00000000e+00]]),\n",
       " array([[1.00000000e+00, 4.94000000e-01, 5.00214168e-01, 9.00000000e+00],\n",
       "        [2.00000000e+00, 4.56333333e-01, 3.59629903e-01, 9.00000000e+00],\n",
       "        [5.00000000e+00, 4.42492063e-01, 2.51917315e-01, 9.00000000e+00],\n",
       "        [1.00000000e+01, 4.12958043e-01, 2.03630703e-01, 9.00000000e+00],\n",
       "        [2.00000000e+01, 3.62662734e-01, 1.74252121e-01, 9.00000000e+00],\n",
       "        [5.00000000e+01, 2.83451561e-01, 1.55638659e-01, 9.00000000e+00],\n",
       "        [1.00000000e+02, 2.35230619e-01, 1.39092619e-01, 9.00000000e+00],\n",
       "        [2.00000000e+02, 2.01067224e-01, 1.29513484e-01, 9.00000000e+00],\n",
       "        [5.00000000e+02, 1.71817814e-01, 1.19777813e-01, 9.00000000e+00],\n",
       "        [1.00000000e+03, 1.60736697e-01, 1.16934363e-01, 9.00000000e+00],\n",
       "        [2.00000000e+03, 1.61178809e-01, 1.19210937e-01, 9.00000000e+00],\n",
       "        [5.00000000e+03, 1.82033455e-01, 1.24573521e-01, 9.00000000e+00],\n",
       "        [1.00000000e+04, 2.13461643e-01, 1.30098413e-01, 9.00000000e+00],\n",
       "        [2.00000000e+04, 2.60242306e-01, 1.26532972e-01, 9.00000000e+00],\n",
       "        [5.00000000e+04, 3.55829092e-01, 1.16879264e-01, 9.00000000e+00]]),\n",
       " array([[1.00000000e+00, 5.11000000e-01, 5.00129112e-01, 1.00000000e+01],\n",
       "        [2.00000000e+00, 4.72000000e-01, 3.65170302e-01, 1.00000000e+01],\n",
       "        [5.00000000e+00, 4.50317460e-01, 2.49638790e-01, 1.00000000e+01],\n",
       "        [1.00000000e+01, 4.23595578e-01, 2.11459386e-01, 1.00000000e+01],\n",
       "        [2.00000000e+01, 3.64826432e-01, 1.74073120e-01, 1.00000000e+01],\n",
       "        [5.00000000e+01, 2.86237826e-01, 1.52208912e-01, 1.00000000e+01],\n",
       "        [1.00000000e+02, 2.39411096e-01, 1.38999080e-01, 1.00000000e+01],\n",
       "        [2.00000000e+02, 2.04081299e-01, 1.30539880e-01, 1.00000000e+01],\n",
       "        [5.00000000e+02, 1.74609659e-01, 1.21018095e-01, 1.00000000e+01],\n",
       "        [1.00000000e+03, 1.64595300e-01, 1.19614061e-01, 1.00000000e+01],\n",
       "        [2.00000000e+03, 1.65307377e-01, 1.22025421e-01, 1.00000000e+01],\n",
       "        [5.00000000e+03, 1.86663925e-01, 1.26865409e-01, 1.00000000e+01],\n",
       "        [1.00000000e+04, 2.18434394e-01, 1.32350840e-01, 1.00000000e+01],\n",
       "        [2.00000000e+04, 2.65729254e-01, 1.29038044e-01, 1.00000000e+01],\n",
       "        [5.00000000e+04, 3.61700986e-01, 1.19582539e-01, 1.00000000e+01]]),\n",
       " array([[1.00000000e+00, 4.88000000e-01, 5.00106095e-01, 1.10000000e+01],\n",
       "        [2.00000000e+00, 4.44666667e-01, 3.60495587e-01, 1.10000000e+01],\n",
       "        [5.00000000e+00, 4.41817460e-01, 2.40723708e-01, 1.10000000e+01],\n",
       "        [1.00000000e+01, 4.21486258e-01, 2.10331400e-01, 1.10000000e+01],\n",
       "        [2.00000000e+01, 3.65790434e-01, 1.74009845e-01, 1.10000000e+01],\n",
       "        [5.00000000e+01, 2.84883151e-01, 1.51890661e-01, 1.10000000e+01],\n",
       "        [1.00000000e+02, 2.36966917e-01, 1.36095679e-01, 1.10000000e+01],\n",
       "        [2.00000000e+02, 2.00598709e-01, 1.26468355e-01, 1.10000000e+01],\n",
       "        [5.00000000e+02, 1.69889673e-01, 1.17619930e-01, 1.10000000e+01],\n",
       "        [1.00000000e+03, 1.59991594e-01, 1.16328326e-01, 1.10000000e+01],\n",
       "        [2.00000000e+03, 1.60159357e-01, 1.17866571e-01, 1.10000000e+01],\n",
       "        [5.00000000e+03, 1.80815500e-01, 1.22841567e-01, 1.10000000e+01],\n",
       "        [1.00000000e+04, 2.11947336e-01, 1.28198452e-01, 1.10000000e+01],\n",
       "        [2.00000000e+04, 2.58698916e-01, 1.24460904e-01, 1.10000000e+01],\n",
       "        [5.00000000e+04, 3.54611113e-01, 1.14921804e-01, 1.10000000e+01]]),\n",
       " array([[1.00000000e+00, 4.55000000e-01, 4.98220055e-01, 1.20000000e+01],\n",
       "        [2.00000000e+00, 4.32000000e-01, 3.52373145e-01, 1.20000000e+01],\n",
       "        [5.00000000e+00, 4.45960317e-01, 2.46884428e-01, 1.20000000e+01],\n",
       "        [1.00000000e+01, 4.16622249e-01, 2.04127364e-01, 1.20000000e+01],\n",
       "        [2.00000000e+01, 3.64288198e-01, 1.72429718e-01, 1.20000000e+01],\n",
       "        [5.00000000e+01, 2.82199065e-01, 1.49667023e-01, 1.20000000e+01],\n",
       "        [1.00000000e+02, 2.35660636e-01, 1.38213700e-01, 1.20000000e+01],\n",
       "        [2.00000000e+02, 2.00023134e-01, 1.28286142e-01, 1.20000000e+01],\n",
       "        [5.00000000e+02, 1.69826102e-01, 1.19176720e-01, 1.20000000e+01],\n",
       "        [1.00000000e+03, 1.59693367e-01, 1.17981413e-01, 1.20000000e+01],\n",
       "        [2.00000000e+03, 1.60712376e-01, 1.20079693e-01, 1.20000000e+01],\n",
       "        [5.00000000e+03, 1.82226974e-01, 1.24984057e-01, 1.20000000e+01],\n",
       "        [1.00000000e+04, 2.13653096e-01, 1.30197881e-01, 1.20000000e+01],\n",
       "        [2.00000000e+04, 2.60947204e-01, 1.26954447e-01, 1.20000000e+01],\n",
       "        [5.00000000e+04, 3.56936081e-01, 1.18180035e-01, 1.20000000e+01]]),\n",
       " array([[1.00000000e+00, 4.90000000e-01, 5.00150128e-01, 1.30000000e+01],\n",
       "        [2.00000000e+00, 4.57000000e-01, 3.60944984e-01, 1.30000000e+01],\n",
       "        [5.00000000e+00, 4.43202381e-01, 2.47832997e-01, 1.30000000e+01],\n",
       "        [1.00000000e+01, 4.20492104e-01, 2.05262098e-01, 1.30000000e+01],\n",
       "        [2.00000000e+01, 3.67413911e-01, 1.76599728e-01, 1.30000000e+01],\n",
       "        [5.00000000e+01, 2.86375030e-01, 1.51862988e-01, 1.30000000e+01],\n",
       "        [1.00000000e+02, 2.37621572e-01, 1.40637047e-01, 1.30000000e+01],\n",
       "        [2.00000000e+02, 2.02015689e-01, 1.30698269e-01, 1.30000000e+01],\n",
       "        [5.00000000e+02, 1.72057018e-01, 1.20500417e-01, 1.30000000e+01],\n",
       "        [1.00000000e+03, 1.61935633e-01, 1.18652319e-01, 1.30000000e+01],\n",
       "        [2.00000000e+03, 1.62511765e-01, 1.19906670e-01, 1.30000000e+01],\n",
       "        [5.00000000e+03, 1.82342901e-01, 1.24597610e-01, 1.30000000e+01],\n",
       "        [1.00000000e+04, 2.12584115e-01, 1.30032893e-01, 1.30000000e+01],\n",
       "        [2.00000000e+04, 2.59233229e-01, 1.26866122e-01, 1.30000000e+01],\n",
       "        [5.00000000e+04, 3.54700611e-01, 1.17201630e-01, 1.30000000e+01]]),\n",
       " array([[1.00000000e+00, 5.07000000e-01, 5.00201161e-01, 1.40000000e+01],\n",
       "        [2.00000000e+00, 4.51333333e-01, 3.56187501e-01, 1.40000000e+01],\n",
       "        [5.00000000e+00, 4.52920635e-01, 2.51818545e-01, 1.40000000e+01],\n",
       "        [1.00000000e+01, 4.19199145e-01, 2.05577850e-01, 1.40000000e+01],\n",
       "        [2.00000000e+01, 3.65236128e-01, 1.72301801e-01, 1.40000000e+01],\n",
       "        [5.00000000e+01, 2.89779554e-01, 1.54330631e-01, 1.40000000e+01],\n",
       "        [1.00000000e+02, 2.38105656e-01, 1.35785944e-01, 1.40000000e+01],\n",
       "        [2.00000000e+02, 2.03794121e-01, 1.27755493e-01, 1.40000000e+01],\n",
       "        [5.00000000e+02, 1.72682428e-01, 1.18490515e-01, 1.40000000e+01],\n",
       "        [1.00000000e+03, 1.62496299e-01, 1.16667289e-01, 1.40000000e+01],\n",
       "        [2.00000000e+03, 1.64087316e-01, 1.18621511e-01, 1.40000000e+01],\n",
       "        [5.00000000e+03, 1.85537413e-01, 1.23896641e-01, 1.40000000e+01],\n",
       "        [1.00000000e+04, 2.17179184e-01, 1.29332961e-01, 1.40000000e+01],\n",
       "        [2.00000000e+04, 2.64100071e-01, 1.25399052e-01, 1.40000000e+01],\n",
       "        [5.00000000e+04, 3.59409730e-01, 1.15813079e-01, 1.40000000e+01]]),\n",
       " array([[1.00000000e+00, 4.90000000e-01, 5.00150128e-01, 1.50000000e+01],\n",
       "        [2.00000000e+00, 4.56666667e-01, 3.58431189e-01, 1.50000000e+01],\n",
       "        [5.00000000e+00, 4.47424603e-01, 2.42379046e-01, 1.50000000e+01],\n",
       "        [1.00000000e+01, 4.19602983e-01, 2.03841605e-01, 1.50000000e+01],\n",
       "        [2.00000000e+01, 3.69156030e-01, 1.74027581e-01, 1.50000000e+01],\n",
       "        [5.00000000e+01, 2.86503891e-01, 1.49458085e-01, 1.50000000e+01],\n",
       "        [1.00000000e+02, 2.37872314e-01, 1.38471919e-01, 1.50000000e+01],\n",
       "        [2.00000000e+02, 2.00355662e-01, 1.27168871e-01, 1.50000000e+01],\n",
       "        [5.00000000e+02, 1.69836507e-01, 1.17676399e-01, 1.50000000e+01],\n",
       "        [1.00000000e+03, 1.59941912e-01, 1.16939039e-01, 1.50000000e+01],\n",
       "        [2.00000000e+03, 1.60539406e-01, 1.19392241e-01, 1.50000000e+01],\n",
       "        [5.00000000e+03, 1.80951928e-01, 1.25185252e-01, 1.50000000e+01],\n",
       "        [1.00000000e+04, 2.12400338e-01, 1.30778331e-01, 1.50000000e+01],\n",
       "        [2.00000000e+04, 2.60245138e-01, 1.27926940e-01, 1.50000000e+01],\n",
       "        [5.00000000e+04, 3.56575654e-01, 1.18583481e-01, 1.50000000e+01]]),\n",
       " array([[1.00000000e+00, 4.84000000e-01, 4.99993994e-01, 1.60000000e+01],\n",
       "        [2.00000000e+00, 4.55666667e-01, 3.58308754e-01, 1.60000000e+01],\n",
       "        [5.00000000e+00, 4.45718254e-01, 2.43804650e-01, 1.60000000e+01],\n",
       "        [1.00000000e+01, 4.21210586e-01, 2.04347496e-01, 1.60000000e+01],\n",
       "        [2.00000000e+01, 3.64311886e-01, 1.75016851e-01, 1.60000000e+01],\n",
       "        [5.00000000e+01, 2.85420171e-01, 1.51801379e-01, 1.60000000e+01],\n",
       "        [1.00000000e+02, 2.37165620e-01, 1.40499747e-01, 1.60000000e+01],\n",
       "        [2.00000000e+02, 2.02228791e-01, 1.30644113e-01, 1.60000000e+01],\n",
       "        [5.00000000e+02, 1.71517910e-01, 1.20217737e-01, 1.60000000e+01],\n",
       "        [1.00000000e+03, 1.61219847e-01, 1.18921925e-01, 1.60000000e+01],\n",
       "        [2.00000000e+03, 1.62000521e-01, 1.21232596e-01, 1.60000000e+01],\n",
       "        [5.00000000e+03, 1.82443711e-01, 1.26855714e-01, 1.60000000e+01],\n",
       "        [1.00000000e+04, 2.13814624e-01, 1.32282175e-01, 1.60000000e+01],\n",
       "        [2.00000000e+04, 2.61020645e-01, 1.29018373e-01, 1.60000000e+01],\n",
       "        [5.00000000e+04, 3.56316956e-01, 1.19944851e-01, 1.60000000e+01]]),\n",
       " array([[1.00000000e+00, 4.93000000e-01, 5.00201161e-01, 1.70000000e+01],\n",
       "        [2.00000000e+00, 4.51666667e-01, 3.57790616e-01, 1.70000000e+01],\n",
       "        [5.00000000e+00, 4.45257937e-01, 2.46666898e-01, 1.70000000e+01],\n",
       "        [1.00000000e+01, 4.17287385e-01, 2.08267145e-01, 1.70000000e+01],\n",
       "        [2.00000000e+01, 3.60956040e-01, 1.75285984e-01, 1.70000000e+01],\n",
       "        [5.00000000e+01, 2.83062064e-01, 1.49465170e-01, 1.70000000e+01],\n",
       "        [1.00000000e+02, 2.35178743e-01, 1.34077260e-01, 1.70000000e+01],\n",
       "        [2.00000000e+02, 2.00940409e-01, 1.26044828e-01, 1.70000000e+01],\n",
       "        [5.00000000e+02, 1.71658852e-01, 1.16911476e-01, 1.70000000e+01],\n",
       "        [1.00000000e+03, 1.61648036e-01, 1.16278201e-01, 1.70000000e+01],\n",
       "        [2.00000000e+03, 1.62544085e-01, 1.18691520e-01, 1.70000000e+01],\n",
       "        [5.00000000e+03, 1.83172337e-01, 1.23419936e-01, 1.70000000e+01],\n",
       "        [1.00000000e+04, 2.14439252e-01, 1.28828840e-01, 1.70000000e+01],\n",
       "        [2.00000000e+04, 2.61439463e-01, 1.25606218e-01, 1.70000000e+01],\n",
       "        [5.00000000e+04, 3.57578829e-01, 1.16731076e-01, 1.70000000e+01]]),\n",
       " array([[1.00000000e+00, 5.09000000e-01, 5.00169141e-01, 1.80000000e+01],\n",
       "        [2.00000000e+00, 4.65666667e-01, 3.64933721e-01, 1.80000000e+01],\n",
       "        [5.00000000e+00, 4.48984127e-01, 2.44126777e-01, 1.80000000e+01],\n",
       "        [1.00000000e+01, 4.22826498e-01, 2.09651321e-01, 1.80000000e+01],\n",
       "        [2.00000000e+01, 3.63440481e-01, 1.71424325e-01, 1.80000000e+01],\n",
       "        [5.00000000e+01, 2.84159396e-01, 1.48730745e-01, 1.80000000e+01],\n",
       "        [1.00000000e+02, 2.33789156e-01, 1.34554339e-01, 1.80000000e+01],\n",
       "        [2.00000000e+02, 1.99433334e-01, 1.24981453e-01, 1.80000000e+01],\n",
       "        [5.00000000e+02, 1.70200487e-01, 1.17886409e-01, 1.80000000e+01],\n",
       "        [1.00000000e+03, 1.60147888e-01, 1.17905175e-01, 1.80000000e+01],\n",
       "        [2.00000000e+03, 1.60378560e-01, 1.19847348e-01, 1.80000000e+01],\n",
       "        [5.00000000e+03, 1.81029571e-01, 1.24400213e-01, 1.80000000e+01],\n",
       "        [1.00000000e+04, 2.12122650e-01, 1.29450469e-01, 1.80000000e+01],\n",
       "        [2.00000000e+04, 2.59418809e-01, 1.26156759e-01, 1.80000000e+01],\n",
       "        [5.00000000e+04, 3.56045753e-01, 1.17411536e-01, 1.80000000e+01]]),\n",
       " array([[1.00000000e+00, 4.93000000e-01, 5.00201161e-01, 1.90000000e+01],\n",
       "        [2.00000000e+00, 4.56666667e-01, 3.61213122e-01, 1.90000000e+01],\n",
       "        [5.00000000e+00, 4.52968254e-01, 2.48115456e-01, 1.90000000e+01],\n",
       "        [1.00000000e+01, 4.19730395e-01, 2.01444863e-01, 1.90000000e+01],\n",
       "        [2.00000000e+01, 3.70670305e-01, 1.72138312e-01, 1.90000000e+01],\n",
       "        [5.00000000e+01, 2.88636519e-01, 1.52255120e-01, 1.90000000e+01],\n",
       "        [1.00000000e+02, 2.40480522e-01, 1.38929688e-01, 1.90000000e+01],\n",
       "        [2.00000000e+02, 2.04146596e-01, 1.28880415e-01, 1.90000000e+01],\n",
       "        [5.00000000e+02, 1.72570560e-01, 1.18294610e-01, 1.90000000e+01],\n",
       "        [1.00000000e+03, 1.62332649e-01, 1.17479730e-01, 1.90000000e+01],\n",
       "        [2.00000000e+03, 1.62734846e-01, 1.19798309e-01, 1.90000000e+01],\n",
       "        [5.00000000e+03, 1.82629517e-01, 1.25227945e-01, 1.90000000e+01],\n",
       "        [1.00000000e+04, 2.13501547e-01, 1.30913968e-01, 1.90000000e+01],\n",
       "        [2.00000000e+04, 2.60616408e-01, 1.27640925e-01, 1.90000000e+01],\n",
       "        [5.00000000e+04, 3.55887373e-01, 1.17952029e-01, 1.90000000e+01]]),\n",
       " array([[1.00000000e+00, 5.08000000e-01, 5.00186152e-01, 2.00000000e+01],\n",
       "        [2.00000000e+00, 4.48000000e-01, 3.55089785e-01, 2.00000000e+01],\n",
       "        [5.00000000e+00, 4.41055556e-01, 2.38764963e-01, 2.00000000e+01],\n",
       "        [1.00000000e+01, 4.21765329e-01, 2.03609982e-01, 2.00000000e+01],\n",
       "        [2.00000000e+01, 3.68408531e-01, 1.75903427e-01, 2.00000000e+01],\n",
       "        [5.00000000e+01, 2.85301705e-01, 1.51567787e-01, 2.00000000e+01],\n",
       "        [1.00000000e+02, 2.38362342e-01, 1.36740811e-01, 2.00000000e+01],\n",
       "        [2.00000000e+02, 2.01662715e-01, 1.26783802e-01, 2.00000000e+01],\n",
       "        [5.00000000e+02, 1.71284894e-01, 1.17542785e-01, 2.00000000e+01],\n",
       "        [1.00000000e+03, 1.61429989e-01, 1.16480097e-01, 2.00000000e+01],\n",
       "        [2.00000000e+03, 1.62523609e-01, 1.18993819e-01, 2.00000000e+01],\n",
       "        [5.00000000e+03, 1.84839944e-01, 1.24404188e-01, 2.00000000e+01],\n",
       "        [1.00000000e+04, 2.17022331e-01, 1.29533553e-01, 2.00000000e+01],\n",
       "        [2.00000000e+04, 2.64252038e-01, 1.26058776e-01, 2.00000000e+01],\n",
       "        [5.00000000e+04, 3.60468345e-01, 1.16983651e-01, 2.00000000e+01]]),\n",
       " array([[1.00000000e+00, 4.90000000e-01, 5.00150128e-01, 2.10000000e+01],\n",
       "        [2.00000000e+00, 4.56666667e-01, 3.68528956e-01, 2.10000000e+01],\n",
       "        [5.00000000e+00, 4.41718254e-01, 2.48155633e-01, 2.10000000e+01],\n",
       "        [1.00000000e+01, 4.16331110e-01, 2.05828253e-01, 2.10000000e+01],\n",
       "        [2.00000000e+01, 3.59853013e-01, 1.73191991e-01, 2.10000000e+01],\n",
       "        [5.00000000e+01, 2.83685636e-01, 1.52540186e-01, 2.10000000e+01],\n",
       "        [1.00000000e+02, 2.36367411e-01, 1.40501185e-01, 2.10000000e+01],\n",
       "        [2.00000000e+02, 2.01208084e-01, 1.30946561e-01, 2.10000000e+01],\n",
       "        [5.00000000e+02, 1.70398738e-01, 1.19087665e-01, 2.10000000e+01],\n",
       "        [1.00000000e+03, 1.60156831e-01, 1.17132752e-01, 2.10000000e+01],\n",
       "        [2.00000000e+03, 1.60625327e-01, 1.18983975e-01, 2.10000000e+01],\n",
       "        [5.00000000e+03, 1.81550187e-01, 1.23907458e-01, 2.10000000e+01],\n",
       "        [1.00000000e+04, 2.12591706e-01, 1.28836276e-01, 2.10000000e+01],\n",
       "        [2.00000000e+04, 2.59431323e-01, 1.25505003e-01, 2.10000000e+01],\n",
       "        [5.00000000e+04, 3.55536100e-01, 1.16644268e-01, 2.10000000e+01]]),\n",
       " array([[1.00000000e+00, 4.63000000e-01, 4.98878622e-01, 2.20000000e+01],\n",
       "        [2.00000000e+00, 4.53333333e-01, 3.61105336e-01, 2.20000000e+01],\n",
       "        [5.00000000e+00, 4.45242063e-01, 2.39861051e-01, 2.20000000e+01],\n",
       "        [1.00000000e+01, 4.25546917e-01, 2.04770279e-01, 2.20000000e+01],\n",
       "        [2.00000000e+01, 3.67012927e-01, 1.77276808e-01, 2.20000000e+01],\n",
       "        [5.00000000e+01, 2.86691264e-01, 1.54202141e-01, 2.20000000e+01],\n",
       "        [1.00000000e+02, 2.38049276e-01, 1.36955848e-01, 2.20000000e+01],\n",
       "        [2.00000000e+02, 2.02181554e-01, 1.29979319e-01, 2.20000000e+01],\n",
       "        [5.00000000e+02, 1.71418161e-01, 1.20205554e-01, 2.20000000e+01],\n",
       "        [1.00000000e+03, 1.61355102e-01, 1.19352176e-01, 2.20000000e+01],\n",
       "        [2.00000000e+03, 1.61657882e-01, 1.21404191e-01, 2.20000000e+01],\n",
       "        [5.00000000e+03, 1.81793015e-01, 1.25049864e-01, 2.20000000e+01],\n",
       "        [1.00000000e+04, 2.12365268e-01, 1.29980283e-01, 2.20000000e+01],\n",
       "        [2.00000000e+04, 2.58800072e-01, 1.26440656e-01, 2.20000000e+01],\n",
       "        [5.00000000e+04, 3.54607393e-01, 1.17083372e-01, 2.20000000e+01]]),\n",
       " array([[1.00000000e+00, 4.75000000e-01, 4.99624484e-01, 2.30000000e+01],\n",
       "        [2.00000000e+00, 4.53666667e-01, 3.58055370e-01, 2.30000000e+01],\n",
       "        [5.00000000e+00, 4.37670635e-01, 2.45706486e-01, 2.30000000e+01],\n",
       "        [1.00000000e+01, 4.17338477e-01, 2.11478652e-01, 2.30000000e+01],\n",
       "        [2.00000000e+01, 3.61685001e-01, 1.73047862e-01, 2.30000000e+01],\n",
       "        [5.00000000e+01, 2.84108065e-01, 1.51735156e-01, 2.30000000e+01],\n",
       "        [1.00000000e+02, 2.37720422e-01, 1.36832867e-01, 2.30000000e+01],\n",
       "        [2.00000000e+02, 2.02943635e-01, 1.27855423e-01, 2.30000000e+01],\n",
       "        [5.00000000e+02, 1.72560805e-01, 1.17540941e-01, 2.30000000e+01],\n",
       "        [1.00000000e+03, 1.62512200e-01, 1.16433909e-01, 2.30000000e+01],\n",
       "        [2.00000000e+03, 1.62399575e-01, 1.18747331e-01, 2.30000000e+01],\n",
       "        [5.00000000e+03, 1.82059089e-01, 1.23521097e-01, 2.30000000e+01],\n",
       "        [1.00000000e+04, 2.13117473e-01, 1.29042048e-01, 2.30000000e+01],\n",
       "        [2.00000000e+04, 2.59891574e-01, 1.25778076e-01, 2.30000000e+01],\n",
       "        [5.00000000e+04, 3.55859188e-01, 1.16935891e-01, 2.30000000e+01]]),\n",
       " array([[1.00000000e+00, 4.91000000e-01, 5.00169141e-01, 2.40000000e+01],\n",
       "        [2.00000000e+00, 4.55000000e-01, 3.56045552e-01, 2.40000000e+01],\n",
       "        [5.00000000e+00, 4.46317460e-01, 2.42453050e-01, 2.40000000e+01],\n",
       "        [1.00000000e+01, 4.17527215e-01, 2.02364641e-01, 2.40000000e+01],\n",
       "        [2.00000000e+01, 3.60523344e-01, 1.73877939e-01, 2.40000000e+01],\n",
       "        [5.00000000e+01, 2.84234315e-01, 1.52933158e-01, 2.40000000e+01],\n",
       "        [1.00000000e+02, 2.35177151e-01, 1.37678036e-01, 2.40000000e+01],\n",
       "        [2.00000000e+02, 2.01073052e-01, 1.27451725e-01, 2.40000000e+01],\n",
       "        [5.00000000e+02, 1.72700028e-01, 1.16638641e-01, 2.40000000e+01],\n",
       "        [1.00000000e+03, 1.63849068e-01, 1.16310518e-01, 2.40000000e+01],\n",
       "        [2.00000000e+03, 1.64923387e-01, 1.18544606e-01, 2.40000000e+01],\n",
       "        [5.00000000e+03, 1.85506689e-01, 1.23585083e-01, 2.40000000e+01],\n",
       "        [1.00000000e+04, 2.16053099e-01, 1.29071649e-01, 2.40000000e+01],\n",
       "        [2.00000000e+04, 2.62936846e-01, 1.26106540e-01, 2.40000000e+01],\n",
       "        [5.00000000e+04, 3.58755812e-01, 1.16912927e-01, 2.40000000e+01]]),\n",
       " array([[1.00000000e+00, 4.91000000e-01, 5.00169141e-01, 2.50000000e+01],\n",
       "        [2.00000000e+00, 4.53666667e-01, 3.61763713e-01, 2.50000000e+01],\n",
       "        [5.00000000e+00, 4.47154762e-01, 2.52436141e-01, 2.50000000e+01],\n",
       "        [1.00000000e+01, 4.28463104e-01, 2.15705031e-01, 2.50000000e+01],\n",
       "        [2.00000000e+01, 3.64542510e-01, 1.72594050e-01, 2.50000000e+01],\n",
       "        [5.00000000e+01, 2.83121228e-01, 1.49511168e-01, 2.50000000e+01],\n",
       "        [1.00000000e+02, 2.36672608e-01, 1.35884661e-01, 2.50000000e+01],\n",
       "        [2.00000000e+02, 2.02303620e-01, 1.28388441e-01, 2.50000000e+01],\n",
       "        [5.00000000e+02, 1.71952133e-01, 1.18840720e-01, 2.50000000e+01],\n",
       "        [1.00000000e+03, 1.62047039e-01, 1.18318526e-01, 2.50000000e+01],\n",
       "        [2.00000000e+03, 1.62907684e-01, 1.20879301e-01, 2.50000000e+01],\n",
       "        [5.00000000e+03, 1.84411928e-01, 1.26827116e-01, 2.50000000e+01],\n",
       "        [1.00000000e+04, 2.15825536e-01, 1.32814303e-01, 2.50000000e+01],\n",
       "        [2.00000000e+04, 2.63072624e-01, 1.29960678e-01, 2.50000000e+01],\n",
       "        [5.00000000e+04, 3.59096032e-01, 1.21237703e-01, 2.50000000e+01]]),\n",
       " array([[1.00000000e+00, 4.93000000e-01, 5.00201161e-01, 2.60000000e+01],\n",
       "        [2.00000000e+00, 4.53333333e-01, 3.61105336e-01, 2.60000000e+01],\n",
       "        [5.00000000e+00, 4.37396825e-01, 2.40416081e-01, 2.60000000e+01],\n",
       "        [1.00000000e+01, 4.15162224e-01, 2.06915457e-01, 2.60000000e+01],\n",
       "        [2.00000000e+01, 3.62246263e-01, 1.71274641e-01, 2.60000000e+01],\n",
       "        [5.00000000e+01, 2.82568815e-01, 1.50267442e-01, 2.60000000e+01],\n",
       "        [1.00000000e+02, 2.34483976e-01, 1.36466483e-01, 2.60000000e+01],\n",
       "        [2.00000000e+02, 1.99730403e-01, 1.27874501e-01, 2.60000000e+01],\n",
       "        [5.00000000e+02, 1.68961556e-01, 1.15843851e-01, 2.60000000e+01],\n",
       "        [1.00000000e+03, 1.59594264e-01, 1.15249652e-01, 2.60000000e+01],\n",
       "        [2.00000000e+03, 1.61453165e-01, 1.19078561e-01, 2.60000000e+01],\n",
       "        [5.00000000e+03, 1.82473365e-01, 1.24281486e-01, 2.60000000e+01],\n",
       "        [1.00000000e+04, 2.13366960e-01, 1.29065008e-01, 2.60000000e+01],\n",
       "        [2.00000000e+04, 2.59875069e-01, 1.25929345e-01, 2.60000000e+01],\n",
       "        [5.00000000e+04, 3.55203224e-01, 1.17080074e-01, 2.60000000e+01]]),\n",
       " array([[1.00000000e+00, 5.01000000e-01, 5.00249187e-01, 2.70000000e+01],\n",
       "        [2.00000000e+00, 4.67333333e-01, 3.62641479e-01, 2.70000000e+01],\n",
       "        [5.00000000e+00, 4.49579365e-01, 2.45524815e-01, 2.70000000e+01],\n",
       "        [1.00000000e+01, 4.22794553e-01, 2.07446852e-01, 2.70000000e+01],\n",
       "        [2.00000000e+01, 3.62992230e-01, 1.73810010e-01, 2.70000000e+01],\n",
       "        [5.00000000e+01, 2.83317208e-01, 1.50340984e-01, 2.70000000e+01],\n",
       "        [1.00000000e+02, 2.35107569e-01, 1.36628255e-01, 2.70000000e+01],\n",
       "        [2.00000000e+02, 1.98688261e-01, 1.23655686e-01, 2.70000000e+01],\n",
       "        [5.00000000e+02, 1.68480344e-01, 1.13901497e-01, 2.70000000e+01],\n",
       "        [1.00000000e+03, 1.58882459e-01, 1.13120218e-01, 2.70000000e+01],\n",
       "        [2.00000000e+03, 1.59423402e-01, 1.15424756e-01, 2.70000000e+01],\n",
       "        [5.00000000e+03, 1.79551951e-01, 1.21632265e-01, 2.70000000e+01],\n",
       "        [1.00000000e+04, 2.10894898e-01, 1.26928796e-01, 2.70000000e+01],\n",
       "        [2.00000000e+04, 2.58173454e-01, 1.22744098e-01, 2.70000000e+01],\n",
       "        [5.00000000e+04, 3.54685026e-01, 1.12789214e-01, 2.70000000e+01]]),\n",
       " array([[1.00000000e+00, 4.99000000e-01, 5.00249187e-01, 2.80000000e+01],\n",
       "        [2.00000000e+00, 4.51666667e-01, 3.52150708e-01, 2.80000000e+01],\n",
       "        [5.00000000e+00, 4.46646825e-01, 2.47338756e-01, 2.80000000e+01],\n",
       "        [1.00000000e+01, 4.16361532e-01, 2.02853752e-01, 2.80000000e+01],\n",
       "        [2.00000000e+01, 3.66952096e-01, 1.74848030e-01, 2.80000000e+01],\n",
       "        [5.00000000e+01, 2.84525669e-01, 1.50250063e-01, 2.80000000e+01],\n",
       "        [1.00000000e+02, 2.37470084e-01, 1.39203069e-01, 2.80000000e+01],\n",
       "        [2.00000000e+02, 2.01422710e-01, 1.27279208e-01, 2.80000000e+01],\n",
       "        [5.00000000e+02, 1.72041007e-01, 1.17563687e-01, 2.80000000e+01],\n",
       "        [1.00000000e+03, 1.61764465e-01, 1.16000621e-01, 2.80000000e+01],\n",
       "        [2.00000000e+03, 1.62736416e-01, 1.18732690e-01, 2.80000000e+01],\n",
       "        [5.00000000e+03, 1.83067796e-01, 1.24531184e-01, 2.80000000e+01],\n",
       "        [1.00000000e+04, 2.13607224e-01, 1.30379797e-01, 2.80000000e+01],\n",
       "        [2.00000000e+04, 2.60314371e-01, 1.27640472e-01, 2.80000000e+01],\n",
       "        [5.00000000e+04, 3.55553547e-01, 1.18112153e-01, 2.80000000e+01]]),\n",
       " array([[1.00000000e+00, 4.53000000e-01, 4.98035179e-01, 2.90000000e+01],\n",
       "        [2.00000000e+00, 4.62000000e-01, 3.64264586e-01, 2.90000000e+01],\n",
       "        [5.00000000e+00, 4.39813492e-01, 2.51094886e-01, 2.90000000e+01],\n",
       "        [1.00000000e+01, 4.20764383e-01, 2.07780390e-01, 2.90000000e+01],\n",
       "        [2.00000000e+01, 3.65017644e-01, 1.72194631e-01, 2.90000000e+01],\n",
       "        [5.00000000e+01, 2.86521903e-01, 1.52798050e-01, 2.90000000e+01],\n",
       "        [1.00000000e+02, 2.37519542e-01, 1.37645065e-01, 2.90000000e+01],\n",
       "        [2.00000000e+02, 2.00993446e-01, 1.27529293e-01, 2.90000000e+01],\n",
       "        [5.00000000e+02, 1.70426142e-01, 1.17744441e-01, 2.90000000e+01],\n",
       "        [1.00000000e+03, 1.60369413e-01, 1.15955206e-01, 2.90000000e+01],\n",
       "        [2.00000000e+03, 1.61292522e-01, 1.18162606e-01, 2.90000000e+01],\n",
       "        [5.00000000e+03, 1.82097764e-01, 1.24243885e-01, 2.90000000e+01],\n",
       "        [1.00000000e+04, 2.13391759e-01, 1.30050251e-01, 2.90000000e+01],\n",
       "        [2.00000000e+04, 2.60884189e-01, 1.27197318e-01, 2.90000000e+01],\n",
       "        [5.00000000e+04, 3.57183369e-01, 1.17845780e-01, 2.90000000e+01]]),\n",
       " array([[1.00000000e+00, 4.89000000e-01, 5.00129112e-01, 3.00000000e+01],\n",
       "        [2.00000000e+00, 4.58000000e-01, 3.61062829e-01, 3.00000000e+01],\n",
       "        [5.00000000e+00, 4.48730159e-01, 2.40783873e-01, 3.00000000e+01],\n",
       "        [1.00000000e+01, 4.19514151e-01, 2.05087695e-01, 3.00000000e+01],\n",
       "        [2.00000000e+01, 3.63501937e-01, 1.71169640e-01, 3.00000000e+01],\n",
       "        [5.00000000e+01, 2.84346863e-01, 1.50157282e-01, 3.00000000e+01],\n",
       "        [1.00000000e+02, 2.36008659e-01, 1.38458307e-01, 3.00000000e+01],\n",
       "        [2.00000000e+02, 2.00788343e-01, 1.27915660e-01, 3.00000000e+01],\n",
       "        [5.00000000e+02, 1.71764438e-01, 1.19531008e-01, 3.00000000e+01],\n",
       "        [1.00000000e+03, 1.62221234e-01, 1.18540776e-01, 3.00000000e+01],\n",
       "        [2.00000000e+03, 1.63514509e-01, 1.21544253e-01, 3.00000000e+01],\n",
       "        [5.00000000e+03, 1.85073592e-01, 1.26630210e-01, 3.00000000e+01],\n",
       "        [1.00000000e+04, 2.16792347e-01, 1.31949128e-01, 3.00000000e+01],\n",
       "        [2.00000000e+04, 2.63794806e-01, 1.28887562e-01, 3.00000000e+01],\n",
       "        [5.00000000e+04, 3.58841756e-01, 1.18910093e-01, 3.00000000e+01]]),\n",
       " array([[1.00000000e+00, 4.98000000e-01, 5.00246186e-01, 3.10000000e+01],\n",
       "        [2.00000000e+00, 4.72666667e-01, 3.67346414e-01, 3.10000000e+01],\n",
       "        [5.00000000e+00, 4.47178571e-01, 2.50554277e-01, 3.10000000e+01],\n",
       "        [1.00000000e+01, 4.19238591e-01, 2.09074699e-01, 3.10000000e+01],\n",
       "        [2.00000000e+01, 3.63184863e-01, 1.72324200e-01, 3.10000000e+01],\n",
       "        [5.00000000e+01, 2.85687519e-01, 1.51264297e-01, 3.10000000e+01],\n",
       "        [1.00000000e+02, 2.39387094e-01, 1.38735826e-01, 3.10000000e+01],\n",
       "        [2.00000000e+02, 2.05126355e-01, 1.29738658e-01, 3.10000000e+01],\n",
       "        [5.00000000e+02, 1.75263457e-01, 1.21448770e-01, 3.10000000e+01],\n",
       "        [1.00000000e+03, 1.64687776e-01, 1.19699602e-01, 3.10000000e+01],\n",
       "        [2.00000000e+03, 1.65118532e-01, 1.21808925e-01, 3.10000000e+01],\n",
       "        [5.00000000e+03, 1.87007532e-01, 1.26884525e-01, 3.10000000e+01],\n",
       "        [1.00000000e+04, 2.18729749e-01, 1.32052527e-01, 3.10000000e+01],\n",
       "        [2.00000000e+04, 2.65183226e-01, 1.28264765e-01, 3.10000000e+01],\n",
       "        [5.00000000e+04, 3.59621280e-01, 1.17178144e-01, 3.10000000e+01]]),\n",
       " array([[1.00000000e+00, 5.05000000e-01, 5.00225175e-01, 3.20000000e+01],\n",
       "        [2.00000000e+00, 4.56000000e-01, 3.62669081e-01, 3.20000000e+01],\n",
       "        [5.00000000e+00, 4.41623016e-01, 2.41519352e-01, 3.20000000e+01],\n",
       "        [1.00000000e+01, 4.13890207e-01, 2.05870352e-01, 3.20000000e+01],\n",
       "        [2.00000000e+01, 3.62548333e-01, 1.72380353e-01, 3.20000000e+01],\n",
       "        [5.00000000e+01, 2.81325628e-01, 1.50752562e-01, 3.20000000e+01],\n",
       "        [1.00000000e+02, 2.36356931e-01, 1.39969639e-01, 3.20000000e+01],\n",
       "        [2.00000000e+02, 1.99065660e-01, 1.26241080e-01, 3.20000000e+01],\n",
       "        [5.00000000e+02, 1.69232100e-01, 1.17581288e-01, 3.20000000e+01],\n",
       "        [1.00000000e+03, 1.59354766e-01, 1.16446166e-01, 3.20000000e+01],\n",
       "        [2.00000000e+03, 1.60201271e-01, 1.19887820e-01, 3.20000000e+01],\n",
       "        [5.00000000e+03, 1.79890135e-01, 1.24739359e-01, 3.20000000e+01],\n",
       "        [1.00000000e+04, 2.10811771e-01, 1.29881226e-01, 3.20000000e+01],\n",
       "        [2.00000000e+04, 2.57751417e-01, 1.26173287e-01, 3.20000000e+01],\n",
       "        [5.00000000e+04, 3.53737813e-01, 1.16521825e-01, 3.20000000e+01]]),\n",
       " array([[1.00000000e+00, 5.16000000e-01, 4.99993994e-01, 3.30000000e+01],\n",
       "        [2.00000000e+00, 4.76333333e-01, 3.67903547e-01, 3.30000000e+01],\n",
       "        [5.00000000e+00, 4.56047619e-01, 2.50106509e-01, 3.30000000e+01],\n",
       "        [1.00000000e+01, 4.21734378e-01, 2.07122171e-01, 3.30000000e+01],\n",
       "        [2.00000000e+01, 3.66388981e-01, 1.74801427e-01, 3.30000000e+01],\n",
       "        [5.00000000e+01, 2.89159597e-01, 1.52324445e-01, 3.30000000e+01],\n",
       "        [1.00000000e+02, 2.41120442e-01, 1.39409563e-01, 3.30000000e+01],\n",
       "        [2.00000000e+02, 2.04417138e-01, 1.27581306e-01, 3.30000000e+01],\n",
       "        [5.00000000e+02, 1.73338235e-01, 1.18063251e-01, 3.30000000e+01],\n",
       "        [1.00000000e+03, 1.62978893e-01, 1.16154587e-01, 3.30000000e+01],\n",
       "        [2.00000000e+03, 1.63751587e-01, 1.18110401e-01, 3.30000000e+01],\n",
       "        [5.00000000e+03, 1.85020864e-01, 1.23727145e-01, 3.30000000e+01],\n",
       "        [1.00000000e+04, 2.16069082e-01, 1.29295587e-01, 3.30000000e+01],\n",
       "        [2.00000000e+04, 2.63074453e-01, 1.25976224e-01, 3.30000000e+01],\n",
       "        [5.00000000e+04, 3.58936538e-01, 1.16434620e-01, 3.30000000e+01]]),\n",
       " array([[1.00000000e+00, 5.09000000e-01, 5.00169141e-01, 3.40000000e+01],\n",
       "        [2.00000000e+00, 4.62000000e-01, 3.66092006e-01, 3.40000000e+01],\n",
       "        [5.00000000e+00, 4.46615079e-01, 2.45914659e-01, 3.40000000e+01],\n",
       "        [1.00000000e+01, 4.20573699e-01, 2.05522721e-01, 3.40000000e+01],\n",
       "        [2.00000000e+01, 3.61276245e-01, 1.73540563e-01, 3.40000000e+01],\n",
       "        [5.00000000e+01, 2.84347128e-01, 1.51983221e-01, 3.40000000e+01],\n",
       "        [1.00000000e+02, 2.37015230e-01, 1.36120351e-01, 3.40000000e+01],\n",
       "        [2.00000000e+02, 2.02089264e-01, 1.27045665e-01, 3.40000000e+01],\n",
       "        [5.00000000e+02, 1.71857338e-01, 1.17006051e-01, 3.40000000e+01],\n",
       "        [1.00000000e+03, 1.61797149e-01, 1.15964920e-01, 3.40000000e+01],\n",
       "        [2.00000000e+03, 1.62499363e-01, 1.18853662e-01, 3.40000000e+01],\n",
       "        [5.00000000e+03, 1.82125831e-01, 1.24184758e-01, 3.40000000e+01],\n",
       "        [1.00000000e+04, 2.12171393e-01, 1.29604685e-01, 3.40000000e+01],\n",
       "        [2.00000000e+04, 2.58702166e-01, 1.25879713e-01, 3.40000000e+01],\n",
       "        [5.00000000e+04, 3.54683468e-01, 1.15924136e-01, 3.40000000e+01]]),\n",
       " array([[1.00000000e+00, 4.63000000e-01, 4.98878622e-01, 3.50000000e+01],\n",
       "        [2.00000000e+00, 4.53333333e-01, 3.63866824e-01, 3.50000000e+01],\n",
       "        [5.00000000e+00, 4.39813492e-01, 2.43692941e-01, 3.50000000e+01],\n",
       "        [1.00000000e+01, 4.21336728e-01, 2.10893762e-01, 3.50000000e+01],\n",
       "        [2.00000000e+01, 3.65437800e-01, 1.76406460e-01, 3.50000000e+01],\n",
       "        [5.00000000e+01, 2.81726570e-01, 1.49767198e-01, 3.50000000e+01],\n",
       "        [1.00000000e+02, 2.35258539e-01, 1.37965865e-01, 3.50000000e+01],\n",
       "        [2.00000000e+02, 1.97996281e-01, 1.24390527e-01, 3.50000000e+01],\n",
       "        [5.00000000e+02, 1.68111940e-01, 1.14672803e-01, 3.50000000e+01],\n",
       "        [1.00000000e+03, 1.59550830e-01, 1.13545965e-01, 3.50000000e+01],\n",
       "        [2.00000000e+03, 1.61268881e-01, 1.15952195e-01, 3.50000000e+01],\n",
       "        [5.00000000e+03, 1.82819871e-01, 1.21127445e-01, 3.50000000e+01],\n",
       "        [1.00000000e+04, 2.14402258e-01, 1.26521480e-01, 3.50000000e+01],\n",
       "        [2.00000000e+04, 2.61278868e-01, 1.23679826e-01, 3.50000000e+01],\n",
       "        [5.00000000e+04, 3.56770511e-01, 1.14333446e-01, 3.50000000e+01]]),\n",
       " array([[1.00000000e+00, 4.84000000e-01, 4.99993994e-01, 3.60000000e+01],\n",
       "        [2.00000000e+00, 4.61000000e-01, 3.70517138e-01, 3.60000000e+01],\n",
       "        [5.00000000e+00, 4.49218254e-01, 2.50211724e-01, 3.60000000e+01],\n",
       "        [1.00000000e+01, 4.19878791e-01, 2.08954616e-01, 3.60000000e+01],\n",
       "        [2.00000000e+01, 3.64499770e-01, 1.73553327e-01, 3.60000000e+01],\n",
       "        [5.00000000e+01, 2.81131513e-01, 1.52145420e-01, 3.60000000e+01],\n",
       "        [1.00000000e+02, 2.34392921e-01, 1.38722286e-01, 3.60000000e+01],\n",
       "        [2.00000000e+02, 1.99442864e-01, 1.27736409e-01, 3.60000000e+01],\n",
       "        [5.00000000e+02, 1.70364290e-01, 1.17144890e-01, 3.60000000e+01],\n",
       "        [1.00000000e+03, 1.60711829e-01, 1.15359827e-01, 3.60000000e+01],\n",
       "        [2.00000000e+03, 1.61965730e-01, 1.17606597e-01, 3.60000000e+01],\n",
       "        [5.00000000e+03, 1.82215166e-01, 1.23269834e-01, 3.60000000e+01],\n",
       "        [1.00000000e+04, 2.13101682e-01, 1.28841016e-01, 3.60000000e+01],\n",
       "        [2.00000000e+04, 2.59714346e-01, 1.26085913e-01, 3.60000000e+01],\n",
       "        [5.00000000e+04, 3.55161730e-01, 1.18158287e-01, 3.60000000e+01]]),\n",
       " array([[1.00000000e+00, 4.92000000e-01, 5.00186152e-01, 3.70000000e+01],\n",
       "        [2.00000000e+00, 4.48666667e-01, 3.55499871e-01, 3.70000000e+01],\n",
       "        [5.00000000e+00, 4.48948413e-01, 2.47485157e-01, 3.70000000e+01],\n",
       "        [1.00000000e+01, 4.19248104e-01, 2.02056299e-01, 3.70000000e+01],\n",
       "        [2.00000000e+01, 3.62311738e-01, 1.73541239e-01, 3.70000000e+01],\n",
       "        [5.00000000e+01, 2.81388208e-01, 1.47268315e-01, 3.70000000e+01],\n",
       "        [1.00000000e+02, 2.33844050e-01, 1.33516249e-01, 3.70000000e+01],\n",
       "        [2.00000000e+02, 1.99363268e-01, 1.25195101e-01, 3.70000000e+01],\n",
       "        [5.00000000e+02, 1.69119053e-01, 1.16417182e-01, 3.70000000e+01],\n",
       "        [1.00000000e+03, 1.59889009e-01, 1.15812049e-01, 3.70000000e+01],\n",
       "        [2.00000000e+03, 1.60794824e-01, 1.18042651e-01, 3.70000000e+01],\n",
       "        [5.00000000e+03, 1.80732908e-01, 1.24241508e-01, 3.70000000e+01],\n",
       "        [1.00000000e+04, 2.11049803e-01, 1.30246697e-01, 3.70000000e+01],\n",
       "        [2.00000000e+04, 2.57683202e-01, 1.26803891e-01, 3.70000000e+01],\n",
       "        [5.00000000e+04, 3.52650423e-01, 1.17501671e-01, 3.70000000e+01]]),\n",
       " array([[1.00000000e+00, 4.88000000e-01, 5.00106095e-01, 3.80000000e+01],\n",
       "        [2.00000000e+00, 4.61333333e-01, 3.61127512e-01, 3.80000000e+01],\n",
       "        [5.00000000e+00, 4.51277778e-01, 2.47309430e-01, 3.80000000e+01],\n",
       "        [1.00000000e+01, 4.22745979e-01, 2.07072595e-01, 3.80000000e+01],\n",
       "        [2.00000000e+01, 3.68407745e-01, 1.75951167e-01, 3.80000000e+01],\n",
       "        [5.00000000e+01, 2.87411458e-01, 1.49304434e-01, 3.80000000e+01],\n",
       "        [1.00000000e+02, 2.39404487e-01, 1.39224841e-01, 3.80000000e+01],\n",
       "        [2.00000000e+02, 2.03012090e-01, 1.28202775e-01, 3.80000000e+01],\n",
       "        [5.00000000e+02, 1.71802314e-01, 1.17926169e-01, 3.80000000e+01],\n",
       "        [1.00000000e+03, 1.61989877e-01, 1.16957581e-01, 3.80000000e+01],\n",
       "        [2.00000000e+03, 1.63865929e-01, 1.19188712e-01, 3.80000000e+01],\n",
       "        [5.00000000e+03, 1.85810316e-01, 1.24689602e-01, 3.80000000e+01],\n",
       "        [1.00000000e+04, 2.16932440e-01, 1.30512546e-01, 3.80000000e+01],\n",
       "        [2.00000000e+04, 2.63429846e-01, 1.27297514e-01, 3.80000000e+01],\n",
       "        [5.00000000e+04, 3.58719284e-01, 1.17757877e-01, 3.80000000e+01]]),\n",
       " array([[1.00000000e+00, 5.03000000e-01, 5.00241183e-01, 3.90000000e+01],\n",
       "        [2.00000000e+00, 4.56000000e-01, 3.58039372e-01, 3.90000000e+01],\n",
       "        [5.00000000e+00, 4.39670635e-01, 2.44800729e-01, 3.90000000e+01],\n",
       "        [1.00000000e+01, 4.23850551e-01, 2.10862640e-01, 3.90000000e+01],\n",
       "        [2.00000000e+01, 3.62267376e-01, 1.74526016e-01, 3.90000000e+01],\n",
       "        [5.00000000e+01, 2.81852945e-01, 1.46001351e-01, 3.90000000e+01],\n",
       "        [1.00000000e+02, 2.35799489e-01, 1.35017371e-01, 3.90000000e+01],\n",
       "        [2.00000000e+02, 1.99982618e-01, 1.25313892e-01, 3.90000000e+01],\n",
       "        [5.00000000e+02, 1.70986730e-01, 1.17107651e-01, 3.90000000e+01],\n",
       "        [1.00000000e+03, 1.60129491e-01, 1.15978142e-01, 3.90000000e+01],\n",
       "        [2.00000000e+03, 1.60308881e-01, 1.18827227e-01, 3.90000000e+01],\n",
       "        [5.00000000e+03, 1.79577783e-01, 1.23700831e-01, 3.90000000e+01],\n",
       "        [1.00000000e+04, 2.10586235e-01, 1.28734898e-01, 3.90000000e+01],\n",
       "        [2.00000000e+04, 2.58061139e-01, 1.24938065e-01, 3.90000000e+01],\n",
       "        [5.00000000e+04, 3.54745860e-01, 1.15762123e-01, 3.90000000e+01]]),\n",
       " array([[1.00000000e+00, 4.99000000e-01, 5.00249187e-01, 4.00000000e+01],\n",
       "        [2.00000000e+00, 4.55666667e-01, 3.61091630e-01, 4.00000000e+01],\n",
       "        [5.00000000e+00, 4.52047619e-01, 2.49112111e-01, 4.00000000e+01],\n",
       "        [1.00000000e+01, 4.14781665e-01, 2.03221173e-01, 4.00000000e+01],\n",
       "        [2.00000000e+01, 3.57949012e-01, 1.75145863e-01, 4.00000000e+01],\n",
       "        [5.00000000e+01, 2.82039884e-01, 1.55800840e-01, 4.00000000e+01],\n",
       "        [1.00000000e+02, 2.32911063e-01, 1.37304105e-01, 4.00000000e+01],\n",
       "        [2.00000000e+02, 1.97433761e-01, 1.26995237e-01, 4.00000000e+01],\n",
       "        [5.00000000e+02, 1.68389551e-01, 1.17137997e-01, 4.00000000e+01],\n",
       "        [1.00000000e+03, 1.59362561e-01, 1.15438958e-01, 4.00000000e+01],\n",
       "        [2.00000000e+03, 1.60462180e-01, 1.17705110e-01, 4.00000000e+01],\n",
       "        [5.00000000e+03, 1.80981677e-01, 1.22814239e-01, 4.00000000e+01],\n",
       "        [1.00000000e+04, 2.12012493e-01, 1.28161524e-01, 4.00000000e+01],\n",
       "        [2.00000000e+04, 2.59038306e-01, 1.24893475e-01, 4.00000000e+01],\n",
       "        [5.00000000e+04, 3.55543429e-01, 1.15953395e-01, 4.00000000e+01]]),\n",
       " array([[1.00000000e+00, 4.91000000e-01, 5.00169141e-01, 4.10000000e+01],\n",
       "        [2.00000000e+00, 4.52000000e-01, 3.63081021e-01, 4.10000000e+01],\n",
       "        [5.00000000e+00, 4.45797619e-01, 2.44154393e-01, 4.10000000e+01],\n",
       "        [1.00000000e+01, 4.20881781e-01, 2.07269556e-01, 4.10000000e+01],\n",
       "        [2.00000000e+01, 3.61509702e-01, 1.73545392e-01, 4.10000000e+01],\n",
       "        [5.00000000e+01, 2.81836418e-01, 1.50330139e-01, 4.10000000e+01],\n",
       "        [1.00000000e+02, 2.34738647e-01, 1.38043987e-01, 4.10000000e+01],\n",
       "        [2.00000000e+02, 2.00745607e-01, 1.29804956e-01, 4.10000000e+01],\n",
       "        [5.00000000e+02, 1.70328283e-01, 1.17048052e-01, 4.10000000e+01],\n",
       "        [1.00000000e+03, 1.59777480e-01, 1.14682745e-01, 4.10000000e+01],\n",
       "        [2.00000000e+03, 1.59614702e-01, 1.16875403e-01, 4.10000000e+01],\n",
       "        [5.00000000e+03, 1.80236015e-01, 1.22896928e-01, 4.10000000e+01],\n",
       "        [1.00000000e+04, 2.11858091e-01, 1.28992661e-01, 4.10000000e+01],\n",
       "        [2.00000000e+04, 2.59096242e-01, 1.25627114e-01, 4.10000000e+01],\n",
       "        [5.00000000e+04, 3.54802721e-01, 1.16175009e-01, 4.10000000e+01]]),\n",
       " array([[1.00000000e+00, 4.71000000e-01, 4.99408058e-01, 4.20000000e+01],\n",
       "        [2.00000000e+00, 4.51000000e-01, 3.57388761e-01, 4.20000000e+01],\n",
       "        [5.00000000e+00, 4.51123016e-01, 2.49221920e-01, 4.20000000e+01],\n",
       "        [1.00000000e+01, 4.23192364e-01, 2.07762412e-01, 4.20000000e+01],\n",
       "        [2.00000000e+01, 3.61407534e-01, 1.71372019e-01, 4.20000000e+01],\n",
       "        [5.00000000e+01, 2.83110445e-01, 1.50668808e-01, 4.20000000e+01],\n",
       "        [1.00000000e+02, 2.35288911e-01, 1.36589047e-01, 4.20000000e+01],\n",
       "        [2.00000000e+02, 2.02135735e-01, 1.27934388e-01, 4.20000000e+01],\n",
       "        [5.00000000e+02, 1.72061047e-01, 1.15456024e-01, 4.20000000e+01],\n",
       "        [1.00000000e+03, 1.61638489e-01, 1.13692620e-01, 4.20000000e+01],\n",
       "        [2.00000000e+03, 1.62098947e-01, 1.16318300e-01, 4.20000000e+01],\n",
       "        [5.00000000e+03, 1.82842318e-01, 1.22088311e-01, 4.20000000e+01],\n",
       "        [1.00000000e+04, 2.14070374e-01, 1.27943876e-01, 4.20000000e+01],\n",
       "        [2.00000000e+04, 2.60428455e-01, 1.25089079e-01, 4.20000000e+01],\n",
       "        [5.00000000e+04, 3.55378715e-01, 1.16640168e-01, 4.20000000e+01]]),\n",
       " array([[1.00000000e+00, 4.79000000e-01, 4.99808772e-01, 4.30000000e+01],\n",
       "        [2.00000000e+00, 4.50666667e-01, 3.56719816e-01, 4.30000000e+01],\n",
       "        [5.00000000e+00, 4.43523810e-01, 2.47355491e-01, 4.30000000e+01],\n",
       "        [1.00000000e+01, 4.19984511e-01, 2.04679250e-01, 4.30000000e+01],\n",
       "        [2.00000000e+01, 3.70329642e-01, 1.77701751e-01, 4.30000000e+01],\n",
       "        [5.00000000e+01, 2.86666652e-01, 1.50402778e-01, 4.30000000e+01],\n",
       "        [1.00000000e+02, 2.39372612e-01, 1.38767867e-01, 4.30000000e+01],\n",
       "        [2.00000000e+02, 2.04821007e-01, 1.30437544e-01, 4.30000000e+01],\n",
       "        [5.00000000e+02, 1.73873378e-01, 1.20043297e-01, 4.30000000e+01],\n",
       "        [1.00000000e+03, 1.63066505e-01, 1.19130282e-01, 4.30000000e+01],\n",
       "        [2.00000000e+03, 1.62690978e-01, 1.21180895e-01, 4.30000000e+01],\n",
       "        [5.00000000e+03, 1.82794384e-01, 1.25917753e-01, 4.30000000e+01],\n",
       "        [1.00000000e+04, 2.13869157e-01, 1.30955013e-01, 4.30000000e+01],\n",
       "        [2.00000000e+04, 2.60758920e-01, 1.27011908e-01, 4.30000000e+01],\n",
       "        [5.00000000e+04, 3.57049099e-01, 1.18081508e-01, 4.30000000e+01]]),\n",
       " array([[1.00000000e+00, 4.88000000e-01, 5.00106095e-01, 4.40000000e+01],\n",
       "        [2.00000000e+00, 4.64000000e-01, 3.69016947e-01, 4.40000000e+01],\n",
       "        [5.00000000e+00, 4.41047619e-01, 2.47509693e-01, 4.40000000e+01],\n",
       "        [1.00000000e+01, 4.19389000e-01, 2.09591648e-01, 4.40000000e+01],\n",
       "        [2.00000000e+01, 3.62222822e-01, 1.70700152e-01, 4.40000000e+01],\n",
       "        [5.00000000e+01, 2.83238799e-01, 1.48482136e-01, 4.40000000e+01],\n",
       "        [1.00000000e+02, 2.36623034e-01, 1.36299678e-01, 4.40000000e+01],\n",
       "        [2.00000000e+02, 2.02371867e-01, 1.27276305e-01, 4.40000000e+01],\n",
       "        [5.00000000e+02, 1.72097977e-01, 1.17858369e-01, 4.40000000e+01],\n",
       "        [1.00000000e+03, 1.61422093e-01, 1.16410235e-01, 4.40000000e+01],\n",
       "        [2.00000000e+03, 1.61698237e-01, 1.18546685e-01, 4.40000000e+01],\n",
       "        [5.00000000e+03, 1.83588582e-01, 1.23441133e-01, 4.40000000e+01],\n",
       "        [1.00000000e+04, 2.15655924e-01, 1.28275849e-01, 4.40000000e+01],\n",
       "        [2.00000000e+04, 2.62235298e-01, 1.24424544e-01, 4.40000000e+01],\n",
       "        [5.00000000e+04, 3.56613746e-01, 1.14949076e-01, 4.40000000e+01]]),\n",
       " array([[1.00000000e+00, 4.96000000e-01, 5.00234179e-01, 4.50000000e+01],\n",
       "        [2.00000000e+00, 4.56333333e-01, 3.59629903e-01, 4.50000000e+01],\n",
       "        [5.00000000e+00, 4.47638889e-01, 2.42337875e-01, 4.50000000e+01],\n",
       "        [1.00000000e+01, 4.22953487e-01, 2.05075508e-01, 4.50000000e+01],\n",
       "        [2.00000000e+01, 3.66274733e-01, 1.71829703e-01, 4.50000000e+01],\n",
       "        [5.00000000e+01, 2.89838290e-01, 1.54572437e-01, 4.50000000e+01],\n",
       "        [1.00000000e+02, 2.40342627e-01, 1.41559082e-01, 4.50000000e+01],\n",
       "        [2.00000000e+02, 2.02840057e-01, 1.30091616e-01, 4.50000000e+01],\n",
       "        [5.00000000e+02, 1.72053086e-01, 1.19229978e-01, 4.50000000e+01],\n",
       "        [1.00000000e+03, 1.62970602e-01, 1.18267418e-01, 4.50000000e+01],\n",
       "        [2.00000000e+03, 1.65125465e-01, 1.20253127e-01, 4.50000000e+01],\n",
       "        [5.00000000e+03, 1.87114268e-01, 1.25303800e-01, 4.50000000e+01],\n",
       "        [1.00000000e+04, 2.18648149e-01, 1.30783545e-01, 4.50000000e+01],\n",
       "        [2.00000000e+04, 2.65885438e-01, 1.27383772e-01, 4.50000000e+01],\n",
       "        [5.00000000e+04, 3.62592667e-01, 1.18078756e-01, 4.50000000e+01]]),\n",
       " array([[1.00000000e+00, 4.89000000e-01, 5.00129112e-01, 4.60000000e+01],\n",
       "        [2.00000000e+00, 4.67000000e-01, 3.71100232e-01, 4.60000000e+01],\n",
       "        [5.00000000e+00, 4.39583333e-01, 2.49297169e-01, 4.60000000e+01],\n",
       "        [1.00000000e+01, 4.17003087e-01, 2.03490218e-01, 4.60000000e+01],\n",
       "        [2.00000000e+01, 3.64151641e-01, 1.74185207e-01, 4.60000000e+01],\n",
       "        [5.00000000e+01, 2.86555797e-01, 1.49734484e-01, 4.60000000e+01],\n",
       "        [1.00000000e+02, 2.37892166e-01, 1.37081713e-01, 4.60000000e+01],\n",
       "        [2.00000000e+02, 2.02545372e-01, 1.28220221e-01, 4.60000000e+01],\n",
       "        [5.00000000e+02, 1.71784145e-01, 1.18287794e-01, 4.60000000e+01],\n",
       "        [1.00000000e+03, 1.61409325e-01, 1.17201017e-01, 4.60000000e+01],\n",
       "        [2.00000000e+03, 1.61707460e-01, 1.20356941e-01, 4.60000000e+01],\n",
       "        [5.00000000e+03, 1.81743520e-01, 1.25985493e-01, 4.60000000e+01],\n",
       "        [1.00000000e+04, 2.12810939e-01, 1.31308810e-01, 4.60000000e+01],\n",
       "        [2.00000000e+04, 2.59731189e-01, 1.28011475e-01, 4.60000000e+01],\n",
       "        [5.00000000e+04, 3.56191833e-01, 1.18151692e-01, 4.60000000e+01]]),\n",
       " array([[1.00000000e+00, 4.89000000e-01, 5.00129112e-01, 4.70000000e+01],\n",
       "        [2.00000000e+00, 4.69000000e-01, 3.65840821e-01, 4.70000000e+01],\n",
       "        [5.00000000e+00, 4.50484127e-01, 2.50467482e-01, 4.70000000e+01],\n",
       "        [1.00000000e+01, 4.19218273e-01, 2.07326944e-01, 4.70000000e+01],\n",
       "        [2.00000000e+01, 3.63440706e-01, 1.71219961e-01, 4.70000000e+01],\n",
       "        [5.00000000e+01, 2.84090487e-01, 1.47958156e-01, 4.70000000e+01],\n",
       "        [1.00000000e+02, 2.36274532e-01, 1.35497514e-01, 4.70000000e+01],\n",
       "        [2.00000000e+02, 2.01582366e-01, 1.26069849e-01, 4.70000000e+01],\n",
       "        [5.00000000e+02, 1.72162833e-01, 1.17380201e-01, 4.70000000e+01],\n",
       "        [1.00000000e+03, 1.62691396e-01, 1.16125946e-01, 4.70000000e+01],\n",
       "        [2.00000000e+03, 1.62936635e-01, 1.17790364e-01, 4.70000000e+01],\n",
       "        [5.00000000e+03, 1.82016386e-01, 1.22678991e-01, 4.70000000e+01],\n",
       "        [1.00000000e+04, 2.12662803e-01, 1.27850356e-01, 4.70000000e+01],\n",
       "        [2.00000000e+04, 2.59806964e-01, 1.24480369e-01, 4.70000000e+01],\n",
       "        [5.00000000e+04, 3.56377177e-01, 1.15780059e-01, 4.70000000e+01]]),\n",
       " array([[1.00000000e+00, 4.79000000e-01, 4.99808772e-01, 4.80000000e+01],\n",
       "        [2.00000000e+00, 4.45333333e-01, 3.56253070e-01, 4.80000000e+01],\n",
       "        [5.00000000e+00, 4.46293651e-01, 2.49679300e-01, 4.80000000e+01],\n",
       "        [1.00000000e+01, 4.18504191e-01, 2.11825597e-01, 4.80000000e+01],\n",
       "        [2.00000000e+01, 3.60768110e-01, 1.73308459e-01, 4.80000000e+01],\n",
       "        [5.00000000e+01, 2.83650742e-01, 1.51903747e-01, 4.80000000e+01],\n",
       "        [1.00000000e+02, 2.36673889e-01, 1.36730839e-01, 4.80000000e+01],\n",
       "        [2.00000000e+02, 2.02055881e-01, 1.28191103e-01, 4.80000000e+01],\n",
       "        [5.00000000e+02, 1.71196419e-01, 1.17306676e-01, 4.80000000e+01],\n",
       "        [1.00000000e+03, 1.60889903e-01, 1.15292596e-01, 4.80000000e+01],\n",
       "        [2.00000000e+03, 1.61603202e-01, 1.17210128e-01, 4.80000000e+01],\n",
       "        [5.00000000e+03, 1.82142346e-01, 1.22331989e-01, 4.80000000e+01],\n",
       "        [1.00000000e+04, 2.13711656e-01, 1.27391209e-01, 4.80000000e+01],\n",
       "        [2.00000000e+04, 2.61162555e-01, 1.24221648e-01, 4.80000000e+01],\n",
       "        [5.00000000e+04, 3.57905467e-01, 1.16091118e-01, 4.80000000e+01]]),\n",
       " array([[1.00000000e+00, 4.82000000e-01, 4.99925920e-01, 4.90000000e+01],\n",
       "        [2.00000000e+00, 4.59666667e-01, 3.60636710e-01, 4.90000000e+01],\n",
       "        [5.00000000e+00, 4.43246032e-01, 2.48707127e-01, 4.90000000e+01],\n",
       "        [1.00000000e+01, 4.16899434e-01, 2.02899643e-01, 4.90000000e+01],\n",
       "        [2.00000000e+01, 3.63235271e-01, 1.70561749e-01, 4.90000000e+01],\n",
       "        [5.00000000e+01, 2.88762614e-01, 1.49565555e-01, 4.90000000e+01],\n",
       "        [1.00000000e+02, 2.41227249e-01, 1.37549500e-01, 4.90000000e+01],\n",
       "        [2.00000000e+02, 2.04317703e-01, 1.26016054e-01, 4.90000000e+01],\n",
       "        [5.00000000e+02, 1.73633135e-01, 1.16893250e-01, 4.90000000e+01],\n",
       "        [1.00000000e+03, 1.64103683e-01, 1.17519147e-01, 4.90000000e+01],\n",
       "        [2.00000000e+03, 1.64173645e-01, 1.20476066e-01, 4.90000000e+01],\n",
       "        [5.00000000e+03, 1.83718172e-01, 1.26446140e-01, 4.90000000e+01],\n",
       "        [1.00000000e+04, 2.13958785e-01, 1.31991782e-01, 4.90000000e+01],\n",
       "        [2.00000000e+04, 2.60329345e-01, 1.28941521e-01, 4.90000000e+01],\n",
       "        [5.00000000e+04, 3.55196999e-01, 1.19165002e-01, 4.90000000e+01]])]"
      ]
     },
     "execution_count": 35,
     "metadata": {},
     "output_type": "execute_result"
    }
   ],
   "source": [
    "neigh_jaccard_bands_1_2"
   ]
  },
  {
   "cell_type": "code",
   "execution_count": 40,
   "metadata": {
    "scrolled": false
   },
   "outputs": [
    {
     "data": {
      "image/png": "[encoded data removed]",
      "text/plain": [
       "<Figure size 720x360 with 1 Axes>"
      ]
     },
     "metadata": {
      "needs_background": "light"
     },
     "output_type": "display_data"
    }
   ],
   "source": [
    "plt.figure(figsize=(10, 5))\n",
    "\n",
    "\n",
    "plt.plot(neigh_jaccard_bands_1_2[0][:, 0], np.mean(neigh_jaccard_bands_1_2, axis=0)[:, 1], \n",
    "         'k-o', alpha=1.0, \n",
    "         lw=4,\n",
    "         label='Quality bands=1,2')\n",
    "\n",
    "plt.plot(neigh_jaccard_bands_3_4[:, 0], neigh_jaccard_bands_3_4[:, 1], \n",
    "         'r-o', alpha=1.0, \n",
    "         lw=4,\n",
    "         label='Quality bands=3,4')\n",
    "\n",
    "plt.grid()\n",
    "plt.xticks(size=20)\n",
    "plt.yticks(size=20)\n",
    "plt.xlabel(\"#neighbours\", size=24)\n",
    "plt.ylabel(\"Jaccard similarity\", size=24)\n",
    "plt.xscale(\"log\")\n",
    "plt.xlim(0.9, 60000)\n",
    "plt.ylim(0.05, 0.6)\n",
    "\n",
    "plt.legend(prop={'size': 20})\n",
    "plt.show()\n",
    "#plt.xlim(0, 20000)"
   ]
  },
  {
   "cell_type": "code",
   "execution_count": null,
   "metadata": {},
   "outputs": [],
   "source": []
  }
 ],
 "metadata": {
  "kernelspec": {
   "display_name": "Python 3",
   "language": "python",
   "name": "python3"
  },
  "language_info": {
   "codemirror_mode": {
    "name": "ipython",
    "version": 3
   },
   "file_extension": ".py",
   "mimetype": "text/x-python",
   "name": "python",
   "nbconvert_exporter": "python",
   "pygments_lexer": "ipython3",
   "version": "3.6.8"
  }
 },
 "nbformat": 4,
 "nbformat_minor": 2
}
