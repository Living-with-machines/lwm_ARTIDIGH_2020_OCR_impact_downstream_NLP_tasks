{
 "cells": [
  {
   "cell_type": "markdown",
   "metadata": {},
   "source": [
    "# Language Model analysis"
   ]
  },
  {
   "cell_type": "code",
   "execution_count": 1,
   "metadata": {},
   "outputs": [],
   "source": [
    "import pandas as pd\n",
    "import time\n",
    "import matplotlib.pyplot as plt\n",
    "import numpy as np\n",
    "\n",
    "from gensim.models import Word2Vec\n",
    "from gensim import logging\n",
    "logging.basicConfig(format='%(asctime)s : %(levelname)s : %(message)s', level=logging.INFO)"
   ]
  },
  {
   "cell_type": "code",
   "execution_count": 2,
   "metadata": {
    "scrolled": true
   },
   "outputs": [
    {
     "name": "stderr",
     "output_type": "stream",
     "text": [
      "2019-11-20 10:25:02,818 : INFO : loading Word2Vec object from /Users/khosseini/myJobs/ATI/Projects/2019/Living-with-Machines-code/language-lab-mro/lexicon_expansion/interactive_expansion/models/all_books/w2v_005/w2v_words.model\n",
      "2019-11-20 10:25:03,862 : INFO : loading wv recursively from /Users/khosseini/myJobs/ATI/Projects/2019/Living-with-Machines-code/language-lab-mro/lexicon_expansion/interactive_expansion/models/all_books/w2v_005/w2v_words.model.wv.* with mmap=None\n",
      "2019-11-20 10:25:03,862 : INFO : loading vectors from /Users/khosseini/myJobs/ATI/Projects/2019/Living-with-Machines-code/language-lab-mro/lexicon_expansion/interactive_expansion/models/all_books/w2v_005/w2v_words.model.wv.vectors.npy with mmap=None\n",
      "2019-11-20 10:25:04,153 : INFO : setting ignored attribute vectors_norm to None\n",
      "2019-11-20 10:25:04,154 : INFO : loading vocabulary recursively from /Users/khosseini/myJobs/ATI/Projects/2019/Living-with-Machines-code/language-lab-mro/lexicon_expansion/interactive_expansion/models/all_books/w2v_005/w2v_words.model.vocabulary.* with mmap=None\n",
      "2019-11-20 10:25:04,155 : INFO : loading trainables recursively from /Users/khosseini/myJobs/ATI/Projects/2019/Living-with-Machines-code/language-lab-mro/lexicon_expansion/interactive_expansion/models/all_books/w2v_005/w2v_words.model.trainables.* with mmap=None\n",
      "2019-11-20 10:25:04,156 : INFO : loading syn1neg from /Users/khosseini/myJobs/ATI/Projects/2019/Living-with-Machines-code/language-lab-mro/lexicon_expansion/interactive_expansion/models/all_books/w2v_005/w2v_words.model.trainables.syn1neg.npy with mmap=None\n",
      "2019-11-20 10:25:04,443 : INFO : setting ignored attribute cum_table to None\n",
      "2019-11-20 10:25:04,443 : INFO : loaded /Users/khosseini/myJobs/ATI/Projects/2019/Living-with-Machines-code/language-lab-mro/lexicon_expansion/interactive_expansion/models/all_books/w2v_005/w2v_words.model\n",
      "2019-11-20 10:25:05,522 : INFO : loading Word2Vec object from /Users/khosseini/myJobs/ATI/Projects/2019/lwm_ocr_assessment/LMs/w2v_005_EM_ocr_qual_1_2.model\n",
      "2019-11-20 10:25:06,546 : INFO : loading wv recursively from /Users/khosseini/myJobs/ATI/Projects/2019/lwm_ocr_assessment/LMs/w2v_005_EM_ocr_qual_1_2.model.wv.* with mmap=None\n",
      "2019-11-20 10:25:06,547 : INFO : loading vectors from /Users/khosseini/myJobs/ATI/Projects/2019/lwm_ocr_assessment/LMs/w2v_005_EM_ocr_qual_1_2.model.wv.vectors.npy with mmap=None\n",
      "2019-11-20 10:25:06,862 : INFO : setting ignored attribute vectors_norm to None\n",
      "2019-11-20 10:25:06,863 : INFO : loading vocabulary recursively from /Users/khosseini/myJobs/ATI/Projects/2019/lwm_ocr_assessment/LMs/w2v_005_EM_ocr_qual_1_2.model.vocabulary.* with mmap=None\n",
      "2019-11-20 10:25:06,863 : INFO : loading trainables recursively from /Users/khosseini/myJobs/ATI/Projects/2019/lwm_ocr_assessment/LMs/w2v_005_EM_ocr_qual_1_2.model.trainables.* with mmap=None\n",
      "2019-11-20 10:25:06,864 : INFO : loading syn1neg from /Users/khosseini/myJobs/ATI/Projects/2019/lwm_ocr_assessment/LMs/w2v_005_EM_ocr_qual_1_2.model.trainables.syn1neg.npy with mmap=None\n",
      "2019-11-20 10:25:07,206 : INFO : setting ignored attribute cum_table to None\n",
      "2019-11-20 10:25:07,207 : INFO : loaded /Users/khosseini/myJobs/ATI/Projects/2019/lwm_ocr_assessment/LMs/w2v_005_EM_ocr_qual_1_2.model\n",
      "2019-11-20 10:25:08,311 : INFO : loading Word2Vec object from /Users/khosseini/myJobs/ATI/Projects/2019/lwm_ocr_assessment/LMs/w2v_005_EM_corr_qual_1_2.model\n",
      "2019-11-20 10:25:09,226 : INFO : loading wv recursively from /Users/khosseini/myJobs/ATI/Projects/2019/lwm_ocr_assessment/LMs/w2v_005_EM_corr_qual_1_2.model.wv.* with mmap=None\n",
      "2019-11-20 10:25:09,227 : INFO : loading vectors from /Users/khosseini/myJobs/ATI/Projects/2019/lwm_ocr_assessment/LMs/w2v_005_EM_corr_qual_1_2.model.wv.vectors.npy with mmap=None\n",
      "2019-11-20 10:25:09,521 : INFO : setting ignored attribute vectors_norm to None\n",
      "2019-11-20 10:25:09,522 : INFO : loading vocabulary recursively from /Users/khosseini/myJobs/ATI/Projects/2019/lwm_ocr_assessment/LMs/w2v_005_EM_corr_qual_1_2.model.vocabulary.* with mmap=None\n",
      "2019-11-20 10:25:09,522 : INFO : loading trainables recursively from /Users/khosseini/myJobs/ATI/Projects/2019/lwm_ocr_assessment/LMs/w2v_005_EM_corr_qual_1_2.model.trainables.* with mmap=None\n",
      "2019-11-20 10:25:09,523 : INFO : loading syn1neg from /Users/khosseini/myJobs/ATI/Projects/2019/lwm_ocr_assessment/LMs/w2v_005_EM_corr_qual_1_2.model.trainables.syn1neg.npy with mmap=None\n",
      "2019-11-20 10:25:09,796 : INFO : setting ignored attribute cum_table to None\n",
      "2019-11-20 10:25:09,797 : INFO : loaded /Users/khosseini/myJobs/ATI/Projects/2019/lwm_ocr_assessment/LMs/w2v_005_EM_corr_qual_1_2.model\n",
      "2019-11-20 10:25:10,898 : INFO : loading Word2Vec object from /Users/khosseini/myJobs/ATI/Projects/2019/lwm_ocr_assessment/LMs/w2v_005_EM_ocr_qual_3_4.model\n",
      "2019-11-20 10:25:12,360 : INFO : loading wv recursively from /Users/khosseini/myJobs/ATI/Projects/2019/lwm_ocr_assessment/LMs/w2v_005_EM_ocr_qual_3_4.model.wv.* with mmap=None\n",
      "2019-11-20 10:25:12,360 : INFO : loading vectors from /Users/khosseini/myJobs/ATI/Projects/2019/lwm_ocr_assessment/LMs/w2v_005_EM_ocr_qual_3_4.model.wv.vectors.npy with mmap=None\n",
      "2019-11-20 10:25:12,748 : INFO : setting ignored attribute vectors_norm to None\n",
      "2019-11-20 10:25:12,748 : INFO : loading vocabulary recursively from /Users/khosseini/myJobs/ATI/Projects/2019/lwm_ocr_assessment/LMs/w2v_005_EM_ocr_qual_3_4.model.vocabulary.* with mmap=None\n",
      "2019-11-20 10:25:12,749 : INFO : loading trainables recursively from /Users/khosseini/myJobs/ATI/Projects/2019/lwm_ocr_assessment/LMs/w2v_005_EM_ocr_qual_3_4.model.trainables.* with mmap=None\n",
      "2019-11-20 10:25:12,750 : INFO : loading syn1neg from /Users/khosseini/myJobs/ATI/Projects/2019/lwm_ocr_assessment/LMs/w2v_005_EM_ocr_qual_3_4.model.trainables.syn1neg.npy with mmap=None\n",
      "2019-11-20 10:25:13,655 : INFO : setting ignored attribute cum_table to None\n",
      "2019-11-20 10:25:13,656 : INFO : loaded /Users/khosseini/myJobs/ATI/Projects/2019/lwm_ocr_assessment/LMs/w2v_005_EM_ocr_qual_3_4.model\n",
      "2019-11-20 10:25:14,952 : INFO : loading Word2Vec object from /Users/khosseini/myJobs/ATI/Projects/2019/lwm_ocr_assessment/LMs/w2v_005_EM_corr_qual_3_4.model\n",
      "2019-11-20 10:25:16,874 : INFO : loading wv recursively from /Users/khosseini/myJobs/ATI/Projects/2019/lwm_ocr_assessment/LMs/w2v_005_EM_corr_qual_3_4.model.wv.* with mmap=None\n",
      "2019-11-20 10:25:16,875 : INFO : loading vectors from /Users/khosseini/myJobs/ATI/Projects/2019/lwm_ocr_assessment/LMs/w2v_005_EM_corr_qual_3_4.model.wv.vectors.npy with mmap=None\n",
      "2019-11-20 10:25:17,537 : INFO : setting ignored attribute vectors_norm to None\n",
      "2019-11-20 10:25:17,538 : INFO : loading vocabulary recursively from /Users/khosseini/myJobs/ATI/Projects/2019/lwm_ocr_assessment/LMs/w2v_005_EM_corr_qual_3_4.model.vocabulary.* with mmap=None\n",
      "2019-11-20 10:25:17,539 : INFO : loading trainables recursively from /Users/khosseini/myJobs/ATI/Projects/2019/lwm_ocr_assessment/LMs/w2v_005_EM_corr_qual_3_4.model.trainables.* with mmap=None\n",
      "2019-11-20 10:25:17,540 : INFO : loading syn1neg from /Users/khosseini/myJobs/ATI/Projects/2019/lwm_ocr_assessment/LMs/w2v_005_EM_corr_qual_3_4.model.trainables.syn1neg.npy with mmap=None\n",
      "2019-11-20 10:25:18,113 : INFO : setting ignored attribute cum_table to None\n",
      "2019-11-20 10:25:18,115 : INFO : loaded /Users/khosseini/myJobs/ATI/Projects/2019/lwm_ocr_assessment/LMs/w2v_005_EM_corr_qual_3_4.model\n"
     ]
    }
   ],
   "source": [
    "# embedding models, base model\n",
    "model_path = \"/Users/khosseini/myJobs/ATI/Projects/2019/Living-with-Machines-code/language-lab-mro/lexicon_expansion/interactive_expansion/models/all_books/w2v_005/w2v_words.model\"\n",
    "w2v = Word2Vec.load(model_path)\n",
    "\n",
    "# OCR model, quality 1, 2\n",
    "model_path = \"/Users/khosseini/myJobs/ATI/Projects/2019/lwm_ocr_assessment/LMs/w2v_005_EM_ocr_qual_1_2.model\"\n",
    "w2v_em_ocr_qual_1_2 = Word2Vec.load(model_path)\n",
    "\n",
    "# corrected model, quality 1, 2\n",
    "model_path = \"/Users/khosseini/myJobs/ATI/Projects/2019/lwm_ocr_assessment/LMs/w2v_005_EM_corr_qual_1_2.model\"\n",
    "w2v_em_corr_qual_1_2 = Word2Vec.load(model_path)\n",
    "\n",
    "# OCR model, quality 3, 4\n",
    "model_path = \"/Users/khosseini/myJobs/ATI/Projects/2019/lwm_ocr_assessment/LMs/w2v_005_EM_ocr_qual_3_4.model\"\n",
    "w2v_em_ocr_qual_3_4 = Word2Vec.load(model_path)\n",
    "\n",
    "# corrected model, quality 3, 4\n",
    "model_path = \"/Users/khosseini/myJobs/ATI/Projects/2019/lwm_ocr_assessment/LMs/w2v_005_EM_corr_qual_3_4.model\"\n",
    "w2v_em_corr_qual_3_4 = Word2Vec.load(model_path)"
   ]
  },
  {
   "cell_type": "code",
   "execution_count": 3,
   "metadata": {},
   "outputs": [],
   "source": [
    "def found_neighbors(myrow, embedding, colname='vocab', topn=1):\n",
    "    try:\n",
    "        vocab_neigh = embedding.wv.most_similar([myrow['vocab']], topn=topn)\n",
    "        return list(np.array(vocab_neigh)[:, 0])\n",
    "    except KeyError:\n",
    "        return []"
   ]
  },
  {
   "cell_type": "code",
   "execution_count": 4,
   "metadata": {},
   "outputs": [],
   "source": [
    "def jaccard_similarity_df(myrow, colname_1, colname_2, make_lowercase=True):\n",
    "    \"\"\"\n",
    "    Jaccard similarity between two documents (e.g., OCR and Human) on flattened list of words\n",
    "    \"\"\"\n",
    "    list1 = myrow[colname_1]\n",
    "    list2 = myrow[colname_2]\n",
    "    if make_lowercase:\n",
    "        list1 = [x.lower() for x in list1]\n",
    "        list2 = [x.lower() for x in list2]\n",
    "    intersection = len(list(set(list1).intersection(list2)))\n",
    "    union = (len(list1) + len(list2)) - intersection\n",
    "    return float(intersection) / union"
   ]
  },
  {
   "cell_type": "markdown",
   "metadata": {},
   "source": [
    "# Quality bands 3, 4"
   ]
  },
  {
   "cell_type": "markdown",
   "metadata": {},
   "source": [
    "## Create list of words and their frequencies in the corrected set"
   ]
  },
  {
   "cell_type": "code",
   "execution_count": 5,
   "metadata": {},
   "outputs": [],
   "source": [
    "words_corrected = []\n",
    "for item in w2v_em_corr_qual_3_4.wv.vocab:\n",
    "    words_corrected.append([item, int(w2v_em_corr_qual_3_4.wv.vocab[item].count)])"
   ]
  },
  {
   "cell_type": "code",
   "execution_count": 6,
   "metadata": {},
   "outputs": [],
   "source": [
    "pd_words = pd.DataFrame(words_corrected, columns=['vocab', 'count'])"
   ]
  },
  {
   "cell_type": "code",
   "execution_count": 7,
   "metadata": {},
   "outputs": [
    {
     "name": "stdout",
     "output_type": "stream",
     "text": [
      "size: 435768\n"
     ]
    },
    {
     "data": {
      "text/html": [
       "<div>\n",
       "<style scoped>\n",
       "    .dataframe tbody tr th:only-of-type {\n",
       "        vertical-align: middle;\n",
       "    }\n",
       "\n",
       "    .dataframe tbody tr th {\n",
       "        vertical-align: top;\n",
       "    }\n",
       "\n",
       "    .dataframe thead th {\n",
       "        text-align: right;\n",
       "    }\n",
       "</style>\n",
       "<table border=\"1\" class=\"dataframe\">\n",
       "  <thead>\n",
       "    <tr style=\"text-align: right;\">\n",
       "      <th></th>\n",
       "      <th>vocab</th>\n",
       "      <th>count</th>\n",
       "    </tr>\n",
       "  </thead>\n",
       "  <tbody>\n",
       "    <tr>\n",
       "      <td>55</td>\n",
       "      <td>the</td>\n",
       "      <td>292057861</td>\n",
       "    </tr>\n",
       "    <tr>\n",
       "      <td>113</td>\n",
       "      <td>of</td>\n",
       "      <td>174249213</td>\n",
       "    </tr>\n",
       "    <tr>\n",
       "      <td>11</td>\n",
       "      <td>.</td>\n",
       "      <td>167569112</td>\n",
       "    </tr>\n",
       "    <tr>\n",
       "      <td>39</td>\n",
       "      <td>and</td>\n",
       "      <td>139611448</td>\n",
       "    </tr>\n",
       "    <tr>\n",
       "      <td>106</td>\n",
       "      <td>to</td>\n",
       "      <td>108817438</td>\n",
       "    </tr>\n",
       "  </tbody>\n",
       "</table>\n",
       "</div>"
      ],
      "text/plain": [
       "    vocab      count\n",
       "55    the  292057861\n",
       "113    of  174249213\n",
       "11      .  167569112\n",
       "39    and  139611448\n",
       "106    to  108817438"
      ]
     },
     "execution_count": 7,
     "metadata": {},
     "output_type": "execute_result"
    }
   ],
   "source": [
    "pd_words = pd_words.sort_values(by=['count'], ascending=False)\n",
    "print(\"size: {}\".format(len(pd_words)))\n",
    "pd_words.head()"
   ]
  },
  {
   "cell_type": "code",
   "execution_count": 8,
   "metadata": {},
   "outputs": [
    {
     "data": {
      "text/html": [
       "<div>\n",
       "<style scoped>\n",
       "    .dataframe tbody tr th:only-of-type {\n",
       "        vertical-align: middle;\n",
       "    }\n",
       "\n",
       "    .dataframe tbody tr th {\n",
       "        vertical-align: top;\n",
       "    }\n",
       "\n",
       "    .dataframe thead th {\n",
       "        text-align: right;\n",
       "    }\n",
       "</style>\n",
       "<table border=\"1\" class=\"dataframe\">\n",
       "  <thead>\n",
       "    <tr style=\"text-align: right;\">\n",
       "      <th></th>\n",
       "      <th>vocab</th>\n",
       "      <th>count</th>\n",
       "    </tr>\n",
       "  </thead>\n",
       "  <tbody>\n",
       "    <tr>\n",
       "      <td>55</td>\n",
       "      <td>the</td>\n",
       "      <td>292057861</td>\n",
       "    </tr>\n",
       "    <tr>\n",
       "      <td>113</td>\n",
       "      <td>of</td>\n",
       "      <td>174249213</td>\n",
       "    </tr>\n",
       "    <tr>\n",
       "      <td>11</td>\n",
       "      <td>.</td>\n",
       "      <td>167569112</td>\n",
       "    </tr>\n",
       "    <tr>\n",
       "      <td>39</td>\n",
       "      <td>and</td>\n",
       "      <td>139611448</td>\n",
       "    </tr>\n",
       "    <tr>\n",
       "      <td>106</td>\n",
       "      <td>to</td>\n",
       "      <td>108817438</td>\n",
       "    </tr>\n",
       "    <tr>\n",
       "      <td>...</td>\n",
       "      <td>...</td>\n",
       "      <td>...</td>\n",
       "    </tr>\n",
       "    <tr>\n",
       "      <td>5444</td>\n",
       "      <td>attendants</td>\n",
       "      <td>69723</td>\n",
       "    </tr>\n",
       "    <tr>\n",
       "      <td>8140</td>\n",
       "      <td>smallest</td>\n",
       "      <td>69721</td>\n",
       "    </tr>\n",
       "    <tr>\n",
       "      <td>5006</td>\n",
       "      <td>subjected</td>\n",
       "      <td>69691</td>\n",
       "    </tr>\n",
       "    <tr>\n",
       "      <td>17941</td>\n",
       "      <td>diamond</td>\n",
       "      <td>69681</td>\n",
       "    </tr>\n",
       "    <tr>\n",
       "      <td>9285</td>\n",
       "      <td>confessed</td>\n",
       "      <td>69649</td>\n",
       "    </tr>\n",
       "  </tbody>\n",
       "</table>\n",
       "<p>5000 rows × 2 columns</p>\n",
       "</div>"
      ],
      "text/plain": [
       "            vocab      count\n",
       "55            the  292057861\n",
       "113            of  174249213\n",
       "11              .  167569112\n",
       "39            and  139611448\n",
       "106            to  108817438\n",
       "...           ...        ...\n",
       "5444   attendants      69723\n",
       "8140     smallest      69721\n",
       "5006    subjected      69691\n",
       "17941     diamond      69681\n",
       "9285    confessed      69649\n",
       "\n",
       "[5000 rows x 2 columns]"
      ]
     },
     "execution_count": 8,
     "metadata": {},
     "output_type": "execute_result"
    }
   ],
   "source": [
    "pd2search = pd_words[0:5000]\n",
    "pd2search"
   ]
  },
  {
   "cell_type": "code",
   "execution_count": 9,
   "metadata": {},
   "outputs": [
    {
     "name": "stderr",
     "output_type": "stream",
     "text": [
      "2019-11-20 10:25:20,713 : INFO : precomputing L2-norms of word weight vectors\n"
     ]
    },
    {
     "name": "stdout",
     "output_type": "stream",
     "text": [
      "topn: 1\n"
     ]
    },
    {
     "name": "stderr",
     "output_type": "stream",
     "text": [
      "/Users/khosseini/anaconda3/envs/py37torch/lib/python3.6/site-packages/ipykernel_launcher.py:10: SettingWithCopyWarning: \n",
      "A value is trying to be set on a copy of a slice from a DataFrame.\n",
      "Try using .loc[row_indexer,col_indexer] = value instead\n",
      "\n",
      "See the caveats in the documentation: http://pandas.pydata.org/pandas-docs/stable/user_guide/indexing.html#returning-a-view-versus-a-copy\n",
      "  # Remove the CWD from sys.path while we load stuff.\n",
      "2019-11-20 10:25:51,951 : INFO : precomputing L2-norms of word weight vectors\n"
     ]
    },
    {
     "name": "stdout",
     "output_type": "stream",
     "text": [
      "corr: 31.237623929977417\n"
     ]
    },
    {
     "name": "stderr",
     "output_type": "stream",
     "text": [
      "/Users/khosseini/anaconda3/envs/py37torch/lib/python3.6/site-packages/ipykernel_launcher.py:14: SettingWithCopyWarning: \n",
      "A value is trying to be set on a copy of a slice from a DataFrame.\n",
      "Try using .loc[row_indexer,col_indexer] = value instead\n",
      "\n",
      "See the caveats in the documentation: http://pandas.pydata.org/pandas-docs/stable/user_guide/indexing.html#returning-a-view-versus-a-copy\n",
      "  \n",
      "/Users/khosseini/anaconda3/envs/py37torch/lib/python3.6/site-packages/ipykernel_launcher.py:19: SettingWithCopyWarning: \n",
      "A value is trying to be set on a copy of a slice from a DataFrame.\n",
      "Try using .loc[row_indexer,col_indexer] = value instead\n",
      "\n",
      "See the caveats in the documentation: http://pandas.pydata.org/pandas-docs/stable/user_guide/indexing.html#returning-a-view-versus-a-copy\n"
     ]
    },
    {
     "name": "stdout",
     "output_type": "stream",
     "text": [
      "total: 61.48869228363037\n",
      "topn: 2\n",
      "corr: 27.80425500869751\n",
      "total: 55.90272307395935\n",
      "topn: 5\n",
      "corr: 50.36992001533508\n",
      "total: 81.75385403633118\n",
      "topn: 10\n",
      "corr: 33.88920593261719\n",
      "total: 82.7456169128418\n",
      "topn: 50\n",
      "corr: 51.276532888412476\n",
      "total: 102.47708582878113\n",
      "topn: 100\n",
      "corr: 51.460448026657104\n",
      "total: 102.94135189056396\n",
      "topn: 500\n",
      "corr: 53.83084583282471\n",
      "total: 112.25507879257202\n",
      "topn: 1000\n",
      "corr: 55.207464933395386\n",
      "total: 110.42541694641113\n",
      "topn: 5000\n",
      "corr: 79.14010500907898\n",
      "total: 161.54402709007263\n",
      "topn: 10000\n",
      "corr: 111.02097487449646\n",
      "total: 216.28135085105896\n",
      "topn: 50000\n",
      "corr: 267.5976622104645\n",
      "total: 564.6404500007629\n"
     ]
    }
   ],
   "source": [
    "neigh_jaccard_bands_3_4 = []\n",
    "\n",
    "for topn in [1, 2, 5, 10, 50, 100, 500, 1000, 5000, 10000, 50000]:\n",
    "    print(\"topn: {}\".format(topn))\n",
    "    t1 = time.time()\n",
    "    \n",
    "    pd2search = pd_words[0:1000]\n",
    "    pd2search['w2v_em_corr_qual_3_4'] = pd2search.apply(found_neighbors, args=[w2v_em_corr_qual_3_4, \n",
    "                                                                               'vocab', \n",
    "                                                                               topn], axis=1)\n",
    "    print(\"corr: {}\".format(time.time() - t1))\n",
    "    pd2search['w2v_em_ocr_qual_3_4'] = pd2search.apply(found_neighbors, args=[w2v_em_ocr_qual_3_4, \n",
    "                                                                             'vocab', \n",
    "                                                                              topn], axis=1)\n",
    "    pd2search['jaccard_qual_3_4'] = \\\n",
    "        pd2search.apply(jaccard_similarity_df, args=['w2v_em_corr_qual_3_4', \n",
    "                                                     \"w2v_em_ocr_qual_3_4\", \n",
    "                                                     True], \n",
    "                        axis=1)\n",
    "    \n",
    "    neigh_jaccard_bands_3_4.append(\n",
    "        [topn, \n",
    "         pd2search['jaccard_qual_3_4'].mean(), \n",
    "         pd2search['jaccard_qual_3_4'].std()])\n",
    "    \n",
    "    print(\"total: {}\".format(time.time() - t1))\n",
    "\n",
    "neigh_jaccard_bands_3_4 = np.array(neigh_jaccard_bands_3_4)"
   ]
  },
  {
   "cell_type": "markdown",
   "metadata": {},
   "source": [
    "# Quality bands 1, 2"
   ]
  },
  {
   "cell_type": "markdown",
   "metadata": {},
   "source": [
    "## Create list of words and their frequencies in the corrected set"
   ]
  },
  {
   "cell_type": "code",
   "execution_count": null,
   "metadata": {},
   "outputs": [],
   "source": [
    "# words_corrected = []\n",
    "for item in w2v_em_corr_qual_1_2.wv.vocab:\n",
    "    words_corrected.append([item, int(w2v_em_corr_qual_1_2.wv.vocab[item].count)])"
   ]
  },
  {
   "cell_type": "code",
   "execution_count": null,
   "metadata": {},
   "outputs": [],
   "source": [
    "pd_words = pd.DataFrame(words_corrected, columns=['vocab', 'count'])"
   ]
  },
  {
   "cell_type": "code",
   "execution_count": null,
   "metadata": {},
   "outputs": [],
   "source": [
    "pd_words = pd_words.sort_values(by=['count'], ascending=False)\n",
    "print(\"size: {}\".format(len(pd_words)))\n",
    "pd_words.head()"
   ]
  },
  {
   "cell_type": "code",
   "execution_count": null,
   "metadata": {},
   "outputs": [],
   "source": [
    "pd2search = pd_words[0:5000]\n",
    "pd2search"
   ]
  },
  {
   "cell_type": "code",
   "execution_count": null,
   "metadata": {},
   "outputs": [],
   "source": [
    "neigh_jaccard_bands_1_2 = []\n",
    "\n",
    "for topn in [1, 2, 5, 10, 50, 100, 500, 1000, 5000, 10000, 50000]:\n",
    "    print(\"topn: {}\".format(topn))\n",
    "    t1 = time.time()\n",
    "    \n",
    "    pd2search = pd_words[0:1000]\n",
    "    pd2search['w2v_em_corr_qual_1_2'] = pd2search.apply(found_neighbors, args=[w2v_em_corr_qual_1_2, \n",
    "                                                                               'vocab', \n",
    "                                                                               topn], axis=1)\n",
    "    print(\"corr: {}\".format(time.time() - t1))\n",
    "    pd2search['w2v_em_ocr_qual_1_2'] = pd2search.apply(found_neighbors, args=[w2v_em_ocr_qual_1_2, \n",
    "                                                                             'vocab', \n",
    "                                                                              topn], axis=1)\n",
    "    pd2search['jaccard_qual_1_2'] = \\\n",
    "        pd2search.apply(jaccard_similarity_df, args=['w2v_em_corr_qual_1_2', \n",
    "                                                     \"w2v_em_ocr_qual_1_2\", \n",
    "                                                     True], \n",
    "                        axis=1)\n",
    "    \n",
    "    neigh_jaccard_bands_1_2.append(\n",
    "        [topn, \n",
    "         pd2search['jaccard_qual_1_2'].mean(), \n",
    "         pd2search['jaccard_qual_1_2'].std()])\n",
    "    \n",
    "    print(\"total: {}\".format(time.time() - t1))\n",
    "\n",
    "neigh_jaccard_bands_1_2 = np.array(neigh_jaccard_bands_1_2)"
   ]
  },
  {
   "cell_type": "code",
   "execution_count": 10,
   "metadata": {},
   "outputs": [],
   "source": [
    "neigh_jaccard_bands_1_2 = np.load(\"neigh_jaccard_bands_1_2.npy\")"
   ]
  },
  {
   "cell_type": "code",
   "execution_count": 11,
   "metadata": {
    "scrolled": false
   },
   "outputs": [
    {
     "data": {
      "image/png": "[encoded data removed]",
      "text/plain": [
       "<Figure size 720x360 with 1 Axes>"
      ]
     },
     "metadata": {
      "needs_background": "light"
     },
     "output_type": "display_data"
    }
   ],
   "source": [
    "plt.figure(figsize=(10, 5))\n",
    "\n",
    "\n",
    "plt.plot(neigh_jaccard_bands_1_2[:, 0], neigh_jaccard_bands_1_2[:, 1], \n",
    "         'k-o', alpha=1.0, \n",
    "         lw=4,\n",
    "         label='Quality bands=1,2')\n",
    "\n",
    "plt.plot(neigh_jaccard_bands_3_4[:, 0], neigh_jaccard_bands_3_4[:, 1], \n",
    "         'r-o', alpha=1.0, \n",
    "         lw=4,\n",
    "         label='Quality bands=3,4')\n",
    "\n",
    "plt.grid()\n",
    "plt.xticks(size=20)\n",
    "plt.yticks(size=20)\n",
    "plt.xlabel(\"#neighbours\", size=24)\n",
    "plt.ylabel(\"Jaccard similarity\", size=24)\n",
    "plt.xscale(\"log\")\n",
    "plt.xlim(1.0, 100000)\n",
    "plt.ylim(0.05, 1.0)\n",
    "\n",
    "plt.legend(prop={'size': 20})\n",
    "plt.show()\n",
    "#plt.xlim(0, 20000)"
   ]
  },
  {
   "cell_type": "code",
   "execution_count": null,
   "metadata": {},
   "outputs": [],
   "source": []
  }
 ],
 "metadata": {
  "kernelspec": {
   "display_name": "Python 3",
   "language": "python",
   "name": "python3"
  },
  "language_info": {
   "codemirror_mode": {
    "name": "ipython",
    "version": 3
   },
   "file_extension": ".py",
   "mimetype": "text/x-python",
   "name": "python",
   "nbconvert_exporter": "python",
   "pygments_lexer": "ipython3",
   "version": "3.6.8"
  }
 },
 "nbformat": 4,
 "nbformat_minor": 2
}
