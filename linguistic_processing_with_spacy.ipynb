{
 "cells": [
  {
   "cell_type": "markdown",
   "metadata": {},
   "source": [
    "# Impact of OCR in linguistic processing\n",
    "\n",
    "Tasks in this notebook:\n",
    "- [ ] Part-of-speech tagging\n",
    "- [ ] Named entity recognition\n",
    "- [ ] Dependency parsing\n",
    "- [ ] Semantic role labelling\n",
    "\n",
    "Not considered here:\n",
    "- Sentence splitting\n",
    "- Tokenisation\n",
    "- Lemmatisation"
   ]
  },
  {
   "cell_type": "markdown",
   "metadata": {},
   "source": [
    "## Preprocessing the data"
   ]
  },
  {
   "cell_type": "code",
   "execution_count": 1,
   "metadata": {},
   "outputs": [],
   "source": [
    "import sys\n",
    "import argparse\n",
    "from pathlib import Path\n",
    "import spacy\n",
    "import glob\n",
    "import syntok.segmenter as segmenter\n",
    "from spacy.tokens import Doc\n",
    "from spacy.scorer import Scorer\n",
    "from spacy.gold import GoldParse\n",
    "import string\n",
    "import pandas as pd\n",
    "import jellyfish\n",
    "import os"
   ]
  },
  {
   "cell_type": "code",
   "execution_count": 2,
   "metadata": {},
   "outputs": [],
   "source": [
    "nlp = spacy.load(\"en_core_web_lg\")"
   ]
  },
  {
   "cell_type": "code",
   "execution_count": 3,
   "metadata": {},
   "outputs": [],
   "source": [
    "df = pd.read_pickle(\"db_sentence_ICDAR.pkl\")"
   ]
  },
  {
   "cell_type": "code",
   "execution_count": 4,
   "metadata": {},
   "outputs": [
    {
     "data": {
      "text/html": [
       "<div>\n",
       "<style scoped>\n",
       "    .dataframe tbody tr th:only-of-type {\n",
       "        vertical-align: middle;\n",
       "    }\n",
       "\n",
       "    .dataframe tbody tr th {\n",
       "        vertical-align: top;\n",
       "    }\n",
       "\n",
       "    .dataframe thead th {\n",
       "        text-align: right;\n",
       "    }\n",
       "</style>\n",
       "<table border=\"1\" class=\"dataframe\">\n",
       "  <thead>\n",
       "    <tr style=\"text-align: right;\">\n",
       "      <th></th>\n",
       "      <th>doc_index</th>\n",
       "      <th>sent_index</th>\n",
       "      <th>OCR_aligned</th>\n",
       "      <th>GS_aligned</th>\n",
       "      <th>begin_index</th>\n",
       "    </tr>\n",
       "  </thead>\n",
       "  <tbody>\n",
       "    <tr>\n",
       "      <td>1</td>\n",
       "      <td>eng_monograph_2017_289</td>\n",
       "      <td>eng_monograph_2017_289_1</td>\n",
       "      <td>BK. III. 364 AN ENGLISH ANTHOLOGY. Over many ...</td>\n",
       "      <td>####################################### many ...</td>\n",
       "      <td>0</td>\n",
       "    </tr>\n",
       "    <tr>\n",
       "      <td>2</td>\n",
       "      <td>eng_monograph_2017_289</td>\n",
       "      <td>eng_monograph_2017_289_161</td>\n",
       "      <td>Now they look abroad to see, Now return and w...</td>\n",
       "      <td>Now they look abroad to see, Now return and w...</td>\n",
       "      <td>160</td>\n",
       "    </tr>\n",
       "    <tr>\n",
       "      <td>3</td>\n",
       "      <td>eng_monograph_2017_289</td>\n",
       "      <td>eng_monograph_2017_289_219</td>\n",
       "      <td>Pitying, I dropped a tear But I saw a glow-wo...</td>\n",
       "      <td>Pitying, I dropped a tear But I saw a glow-wo...</td>\n",
       "      <td>218</td>\n",
       "    </tr>\n",
       "  </tbody>\n",
       "</table>\n",
       "</div>"
      ],
      "text/plain": [
       "                doc_index                  sent_index  \\\n",
       "1  eng_monograph_2017_289    eng_monograph_2017_289_1   \n",
       "2  eng_monograph_2017_289  eng_monograph_2017_289_161   \n",
       "3  eng_monograph_2017_289  eng_monograph_2017_289_219   \n",
       "\n",
       "                                         OCR_aligned  \\\n",
       "1   BK. III. 364 AN ENGLISH ANTHOLOGY. Over many ...   \n",
       "2   Now they look abroad to see, Now return and w...   \n",
       "3   Pitying, I dropped a tear But I saw a glow-wo...   \n",
       "\n",
       "                                          GS_aligned begin_index  \n",
       "1   ####################################### many ...           0  \n",
       "2   Now they look abroad to see, Now return and w...         160  \n",
       "3   Pitying, I dropped a tear But I saw a glow-wo...         218  "
      ]
     },
     "execution_count": 4,
     "metadata": {},
     "output_type": "execute_result"
    }
   ],
   "source": [
    "df.iloc[:3]"
   ]
  },
  {
   "cell_type": "markdown",
   "metadata": {},
   "source": [
    "## Add columns with cleaned text\n",
    "\n",
    "Consider only sentences that humans could read (sentences without '#') and which have a lenght of more than 10 characters."
   ]
  },
  {
   "cell_type": "code",
   "execution_count": 5,
   "metadata": {},
   "outputs": [],
   "source": [
    "df = df[~df[\"GS_aligned\"].str.contains('##')]\n",
    "df = df[df[\"GS_aligned\"].str.len() > 10]\n",
    "df['GS_clean'] = df['GS_aligned'].str.replace('@', '')\n",
    "df['OCR_clean'] = df['OCR_aligned'].str.replace('@', '')"
   ]
  },
  {
   "cell_type": "code",
   "execution_count": 6,
   "metadata": {},
   "outputs": [
    {
     "data": {
      "text/html": [
       "<div>\n",
       "<style scoped>\n",
       "    .dataframe tbody tr th:only-of-type {\n",
       "        vertical-align: middle;\n",
       "    }\n",
       "\n",
       "    .dataframe tbody tr th {\n",
       "        vertical-align: top;\n",
       "    }\n",
       "\n",
       "    .dataframe thead th {\n",
       "        text-align: right;\n",
       "    }\n",
       "</style>\n",
       "<table border=\"1\" class=\"dataframe\">\n",
       "  <thead>\n",
       "    <tr style=\"text-align: right;\">\n",
       "      <th></th>\n",
       "      <th>doc_index</th>\n",
       "      <th>sent_index</th>\n",
       "      <th>OCR_aligned</th>\n",
       "      <th>GS_aligned</th>\n",
       "      <th>begin_index</th>\n",
       "      <th>GS_clean</th>\n",
       "      <th>OCR_clean</th>\n",
       "    </tr>\n",
       "  </thead>\n",
       "  <tbody>\n",
       "    <tr>\n",
       "      <td>2</td>\n",
       "      <td>eng_monograph_2017_289</td>\n",
       "      <td>eng_monograph_2017_289_161</td>\n",
       "      <td>Now they look abroad to see, Now return and w...</td>\n",
       "      <td>Now they look abroad to see, Now return and w...</td>\n",
       "      <td>160</td>\n",
       "      <td>Now they look abroad to see, Now return and w...</td>\n",
       "      <td>Now they look abroad to see, Now return and w...</td>\n",
       "    </tr>\n",
       "    <tr>\n",
       "      <td>3</td>\n",
       "      <td>eng_monograph_2017_289</td>\n",
       "      <td>eng_monograph_2017_289_219</td>\n",
       "      <td>Pitying, I dropped a tear But I saw a glow-wo...</td>\n",
       "      <td>Pitying, I dropped a tear But I saw a glow-wo...</td>\n",
       "      <td>218</td>\n",
       "      <td>Pitying, I dropped a tear But I saw a glow-wo...</td>\n",
       "      <td>Pitying, I dropped a tear But I saw a glow-wo...</td>\n",
       "    </tr>\n",
       "    <tr>\n",
       "      <td>4</td>\n",
       "      <td>eng_monograph_2017_289</td>\n",
       "      <td>eng_monograph_2017_289_341</td>\n",
       "      <td>I am set to light the ground, While the beetl...</td>\n",
       "      <td>I am set to light the ground, While the beetl...</td>\n",
       "      <td>340</td>\n",
       "      <td>I am set to light the ground, While the beetl...</td>\n",
       "      <td>I am set to light the ground, While the beetl...</td>\n",
       "    </tr>\n",
       "    <tr>\n",
       "      <td>7</td>\n",
       "      <td>eng_monograph_2017_289</td>\n",
       "      <td>eng_monograph_2017_289_484</td>\n",
       "      <td>TIME AND SORROW.</td>\n",
       "      <td>TIME AND SORROW.</td>\n",
       "      <td>483</td>\n",
       "      <td>TIME AND SORROW.</td>\n",
       "      <td>TIME AND SORROW.</td>\n",
       "    </tr>\n",
       "    <tr>\n",
       "      <td>8</td>\n",
       "      <td>eng_monograph_2017_289</td>\n",
       "      <td>eng_monograph_2017_289_501</td>\n",
       "      <td>O Time ! who know'st a lenient hand to lay So...</td>\n",
       "      <td>O TIME ! who know'st a lenient hand to lay So...</td>\n",
       "      <td>500</td>\n",
       "      <td>O TIME ! who know'st a lenient hand to lay So...</td>\n",
       "      <td>O Time ! who know'st a lenient hand to lay So...</td>\n",
       "    </tr>\n",
       "  </tbody>\n",
       "</table>\n",
       "</div>"
      ],
      "text/plain": [
       "                doc_index                  sent_index  \\\n",
       "2  eng_monograph_2017_289  eng_monograph_2017_289_161   \n",
       "3  eng_monograph_2017_289  eng_monograph_2017_289_219   \n",
       "4  eng_monograph_2017_289  eng_monograph_2017_289_341   \n",
       "7  eng_monograph_2017_289  eng_monograph_2017_289_484   \n",
       "8  eng_monograph_2017_289  eng_monograph_2017_289_501   \n",
       "\n",
       "                                         OCR_aligned  \\\n",
       "2   Now they look abroad to see, Now return and w...   \n",
       "3   Pitying, I dropped a tear But I saw a glow-wo...   \n",
       "4   I am set to light the ground, While the beetl...   \n",
       "7                                   TIME AND SORROW.   \n",
       "8   O Time ! who know'st a lenient hand to lay So...   \n",
       "\n",
       "                                          GS_aligned begin_index  \\\n",
       "2   Now they look abroad to see, Now return and w...         160   \n",
       "3   Pitying, I dropped a tear But I saw a glow-wo...         218   \n",
       "4   I am set to light the ground, While the beetl...         340   \n",
       "7                                   TIME AND SORROW.         483   \n",
       "8   O TIME ! who know'st a lenient hand to lay So...         500   \n",
       "\n",
       "                                            GS_clean  \\\n",
       "2   Now they look abroad to see, Now return and w...   \n",
       "3   Pitying, I dropped a tear But I saw a glow-wo...   \n",
       "4   I am set to light the ground, While the beetl...   \n",
       "7                                   TIME AND SORROW.   \n",
       "8   O TIME ! who know'st a lenient hand to lay So...   \n",
       "\n",
       "                                           OCR_clean  \n",
       "2   Now they look abroad to see, Now return and w...  \n",
       "3   Pitying, I dropped a tear But I saw a glow-wo...  \n",
       "4   I am set to light the ground, While the beetl...  \n",
       "7                                   TIME AND SORROW.  \n",
       "8   O Time ! who know'st a lenient hand to lay So...  "
      ]
     },
     "execution_count": 6,
     "metadata": {},
     "output_type": "execute_result"
    }
   ],
   "source": [
    "df.head()"
   ]
  },
  {
   "cell_type": "code",
   "execution_count": 7,
   "metadata": {},
   "outputs": [
    {
     "data": {
      "text/plain": [
       "(35228, 7)"
      ]
     },
     "execution_count": 7,
     "metadata": {},
     "output_type": "execute_result"
    }
   ],
   "source": [
    "df.shape"
   ]
  },
  {
   "cell_type": "markdown",
   "metadata": {},
   "source": [
    "## Add columns with string similarity and length"
   ]
  },
  {
   "cell_type": "code",
   "execution_count": 8,
   "metadata": {},
   "outputs": [],
   "source": [
    "def distance_via_levenshtein(gs_clean, ocr_clean):\n",
    "    gs_clean = gs_clean.lower()\n",
    "    ocr_clean = ocr_clean.lower()\n",
    "    max_sentlength = max(len(gs_clean), len(ocr_clean))\n",
    "    lev_distance = jellyfish.levenshtein_distance(gs_clean, ocr_clean)\n",
    "    dist_similarity = (max_sentlength - lev_distance) / float(max_sentlength)\n",
    "    return dist_similarity"
   ]
  },
  {
   "cell_type": "code",
   "execution_count": 9,
   "metadata": {},
   "outputs": [],
   "source": [
    "df['str_similarity'] = df.apply(lambda row: distance_via_levenshtein(row['GS_clean'], row['OCR_clean']), axis = 1)\n",
    "df['str_length'] = df.apply(lambda row: len(row['GS_clean']), axis = 1)"
   ]
  },
  {
   "cell_type": "code",
   "execution_count": 10,
   "metadata": {},
   "outputs": [
    {
     "data": {
      "text/plain": [
       "147"
      ]
     },
     "execution_count": 10,
     "metadata": {},
     "output_type": "execute_result"
    }
   ],
   "source": [
    "# Number of documents that have at least one sentence with string similarity lower than 0.8:\n",
    "len(df[df['str_similarity'] < 0.8]['doc_index'].unique())"
   ]
  },
  {
   "cell_type": "markdown",
   "metadata": {},
   "source": [
    "## OCR and GS string similarity distribution\n",
    "\n",
    "Plot the distribution of sentences according to string similarity between OCR and GS text:"
   ]
  },
  {
   "cell_type": "code",
   "execution_count": 17,
   "metadata": {},
   "outputs": [
    {
     "data": {
      "text/plain": [
       "<matplotlib.axes._subplots.AxesSubplot at 0x1a3fedba8>"
      ]
     },
     "execution_count": 17,
     "metadata": {},
     "output_type": "execute_result"
    },
    {
     "data": {
      "image/png": "[encoded data removed]",
      "text/plain": [
       "<Figure size 432x288 with 1 Axes>"
      ]
     },
     "metadata": {
      "needs_background": "light"
     },
     "output_type": "display_data"
    }
   ],
   "source": [
    "df[['str_similarity']].plot(kind='hist',bins=[0,0.1,0.2,0.3,0.4,0.5,0.6,0.7,0.8,0.9,1.0],rwidth=0.8)"
   ]
  },
  {
   "cell_type": "markdown",
   "metadata": {},
   "source": [
    "Get some examples from each bin:"
   ]
  },
  {
   "cell_type": "code",
   "execution_count": 49,
   "metadata": {},
   "outputs": [
    {
     "data": {
      "text/html": [
       "<div>\n",
       "<style scoped>\n",
       "    .dataframe tbody tr th:only-of-type {\n",
       "        vertical-align: middle;\n",
       "    }\n",
       "\n",
       "    .dataframe tbody tr th {\n",
       "        vertical-align: top;\n",
       "    }\n",
       "\n",
       "    .dataframe thead th {\n",
       "        text-align: right;\n",
       "    }\n",
       "</style>\n",
       "<table border=\"1\" class=\"dataframe\">\n",
       "  <thead>\n",
       "    <tr style=\"text-align: right;\">\n",
       "      <th></th>\n",
       "      <th>OCR_clean</th>\n",
       "      <th>GS_clean</th>\n",
       "    </tr>\n",
       "  </thead>\n",
       "  <tbody>\n",
       "    <tr>\n",
       "      <td>35598</td>\n",
       "      <td>Ordered to lie on tile tabic.</td>\n",
       "      <td>Ordered to lie on the table.</td>\n",
       "    </tr>\n",
       "    <tr>\n",
       "      <td>29276</td>\n",
       "      <td>On Tueaday. December 28. for Five Night Only,...</td>\n",
       "      <td>On Tuesday, December 28, for Five Nights Only...</td>\n",
       "    </tr>\n",
       "    <tr>\n",
       "      <td>29268</td>\n",
       "      <td>FADDY DAWRR.</td>\n",
       "      <td>PADDY DAWER.</td>\n",
       "    </tr>\n",
       "    <tr>\n",
       "      <td>7806</td>\n",
       "      <td>Mr. Blathers made a bow, and</td>\n",
       "      <td>Mr. Blathers made a bow.</td>\n",
       "    </tr>\n",
       "    <tr>\n",
       "      <td>29409</td>\n",
       "      <td>!n tho County Court of Darlisra. holdrn at St...</td>\n",
       "      <td>In the County Court of Durham. holden at Stoc...</td>\n",
       "    </tr>\n",
       "    <tr>\n",
       "      <td>37052</td>\n",
       "      <td>Tbo parish had seat them to pick oakum, and t...</td>\n",
       "      <td>The parish had sent them to pick oakum, and t...</td>\n",
       "    </tr>\n",
       "  </tbody>\n",
       "</table>\n",
       "</div>"
      ],
      "text/plain": [
       "                                               OCR_clean  \\\n",
       "35598                      Ordered to lie on tile tabic.   \n",
       "29276   On Tueaday. December 28. for Five Night Only,...   \n",
       "29268                                       FADDY DAWRR.   \n",
       "7806                        Mr. Blathers made a bow, and   \n",
       "29409   !n tho County Court of Darlisra. holdrn at St...   \n",
       "37052   Tbo parish had seat them to pick oakum, and t...   \n",
       "\n",
       "                                                GS_clean  \n",
       "35598                       Ordered to lie on the table.  \n",
       "29276   On Tuesday, December 28, for Five Nights Only...  \n",
       "29268                                       PADDY DAWER.  \n",
       "7806                            Mr. Blathers made a bow.  \n",
       "29409   In the County Court of Durham. holden at Stoc...  \n",
       "37052   The parish had sent them to pick oakum, and t...  "
      ]
     },
     "execution_count": 49,
     "metadata": {},
     "output_type": "execute_result"
    }
   ],
   "source": [
    "df[(df['str_similarity'] > 0.8) & (df['str_similarity'] <= 0.9)].sample(6).loc[:, ['OCR_clean', 'GS_clean']]"
   ]
  },
  {
   "cell_type": "markdown",
   "metadata": {},
   "source": [
    "## Add columns with spacy preprocessed text"
   ]
  },
  {
   "cell_type": "code",
   "execution_count": 43,
   "metadata": {},
   "outputs": [],
   "source": [
    "if not os.path.isfile('db_sentence_spacy.pkl'):\n",
    "    df['spacy_gs'] = df.apply(lambda row: nlp(row['GS_clean'].strip()), axis = 1)\n",
    "    df['spacy_ocr'] = df.apply(lambda row: nlp(row['OCR_clean'].strip()), axis = 1)\n",
    "    df.to_pickle('db_sentence_spacy.pkl')\n",
    "else:\n",
    "    df = pd.read_pickle('db_sentence_spacy.pkl')"
   ]
  },
  {
   "cell_type": "code",
   "execution_count": 46,
   "metadata": {},
   "outputs": [
    {
     "data": {
      "text/html": [
       "<div>\n",
       "<style scoped>\n",
       "    .dataframe tbody tr th:only-of-type {\n",
       "        vertical-align: middle;\n",
       "    }\n",
       "\n",
       "    .dataframe tbody tr th {\n",
       "        vertical-align: top;\n",
       "    }\n",
       "\n",
       "    .dataframe thead th {\n",
       "        text-align: right;\n",
       "    }\n",
       "</style>\n",
       "<table border=\"1\" class=\"dataframe\">\n",
       "  <thead>\n",
       "    <tr style=\"text-align: right;\">\n",
       "      <th></th>\n",
       "      <th>doc_index</th>\n",
       "      <th>sent_index</th>\n",
       "      <th>OCR_aligned</th>\n",
       "      <th>GS_aligned</th>\n",
       "      <th>begin_index</th>\n",
       "      <th>GS_clean</th>\n",
       "      <th>OCR_clean</th>\n",
       "      <th>str_similarity</th>\n",
       "      <th>str_length</th>\n",
       "      <th>spacy_gs</th>\n",
       "      <th>spacy_ocr</th>\n",
       "    </tr>\n",
       "  </thead>\n",
       "  <tbody>\n",
       "    <tr>\n",
       "      <td>408</td>\n",
       "      <td>eng_monograph_2017_288</td>\n",
       "      <td>eng_monograph_2017_288_783</td>\n",
       "      <td>- Cowper's Task, bk@@@@@</td>\n",
       "      <td>-@Cowper's Task, bk. vi.</td>\n",
       "      <td>782</td>\n",
       "      <td>-Cowper's Task, bk. vi.</td>\n",
       "      <td>- Cowper's Task, bk</td>\n",
       "      <td>0.750000</td>\n",
       "      <td>24</td>\n",
       "      <td>(-Cowper, 's, Task, ,, bk, ., vi, .)</td>\n",
       "      <td>(-, Cowper, 's, Task, ,, bk)</td>\n",
       "    </tr>\n",
       "    <tr>\n",
       "      <td>1213</td>\n",
       "      <td>eng_monograph_2017_273</td>\n",
       "      <td>eng_monograph_2017_273_927</td>\n",
       "      <td>From The Ghost, bk@@@@,</td>\n",
       "      <td>From The Ghost, bk. ii.</td>\n",
       "      <td>926</td>\n",
       "      <td>From The Ghost, bk. ii.</td>\n",
       "      <td>From The Ghost, bk,</td>\n",
       "      <td>0.791667</td>\n",
       "      <td>24</td>\n",
       "      <td>(From, The, Ghost, ,, bk, ., ii, .)</td>\n",
       "      <td>(From, The, Ghost, ,, bk, ,)</td>\n",
       "    </tr>\n",
       "    <tr>\n",
       "      <td>1460</td>\n",
       "      <td>eng_monograph_2017_39</td>\n",
       "      <td>eng_monograph_2017_39_2345</td>\n",
       "      <td>Ot TC CHORUS.</td>\n",
       "      <td>@@@@C@@HORUS.</td>\n",
       "      <td>2344</td>\n",
       "      <td>CHORUS.</td>\n",
       "      <td>Ot TC CHORUS.</td>\n",
       "      <td>0.571429</td>\n",
       "      <td>8</td>\n",
       "      <td>(CHORUS, .)</td>\n",
       "      <td>(Ot, TC, CHORUS, .)</td>\n",
       "    </tr>\n",
       "    <tr>\n",
       "      <td>1485</td>\n",
       "      <td>eng_monograph_2017_11</td>\n",
       "      <td>eng_monograph_2017_11_2441</td>\n",
       "      <td>Oh ! if I had, fca o ,</td>\n",
       "      <td>Oh ! if I had, @c@@@@.</td>\n",
       "      <td>2440</td>\n",
       "      <td>Oh ! if I had, c.</td>\n",
       "      <td>Oh ! if I had, fca o ,</td>\n",
       "      <td>0.739130</td>\n",
       "      <td>18</td>\n",
       "      <td>(Oh, !, if, I, had, ,, c.)</td>\n",
       "      <td>(Oh, !, if, I, had, ,, fca, o, ,)</td>\n",
       "    </tr>\n",
       "    <tr>\n",
       "      <td>3270</td>\n",
       "      <td>eng_monograph_2017_744</td>\n",
       "      <td>eng_monograph_2017_744_4936</td>\n",
       "      <td>@Poor dear@@</td>\n",
       "      <td>'Poor dear!'</td>\n",
       "      <td>4935</td>\n",
       "      <td>'Poor dear!'</td>\n",
       "      <td>Poor dear</td>\n",
       "      <td>0.769231</td>\n",
       "      <td>13</td>\n",
       "      <td>(', Poor, dear, !, ')</td>\n",
       "      <td>(Poor, dear)</td>\n",
       "    </tr>\n",
       "    <tr>\n",
       "      <td>...</td>\n",
       "      <td>...</td>\n",
       "      <td>...</td>\n",
       "      <td>...</td>\n",
       "      <td>...</td>\n",
       "      <td>...</td>\n",
       "      <td>...</td>\n",
       "      <td>...</td>\n",
       "      <td>...</td>\n",
       "      <td>...</td>\n",
       "      <td>...</td>\n",
       "      <td>...</td>\n",
       "    </tr>\n",
       "    <tr>\n",
       "      <td>43625</td>\n",
       "      <td>en1_2019_24</td>\n",
       "      <td>en1_2019_24_23</td>\n",
       "      <td>@@ANTHOLOGY. @[bk. iv.</td>\n",
       "      <td>Pallas, Oct. 10, 1836.</td>\n",
       "      <td>22</td>\n",
       "      <td>Pallas, Oct. 10, 1836.</td>\n",
       "      <td>ANTHOLOGY. [bk. iv.</td>\n",
       "      <td>0.260870</td>\n",
       "      <td>23</td>\n",
       "      <td>(Pallas, ,, Oct., 10, ,, 1836, .)</td>\n",
       "      <td>(ANTHOLOGY, ., [, bk, ., iv, .)</td>\n",
       "    </tr>\n",
       "    <tr>\n",
       "      <td>43633</td>\n",
       "      <td>en1_2019_24</td>\n",
       "      <td>en1_2019_24_993</td>\n",
       "      <td>@@@@@@@@@@@@@@@@@@@@@@@@@@</td>\n",
       "      <td>IV. AN ENGLISH ANTHOLOGY.</td>\n",
       "      <td>992</td>\n",
       "      <td>IV. AN ENGLISH ANTHOLOGY.</td>\n",
       "      <td></td>\n",
       "      <td>0.000000</td>\n",
       "      <td>26</td>\n",
       "      <td>(IV, ., AN, ENGLISH, ANTHOLOGY, .)</td>\n",
       "      <td>()</td>\n",
       "    </tr>\n",
       "    <tr>\n",
       "      <td>43634</td>\n",
       "      <td>en1_2019_30</td>\n",
       "      <td>en1_2019_30_2</td>\n",
       "      <td>@GoMic@lLand Tragical — / HISTORY of the LIVES...</td>\n",
       "      <td>Comical and Tragical@@@@ HISTORY of the LIVES...</td>\n",
       "      <td>1</td>\n",
       "      <td>Comical and Tragical HISTORY of the LIVES and...</td>\n",
       "      <td>GoMiclLand Tragical — / HISTORY of the LIVES a...</td>\n",
       "      <td>0.669173</td>\n",
       "      <td>133</td>\n",
       "      <td>(Comical, and, Tragical, HISTORY, of, the, LIV...</td>\n",
       "      <td>(GoMiclLand, Tragical, —, /, HISTORY, of, the,...</td>\n",
       "    </tr>\n",
       "    <tr>\n",
       "      <td>43635</td>\n",
       "      <td>en1_2019_30</td>\n",
       "      <td>en1_2019_30_139</td>\n",
       "      <td>@@@@@@@@@@@@@@@@@@@@</td>\n",
       "      <td>Price One Shilling.</td>\n",
       "      <td>138</td>\n",
       "      <td>Price One Shilling.</td>\n",
       "      <td></td>\n",
       "      <td>0.000000</td>\n",
       "      <td>20</td>\n",
       "      <td>(Price, One, Shilling, .)</td>\n",
       "      <td>()</td>\n",
       "    </tr>\n",
       "    <tr>\n",
       "      <td>43639</td>\n",
       "      <td>en1_2019_30</td>\n",
       "      <td>en1_2019_30_608</td>\n",
       "      <td>And particularly the Life of Jacob Broad of m...</td>\n",
       "      <td>And particularly the Life of Jacob Broad of m...</td>\n",
       "      <td>607</td>\n",
       "      <td>And particularly the Life of Jacob Broad of m...</td>\n",
       "      <td>And particularly the Life of Jacob Broad of m...</td>\n",
       "      <td>0.736842</td>\n",
       "      <td>213</td>\n",
       "      <td>(And, particularly, the, Life, of, Jacob, Broa...</td>\n",
       "      <td>(And, particularly, the, Life, of, Jacob, Broa...</td>\n",
       "    </tr>\n",
       "  </tbody>\n",
       "</table>\n",
       "<p>959 rows × 11 columns</p>\n",
       "</div>"
      ],
      "text/plain": [
       "                    doc_index                   sent_index  \\\n",
       "408    eng_monograph_2017_288   eng_monograph_2017_288_783   \n",
       "1213   eng_monograph_2017_273   eng_monograph_2017_273_927   \n",
       "1460    eng_monograph_2017_39   eng_monograph_2017_39_2345   \n",
       "1485    eng_monograph_2017_11   eng_monograph_2017_11_2441   \n",
       "3270   eng_monograph_2017_744  eng_monograph_2017_744_4936   \n",
       "...                       ...                          ...   \n",
       "43625             en1_2019_24               en1_2019_24_23   \n",
       "43633             en1_2019_24              en1_2019_24_993   \n",
       "43634             en1_2019_30                en1_2019_30_2   \n",
       "43635             en1_2019_30              en1_2019_30_139   \n",
       "43639             en1_2019_30              en1_2019_30_608   \n",
       "\n",
       "                                             OCR_aligned  \\\n",
       "408                             - Cowper's Task, bk@@@@@   \n",
       "1213                             From The Ghost, bk@@@@,   \n",
       "1460                                       Ot TC CHORUS.   \n",
       "1485                              Oh ! if I had, fca o ,   \n",
       "3270                                        @Poor dear@@   \n",
       "...                                                  ...   \n",
       "43625                             @@ANTHOLOGY. @[bk. iv.   \n",
       "43633                         @@@@@@@@@@@@@@@@@@@@@@@@@@   \n",
       "43634  @GoMic@lLand Tragical — / HISTORY of the LIVES...   \n",
       "43635                               @@@@@@@@@@@@@@@@@@@@   \n",
       "43639   And particularly the Life of Jacob Broad of m...   \n",
       "\n",
       "                                              GS_aligned begin_index  \\\n",
       "408                             -@Cowper's Task, bk. vi.         782   \n",
       "1213                             From The Ghost, bk. ii.         926   \n",
       "1460                                       @@@@C@@HORUS.        2344   \n",
       "1485                              Oh ! if I had, @c@@@@.        2440   \n",
       "3270                                        'Poor dear!'        4935   \n",
       "...                                                  ...         ...   \n",
       "43625                             Pallas, Oct. 10, 1836.          22   \n",
       "43633                          IV. AN ENGLISH ANTHOLOGY.         992   \n",
       "43634   Comical and Tragical@@@@ HISTORY of the LIVES...           1   \n",
       "43635                                Price One Shilling.         138   \n",
       "43639   And particularly the Life of Jacob Broad of m...         607   \n",
       "\n",
       "                                                GS_clean  \\\n",
       "408                              -Cowper's Task, bk. vi.   \n",
       "1213                             From The Ghost, bk. ii.   \n",
       "1460                                             CHORUS.   \n",
       "1485                                   Oh ! if I had, c.   \n",
       "3270                                        'Poor dear!'   \n",
       "...                                                  ...   \n",
       "43625                             Pallas, Oct. 10, 1836.   \n",
       "43633                          IV. AN ENGLISH ANTHOLOGY.   \n",
       "43634   Comical and Tragical HISTORY of the LIVES and...   \n",
       "43635                                Price One Shilling.   \n",
       "43639   And particularly the Life of Jacob Broad of m...   \n",
       "\n",
       "                                               OCR_clean  str_similarity  \\\n",
       "408                                  - Cowper's Task, bk        0.750000   \n",
       "1213                                 From The Ghost, bk,        0.791667   \n",
       "1460                                       Ot TC CHORUS.        0.571429   \n",
       "1485                              Oh ! if I had, fca o ,        0.739130   \n",
       "3270                                           Poor dear        0.769231   \n",
       "...                                                  ...             ...   \n",
       "43625                                ANTHOLOGY. [bk. iv.        0.260870   \n",
       "43633                                                           0.000000   \n",
       "43634  GoMiclLand Tragical — / HISTORY of the LIVES a...        0.669173   \n",
       "43635                                                           0.000000   \n",
       "43639   And particularly the Life of Jacob Broad of m...        0.736842   \n",
       "\n",
       "       str_length                                           spacy_gs  \\\n",
       "408            24               (-Cowper, 's, Task, ,, bk, ., vi, .)   \n",
       "1213           24                (From, The, Ghost, ,, bk, ., ii, .)   \n",
       "1460            8                                        (CHORUS, .)   \n",
       "1485           18                         (Oh, !, if, I, had, ,, c.)   \n",
       "3270           13                              (', Poor, dear, !, ')   \n",
       "...           ...                                                ...   \n",
       "43625          23                  (Pallas, ,, Oct., 10, ,, 1836, .)   \n",
       "43633          26                 (IV, ., AN, ENGLISH, ANTHOLOGY, .)   \n",
       "43634         133  (Comical, and, Tragical, HISTORY, of, the, LIV...   \n",
       "43635          20                          (Price, One, Shilling, .)   \n",
       "43639         213  (And, particularly, the, Life, of, Jacob, Broa...   \n",
       "\n",
       "                                               spacy_ocr  \n",
       "408                         (-, Cowper, 's, Task, ,, bk)  \n",
       "1213                        (From, The, Ghost, ,, bk, ,)  \n",
       "1460                                 (Ot, TC, CHORUS, .)  \n",
       "1485                   (Oh, !, if, I, had, ,, fca, o, ,)  \n",
       "3270                                        (Poor, dear)  \n",
       "...                                                  ...  \n",
       "43625                    (ANTHOLOGY, ., [, bk, ., iv, .)  \n",
       "43633                                                 ()  \n",
       "43634  (GoMiclLand, Tragical, —, /, HISTORY, of, the,...  \n",
       "43635                                                 ()  \n",
       "43639  (And, particularly, the, Life, of, Jacob, Broa...  \n",
       "\n",
       "[959 rows x 11 columns]"
      ]
     },
     "execution_count": 46,
     "metadata": {},
     "output_type": "execute_result"
    }
   ],
   "source": [
    "df[df['str_similarity'] < 0.8]"
   ]
  },
  {
   "cell_type": "markdown",
   "metadata": {},
   "source": [
    "## Evaluate part-of-speech tagging"
   ]
  },
  {
   "cell_type": "code",
   "execution_count": null,
   "metadata": {},
   "outputs": [],
   "source": []
  },
  {
   "cell_type": "code",
   "execution_count": null,
   "metadata": {},
   "outputs": [],
   "source": []
  },
  {
   "cell_type": "code",
   "execution_count": null,
   "metadata": {},
   "outputs": [],
   "source": []
  },
  {
   "cell_type": "code",
   "execution_count": null,
   "metadata": {},
   "outputs": [],
   "source": []
  },
  {
   "cell_type": "code",
   "execution_count": null,
   "metadata": {},
   "outputs": [],
   "source": []
  },
  {
   "cell_type": "code",
   "execution_count": null,
   "metadata": {},
   "outputs": [],
   "source": []
  },
  {
   "cell_type": "code",
   "execution_count": null,
   "metadata": {},
   "outputs": [],
   "source": []
  },
  {
   "cell_type": "code",
   "execution_count": null,
   "metadata": {},
   "outputs": [],
   "source": []
  },
  {
   "cell_type": "markdown",
   "metadata": {},
   "source": [
    "## In progress"
   ]
  },
  {
   "cell_type": "markdown",
   "metadata": {},
   "source": [
    "### Evaluate tokenisation"
   ]
  },
  {
   "cell_type": "code",
   "execution_count": 50,
   "metadata": {},
   "outputs": [],
   "source": [
    "def evaluate_aligned_tokens(ocr_sentence, gs_sentence):\n",
    "    ocr_tok_sequence = dict()\n",
    "    gs_tok_sequence = dict()\n",
    "    \n",
    "    for token in ocr_sentence:\n",
    "        ocr_tok_sequence[token.idx] = token.text\n",
    "    for token in gs_sentence:\n",
    "        gs_tok_sequence[token.idx] = token.text\n",
    "    \n",
    "    "
   ]
  },
  {
   "cell_type": "markdown",
   "metadata": {},
   "source": [
    "### Evaluate part-of-speech tagging"
   ]
  },
  {
   "cell_type": "code",
   "execution_count": null,
   "metadata": {},
   "outputs": [],
   "source": [
    "def evaluate_aligned_pos_accuracy(ocr_sentence, gs_sentence):\n",
    "    ocr_pos_sequence = dict()\n",
    "    gs_pos_sequence = dict()\n",
    "    for token in ocr_sentence:\n",
    "        ocr_pos_sequence[token.idx] = (token.text, token.pos_)\n",
    "    for token in gs_sentence:\n",
    "        gs_pos_sequence[token.idx] = (token.text, token.pos_)"
   ]
  },
  {
   "cell_type": "markdown",
   "metadata": {},
   "source": [
    "### Evaluate named entity recognition\n",
    "\n",
    "[In progress]"
   ]
  },
  {
   "cell_type": "code",
   "execution_count": null,
   "metadata": {},
   "outputs": [],
   "source": [
    "def evaluate_aligned_ner(ocr_sentence, gs_sentence):\n",
    "    ocr_ner_sequence = dict()\n",
    "    gs_ner_sequence = dict()\n",
    "    for token in ocr_sentence:\n",
    "        ocr_ner_sequence[token.idx] = (token.text, token.ent_type_, token.ent_iob_)\n",
    "    for token in gs_sentence:\n",
    "        gs_ner_sequence[token.idx] = (token.text, token.ent_type_, token.ent_iob_)\n",
    "    \n",
    "#     for k, v in gs_ner_sequence.items():\n",
    "#         if k in ocr_ner_sequence:\n",
    "#             print(k, ocr_ner_sequence[k], v)"
   ]
  },
  {
   "cell_type": "markdown",
   "metadata": {},
   "source": [
    "### Compare OCR aligned with GS aligned"
   ]
  },
  {
   "cell_type": "code",
   "execution_count": null,
   "metadata": {},
   "outputs": [],
   "source": [
    "for st in alignedSentences:\n",
    "    st_boundaries = (st[0], st[1])\n",
    "    \n",
    "    # Filter out sentences which contain human uncertainties:\n",
    "    if not '##' in st[3]:\n",
    "        \n",
    "        # Parse with spacy:\n",
    "        aligned_ocr_sentence = nlp(st[2])\n",
    "        aligned_gs_sentence = nlp(st[3])\n",
    "\n",
    "        evaluate_aligned_tokens(aligned_ocr_sentence, aligned_gs_sentence)\n",
    "        evaluate_aligned_pos(aligned_ocr_sentence, aligned_gs_sentence)\n",
    "        evaluate_aligned_ner(aligned_ocr_sentence, aligned_gs_sentence)\n",
    "\n",
    "    "
   ]
  },
  {
   "cell_type": "code",
   "execution_count": null,
   "metadata": {},
   "outputs": [],
   "source": [
    "#     for token in nlp(ocr_sentence):\n",
    "#         print(token.idx, token.text, token.lemma_, token.pos_, token.dep_, token.head, token.left_edge, token.right_edge, token.ent_type_, token.ent_iob_, token.is_oov)\n",
    "#     print()\n",
    "#     for token in nlp(gs_sentence):\n",
    "#         print(token.idx, token.text, token.lemma_, token.pos_, token.dep_, token.head, token.left_edge, token.right_edge, token.ent_type_, token.ent_iob_, token.is_oov)\n",
    "#     print()"
   ]
  },
  {
   "cell_type": "markdown",
   "metadata": {},
   "source": [
    "**http://nlpprogress.com/english/dependency_parsing.html**\n",
    "\n",
    "Evaluation metrics are unlabeled attachment score (UAS) and labeled attachment score (LAS). UAS does not consider the semantic relation (e.g. Subj) used to label the attachment between the head and the child, while LAS requires a semantic correct label for each attachment.Here, we also mention the predicted POS tagging accuracy.\n",
    "\n",
    "https://linguistics.stackexchange.com/questions/6863/how-is-the-f1-score-computed-when-assessing-dependency-parsing"
   ]
  },
  {
   "cell_type": "code",
   "execution_count": null,
   "metadata": {},
   "outputs": [],
   "source": []
  }
 ],
 "metadata": {
  "kernelspec": {
   "display_name": "Python 3",
   "language": "python",
   "name": "python3"
  },
  "language_info": {
   "codemirror_mode": {
    "name": "ipython",
    "version": 3
   },
   "file_extension": ".py",
   "mimetype": "text/x-python",
   "name": "python",
   "nbconvert_exporter": "python",
   "pygments_lexer": "ipython3",
   "version": "3.6.8"
  }
 },
 "nbformat": 4,
 "nbformat_minor": 2
}
