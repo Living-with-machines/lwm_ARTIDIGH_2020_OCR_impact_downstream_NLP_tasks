{
 "cells": [
  {
   "cell_type": "markdown",
   "metadata": {},
   "source": [
    "## Create a DataFrame from the Trove dataset\n",
    "\n",
    "### Obtaining the data\n",
    "\n",
    "You can download the whole Trove dataset using:\n",
    "\n",
    "`wget --recursive --no-parent http://overproof.projectcomputing.com/datasets/`\n",
    "\n",
    "Change the parent directory `overproof.projectcomputing.com` to a friendlier name `trove_overproof`.\n",
    "\n",
    "### Preprocessing of the data"
   ]
  },
  {
   "cell_type": "code",
   "execution_count": 2,
   "metadata": {},
   "outputs": [],
   "source": [
    "from glob import glob\n",
    "import os\n",
    "import pandas as pd\n",
    "import re\n",
    "import jellyfish\n",
    "import numpy as np"
   ]
  },
  {
   "cell_type": "code",
   "execution_count": 3,
   "metadata": {},
   "outputs": [],
   "source": [
    "# Dictionary with the following structure:\n",
    "# arbitrary_dirname: path_to_txt_files\n",
    "# dirname is an arbitrary name which can be used to filter the DB in later steps\n",
    "\n",
    "dict_dirnames = {\n",
    "    \"trove_dataset_1\": './trove_overproof/datasets/dataset1/rawTextAndHumanCorrectionPairs',\n",
    "    \"trove_dataset_2\": './trove_overproof/datasets/dataset2/rawTextAndHumanCorrectionAndOverproofCorrectionTriples',\n",
    "    \"trove_dataset_3\": './trove_overproof/datasets/dataset3/rawTextAndHumanCorrectionAndOverproofCorrectionTriples'\n",
    "}"
   ]
  },
  {
   "cell_type": "code",
   "execution_count": 4,
   "metadata": {},
   "outputs": [],
   "source": [
    "df = pd.DataFrame(columns=[\"filePath\", \"articleId\", \"articleType\", \"year\", \"ocrText\", \"humanText\", \"corrected\"])"
   ]
  },
  {
   "cell_type": "code",
   "execution_count": 5,
   "metadata": {},
   "outputs": [],
   "source": [
    "def process_header(line):\n",
    "    re_header = r'^\\*\\$\\*OVERPROOF\\*\\$\\*\\s*([0-9]+)\\s+year\\s+([0-9]{4})\\s+type\\s(.+)\\s+title\\s+.+$'\n",
    "    if re.match(re_header, line):\n",
    "        articleId, year, articleType = re.match(re_header, line).groups()\n",
    "        return articleId, year, articleType"
   ]
  },
  {
   "cell_type": "code",
   "execution_count": 6,
   "metadata": {},
   "outputs": [],
   "source": [
    "def process_content(article_content):\n",
    "    ocr_line = []\n",
    "    human_line = []\n",
    "    hcorr_line = []\n",
    "    for line in article_content:\n",
    "        line = line.split(\"||@@||\")\n",
    "        if len(line) == 3:\n",
    "            ocr_line.append(line[0].strip())\n",
    "            human_line.append(line[1].strip())\n",
    "            hcorr_line.append(line[2].strip())\n",
    "        if len(line) == 2:\n",
    "            ocr_line.append(line[0].strip())\n",
    "            human_line.append(line[1].strip())\n",
    "    \n",
    "    return \" \".join(ocr_line), \" \".join(human_line), \" \".join(hcorr_line)"
   ]
  },
  {
   "cell_type": "code",
   "execution_count": 7,
   "metadata": {},
   "outputs": [
    {
     "name": "stdout",
     "output_type": "stream",
     "text": [
      "30509\n"
     ]
    }
   ],
   "source": [
    "article_content = []\n",
    "year = \"\"\n",
    "file_path = \"\"\n",
    "articleId = \"\"\n",
    "articleType = \"\"\n",
    "processed_content = \"\"\n",
    "article_counter = 0\n",
    "for ldir in dict_dirnames.keys():\n",
    "    list_files = glob(os.path.join(dict_dirnames[ldir], \"*.txt\"))\n",
    "    for lfile in list_files:\n",
    "        file_path = lfile\n",
    "        fio = open(lfile, \"r\")\n",
    "        flines = fio.readlines()\n",
    "        for iline in range(len(flines)):\n",
    "            if flines[iline].startswith('*$*OVERPROOF*$*'):\n",
    "                articleId, year, articleType = process_header(flines[iline])\n",
    "                article_counter += 1\n",
    "            else:\n",
    "                article_content.append(flines[iline])\n",
    "                if ((len(flines) -1 == iline) or (flines[iline + 1].startswith('*$*OVERPROOF*$*'))):\n",
    "                    processed_content = process_content(article_content)\n",
    "\n",
    "                    # Insert into dataframe:\n",
    "                    df.loc[article_counter] = [file_path, \n",
    "                                               articleId,\n",
    "                                               articleType,\n",
    "                                               year,\n",
    "                                               processed_content[0],\n",
    "                                               processed_content[1],\n",
    "                                               processed_content[2]\n",
    "                                              ]  \n",
    "                    \n",
    "                    # Clean variables:\n",
    "                    year = \"\"\n",
    "                    articleId = \"\"\n",
    "                    articleType = \"\"\n",
    "                    processed_content = \"\"\n",
    "                    article_content = []\n",
    "\n",
    "print(article_counter)"
   ]
  },
  {
   "cell_type": "code",
   "execution_count": 8,
   "metadata": {},
   "outputs": [
    {
     "data": {
      "text/html": [
       "<div>\n",
       "<style scoped>\n",
       "    .dataframe tbody tr th:only-of-type {\n",
       "        vertical-align: middle;\n",
       "    }\n",
       "\n",
       "    .dataframe tbody tr th {\n",
       "        vertical-align: top;\n",
       "    }\n",
       "\n",
       "    .dataframe thead th {\n",
       "        text-align: right;\n",
       "    }\n",
       "</style>\n",
       "<table border=\"1\" class=\"dataframe\">\n",
       "  <thead>\n",
       "    <tr style=\"text-align: right;\">\n",
       "      <th></th>\n",
       "      <th>filePath</th>\n",
       "      <th>articleId</th>\n",
       "      <th>articleType</th>\n",
       "      <th>year</th>\n",
       "      <th>ocrText</th>\n",
       "      <th>humanText</th>\n",
       "      <th>corrected</th>\n",
       "    </tr>\n",
       "  </thead>\n",
       "  <tbody>\n",
       "    <tr>\n",
       "      <th>1</th>\n",
       "      <td>./trove_overproof/datasets/dataset1/rawTextAnd...</td>\n",
       "      <td>18378453</td>\n",
       "      <td>Article ILLUSTRATED</td>\n",
       "      <td>1953</td>\n",
       "      <td>FROM RIVER CROSSING TO END OF TRIÄÜ I ^PI A^H\"...</td>\n",
       "      <td>FROM RIVER CROSSING TO END OF TRIAL SPLASH: Pe...</td>\n",
       "      <td></td>\n",
       "    </tr>\n",
       "    <tr>\n",
       "      <th>2</th>\n",
       "      <td>./trove_overproof/datasets/dataset1/rawTextAnd...</td>\n",
       "      <td>18363627</td>\n",
       "      <td>Article</td>\n",
       "      <td>1953</td>\n",
       "      <td>Natural Childbirth Sir,-We nurses have seen fa...</td>\n",
       "      <td>Natural Childbirth Sir,-We nurses have seen fa...</td>\n",
       "      <td></td>\n",
       "    </tr>\n",
       "    <tr>\n",
       "      <th>3</th>\n",
       "      <td>./trove_overproof/datasets/dataset1/rawTextAnd...</td>\n",
       "      <td>18366055</td>\n",
       "      <td>Article</td>\n",
       "      <td>1953</td>\n",
       "      <td>FIRST CHURCH I SERVICE 1 Presbyterian I ' Anni...</td>\n",
       "      <td>FIRST CHURCH SERVICE Presbyterian Anniversary ...</td>\n",
       "      <td></td>\n",
       "    </tr>\n",
       "    <tr>\n",
       "      <th>4</th>\n",
       "      <td>./trove_overproof/datasets/dataset1/rawTextAnd...</td>\n",
       "      <td>18386137</td>\n",
       "      <td>Article</td>\n",
       "      <td>1953</td>\n",
       "      <td>\"Bob\" Lulham's Fight Against Thallium District...</td>\n",
       "      <td>\"Bob\" Lulham's Fight Against Thallium  Arthur ...</td>\n",
       "      <td></td>\n",
       "    </tr>\n",
       "    <tr>\n",
       "      <th>5</th>\n",
       "      <td>./trove_overproof/datasets/dataset1/rawTextAnd...</td>\n",
       "      <td>18368961</td>\n",
       "      <td>Article</td>\n",
       "      <td>1953</td>\n",
       "      <td>DIVORCE Before The Judge In Divorce, Mr Justic...</td>\n",
       "      <td>DIVORCE Before The Judge In Divorce, Mr. Justi...</td>\n",
       "      <td></td>\n",
       "    </tr>\n",
       "  </tbody>\n",
       "</table>\n",
       "</div>"
      ],
      "text/plain": [
       "                                            filePath articleId  \\\n",
       "1  ./trove_overproof/datasets/dataset1/rawTextAnd...  18378453   \n",
       "2  ./trove_overproof/datasets/dataset1/rawTextAnd...  18363627   \n",
       "3  ./trove_overproof/datasets/dataset1/rawTextAnd...  18366055   \n",
       "4  ./trove_overproof/datasets/dataset1/rawTextAnd...  18386137   \n",
       "5  ./trove_overproof/datasets/dataset1/rawTextAnd...  18368961   \n",
       "\n",
       "            articleType  year  \\\n",
       "1  Article ILLUSTRATED   1953   \n",
       "2               Article  1953   \n",
       "3               Article  1953   \n",
       "4               Article  1953   \n",
       "5               Article  1953   \n",
       "\n",
       "                                             ocrText  \\\n",
       "1  FROM RIVER CROSSING TO END OF TRIÄÜ I ^PI A^H\"...   \n",
       "2  Natural Childbirth Sir,-We nurses have seen fa...   \n",
       "3  FIRST CHURCH I SERVICE 1 Presbyterian I ' Anni...   \n",
       "4  \"Bob\" Lulham's Fight Against Thallium District...   \n",
       "5  DIVORCE Before The Judge In Divorce, Mr Justic...   \n",
       "\n",
       "                                           humanText corrected  \n",
       "1  FROM RIVER CROSSING TO END OF TRIAL SPLASH: Pe...            \n",
       "2  Natural Childbirth Sir,-We nurses have seen fa...            \n",
       "3  FIRST CHURCH SERVICE Presbyterian Anniversary ...            \n",
       "4  \"Bob\" Lulham's Fight Against Thallium  Arthur ...            \n",
       "5  DIVORCE Before The Judge In Divorce, Mr. Justi...            "
      ]
     },
     "execution_count": 8,
     "metadata": {},
     "output_type": "execute_result"
    }
   ],
   "source": [
    "df.head()"
   ]
  },
  {
   "cell_type": "markdown",
   "metadata": {},
   "source": [
    "### Add string similarity and length"
   ]
  },
  {
   "cell_type": "code",
   "execution_count": 9,
   "metadata": {},
   "outputs": [],
   "source": [
    "def distance_via_levenshtein(gs_clean, ocr_clean):\n",
    "    gs_clean = gs_clean.lower()\n",
    "    ocr_clean = ocr_clean.lower()\n",
    "    max_sentlength = max(len(gs_clean), len(ocr_clean))\n",
    "    lev_distance = jellyfish.levenshtein_distance(gs_clean, ocr_clean)\n",
    "    dist_similarity = (max_sentlength - lev_distance) / float(max_sentlength)\n",
    "    return dist_similarity"
   ]
  },
  {
   "cell_type": "code",
   "execution_count": 10,
   "metadata": {},
   "outputs": [],
   "source": [
    "df['str_similarity'] = df.apply(lambda row: distance_via_levenshtein(row['ocrText'], row['humanText']), axis = 1)\n",
    "df['str_length'] = df.apply(lambda row: len(row['humanText']), axis = 1)"
   ]
  },
  {
   "cell_type": "code",
   "execution_count": 11,
   "metadata": {},
   "outputs": [
    {
     "data": {
      "text/plain": [
       "5067"
      ]
     },
     "execution_count": 11,
     "metadata": {},
     "output_type": "execute_result"
    }
   ],
   "source": [
    "# Number of documents that have at least one article with string similarity lower than 0.8:\n",
    "len(df[df['str_similarity'] < 0.8]['articleId'].unique())"
   ]
  },
  {
   "cell_type": "code",
   "execution_count": 13,
   "metadata": {},
   "outputs": [],
   "source": [
    "def quality(similarity):\n",
    "    if similarity > 0.9:\n",
    "        return 1 # good\n",
    "    elif similarity > 0.8:\n",
    "        return 2 # soso\n",
    "    elif similarity > 0.7:\n",
    "        return 3 # bad\n",
    "    return 4 # ugly\n",
    "\n",
    "df['quality_band'] = df[\"str_similarity\"].apply(quality)"
   ]
  },
  {
   "cell_type": "code",
   "execution_count": 24,
   "metadata": {},
   "outputs": [
    {
     "data": {
      "text/plain": [
       "2    13952\n",
       "1    11473\n",
       "3     3592\n",
       "4     1492\n",
       "Name: quality_band, dtype: int64"
      ]
     },
     "execution_count": 24,
     "metadata": {},
     "output_type": "execute_result"
    }
   ],
   "source": [
    "df['quality_band'].value_counts()"
   ]
  },
  {
   "cell_type": "markdown",
   "metadata": {},
   "source": [
    "### OCR and GS string similarity distribution\n",
    "\n",
    "Plot the distribution of sentences according to string similarity between OCR and GS text:"
   ]
  },
  {
   "cell_type": "code",
   "execution_count": 25,
   "metadata": {},
   "outputs": [
    {
     "data": {
      "text/plain": [
       "<matplotlib.axes._subplots.AxesSubplot at 0x12b32d3d0>"
      ]
     },
     "execution_count": 25,
     "metadata": {},
     "output_type": "execute_result"
    },
    {
     "data": {
      "image/png": "[encoded data removed]",
      "text/plain": [
       "<Figure size 432x288 with 1 Axes>"
      ]
     },
     "metadata": {
      "needs_background": "light"
     },
     "output_type": "display_data"
    }
   ],
   "source": [
    "df[['str_similarity']].plot(kind='hist',bins=[0,0.1,0.2,0.3,0.4,0.5,0.6,0.7,0.8,0.9,1.0],rwidth=0.8)"
   ]
  },
  {
   "cell_type": "markdown",
   "metadata": {},
   "source": [
    "Get some examples from each bin:"
   ]
  },
  {
   "cell_type": "code",
   "execution_count": 26,
   "metadata": {},
   "outputs": [
    {
     "data": {
      "text/html": [
       "<div>\n",
       "<style scoped>\n",
       "    .dataframe tbody tr th:only-of-type {\n",
       "        vertical-align: middle;\n",
       "    }\n",
       "\n",
       "    .dataframe tbody tr th {\n",
       "        vertical-align: top;\n",
       "    }\n",
       "\n",
       "    .dataframe thead th {\n",
       "        text-align: right;\n",
       "    }\n",
       "</style>\n",
       "<table border=\"1\" class=\"dataframe\">\n",
       "  <thead>\n",
       "    <tr style=\"text-align: right;\">\n",
       "      <th></th>\n",
       "      <th>ocrText</th>\n",
       "      <th>humanText</th>\n",
       "    </tr>\n",
       "  </thead>\n",
       "  <tbody>\n",
       "    <tr>\n",
       "      <th>25516</th>\n",
       "      <td>THE ASSAULT ON WILLIAM KIRK. GOSFORD, Wcdupsdi...</td>\n",
       "      <td>THE ASSAULT ON WILLIAM KIRK. GOSFORD, Wednesda...</td>\n",
       "    </tr>\n",
       "    <tr>\n",
       "      <th>3783</th>\n",
       "      <td>CBAltQE OF DIGAMY. I -* In the Balmain Police ...</td>\n",
       "      <td>CHARGE OF BIGAMY.  In the Balmain Police Court...</td>\n",
       "    </tr>\n",
       "    <tr>\n",
       "      <th>4013</th>\n",
       "      <td>CRICKET. A meeting of tho committeo of tho N S...</td>\n",
       "      <td>CRICKET. A meeting of the committee of the N.S...</td>\n",
       "    </tr>\n",
       "    <tr>\n",
       "      <th>11261</th>\n",
       "      <td>PROJrCTTD DH'IRTIRIS-Jiirch 20 I lïrcmen, OMS,...</td>\n",
       "      <td>PROJECTED DEPARTURES.—March 20. Bremen, G.M.S....</td>\n",
       "    </tr>\n",
       "    <tr>\n",
       "      <th>2944</th>\n",
       "      <td>I ASHFIELD. . \"\" I A mecimg of this connell WO...</td>\n",
       "      <td>ASHFIELD. A meeting of this council was held o...</td>\n",
       "    </tr>\n",
       "    <tr>\n",
       "      <th>2920</th>\n",
       "      <td>ROOKWOOD. A meeting of tho nbovo council was h...</td>\n",
       "      <td>ROOKWOOD. A meeting of the above council was h...</td>\n",
       "    </tr>\n",
       "  </tbody>\n",
       "</table>\n",
       "</div>"
      ],
      "text/plain": [
       "                                                 ocrText  \\\n",
       "25516  THE ASSAULT ON WILLIAM KIRK. GOSFORD, Wcdupsdi...   \n",
       "3783   CBAltQE OF DIGAMY. I -* In the Balmain Police ...   \n",
       "4013   CRICKET. A meeting of tho committeo of tho N S...   \n",
       "11261  PROJrCTTD DH'IRTIRIS-Jiirch 20 I lïrcmen, OMS,...   \n",
       "2944   I ASHFIELD. . \"\" I A mecimg of this connell WO...   \n",
       "2920   ROOKWOOD. A meeting of tho nbovo council was h...   \n",
       "\n",
       "                                               humanText  \n",
       "25516  THE ASSAULT ON WILLIAM KIRK. GOSFORD, Wednesda...  \n",
       "3783   CHARGE OF BIGAMY.  In the Balmain Police Court...  \n",
       "4013   CRICKET. A meeting of the committee of the N.S...  \n",
       "11261  PROJECTED DEPARTURES.—March 20. Bremen, G.M.S....  \n",
       "2944   ASHFIELD. A meeting of this council was held o...  \n",
       "2920   ROOKWOOD. A meeting of the above council was h...  "
      ]
     },
     "execution_count": 26,
     "metadata": {},
     "output_type": "execute_result"
    }
   ],
   "source": [
    "df[(df['str_similarity'] > 0.7) & (df['str_similarity'] <= 0.8)].sample(6).loc[:, ['ocrText', 'humanText']]"
   ]
  },
  {
   "cell_type": "code",
   "execution_count": 27,
   "metadata": {},
   "outputs": [],
   "source": [
    "df.to_pickle(\"db_trove.pkl\")"
   ]
  },
  {
   "cell_type": "code",
   "execution_count": 28,
   "metadata": {},
   "outputs": [
    {
     "name": "stdout",
     "output_type": "stream",
     "text": [
      "Range: (0.30000000000000004, 0.4)\n",
      "Number of articles: 9\n",
      "Example: ././trove_overproof/datasets/dataset1/rawTextAndHumanCorrectionPairs/smh1923.txt\n",
      "\n",
      "OCR text:\n",
      "NORTH ROCKS FAIR. M tin- iiiiiiunl liir tit Nui Hi Kui.« in \"W .>* Hie lot ni Si boni ni Wth Hie i» mis »on -lorry liuisc-i l> llutclic, 1 II I MMIICI, - l'onln It li null, «m1 Ululer S Smith, I I Munich 2 l'oiilci, to 11 J limul- \\ Hull 1 renier-, ist - list liiicK Muck nell 1, s sini.li, > lot luck I irtler, 1, S Smith 2 rruil hrimci * turnciit G Iliuiie« 1, It I Muller, : Penn li lok I Hull 1 Sulkl runiout \\ Hull, 1 Pcnteisiut, 2 l'uni jump ('. Iliuhe ( liiiiupioti rll.li n nom uiilci II IUIIIIN \\ Hull Uiniiipiim rililmn linn I mir llreiinli l'cmi 11 linns uiul un le r ld », | Smith Llminiilon rib lui MIII.II Imn tin m ut l' lliigln» Ollin nuit- lesillcil III. tailem -Um« nillir illirs W spinnt Cul- un UM II er-- W une \\t lus (ni-, niilor 1 lu 11 nine smith nul I h le Snllli lied It is nillir lilli- UiHiil-i 1! l'mler X e it e h mill < 11 lill» I, It Sim lU nul I I I riinks Heil incluís billilli ip \"M iiiuiis I! lintir-iij HUjcle rue t( nrlin-'furil 11 11.111 t'ili Uni\") c. Soulei ! il Souter - It s\"\"|. (\"|0,t lime linn uiiler Hire (Tluls) Il (1 i in eli Tliriiwing jt wicket: It _i_r, bl<___> ground. W. li. Suiith. \n",
      "\n",
      "Human-corrected text:\n",
      "NORTH ROCKS FAIR. At the annual fair at North Rocks, in aid of the local School of Arts, the awards were: —Lorry horses: G. Hughes, 1: R. J. Maher, 2. Ponies, 13 hands and under: S Smith, 1: E. Moulds, 2. Ponies, to 11.2 hands: A. Bull. 1: Pentergast, 2. 11st hack: Black- well, 1: S. Smith, 2. 10st hack: Lawler, 1: S. Smith 2. Fruit-grower's turnout: G. Hughes, 1: R. J Maher, 2: Pony hack: J. Bull, 1 Sulky turnout A. Hull, 1: Pentergast, 2. Pony jump; G. Hughes Champion ribbon, pony under 14 hands: A. Bull Campion ribbon, brood mare: Bromly. Pony, 13 hands and under led in: E. Smith, Champion rib- bon, single lorry turnout: G. Hughes. Other events resulted as follows:- Boys under 10 yrs W. Sprowles. Girls under 10 years: Winne Atkins. Girls under 13 yrs: Daphne Smith and Elvie Smith tied. Boys under 16 yrs (400 yds): R. Porter. Novice handicap, 100 yds: R. Sheilds and F. E. Franks tied. 100 yds: handicap, all comers: R. Ramsay. Bicycle race (Carlingford League Cycle Club): G. Sonter, 1: R. Sonter, 2: R. Sands, fastest time. Boys under 13 yrs (75yds): D. O'Turell. Throwing at wicket: R. Maher. Stepping ground: W. G. Smith. \n",
      "\n",
      "==========\n",
      "\n",
      "Range: (0.4, 0.5)\n",
      "Number of articles: 35\n",
      "Example: ././trove_overproof/datasets/dataset1/rawTextAndHumanCorrectionPairs/smh1941.txt\n",
      "\n",
      "OCR text:\n",
      "DIVORCE COURT Deciect, nUi (bcfoie Mr Justice Bonney) - lincst willum lux \\ biella lill 1 li duli!. Oioikr Koili 1 inim i Idu Aniu-I I lunn I ninth Once (.-iinUl i Innic H-iiuld (is kau Wiiltir chirrnte nnttlim \\ Join Pottom Dence absolute lnn.il Niiitimbc v lu Kiihlecn Ne \\coinbc Deciros nisi (bcfoie Mi Justice Sheet) - Milschr Ilor-ll/ll <I noun « \\ min linn l I lill Mil II II K Ullin ii lll/nuitll MilLdilh i olmtlri C.romi Mrrt-dilli Um lull«. Druin l lick William Denne Ilumine (Ullin inici v Leila Ilnij Km ilil Air mili Elnvart v hc-iUlu III ni I-ini.es «lei il Alllllir Til Hill iiiil v Ollii Beril Milln ntl len lane HinJii v llirnld lledlci lltnili s Irllltiii Roe Pellcurlnu i lihn Pilli mino Arllmr Uealnald Curtols v Phslll« lllola Mull c innis ilcstliullon older«. Ill Ima Mai Uplon l Birraclmtah Upton Sar iii louise loins i Lt«lic Iinol-nd -lc-nuiMnit Ion\"_ \n",
      "\n",
      "Human-corrected text:\n",
      "DIVORCE COURT Decrees nisi (before Mr. Justice Bonney) :— Ernest William Long v Stella Long, Frederick George Koch Einam v Ida Amuel Einam, Francis George Garnett v James Harold Cog- gan, Walter Clarence Bottom v Joyce Bottom. Decree absolute: Ernest Newcombe v Ivy Kathleen Newcombe. Decrees nisi (before Mr. Justice Street) :— Maische Horsitzki (known as Martin Hall) v Lilli Horsitzki, Kathleen Elizabeth Meredith v Stanley George Meredith, Constance Devine v Jack William Devine, Lawrence Clifton Davey v Leila Davey, Ronald Alexander Stewart v Heather Thyra Frances Stewart, Arthur Ray Millward v Olive Beryl Millward, Vera Jane Hughes v Harold Hedley Hughes, Lettitia Rose Pellegrino v John Pellegrino, Arthur Reginald Curtois v Phyllis Thora Mary Curtois. Restitution orders: Thelma May Upton v Barraclough Upton, Sarah Louise Jones v Leslie Rowland Templeton Jones. \n",
      "\n",
      "==========\n",
      "\n",
      "Range: (0.5, 0.6)\n",
      "Number of articles: 194\n",
      "Example: ././trove_overproof/datasets/dataset1/rawTextAndHumanCorrectionPairs/smh1944.txt\n",
      "\n",
      "OCR text:\n",
      "STRATHFIELD WOMAN 100 TO-MORROW Mi«; Emilie I-R-,» of Albeit Road Strathfield will celebiate hei 100th biilhüA*, to monow She came lo AUatmha ni the late sulita and as a named nu se lids de\\oi«.d nrailj ill hu lue lo the eau 01 tnt ¿ick nnu 111«, uUtuic of uiili A n nive oi lA.tuii'-liiit Miss Ka*,« oiutd hu Li tain«; Pt.>iod ul Uie Al lied Hu -jil U AliIboittne and lau Let mi. m mun ol tile L./.mu- llouiv. loi h pt-i-- ut ljuiii, ii ii nnu sub i. l|ltUlll\\ HllUUll ol Uic 1J m mi itli in alislii 1 ¿jUu>ol lui Cllili U lu ¡,he whs niition of a mu in« home ii Mutend vlivS is. ve «ds one of the found crs of the Hciuj G\"oirc league in S*-dne\\ _ \n",
      "\n",
      "Human-corrected text:\n",
      "STRATHFIELD WOMAN 100 TO-MORROW Miss Emilie Kaye, of Albert Road Strathfield, will celebrate her 100th birthday tomorrow. She came to Australia in the late sixties, and, as a trained nurse, has devoted nearly all her life to the care of the sick and the welfare of girls. A native of Devonshire, Miss Kaye served her training period at the Al- fred Hospital, Melbourne, and later became matron of the Lazarus Home for Lepers at Long Bay, and subse- quently matron of the Parramatta in- dustrial School for Girls. Later she was matron of a nursing home at Maitland. Miss Kaye was one of the found- ers of the Henry George League in Sydney. \n",
      "\n",
      "==========\n",
      "\n",
      "Range: (0.6000000000000001, 0.7000000000000001)\n",
      "Number of articles: 714\n",
      "Example: ././trove_overproof/datasets/dataset1/rawTextAndHumanCorrectionPairs/smh1953.txt\n",
      "\n",
      "OCR text:\n",
      "Mint Building i Sur,--Tb* cía .\\-fint Build- ing in Macquarie Streit- cutir1 hy Franaa Greenaway., is <c ceaurffüiTj prccorocnetf char it m a defigfat sa tàe eye of ant- one wfec fore a. seaae of beaut? aa¿ ¿buga. Its*atnraoi?eaess has,, howeser fresa ruined by the area 5x franc, hacina feeai aa^&aTtedi amf used as a parfc sçgarës. \" Enragáte frew mach mers at- tractive thür charming: oíd fanld ais wouf<£ Ecoic ÉÊ the space ai frone was concerted hito lawas anea gardens; wahi fcrígní ffcwen. Why doesn't the Scare Govern- ' ment use the? cid building to house some of the Law Court»? At present the? are scarcerecS aft over the place, fe seenst st tharne that this fine feuñdóií s&cufif he >jsed for the Housing Ccnmta îfcnvw&iciîcoufd!ea3rï2 ¡removed to sonfe other säe fir Waoflteov rneofccv Mifler/j. Point cr Surr? Hat*. Sjcfeey. EJL. i \n",
      "\n",
      "Human-corrected text:\n",
      "Mint Building Sir, - The old Mint Build- ing in Macquarie Street, built by Francis Greenaway, is so beautifully proportioned that it is a delight to the eye of any- one who has a sense of beauty and design. Its attractiveness has however been ruined by the area in front, having been designated and used as a park- ing area. Imagine how much more at- tractive this charming old build- ing would look if the space in front was converted into lawns and gardens with bright flowers. Why doesn't the State Govern- ment use this old building to house some of the Law Courts. At present they are scattered all over the place. It seems a shame that this fine building should be used for the Housing Commis- sion which could easily be moved to some other site in Woolloo- mooloo, Millers Point or Surry Hills. Sydney E.R. \n",
      "\n",
      "==========\n",
      "\n",
      "Range: (0.7000000000000001, 0.8)\n",
      "Number of articles: 3054\n",
      "Example: ././trove_overproof/datasets/dataset1/rawTextAndHumanCorrectionPairs/smh1953.txt\n",
      "\n",
      "OCR text:\n",
      "rchitect For lympics aid £31,665 - ?? MELBOURNE, Friday [r Frank Heath, the tarne architect who Ped the Olympic Sta m for Carlton Oval be t the Olympic Games {f switched to the ^Gi has been awarded »i665 compensation to sum was paid out of »ral Olympic Games \"? to which the Federal «rament contributed 50 «nt and the Victorian «rament and Melbourne Council 25 per cent LHwih had claimed TO. but the Victorian «rament refused to meet ¡ The £31.665 was de «Kd bv an independent Nor Mr j B Tait, Q C «'«nins year, Mr Heath .Paid £8 500 for the '«gun at Carlton This £en deducted from the \n",
      "\n",
      "Human-corrected text:\n",
      "Architect For Olympics paid £31,665  MELBOURNE, Friday Mr Frank Heath, the Melbourne architect who designed ed the Olympic Sta- dium for Carlton Oval be- fore the Olympic Games were switched to the MCG has been awarded £31,665 compensation. The sum was paid out of general Olympic Games \"? to which the Federal Government contributed 50 percent and the Victorian Government and Melbourne Council 25 per cent each. Mr Heath had claimed TO. but the Victorian Government refused to meet this. The £31.665 was de- derived by an independent moderator Mr J B Tait, Q C earlier this year. Mr Heath was paid £8 500 for the work begun at Carlton. This has been deducted from the £31,665. \n",
      "\n",
      "==========\n",
      "\n",
      "Range: (0.8, 0.9)\n",
      "Number of articles: 13053\n",
      "Example: ././trove_overproof/datasets/dataset1/rawTextAndHumanCorrectionPairs/smh1953.txt\n",
      "\n",
      "OCR text:\n",
      "FROM RIVER CROSSING TO END OF TRIÄÜ I ^PI A^H\" Pclcr Antill ploughed deep into Paddy's River in his Chrysler Plymouth Jr LA Jil ? during {|)c elimination section. Antill has been provisionally placed third. BOG' navigator Miss Marie Higgs pushed hard at the back of Bill McLachlan's Ford Customlinc while it ploughed tnrougti wu\" a boggy crcckcrossing on the elimination section. FINISH' ^ H°'den driven by A. L. Kipling, of South Australia, was the first to cross the line in Driver Avenue yesterday. I lill Jil. Kipling lost his first points on the elimination section. DRINK\" Tom Sn,man (,eft) washed Lex Davi I/I\\II1IV. son wasjj tjie ,jus{ from jjjs throat, HOMF\" Hunlber driver, M. S. Law, was HUÍ IL i greeted by his children. AIITllfiDADH\" ßarrV Gurdon signed auto j MUIVUftHril. graphs at (hc fmish yesterday. L \n",
      "\n",
      "Human-corrected text:\n",
      "FROM RIVER CROSSING TO END OF TRIAL SPLASH: Peler Antill ploughed deep into Paddy's River in his Chrysler Plymouth during the elimination section. Antill has been provisionally placed third. BOG: navigator Miss Marie Higgs pushed hard at the back of Bill McLachlan's Ford Customline while it ploughed tnrough a boggy creekcrossing on the elimination section. FINISH: A Holden driven by A. L. Kipling, of South Australia, was the first to cross the line in Driver Avenue yesterday. Kipling lost his first points on the elimination section. DRINK: Tom Sulman (left) watched Lex Davi- son wash the dust from his throat. HOMF: Humber driver, M. S. Law, was greeted by his children. AUTOGRAPH: ßarry Gordon signed auto- graphs at the finish yesterday. \n",
      "\n",
      "==========\n",
      "\n",
      "Range: (0.9, 1.0)\n",
      "Number of articles: 11228\n",
      "Example: ././trove_overproof/datasets/dataset1/rawTextAndHumanCorrectionPairs/smh1953.txt\n",
      "\n",
      "OCR text:\n",
      "Natural Childbirth Sir,-We nurses have seen far too many women coming into labour wards in fear and trembling, bringine their own pain with them. Doctors are too busy to in- struct or teach expectant moth- ers, and somewhere before their term is near a sympathetic and kindly individual explanation should be available. Not only should they have exercises, but the whole process of childbirth should be explained simply. The ignorance among nurses of the Read methods suggests that the lay population must be doubly ignorant. How far this unnecessary suffering affects the birthrate can only be guessed at. LOUISE'ROBINSON. Bondi. \n",
      "\n",
      "Human-corrected text:\n",
      "Natural Childbirth Sir,-We nurses have seen far too many women coming into labour wards in fear and trembling, bringing bringing their own pain with them. Doctors are too busy to instruct or teach expectant mothers, and somewhere before their term is near a sympathetic and kindly individual explanation should be available. Not only should they have excercises, but the whole process of childbirth should be explained simply. The ignorance among nurse of the Read methods suggests that that the lay population must be doubly ignorant. How far this unnecessary suffering affects the birthrate can only be guessed at. LOUISE ROBINSON. Bondi.  \n",
      "\n",
      "==========\n",
      "\n"
     ]
    }
   ],
   "source": [
    "trovedf = df\n",
    "\n",
    "dExamples = dict()\n",
    "for i in np.arange(0.1, 1.1, 0.1):\n",
    "    tempdf = trovedf[(trovedf['str_similarity'] > (i - 0.1)) & (trovedf['str_similarity'] <= i) & (abs(trovedf['ocrText'].str.len() - trovedf['humanText'].str.len()) <= 100)]\n",
    "    if tempdf.shape[0] >= 1:\n",
    "        dExamples[((i - 0.1, i))] = (tempdf.shape[0], tempdf.iloc[0].filePath, tempdf.iloc[0].ocrText, tempdf.iloc[0].humanText)\n",
    "\n",
    "for example in dExamples:\n",
    "    print(\"Range:\", example)\n",
    "    print(\"Number of articles:\", dExamples[example][0])\n",
    "    print(\"Example: ./\" + dExamples[example][1])\n",
    "    print(\"\\nOCR text:\")\n",
    "    print(dExamples[example][2])\n",
    "    print(\"\\nHuman-corrected text:\")\n",
    "    print(dExamples[example][3])\n",
    "    print()\n",
    "    print('==========')\n",
    "    print()"
   ]
  },
  {
   "cell_type": "code",
   "execution_count": null,
   "metadata": {},
   "outputs": [],
   "source": []
  }
 ],
 "metadata": {
  "kernelspec": {
   "display_name": "Python 3",
   "language": "python",
   "name": "python3"
  },
  "language_info": {
   "codemirror_mode": {
    "name": "ipython",
    "version": 3
   },
   "file_extension": ".py",
   "mimetype": "text/x-python",
   "name": "python",
   "nbconvert_exporter": "python",
   "pygments_lexer": "ipython3",
   "version": "3.7.5"
  }
 },
 "nbformat": 4,
 "nbformat_minor": 2
}
