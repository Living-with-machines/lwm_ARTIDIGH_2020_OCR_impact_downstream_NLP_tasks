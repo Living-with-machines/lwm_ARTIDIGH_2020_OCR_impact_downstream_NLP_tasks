{
 "cells": [
  {
   "cell_type": "markdown",
   "metadata": {},
   "source": [
    "## Create a DataFrame from the Trove dataset\n",
    "\n",
    "### Obtaining the data\n",
    "\n",
    "You can download the whole Trove dataset using:\n",
    "\n",
    "`wget --recursive --no-parent http://overproof.projectcomputing.com/datasets/`\n",
    "\n",
    "Change the parent directory `overproof.projectcomputing.com` to a friendlier name `trove_overproof`.\n",
    "\n",
    "### Preprocessing of the data"
   ]
  },
  {
   "cell_type": "code",
   "execution_count": 1,
   "metadata": {},
   "outputs": [],
   "source": [
    "from glob import glob\n",
    "import jellyfish\n",
    "import numpy as np\n",
    "import os\n",
    "import pandas as pd\n",
    "import re"
   ]
  },
  {
   "cell_type": "code",
   "execution_count": null,
   "metadata": {},
   "outputs": [],
   "source": [
    "# Dictionary with the following structure:\n",
    "# arbitrary_dirname: path_to_txt_files\n",
    "# dirname is an arbitrary name which can be used to filter the DB in later steps\n",
    "\n",
    "dict_dirnames = {\n",
    "    \"trove_dataset_1\": './trove_overproof/datasets/dataset1/rawTextAndHumanCorrectionPairs',\n",
    "    \"trove_dataset_2\": './trove_overproof/datasets/dataset2/rawTextAndHumanCorrectionAndOverproofCorrectionTriples',\n",
    "    \"trove_dataset_3\": './trove_overproof/datasets/dataset3/rawTextAndHumanCorrectionAndOverproofCorrectionTriples'\n",
    "}"
   ]
  },
  {
   "cell_type": "code",
   "execution_count": null,
   "metadata": {},
   "outputs": [],
   "source": [
    "df = pd.DataFrame(columns=[\"filePath\", \"articleId\", \"articleType\", \"year\", \n",
    "                           \"ocrText\", \"humanText\", \"corrected\"])"
   ]
  },
  {
   "cell_type": "code",
   "execution_count": null,
   "metadata": {},
   "outputs": [],
   "source": [
    "def process_header(line):\n",
    "    re_header = r'^\\*\\$\\*OVERPROOF\\*\\$\\*\\s*([0-9]+)\\s+year\\s+([0-9]{4})\\s+type\\s(.+)\\s+title\\s+.+$'\n",
    "    if re.match(re_header, line):\n",
    "        articleId, year, articleType = re.match(re_header, line).groups()\n",
    "        return articleId, year, articleType"
   ]
  },
  {
   "cell_type": "code",
   "execution_count": null,
   "metadata": {},
   "outputs": [],
   "source": [
    "def process_content(article_content):\n",
    "    ocr_line = []\n",
    "    human_line = []\n",
    "    hcorr_line = []\n",
    "    for line in article_content:\n",
    "        line = line.split(\"||@@||\")\n",
    "        if (not line[0].strip() == '') or (not line[1].strip() == ''):\n",
    "            if len(line) == 3:\n",
    "                ocr_line.append(line[0].strip())\n",
    "                human_line.append(line[1].strip())\n",
    "                hcorr_line.append(line[2].strip())\n",
    "            if len(line) == 2:\n",
    "                ocr_line.append(line[0].strip())\n",
    "                human_line.append(line[1].strip())\n",
    "\n",
    "    return \" \".join(ocr_line), \" \".join(human_line), \" \".join(hcorr_line)"
   ]
  },
  {
   "cell_type": "code",
   "execution_count": null,
   "metadata": {},
   "outputs": [],
   "source": [
    "article_content = []\n",
    "year = \"\"\n",
    "file_path = \"\"\n",
    "articleId = \"\"\n",
    "articleType = \"\"\n",
    "processed_content = \"\"\n",
    "article_counter = 0\n",
    "for ldir in dict_dirnames.keys():\n",
    "    list_files = glob(os.path.join(dict_dirnames[ldir], \"*.txt\"))\n",
    "    for lfile in list_files:\n",
    "        file_path = lfile\n",
    "        fio = open(lfile, \"r\")\n",
    "        flines = fio.readlines()\n",
    "        for iline in range(len(flines)):\n",
    "            if flines[iline].startswith('*$*OVERPROOF*$*'):\n",
    "                articleId, year, articleType = process_header(flines[iline])\n",
    "                article_counter += 1\n",
    "            else:\n",
    "                article_content.append(flines[iline])\n",
    "                if ((len(flines) -1 == iline) or (flines[iline + 1].startswith('*$*OVERPROOF*$*'))):\n",
    "                    processed_content = process_content(article_content)\n",
    "\n",
    "                    # Insert into dataframe:\n",
    "                    df.loc[article_counter] = [file_path, \n",
    "                                               articleId,\n",
    "                                               articleType,\n",
    "                                               year,\n",
    "                                               processed_content[0],\n",
    "                                               processed_content[1],\n",
    "                                               processed_content[2]\n",
    "                                              ] \n",
    "                    \n",
    "                    # Clean variables:\n",
    "                    year = \"\"\n",
    "                    articleId = \"\"\n",
    "                    articleType = \"\"\n",
    "                    processed_content = \"\"\n",
    "                    article_content = []\n",
    "\n",
    "print(article_counter)"
   ]
  },
  {
   "cell_type": "code",
   "execution_count": null,
   "metadata": {},
   "outputs": [],
   "source": [
    "df"
   ]
  },
  {
   "cell_type": "markdown",
   "metadata": {},
   "source": [
    "### Add string similarity and length"
   ]
  },
  {
   "cell_type": "code",
   "execution_count": null,
   "metadata": {},
   "outputs": [],
   "source": [
    "from pandarallel import pandarallel\n",
    "# Initialization\n",
    "pandarallel.initialize()"
   ]
  },
  {
   "cell_type": "code",
   "execution_count": null,
   "metadata": {},
   "outputs": [],
   "source": [
    "def distance_via_levenshtein(gs_clean, ocr_clean):\n",
    "    gs_clean = gs_clean.lower()\n",
    "    ocr_clean = ocr_clean.lower()\n",
    "    max_sentlength = max(len(gs_clean), len(ocr_clean))\n",
    "    lev_distance = jellyfish.levenshtein_distance(gs_clean, ocr_clean)\n",
    "    dist_similarity = (max_sentlength - lev_distance) / float(max_sentlength)\n",
    "    return dist_similarity"
   ]
  },
  {
   "cell_type": "code",
   "execution_count": null,
   "metadata": {},
   "outputs": [],
   "source": [
    "df['str_similarity'] = df.parallel_apply(lambda row: distance_via_levenshtein(row['ocrText'], row['humanText']), axis=1)\n",
    "df['str_length_humanText'] = df.parallel_apply(lambda row: len(row['humanText']), axis=1)\n",
    "df['str_length_ocrText'] = df.parallel_apply(lambda row: len(row['ocrText']), axis=1)\n"
   ]
  },
  {
   "cell_type": "code",
   "execution_count": null,
   "metadata": {},
   "outputs": [],
   "source": [
    "# Number of documents that have at least one article with string similarity lower than 0.8:\n",
    "len(df[df['str_similarity'] < 0.8]['articleId'].unique())"
   ]
  },
  {
   "cell_type": "code",
   "execution_count": null,
   "metadata": {},
   "outputs": [],
   "source": [
    "def quality(similarity):\n",
    "    if similarity > 0.9:\n",
    "        return 1 # good\n",
    "    elif similarity > 0.8:\n",
    "        return 2 # soso\n",
    "    elif similarity > 0.7:\n",
    "        return 3 # bad\n",
    "    return 4 # ugly\n",
    "\n",
    "df['quality_band'] = df[\"str_similarity\"].apply(quality)"
   ]
  },
  {
   "cell_type": "code",
   "execution_count": null,
   "metadata": {},
   "outputs": [],
   "source": [
    "df['quality_band'].value_counts()"
   ]
  },
  {
   "cell_type": "markdown",
   "metadata": {},
   "source": [
    "### OCR and GS string similarity distribution\n",
    "\n",
    "Plot the distribution of sentences according to string similarity between OCR and GS text:"
   ]
  },
  {
   "cell_type": "code",
   "execution_count": null,
   "metadata": {},
   "outputs": [],
   "source": [
    "df[['str_similarity']].plot(kind='hist',bins=np.arange(0, 1.1, 0.1),rwidth=0.8)"
   ]
  },
  {
   "cell_type": "markdown",
   "metadata": {},
   "source": [
    "Get some examples from each bin:"
   ]
  },
  {
   "cell_type": "code",
   "execution_count": null,
   "metadata": {},
   "outputs": [],
   "source": [
    "df[(df['str_similarity'] > 0.7) & (df['str_similarity'] <= 0.8)].sample(6).loc[:, ['ocrText', 'humanText']]"
   ]
  },
  {
   "cell_type": "code",
   "execution_count": null,
   "metadata": {},
   "outputs": [],
   "source": [
    "df.to_pickle(\"db_trove.pkl\")"
   ]
  },
  {
   "cell_type": "code",
   "execution_count": null,
   "metadata": {},
   "outputs": [],
   "source": [
    "trovedf = df\n",
    "\n",
    "dExamples = dict()\n",
    "for i in np.arange(0.1, 1.1, 0.1):\n",
    "    tempdf = trovedf[(trovedf['str_similarity'] > (i - 0.1)) & (trovedf['str_similarity'] <= i) & (abs(trovedf['ocrText'].str.len() - trovedf['humanText'].str.len()) <= 100)]\n",
    "    if tempdf.shape[0] >= 1:\n",
    "        dExamples[((i - 0.1, i))] = (tempdf.shape[0], tempdf.iloc[0].filePath, tempdf.iloc[0].ocrText, tempdf.iloc[0].humanText)\n",
    "\n",
    "for example in dExamples:\n",
    "    print(\"Range:\", example)\n",
    "    print(\"Number of articles:\", dExamples[example][0])\n",
    "    print(\"Example: ./\" + dExamples[example][1])\n",
    "    print(\"\\nOCR text:\")\n",
    "    print(dExamples[example][2])\n",
    "    print(\"\\nHuman-corrected text:\")\n",
    "    print(dExamples[example][3])\n",
    "    print()\n",
    "    print('==========')\n",
    "    print()"
   ]
  },
  {
   "cell_type": "markdown",
   "metadata": {},
   "source": [
    "# Dictionary lookup"
   ]
  },
  {
   "cell_type": "code",
   "execution_count": 2,
   "metadata": {},
   "outputs": [],
   "source": [
    "import matplotlib.pyplot as plt\n",
    "import numpy as np\n",
    "import pandas as pd\n",
    "import re\n",
    "import syntok.segmenter as segmenter"
   ]
  },
  {
   "cell_type": "code",
   "execution_count": 3,
   "metadata": {},
   "outputs": [
    {
     "data": {
      "text/html": [
       "<div>\n",
       "<style scoped>\n",
       "    .dataframe tbody tr th:only-of-type {\n",
       "        vertical-align: middle;\n",
       "    }\n",
       "\n",
       "    .dataframe tbody tr th {\n",
       "        vertical-align: top;\n",
       "    }\n",
       "\n",
       "    .dataframe thead th {\n",
       "        text-align: right;\n",
       "    }\n",
       "</style>\n",
       "<table border=\"1\" class=\"dataframe\">\n",
       "  <thead>\n",
       "    <tr style=\"text-align: right;\">\n",
       "      <th></th>\n",
       "      <th>filePath</th>\n",
       "      <th>articleId</th>\n",
       "      <th>articleType</th>\n",
       "      <th>year</th>\n",
       "      <th>ocrText</th>\n",
       "      <th>humanText</th>\n",
       "      <th>corrected</th>\n",
       "      <th>str_similarity</th>\n",
       "      <th>str_length_humanText</th>\n",
       "      <th>str_length_ocrText</th>\n",
       "      <th>quality_band</th>\n",
       "    </tr>\n",
       "  </thead>\n",
       "  <tbody>\n",
       "    <tr>\n",
       "      <td>1</td>\n",
       "      <td>./trove_overproof/datasets/dataset1/rawTextAnd...</td>\n",
       "      <td>18378453</td>\n",
       "      <td>Article ILLUSTRATED</td>\n",
       "      <td>1953</td>\n",
       "      <td>FROM RIVER CROSSING TO END OF TRIÄÜ I ^PI A^H\"...</td>\n",
       "      <td>FROM RIVER CROSSING TO END OF TRIAL SPLASH: Pe...</td>\n",
       "      <td></td>\n",
       "      <td>0.847561</td>\n",
       "      <td>746</td>\n",
       "      <td>820</td>\n",
       "      <td>2</td>\n",
       "    </tr>\n",
       "    <tr>\n",
       "      <td>2</td>\n",
       "      <td>./trove_overproof/datasets/dataset1/rawTextAnd...</td>\n",
       "      <td>18363627</td>\n",
       "      <td>Article</td>\n",
       "      <td>1953</td>\n",
       "      <td>Natural Childbirth Sir,-We nurses have seen fa...</td>\n",
       "      <td>Natural Childbirth Sir,-We nurses have seen fa...</td>\n",
       "      <td></td>\n",
       "      <td>0.964119</td>\n",
       "      <td>641</td>\n",
       "      <td>630</td>\n",
       "      <td>1</td>\n",
       "    </tr>\n",
       "    <tr>\n",
       "      <td>3</td>\n",
       "      <td>./trove_overproof/datasets/dataset1/rawTextAnd...</td>\n",
       "      <td>18366055</td>\n",
       "      <td>Article</td>\n",
       "      <td>1953</td>\n",
       "      <td>FIRST CHURCH I SERVICE 1 Presbyterian I ' Anni...</td>\n",
       "      <td>FIRST CHURCH SERVICE Presbyterian Anniversary ...</td>\n",
       "      <td></td>\n",
       "      <td>0.738901</td>\n",
       "      <td>946</td>\n",
       "      <td>832</td>\n",
       "      <td>3</td>\n",
       "    </tr>\n",
       "    <tr>\n",
       "      <td>4</td>\n",
       "      <td>./trove_overproof/datasets/dataset1/rawTextAnd...</td>\n",
       "      <td>18386137</td>\n",
       "      <td>Article</td>\n",
       "      <td>1953</td>\n",
       "      <td>\"Bob\" Lulham's Fight Against Thallium District...</td>\n",
       "      <td>\"Bob\" Lulham's Fight Against Thallium  Arthur ...</td>\n",
       "      <td></td>\n",
       "      <td>0.493898</td>\n",
       "      <td>2950</td>\n",
       "      <td>2740</td>\n",
       "      <td>4</td>\n",
       "    </tr>\n",
       "    <tr>\n",
       "      <td>5</td>\n",
       "      <td>./trove_overproof/datasets/dataset1/rawTextAnd...</td>\n",
       "      <td>18368961</td>\n",
       "      <td>Article</td>\n",
       "      <td>1953</td>\n",
       "      <td>DIVORCE Before The Judge In Divorce, Mr Justic...</td>\n",
       "      <td>DIVORCE Before The Judge In Divorce, Mr. Justi...</td>\n",
       "      <td></td>\n",
       "      <td>0.894176</td>\n",
       "      <td>1219</td>\n",
       "      <td>1121</td>\n",
       "      <td>2</td>\n",
       "    </tr>\n",
       "  </tbody>\n",
       "</table>\n",
       "</div>"
      ],
      "text/plain": [
       "                                            filePath articleId  \\\n",
       "1  ./trove_overproof/datasets/dataset1/rawTextAnd...  18378453   \n",
       "2  ./trove_overproof/datasets/dataset1/rawTextAnd...  18363627   \n",
       "3  ./trove_overproof/datasets/dataset1/rawTextAnd...  18366055   \n",
       "4  ./trove_overproof/datasets/dataset1/rawTextAnd...  18386137   \n",
       "5  ./trove_overproof/datasets/dataset1/rawTextAnd...  18368961   \n",
       "\n",
       "            articleType  year  \\\n",
       "1  Article ILLUSTRATED   1953   \n",
       "2               Article  1953   \n",
       "3               Article  1953   \n",
       "4               Article  1953   \n",
       "5               Article  1953   \n",
       "\n",
       "                                             ocrText  \\\n",
       "1  FROM RIVER CROSSING TO END OF TRIÄÜ I ^PI A^H\"...   \n",
       "2  Natural Childbirth Sir,-We nurses have seen fa...   \n",
       "3  FIRST CHURCH I SERVICE 1 Presbyterian I ' Anni...   \n",
       "4  \"Bob\" Lulham's Fight Against Thallium District...   \n",
       "5  DIVORCE Before The Judge In Divorce, Mr Justic...   \n",
       "\n",
       "                                           humanText corrected  \\\n",
       "1  FROM RIVER CROSSING TO END OF TRIAL SPLASH: Pe...             \n",
       "2  Natural Childbirth Sir,-We nurses have seen fa...             \n",
       "3  FIRST CHURCH SERVICE Presbyterian Anniversary ...             \n",
       "4  \"Bob\" Lulham's Fight Against Thallium  Arthur ...             \n",
       "5  DIVORCE Before The Judge In Divorce, Mr. Justi...             \n",
       "\n",
       "   str_similarity  str_length_humanText  str_length_ocrText  quality_band  \n",
       "1        0.847561                   746                 820             2  \n",
       "2        0.964119                   641                 630             1  \n",
       "3        0.738901                   946                 832             3  \n",
       "4        0.493898                  2950                2740             4  \n",
       "5        0.894176                  1219                1121             2  "
      ]
     },
     "execution_count": 3,
     "metadata": {},
     "output_type": "execute_result"
    }
   ],
   "source": [
    "df = pd.read_pickle(\"db_trove.pkl\")\n",
    "df.head()"
   ]
  },
  {
   "cell_type": "code",
   "execution_count": 4,
   "metadata": {},
   "outputs": [],
   "source": [
    "corrected_cond = (df[\"corrected\"] == '')# & (df[\"str_length_humanText\"] > 10)"
   ]
  },
  {
   "cell_type": "code",
   "execution_count": 5,
   "metadata": {},
   "outputs": [
    {
     "data": {
      "text/plain": [
       "0    30301\n",
       "1      208\n",
       "Name: use_corrected, dtype: int64"
      ]
     },
     "execution_count": 5,
     "metadata": {},
     "output_type": "execute_result"
    }
   ],
   "source": [
    "df[\"use_corrected\"] = 1\n",
    "df.loc[corrected_cond, 'corrected'] = df.loc[corrected_cond, 'humanText']\n",
    "df.loc[corrected_cond, 'use_corrected'] = 0\n",
    "df['use_corrected'].value_counts()"
   ]
  },
  {
   "cell_type": "code",
   "execution_count": 6,
   "metadata": {},
   "outputs": [],
   "source": [
    "ocr_corr_diff = abs(df['ocrText'].str.len() - df['corrected'].str.len())\n",
    "ocr_corr_diff /= np.maximum(df['ocrText'].str.len().values, df['corrected'].str.len().values)\n",
    "ocr_corr_diff *= 100."
   ]
  },
  {
   "cell_type": "code",
   "execution_count": 7,
   "metadata": {},
   "outputs": [
    {
     "data": {
      "image/png": "[encoded data removed]",
      "text/plain": [
       "<Figure size 1440x720 with 1 Axes>"
      ]
     },
     "metadata": {
      "needs_background": "light"
     },
     "output_type": "display_data"
    }
   ],
   "source": [
    "plt.figure(figsize=(20, 10))\n",
    "plt.plot(ocr_corr_diff, c='k')\n",
    "plt.grid()\n",
    "plt.xticks(size=24)\n",
    "plt.yticks(size=24)\n",
    "plt.xlabel(\"ArticleID\", size=32)\n",
    "plt.ylabel(\"|#ocrText - #corrected| (%)\", size=32)\n",
    "plt.show()"
   ]
  },
  {
   "cell_type": "code",
   "execution_count": 8,
   "metadata": {},
   "outputs": [
    {
     "name": "stdout",
     "output_type": "stream",
     "text": [
      "#Articles with character difference lower than 10.00%: 29697, percentage: 97.34%\n"
     ]
    },
    {
     "data": {
      "image/png": "[encoded data removed]",
      "text/plain": [
       "<Figure size 1440x720 with 1 Axes>"
      ]
     },
     "metadata": {
      "needs_background": "light"
     },
     "output_type": "display_data"
    }
   ],
   "source": [
    "plt.figure(figsize=(20, 10))\n",
    "\n",
    "perc_diff = 10.\n",
    "\n",
    "plt.plot(np.sort(ocr_corr_diff), c='k', lw=3)\n",
    "\n",
    "plt.grid()\n",
    "plt.xticks(size=24)\n",
    "plt.yticks(size=24)\n",
    "plt.xlabel(\"#Articles (sorted)\", size=32)\n",
    "plt.ylabel(\"|#ocrText - #corrected| (%)\", size=32)\n",
    "plt.axhline(perc_diff, 0, 1, color='r', ls='--', lw=3)\n",
    "print(\"#Articles with character difference lower than %.2f%%: %i, percentage: %.2f%%\" % (perc_diff, len(ocr_corr_diff[ocr_corr_diff <= perc_diff]), len(ocr_corr_diff[ocr_corr_diff <= perc_diff])/len(ocr_corr_diff)*100.))\n",
    "plt.show()"
   ]
  },
  {
   "cell_type": "code",
   "execution_count": 9,
   "metadata": {},
   "outputs": [],
   "source": [
    "# spacy to do most of the pre-processing\n",
    "import spacy\n",
    "# see: https://spacy.io/universe/project/spacy-langdetect\n",
    "from spacy_langdetect import LanguageDetector\n",
    "\n",
    "# preprocessing\n",
    "# Load a spacy model\n",
    "nlp = spacy.load('en_core_web_lg')\n",
    "# spacy_dict will be later used for the \"Dictionary lookup\" evaluation\n",
    "spacy_dict = list(nlp.vocab.strings)"
   ]
  },
  {
   "cell_type": "code",
   "execution_count": 10,
   "metadata": {},
   "outputs": [],
   "source": [
    "def dictionary_lookup(myrow, colname=\"corrected\"):\n",
    "    #print(myrow.name, end=\" \")\n",
    "    \n",
    "    sent_list = []\n",
    "    found_dict = []\n",
    "    \n",
    "    for paragraph in segmenter.analyze(myrow[colname]):\n",
    "        for sentence in paragraph:\n",
    "            all_tokens = []\n",
    "            all_txt_dict = []\n",
    "            for token in sentence:\n",
    "                # exactly reproduce the input\n",
    "                # and do not remove \"imperfections\"\n",
    "                # print(token.spacing, token.value, sep='', end='')\n",
    "                all_tokens.append(token.value)\n",
    "                if token.value.lower() in spacy_dict:\n",
    "                    all_txt_dict.append(str(len(token.value)))\n",
    "                else:\n",
    "                    all_txt_dict.append(str(-len(token.value)))\n",
    "            sent_list.append(all_tokens)\n",
    "            found_dict.append(all_txt_dict)\n",
    "            #found_dict.append([])\n",
    "    return sent_list, found_dict"
   ]
  },
  {
   "cell_type": "code",
   "execution_count": null,
   "metadata": {},
   "outputs": [],
   "source": [
    "df.to_pickle(\"db_trove_before_sentencizer.pkl\")"
   ]
  },
  {
   "cell_type": "code",
   "execution_count": 11,
   "metadata": {},
   "outputs": [
    {
     "name": "stdout",
     "output_type": "stream",
     "text": [
      "INFO: Pandarallel will run on 8 workers.\n",
      "INFO: Pandarallel will use standard multiprocessing data tranfer (pipe) to transfer data between the main process and workers.\n"
     ]
    }
   ],
   "source": [
    "from pandarallel import pandarallel\n",
    "# Initialization\n",
    "pandarallel.initialize()"
   ]
  },
  {
   "cell_type": "code",
   "execution_count": 12,
   "metadata": {},
   "outputs": [],
   "source": [
    "df['corrected_sentencizer'] = ''\n",
    "df['corrected_dict_lookup'] = ''\n",
    "\n",
    "df['ocr_sentencizer'] = ''\n",
    "df['ocr_dict_lookup'] = ''"
   ]
  },
  {
   "cell_type": "code",
   "execution_count": 13,
   "metadata": {},
   "outputs": [],
   "source": [
    "df['corrected_sentencizer'], df['corrected_dict_lookup'] = zip(*df.parallel_apply(dictionary_lookup, args=[\"corrected\"], axis=1))\n"
   ]
  },
  {
   "cell_type": "code",
   "execution_count": 14,
   "metadata": {},
   "outputs": [],
   "source": [
    "df['ocr_sentencizer'], df['ocr_dict_lookup'] = zip(*df.parallel_apply(dictionary_lookup, args=[\"ocrText\"], axis=1))\n"
   ]
  },
  {
   "cell_type": "code",
   "execution_count": 15,
   "metadata": {},
   "outputs": [],
   "source": [
    "df.to_pickle(\"db_trove_sentence_with_lookup.pkl\")"
   ]
  },
  {
   "cell_type": "code",
   "execution_count": 16,
   "metadata": {},
   "outputs": [
    {
     "data": {
      "text/html": [
       "<div>\n",
       "<style scoped>\n",
       "    .dataframe tbody tr th:only-of-type {\n",
       "        vertical-align: middle;\n",
       "    }\n",
       "\n",
       "    .dataframe tbody tr th {\n",
       "        vertical-align: top;\n",
       "    }\n",
       "\n",
       "    .dataframe thead th {\n",
       "        text-align: right;\n",
       "    }\n",
       "</style>\n",
       "<table border=\"1\" class=\"dataframe\">\n",
       "  <thead>\n",
       "    <tr style=\"text-align: right;\">\n",
       "      <th></th>\n",
       "      <th>filePath</th>\n",
       "      <th>articleId</th>\n",
       "      <th>articleType</th>\n",
       "      <th>year</th>\n",
       "      <th>ocrText</th>\n",
       "      <th>humanText</th>\n",
       "      <th>corrected</th>\n",
       "      <th>str_similarity</th>\n",
       "      <th>str_length_humanText</th>\n",
       "      <th>str_length_ocrText</th>\n",
       "      <th>quality_band</th>\n",
       "      <th>use_corrected</th>\n",
       "      <th>corrected_sentencizer</th>\n",
       "      <th>corrected_dict_lookup</th>\n",
       "      <th>ocr_sentencizer</th>\n",
       "      <th>ocr_dict_lookup</th>\n",
       "    </tr>\n",
       "  </thead>\n",
       "  <tbody>\n",
       "    <tr>\n",
       "      <td>1</td>\n",
       "      <td>./trove_overproof/datasets/dataset1/rawTextAnd...</td>\n",
       "      <td>18378453</td>\n",
       "      <td>Article ILLUSTRATED</td>\n",
       "      <td>1953</td>\n",
       "      <td>FROM RIVER CROSSING TO END OF TRIÄÜ I ^PI A^H\"...</td>\n",
       "      <td>FROM RIVER CROSSING TO END OF TRIAL SPLASH: Pe...</td>\n",
       "      <td>FROM RIVER CROSSING TO END OF TRIAL SPLASH: Pe...</td>\n",
       "      <td>0.847561</td>\n",
       "      <td>746</td>\n",
       "      <td>820</td>\n",
       "      <td>2</td>\n",
       "      <td>0</td>\n",
       "      <td>[[FROM, RIVER, CROSSING, TO, END, OF, TRIAL, S...</td>\n",
       "      <td>[[4, 5, 8, 2, 3, 2, 5, 6, 1, -5, -6, 8, 4, 4, ...</td>\n",
       "      <td>[[FROM, RIVER, CROSSING, TO, END, OF, TRIÄÜ, I...</td>\n",
       "      <td>[[4, 5, 8, 2, 3, 2, -5, 1, 1, 2, -3, 1, -5, -6...</td>\n",
       "    </tr>\n",
       "    <tr>\n",
       "      <td>2</td>\n",
       "      <td>./trove_overproof/datasets/dataset1/rawTextAnd...</td>\n",
       "      <td>18363627</td>\n",
       "      <td>Article</td>\n",
       "      <td>1953</td>\n",
       "      <td>Natural Childbirth Sir,-We nurses have seen fa...</td>\n",
       "      <td>Natural Childbirth Sir,-We nurses have seen fa...</td>\n",
       "      <td>Natural Childbirth Sir,-We nurses have seen fa...</td>\n",
       "      <td>0.964119</td>\n",
       "      <td>641</td>\n",
       "      <td>630</td>\n",
       "      <td>1</td>\n",
       "      <td>0</td>\n",
       "      <td>[[Natural, Childbirth, Sir,-We, nurses, have, ...</td>\n",
       "      <td>[[7, 10, -7, 6, 4, 4, 3, 3, 4, 5, 6, 4, 6, 5, ...</td>\n",
       "      <td>[[Natural, Childbirth, Sir,-We, nurses, have, ...</td>\n",
       "      <td>[[7, 10, -7, 6, 4, 4, 3, 3, 4, 5, 6, 4, 6, 5, ...</td>\n",
       "    </tr>\n",
       "    <tr>\n",
       "      <td>3</td>\n",
       "      <td>./trove_overproof/datasets/dataset1/rawTextAnd...</td>\n",
       "      <td>18366055</td>\n",
       "      <td>Article</td>\n",
       "      <td>1953</td>\n",
       "      <td>FIRST CHURCH I SERVICE 1 Presbyterian I ' Anni...</td>\n",
       "      <td>FIRST CHURCH SERVICE Presbyterian Anniversary ...</td>\n",
       "      <td>FIRST CHURCH SERVICE Presbyterian Anniversary ...</td>\n",
       "      <td>0.738901</td>\n",
       "      <td>946</td>\n",
       "      <td>832</td>\n",
       "      <td>3</td>\n",
       "      <td>0</td>\n",
       "      <td>[[FIRST, CHURCH, SERVICE, Presbyterian, Annive...</td>\n",
       "      <td>[[5, 6, 7, 12, 11, 3, 5, 11, 2, 3, 5, 12, 6, 7...</td>\n",
       "      <td>[[FIRST, CHURCH, I, SERVICE, 1, Presbyterian, ...</td>\n",
       "      <td>[[5, 6, 1, 7, 1, 12, 1, 1, 11, 1, 3, 5, -12, 3...</td>\n",
       "    </tr>\n",
       "    <tr>\n",
       "      <td>4</td>\n",
       "      <td>./trove_overproof/datasets/dataset1/rawTextAnd...</td>\n",
       "      <td>18386137</td>\n",
       "      <td>Article</td>\n",
       "      <td>1953</td>\n",
       "      <td>\"Bob\" Lulham's Fight Against Thallium District...</td>\n",
       "      <td>\"Bob\" Lulham's Fight Against Thallium  Arthur ...</td>\n",
       "      <td>\"Bob\" Lulham's Fight Against Thallium  Arthur ...</td>\n",
       "      <td>0.493898</td>\n",
       "      <td>2950</td>\n",
       "      <td>2740</td>\n",
       "      <td>4</td>\n",
       "      <td>0</td>\n",
       "      <td>[[\", Bob, \", Lulham, 's, Fight, Against, Thall...</td>\n",
       "      <td>[[1, 3, 1, -6, 2, 5, 7, 8, 6, 6, 1, 1, 3, 1, 1...</td>\n",
       "      <td>[[\", Bob, \", Lulham, 's, Fight, Against, Thall...</td>\n",
       "      <td>[[1, 3, 1, -6, 2, 5, 7, 8, 8, 8, 1], [4, 5, 6,...</td>\n",
       "    </tr>\n",
       "    <tr>\n",
       "      <td>5</td>\n",
       "      <td>./trove_overproof/datasets/dataset1/rawTextAnd...</td>\n",
       "      <td>18368961</td>\n",
       "      <td>Article</td>\n",
       "      <td>1953</td>\n",
       "      <td>DIVORCE Before The Judge In Divorce, Mr Justic...</td>\n",
       "      <td>DIVORCE Before The Judge In Divorce, Mr. Justi...</td>\n",
       "      <td>DIVORCE Before The Judge In Divorce, Mr. Justi...</td>\n",
       "      <td>0.894176</td>\n",
       "      <td>1219</td>\n",
       "      <td>1121</td>\n",
       "      <td>2</td>\n",
       "      <td>0</td>\n",
       "      <td>[[DIVORCE, Before, The, Judge, In, Divorce, ,,...</td>\n",
       "      <td>[[7, 6, 3, 5, 2, 7, 1, 2, 1, 7, -5, 7, 4, 1, 1...</td>\n",
       "      <td>[[DIVORCE, Before, The, Judge, In, Divorce, ,,...</td>\n",
       "      <td>[[7, 6, 3, 5, 2, 7, 1, 2, 7, -5, 7, 4, 1, 1, -...</td>\n",
       "    </tr>\n",
       "  </tbody>\n",
       "</table>\n",
       "</div>"
      ],
      "text/plain": [
       "                                            filePath articleId  \\\n",
       "1  ./trove_overproof/datasets/dataset1/rawTextAnd...  18378453   \n",
       "2  ./trove_overproof/datasets/dataset1/rawTextAnd...  18363627   \n",
       "3  ./trove_overproof/datasets/dataset1/rawTextAnd...  18366055   \n",
       "4  ./trove_overproof/datasets/dataset1/rawTextAnd...  18386137   \n",
       "5  ./trove_overproof/datasets/dataset1/rawTextAnd...  18368961   \n",
       "\n",
       "            articleType  year  \\\n",
       "1  Article ILLUSTRATED   1953   \n",
       "2               Article  1953   \n",
       "3               Article  1953   \n",
       "4               Article  1953   \n",
       "5               Article  1953   \n",
       "\n",
       "                                             ocrText  \\\n",
       "1  FROM RIVER CROSSING TO END OF TRIÄÜ I ^PI A^H\"...   \n",
       "2  Natural Childbirth Sir,-We nurses have seen fa...   \n",
       "3  FIRST CHURCH I SERVICE 1 Presbyterian I ' Anni...   \n",
       "4  \"Bob\" Lulham's Fight Against Thallium District...   \n",
       "5  DIVORCE Before The Judge In Divorce, Mr Justic...   \n",
       "\n",
       "                                           humanText  \\\n",
       "1  FROM RIVER CROSSING TO END OF TRIAL SPLASH: Pe...   \n",
       "2  Natural Childbirth Sir,-We nurses have seen fa...   \n",
       "3  FIRST CHURCH SERVICE Presbyterian Anniversary ...   \n",
       "4  \"Bob\" Lulham's Fight Against Thallium  Arthur ...   \n",
       "5  DIVORCE Before The Judge In Divorce, Mr. Justi...   \n",
       "\n",
       "                                           corrected  str_similarity  \\\n",
       "1  FROM RIVER CROSSING TO END OF TRIAL SPLASH: Pe...        0.847561   \n",
       "2  Natural Childbirth Sir,-We nurses have seen fa...        0.964119   \n",
       "3  FIRST CHURCH SERVICE Presbyterian Anniversary ...        0.738901   \n",
       "4  \"Bob\" Lulham's Fight Against Thallium  Arthur ...        0.493898   \n",
       "5  DIVORCE Before The Judge In Divorce, Mr. Justi...        0.894176   \n",
       "\n",
       "   str_length_humanText  str_length_ocrText  quality_band  use_corrected  \\\n",
       "1                   746                 820             2              0   \n",
       "2                   641                 630             1              0   \n",
       "3                   946                 832             3              0   \n",
       "4                  2950                2740             4              0   \n",
       "5                  1219                1121             2              0   \n",
       "\n",
       "                               corrected_sentencizer  \\\n",
       "1  [[FROM, RIVER, CROSSING, TO, END, OF, TRIAL, S...   \n",
       "2  [[Natural, Childbirth, Sir,-We, nurses, have, ...   \n",
       "3  [[FIRST, CHURCH, SERVICE, Presbyterian, Annive...   \n",
       "4  [[\", Bob, \", Lulham, 's, Fight, Against, Thall...   \n",
       "5  [[DIVORCE, Before, The, Judge, In, Divorce, ,,...   \n",
       "\n",
       "                               corrected_dict_lookup  \\\n",
       "1  [[4, 5, 8, 2, 3, 2, 5, 6, 1, -5, -6, 8, 4, 4, ...   \n",
       "2  [[7, 10, -7, 6, 4, 4, 3, 3, 4, 5, 6, 4, 6, 5, ...   \n",
       "3  [[5, 6, 7, 12, 11, 3, 5, 11, 2, 3, 5, 12, 6, 7...   \n",
       "4  [[1, 3, 1, -6, 2, 5, 7, 8, 6, 6, 1, 1, 3, 1, 1...   \n",
       "5  [[7, 6, 3, 5, 2, 7, 1, 2, 1, 7, -5, 7, 4, 1, 1...   \n",
       "\n",
       "                                     ocr_sentencizer  \\\n",
       "1  [[FROM, RIVER, CROSSING, TO, END, OF, TRIÄÜ, I...   \n",
       "2  [[Natural, Childbirth, Sir,-We, nurses, have, ...   \n",
       "3  [[FIRST, CHURCH, I, SERVICE, 1, Presbyterian, ...   \n",
       "4  [[\", Bob, \", Lulham, 's, Fight, Against, Thall...   \n",
       "5  [[DIVORCE, Before, The, Judge, In, Divorce, ,,...   \n",
       "\n",
       "                                     ocr_dict_lookup  \n",
       "1  [[4, 5, 8, 2, 3, 2, -5, 1, 1, 2, -3, 1, -5, -6...  \n",
       "2  [[7, 10, -7, 6, 4, 4, 3, 3, 4, 5, 6, 4, 6, 5, ...  \n",
       "3  [[5, 6, 1, 7, 1, 12, 1, 1, 11, 1, 3, 5, -12, 3...  \n",
       "4  [[1, 3, 1, -6, 2, 5, 7, 8, 8, 8, 1], [4, 5, 6,...  \n",
       "5  [[7, 6, 3, 5, 2, 7, 1, 2, 7, -5, 7, 4, 1, 1, -...  "
      ]
     },
     "execution_count": 16,
     "metadata": {},
     "output_type": "execute_result"
    }
   ],
   "source": [
    "df.head()"
   ]
  }
 ],
 "metadata": {
  "kernelspec": {
   "display_name": "Python 3",
   "language": "python",
   "name": "python3"
  },
  "language_info": {
   "codemirror_mode": {
    "name": "ipython",
    "version": 3
   },
   "file_extension": ".py",
   "mimetype": "text/x-python",
   "name": "python",
   "nbconvert_exporter": "python",
   "pygments_lexer": "ipython3",
   "version": "3.7.3"
  }
 },
 "nbformat": 4,
 "nbformat_minor": 2
}
